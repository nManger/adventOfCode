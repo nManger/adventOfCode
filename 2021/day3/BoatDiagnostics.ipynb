{
 "cells": [
  {
   "cell_type": "markdown",
   "id": "15c932d4-a7e9-41b6-9cf8-82be22602403",
   "metadata": {},
   "source": [
    "## Load and prepare Data"
   ]
  },
  {
   "cell_type": "code",
   "execution_count": 1,
   "id": "a051bec9-c83e-477f-afb5-c316d1fca0b3",
   "metadata": {},
   "outputs": [],
   "source": [
    "raw_data = open(\"diagnosticReport.txt\") do file\n",
    "    readlines(file)\n",
    "end;"
   ]
  },
  {
   "cell_type": "code",
   "execution_count": 40,
   "id": "f9191e95-91c6-4db6-8d4a-b86b9322482c",
   "metadata": {},
   "outputs": [],
   "source": [
    "diag_data = split.(raw_data,\"\");"
   ]
  },
  {
   "cell_type": "code",
   "execution_count": 41,
   "id": "4909cd56-3e8c-4d44-998e-e771a97102a4",
   "metadata": {
    "tags": []
   },
   "outputs": [],
   "source": [
    "diag_data = hcat(diag_data...);"
   ]
  },
  {
   "cell_type": "code",
   "execution_count": 42,
   "id": "295745ef-a527-452f-93c2-67d0a60b7c3b",
   "metadata": {
    "tags": []
   },
   "outputs": [],
   "source": [
    "diag_data = parse.(Int64,diag_data);"
   ]
  },
  {
   "cell_type": "code",
   "execution_count": 43,
   "id": "7a8844cd-ba06-428f-983f-1e450eacfb1f",
   "metadata": {},
   "outputs": [
    {
     "data": {
      "text/plain": [
       "(12, 1000)"
      ]
     },
     "execution_count": 43,
     "metadata": {},
     "output_type": "execute_result"
    }
   ],
   "source": [
    "size(diag_data)"
   ]
  },
  {
   "cell_type": "markdown",
   "id": "1de22e5c-247a-441a-9ea9-f510379ace59",
   "metadata": {},
   "source": [
    "## Part 1"
   ]
  },
  {
   "cell_type": "code",
   "execution_count": 46,
   "id": "50ff313e-dbbc-43f2-b5d9-12e8e8dbcc00",
   "metadata": {},
   "outputs": [],
   "source": [
    "common_bits = ones(Int64,size(diag_data)[1])*2;"
   ]
  },
  {
   "cell_type": "code",
   "execution_count": 53,
   "id": "7b20fe2c-72fc-4147-aaa0-13c1aa5a3ae3",
   "metadata": {},
   "outputs": [
    {
     "name": "stdout",
     "output_type": "stream",
     "text": [
      "501\n",
      "511\n",
      "502\n",
      "510\n",
      "498\n",
      "516\n",
      "485\n",
      "492\n",
      "498\n",
      "482\n",
      "483\n",
      "513\n"
     ]
    }
   ],
   "source": [
    "datasize=size(diag_data)\n",
    "for i in 1:datasize[1]\n",
    "    nzeros = count(x->x==0,diag_data[i,:])\n",
    "    println(nzeros)\n",
    "    if nzeros>datasize[2]/2\n",
    "        common_bits[i]=0\n",
    "    else\n",
    "        common_bits[i]=1\n",
    "    end\n",
    "end"
   ]
  },
  {
   "cell_type": "code",
   "execution_count": 54,
   "id": "8e1a1855-693d-4b5d-9c12-b443a282875e",
   "metadata": {
    "collapsed": true,
    "jupyter": {
     "outputs_hidden": true
    },
    "tags": []
   },
   "outputs": [
    {
     "data": {
      "text/plain": [
       "12-element Array{Int64,1}:\n",
       " 0\n",
       " 0\n",
       " 0\n",
       " 0\n",
       " 1\n",
       " 0\n",
       " 1\n",
       " 1\n",
       " 1\n",
       " 1\n",
       " 1\n",
       " 0"
      ]
     },
     "execution_count": 54,
     "metadata": {},
     "output_type": "execute_result"
    }
   ],
   "source": [
    "common_bits"
   ]
  },
  {
   "cell_type": "code",
   "execution_count": 64,
   "id": "7c9b4ed8-fb67-4955-85d9-c8f162fd0498",
   "metadata": {},
   "outputs": [],
   "source": [
    "gamma = common_bits\n",
    "epsilon = abs.(common_bits .-1);"
   ]
  },
  {
   "cell_type": "code",
   "execution_count": 67,
   "id": "a65af9f5-0d14-43c6-b4af-345ae2eed1f5",
   "metadata": {},
   "outputs": [
    {
     "data": {
      "text/plain": [
       "\"111101000001\""
      ]
     },
     "execution_count": 67,
     "metadata": {},
     "output_type": "execute_result"
    }
   ],
   "source": [
    "gamma = join(string.(gamma))\n",
    "epsilon= join(string.(epsilon))"
   ]
  },
  {
   "cell_type": "code",
   "execution_count": 71,
   "id": "bd9e861d-b1b2-4712-893c-a93ecefef8a9",
   "metadata": {},
   "outputs": [
    {
     "data": {
      "text/plain": [
       "(190, 3905, 741950)"
      ]
     },
     "execution_count": 71,
     "metadata": {},
     "output_type": "execute_result"
    }
   ],
   "source": [
    "gamma10=parse(Int,gamma,base=2)\n",
    "epsilon10=parse(Int,epsilon,base=2)\n",
    "gamma10,epsilon10,gamma10*epsilon10"
   ]
  },
  {
   "cell_type": "markdown",
   "id": "06308f73-4e39-4d89-9d54-971c1540dcd9",
   "metadata": {},
   "source": [
    "## Part 2"
   ]
  },
  {
   "cell_type": "code",
   "execution_count": 98,
   "id": "bf215171-edc4-40e5-9e71-3c4f5c806673",
   "metadata": {
    "tags": []
   },
   "outputs": [
    {
     "data": {
      "text/plain": [
       "bitCriteriaSearch (generic function with 1 method)"
      ]
     },
     "execution_count": 98,
     "metadata": {},
     "output_type": "execute_result"
    }
   ],
   "source": [
    "function bitCriteriaSearch(data::Array{Int64,2},mostCommon::Bool)\n",
    "    data_incopy = copy(data)\n",
    "    idx_delete = Int64[]\n",
    "    common_bit=0\n",
    "    for i in 1:size(data)[1]\n",
    "        #find most (least) common bit in column\n",
    "        datasize=size(data_incopy)\n",
    "        nzeros = count(x->x==0,data_incopy[i,:])\n",
    "        if nzeros>datasize[2]/2\n",
    "            if mostCommon\n",
    "                common_bit=0\n",
    "            else\n",
    "                common_bit=1\n",
    "            end\n",
    "        else\n",
    "            if mostCommon\n",
    "                common_bit=1\n",
    "            else\n",
    "                common_bit=0  \n",
    "            end\n",
    "        end\n",
    "        \n",
    "        #find all rows with this bit in column \n",
    "        data_incopy=data_incopy[:,data_incopy[i,:] .==common_bit]\n",
    "        \n",
    "        if size(data_incopy)[2] <=1\n",
    "            break\n",
    "        end\n",
    "    end\n",
    "    return data_incopy\n",
    "end"
   ]
  },
  {
   "cell_type": "code",
   "execution_count": 106,
   "id": "3146a8ac-2698-48f1-9a25-955b205ec3f4",
   "metadata": {
    "tags": []
   },
   "outputs": [],
   "source": [
    "oxyGen=bitCriteriaSearch(diag_data,true);"
   ]
  },
  {
   "cell_type": "code",
   "execution_count": 107,
   "id": "a9b718c4-3fa7-4c82-813d-a99fe590cc7c",
   "metadata": {
    "tags": []
   },
   "outputs": [],
   "source": [
    "co2Scrub=bitCriteriaSearch(diag_data,false);"
   ]
  },
  {
   "cell_type": "code",
   "execution_count": 109,
   "id": "877a05bf-264f-4f07-be6b-9a73ac78edea",
   "metadata": {},
   "outputs": [
    {
     "name": "stdout",
     "output_type": "stream",
     "text": [
      "000100011010 282\n",
      "110010000101 3205\n",
      "903810\n"
     ]
    }
   ],
   "source": [
    "oxyGenS=join(string.(oxyGen))\n",
    "oxyGen10=parse(Int,oxyGenS,base=2)\n",
    "println(oxyGenS,\" \",oxyGen10)\n",
    "co2ScrubS = join(string.(co2Scrub))\n",
    "co2Scrub10=parse(Int,co2ScrubS,base=2)\n",
    "println(co2ScrubS,\" \",co2Scrub10)\n",
    "println(oxyGen10*co2Scrub10)"
   ]
  },
  {
   "cell_type": "code",
   "execution_count": null,
   "id": "628915ad-4955-4838-8b93-d9b3d6527274",
   "metadata": {},
   "outputs": [],
   "source": []
  }
 ],
 "metadata": {
  "kernelspec": {
   "display_name": "Julia 1.4.1",
   "language": "julia",
   "name": "julia-1.4"
  },
  "language_info": {
   "file_extension": ".jl",
   "mimetype": "application/julia",
   "name": "julia",
   "version": "1.4.1"
  }
 },
 "nbformat": 4,
 "nbformat_minor": 5
}
