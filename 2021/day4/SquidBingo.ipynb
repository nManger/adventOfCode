{
 "cells": [
  {
   "cell_type": "markdown",
   "id": "d81c0fd4-baba-48db-982a-7e4897e482c0",
   "metadata": {},
   "source": [
    "## Load and prepare data"
   ]
  },
  {
   "cell_type": "code",
   "execution_count": 1,
   "id": "165da21b-7f60-470b-b738-d284f0a3d70a",
   "metadata": {},
   "outputs": [],
   "source": [
    "using DelimitedFiles"
   ]
  },
  {
   "cell_type": "code",
   "execution_count": 2,
   "id": "96c37a4c-ef10-46e7-8610-375f11e03325",
   "metadata": {
    "tags": []
   },
   "outputs": [],
   "source": [
    "raw_data=readdlm(\"bingoBoards.txt\");"
   ]
  },
  {
   "cell_type": "code",
   "execution_count": 85,
   "id": "4f4134a4-ee16-49c0-aae9-c5cb67c9afc5",
   "metadata": {},
   "outputs": [
    {
     "data": {
      "text/plain": [
       "\"46,79,77,45,57,34,44,13,32,88,86,82,91,97,89,1,48,31,18,10,55,74,24,11,80,78,28,37,47,17,21,61,26,85,99,96,23,70,3,54,5,41,50,63,14,64,42,36,95,52,76,68,29,9,98,35,84,83,71,49,73,58,56,66,92,30,51,20,81,69,65,15,6,16,39,43,67,7,59,40,60,4,90,72,22,0,93,94,38,53,87,27,12,2,25,19,8,62,33,75\""
      ]
     },
     "execution_count": 85,
     "metadata": {},
     "output_type": "execute_result"
    }
   ],
   "source": [
    "drawnNumbers = raw_data[1]"
   ]
  },
  {
   "cell_type": "code",
   "execution_count": 86,
   "id": "77b0e94d-f9d7-41e4-b715-ac93faa1b3f9",
   "metadata": {},
   "outputs": [],
   "source": [
    "drawnNumbers = parse.(Int,split(drawnNumbers,','));"
   ]
  },
  {
   "cell_type": "code",
   "execution_count": 5,
   "id": "e79127f9-e2aa-4c8f-9cf5-189930254102",
   "metadata": {
    "tags": []
   },
   "outputs": [],
   "source": [
    "bingoBoards = convert.(Int,raw_data[2:end,:]);"
   ]
  },
  {
   "cell_type": "code",
   "execution_count": 6,
   "id": "f0efe84b-a391-4432-a56f-7310b235f5b1",
   "metadata": {},
   "outputs": [
    {
     "data": {
      "text/plain": [
       "5×5 Array{Int64,2}:\n",
       " 84  94  24  52  44\n",
       " 96  33  74  35  13\n",
       " 60  51  41  19  95\n",
       " 50  93  27  40   1\n",
       " 67  23  37  88  85"
      ]
     },
     "execution_count": 6,
     "metadata": {},
     "output_type": "execute_result"
    }
   ],
   "source": [
    "bingoBoards = permutedims(reshape(transpose(bingoBoards),(5,5,100)),(3,2,1))\n",
    "bingoBoards[1,:,:]"
   ]
  },
  {
   "cell_type": "markdown",
   "id": "889c731c-7b5c-4314-8675-c43908625361",
   "metadata": {
    "jp-MarkdownHeadingCollapsed": true,
    "tags": []
   },
   "source": [
    "### Problem test data"
   ]
  },
  {
   "cell_type": "code",
   "execution_count": 52,
   "id": "1db10651-3d88-401b-9897-b0eecc2a33cc",
   "metadata": {
    "tags": []
   },
   "outputs": [
    {
     "data": {
      "text/plain": [
       "15×5 Array{Int64,2}:\n",
       " 22  13  17  11   0\n",
       "  8   2  23   4  24\n",
       " 21   9  14  16   7\n",
       "  6  10   3  18   5\n",
       "  1  12  20  15  19\n",
       "  3  15   0   2  22\n",
       "  9  18  13  17   5\n",
       " 19   8   7  25  23\n",
       " 20  11  10  24   4\n",
       " 14  21  16  12   6\n",
       " 14  21  17  24   4\n",
       " 10  16  15   9  19\n",
       " 18   8  23  26  20\n",
       " 22  11  13   6   5\n",
       "  2   0  12   3   7"
      ]
     },
     "execution_count": 52,
     "metadata": {},
     "output_type": "execute_result"
    }
   ],
   "source": [
    "drawnNumbersTest=[7; 4; 9; 5; 11; 17; 23; 2; 0; 14; 21; 24; 10; 16; 13; 6; 15; 25; 12; 22; 18; 20; 8; 19; 3; 26; 1;]\n",
    "\n",
    "bingoBoardsTest =[22 13 17 11  0\n",
    "     8  2 23  4 24\n",
    "    21  9 14 16  7\n",
    "     6 10  3 18  5\n",
    "     1 12 20 15 19\n",
    "     3 15  0  2 22\n",
    "     9 18 13 17  5\n",
    "    19  8  7 25 23\n",
    "    20 11 10 24  4\n",
    "    14 21 16 12  6\n",
    "    14 21 17 24  4\n",
    "    10 16 15  9 19\n",
    "    18  8 23 26 20\n",
    "    22 11 13  6  5\n",
    "    2  0 12  3  7]"
   ]
  },
  {
   "cell_type": "code",
   "execution_count": 53,
   "id": "9fdf36b4-fb9f-4d64-864d-5a313f627ad8",
   "metadata": {},
   "outputs": [
    {
     "data": {
      "text/plain": [
       "5×5 Array{Int64,2}:\n",
       " 22  13  17  11   0\n",
       "  8   2  23   4  24\n",
       " 21   9  14  16   7\n",
       "  6  10   3  18   5\n",
       "  1  12  20  15  19"
      ]
     },
     "execution_count": 53,
     "metadata": {},
     "output_type": "execute_result"
    }
   ],
   "source": [
    "bingoBoardsTest = permutedims(reshape(transpose(bingoBoardsTest),(5,5,3)),(3,2,1))\n",
    "bingoBoardsTest[1,:,:]"
   ]
  },
  {
   "cell_type": "markdown",
   "id": "b5d9d72d-5bae-487a-bca9-50e0fdeaa8ea",
   "metadata": {
    "tags": []
   },
   "source": [
    "## Part 1"
   ]
  },
  {
   "cell_type": "code",
   "execution_count": 7,
   "id": "612e86b5-09df-4b87-b7bf-a0f40fea9a75",
   "metadata": {},
   "outputs": [
    {
     "name": "stdout",
     "output_type": "stream",
     "text": [
      "2500\n"
     ]
    },
    {
     "data": {
      "text/plain": [
       "(100, 5, 5)"
      ]
     },
     "execution_count": 7,
     "metadata": {},
     "output_type": "execute_result"
    }
   ],
   "source": [
    "println(length(bingoBoards))\n",
    "size(bingoBoards)"
   ]
  },
  {
   "cell_type": "code",
   "execution_count": 16,
   "id": "afaf500e-4e8a-49df-98c1-1e38f5acf909",
   "metadata": {},
   "outputs": [
    {
     "data": {
      "text/plain": [
       "Tuple{Int64}"
      ]
     },
     "execution_count": 16,
     "metadata": {},
     "output_type": "execute_result"
    }
   ],
   "source": [
    "typeof(size(drawn_numbers))"
   ]
  },
  {
   "cell_type": "code",
   "execution_count": 8,
   "id": "aae5c2ca-9cad-47ae-b487-f3d5331b7c7e",
   "metadata": {},
   "outputs": [
    {
     "data": {
      "text/plain": [
       "5"
      ]
     },
     "execution_count": 8,
     "metadata": {},
     "output_type": "execute_result"
    }
   ],
   "source": [
    "nboards=size(bingoBoards)[1]\n",
    "boardSize=size(bingoBoards)[2]"
   ]
  },
  {
   "cell_type": "code",
   "execution_count": 82,
   "id": "50aca53f-b582-431e-80d8-6a77558afceb",
   "metadata": {
    "tags": []
   },
   "outputs": [
    {
     "data": {
      "text/plain": [
       "evaluateBoards (generic function with 1 method)"
      ]
     },
     "execution_count": 82,
     "metadata": {},
     "output_type": "execute_result"
    }
   ],
   "source": [
    "function evaluateBoards(boards::Array{Int,3},numbers::Array{Int,1})\n",
    "    \n",
    "    nboards=size(boards)[1]\n",
    "    boardSize=size(boards)[2]\n",
    "    masks = convert.(Int,zeros(size(boards)));\n",
    "    \n",
    "    for i in 1:length(numbers)\n",
    "        # find all board entries corresponding to number\n",
    "        for j in 1:length(boards)\n",
    "            if boards[j] == numbers[i]\n",
    "                masks[j] = 1\n",
    "            end\n",
    "        end\n",
    "        \n",
    "        # check if one of the boards has reached bingo (5 ones in row/column)\n",
    "        for j in 1:nboards,k in 1:boardSize\n",
    "            rowSum=sum(masks[j,:,k])\n",
    "            colSum=sum(masks[j,k,:])\n",
    "            if (rowSum==5) || (colSum==5)\n",
    "                #on Bingo, exit and return number called, the board that has bingo, and the bingo mask\n",
    "                println(\"Bingo in board \",j)\n",
    "                return numbers[i], boards[j,:,:], masks[j,:,:] \n",
    "            end\n",
    "        end\n",
    "    end\n",
    "end"
   ]
  },
  {
   "cell_type": "code",
   "execution_count": 83,
   "id": "64aa26b3-ef76-49f9-b2e4-1ad9d3ba2cb7",
   "metadata": {},
   "outputs": [
    {
     "name": "stdout",
     "output_type": "stream",
     "text": [
      "Bingo in board 3\n"
     ]
    },
    {
     "data": {
      "text/plain": [
       "(24, [14 21 … 24 4; 10 16 … 9 19; … ; 22 11 … 6 5; 2 0 … 3 7], [1 1 … 1 1; 0 0 … 1 0; … ; 0 1 … 0 1; 1 1 … 0 1])"
      ]
     },
     "execution_count": 83,
     "metadata": {},
     "output_type": "execute_result"
    }
   ],
   "source": [
    "result=evaluateBoards(bingoBoardsTest,drawnNumbersTest)"
   ]
  },
  {
   "cell_type": "code",
   "execution_count": 84,
   "id": "d60f9d05-5140-4e01-820c-93bb9bf46c1e",
   "metadata": {},
   "outputs": [
    {
     "name": "stdout",
     "output_type": "stream",
     "text": [
      "(24, [14 21 17 24 4; 10 16 15 9 19; 18 8 23 26 20; 22 11 13 6 5; 2 0 12 3 7], [1 1 1 1 1; 0 0 0 1 0; 0 0 1 0 0; 0 1 0 0 1; 1 1 0 0 1])\n"
     ]
    }
   ],
   "source": [
    "println(result)"
   ]
  },
  {
   "cell_type": "code",
   "execution_count": 88,
   "id": "86e2d3ac-95dc-4214-9d32-6bf78ef2c63e",
   "metadata": {},
   "outputs": [
    {
     "name": "stdout",
     "output_type": "stream",
     "text": [
      "Bingo in board 61\n"
     ]
    },
    {
     "data": {
      "text/plain": [
       "(28, [19 85 … 73 71; 65 62 … 52 3; … ; 55 15 … 61 95; 28 13 … 31 88], [0 0 … 0 0; 0 0 … 0 0; … ; 1 0 … 0 0; 1 1 … 1 1])"
      ]
     },
     "execution_count": 88,
     "metadata": {},
     "output_type": "execute_result"
    }
   ],
   "source": [
    "winNumber,winBoard,winMask=evaluateBoards(bingoBoards,drawnNumbers)"
   ]
  },
  {
   "cell_type": "code",
   "execution_count": 102,
   "id": "21b0b91f-0a31-464c-9a27-9b43599d9d72",
   "metadata": {},
   "outputs": [
    {
     "name": "stdout",
     "output_type": "stream",
     "text": [
      "810 22680\n"
     ]
    }
   ],
   "source": [
    "score=sum(winBoard[winMask.==0])\n",
    "println(score,' ',score*winNumber)"
   ]
  },
  {
   "cell_type": "markdown",
   "id": "d4303572-781c-47b4-825b-76fb0f645104",
   "metadata": {
    "jp-MarkdownHeadingCollapsed": true,
    "tags": []
   },
   "source": [
    "### Testing julia loops and break statements"
   ]
  },
  {
   "cell_type": "code",
   "execution_count": 54,
   "id": "ffedba43-fa27-4a07-96b7-42260410457b",
   "metadata": {},
   "outputs": [],
   "source": [
    "using Random"
   ]
  },
  {
   "cell_type": "code",
   "execution_count": 72,
   "id": "9dc10e84-dc9a-4531-bb05-6422236ac2bc",
   "metadata": {},
   "outputs": [],
   "source": [
    "dummy = bitrand(10,5,5);"
   ]
  },
  {
   "cell_type": "code",
   "execution_count": 77,
   "id": "83a1d94f-ee22-47e9-953c-fd3e10f74406",
   "metadata": {},
   "outputs": [
    {
     "name": "stdout",
     "output_type": "stream",
     "text": [
      "Bingo: 2\n"
     ]
    }
   ],
   "source": [
    "for i in 1:10,j in 1:boardSize\n",
    "    rowSum=sum(dummy[i,:,j])\n",
    "    colSum=sum(dummy[i,j,:])\n",
    "    if (rowSum==5) || (colSum==5)\n",
    "        println(\"Bingo: \",i)\n",
    "        break\n",
    "    end\n",
    "end"
   ]
  },
  {
   "cell_type": "code",
   "execution_count": 80,
   "id": "4d1468b5-42e8-45c9-8dbb-9e639ad2fbc7",
   "metadata": {},
   "outputs": [
    {
     "data": {
      "text/plain": [
       "5×5 BitArray{2}:\n",
       " 0  0  1  0  0\n",
       " 0  1  1  1  0\n",
       " 0  0  1  1  1\n",
       " 1  0  1  0  0\n",
       " 0  1  1  1  0"
      ]
     },
     "execution_count": 80,
     "metadata": {},
     "output_type": "execute_result"
    }
   ],
   "source": [
    "dummy[2,:,:]"
   ]
  },
  {
   "cell_type": "markdown",
   "id": "2b36eef5-f0d0-44d4-a981-119fc89e53e8",
   "metadata": {},
   "source": [
    "## Part 2"
   ]
  },
  {
   "cell_type": "code",
   "execution_count": 120,
   "id": "59dcc81a-44be-4bd9-8927-b1cada9620f6",
   "metadata": {},
   "outputs": [
    {
     "data": {
      "text/plain": [
       "evaluateBoardsLast (generic function with 1 method)"
      ]
     },
     "execution_count": 120,
     "metadata": {},
     "output_type": "execute_result"
    }
   ],
   "source": [
    "function evaluateBoardsLast(boards::Array{Int,3},numbers::Array{Int,1})\n",
    "    \n",
    "    nboards=size(boards)[1]\n",
    "    boardSize=size(boards)[2]\n",
    "    masks = zeros(Int,size(boards))\n",
    "    hasBingo = zeros(Int,nboards)\n",
    "    bingoWhen = zeros(Int,nboards)\n",
    "    \n",
    "    for i in 1:length(numbers)\n",
    "        # find all board entries corresponding to number\n",
    "        for j in 1:length(boards)\n",
    "            if boards[j] == numbers[i]\n",
    "                masks[j] = 1\n",
    "            end\n",
    "        end\n",
    "        \n",
    "        # check if one of the boards has reached bingo (5 ones in row/column)\n",
    "        for j in 1:nboards\n",
    "            #check if board has already had bingo so we can skip it\n",
    "            if hasBingo[j] == 1\n",
    "                continue     \n",
    "            end\n",
    "            for k in 1:boardSize\n",
    "                rowSum=sum(masks[j,:,k])\n",
    "                colSum=sum(masks[j,k,:])\n",
    "                if (rowSum==5) || (colSum==5)\n",
    "                    #on Bingo, mark bingo in hasBingo and save index of number to bingoWhen\n",
    "                    hasBingo[j] = 1\n",
    "                    bingoWhen[j] = i\n",
    "                end\n",
    "            end\n",
    "        end\n",
    "        \n",
    "        #check if any board has not yet reached bingo, leave otherwise\n",
    "        if count(x->x==0,hasBingo)==0\n",
    "            break\n",
    "        end\n",
    "    end\n",
    "    \n",
    "    #return the board with the highest number in bingoWhen and the corresponding number, board number and mask\n",
    "    numberIndexLast,boardIndexLast = findmax(bingoWhen)\n",
    "    return numbers[numberIndexLast], boardIndexLast, boards[boardIndexLast,:,:],masks[boardIndexLast,:,:]\n",
    "end"
   ]
  },
  {
   "cell_type": "code",
   "execution_count": 121,
   "id": "f59647a6-3712-4205-b5fe-3da2a1425358",
   "metadata": {},
   "outputs": [
    {
     "data": {
      "text/plain": [
       "(13, 2, [3 15 … 2 22; 9 18 … 17 5; … ; 20 11 … 24 4; 14 21 … 12 6], [0 0 … 1 0; 1 0 … 1 1; … ; 0 1 … 1 1; 1 1 … 0 0])"
      ]
     },
     "execution_count": 121,
     "metadata": {},
     "output_type": "execute_result"
    }
   ],
   "source": [
    "resultsTest = evaluateBoardsLast(bingoBoardsTest,drawnNumbersTest)"
   ]
  },
  {
   "cell_type": "code",
   "execution_count": 122,
   "id": "dd677153-b2bd-4194-b554-e859d87587e0",
   "metadata": {},
   "outputs": [
    {
     "data": {
      "text/plain": [
       "5×5 Array{Int64,2}:\n",
       " 0  0  1  1  0\n",
       " 1  0  1  1  1\n",
       " 0  0  1  0  1\n",
       " 0  1  1  1  1\n",
       " 1  1  1  0  0"
      ]
     },
     "execution_count": 122,
     "metadata": {},
     "output_type": "execute_result"
    }
   ],
   "source": [
    "resultsTest[4]"
   ]
  },
  {
   "cell_type": "code",
   "execution_count": 123,
   "id": "48181113-26bc-48b5-9003-9f8666a34088",
   "metadata": {},
   "outputs": [
    {
     "data": {
      "text/plain": [
       "(94, 66, [72 49 … 12 43; 73 56 … 4 27; … ; 14 96 … 8 13; 87 60 … 77 42], [1 1 … 0 1; 1 1 … 1 0; … ; 1 1 … 0 1; 0 1 … 1 1])"
      ]
     },
     "execution_count": 123,
     "metadata": {},
     "output_type": "execute_result"
    }
   ],
   "source": [
    "results = evaluateBoardsLast(bingoBoards,drawnNumbers)"
   ]
  },
  {
   "cell_type": "code",
   "execution_count": 124,
   "id": "43e1295f-6e57-4b29-b6e4-662e2b1195cc",
   "metadata": {},
   "outputs": [
    {
     "name": "stdout",
     "output_type": "stream",
     "text": [
      "172 16168\n"
     ]
    }
   ],
   "source": [
    "looseBoard = results[3]\n",
    "looseMask = results[4]\n",
    "looseNumber = results[1]\n",
    "score=sum(looseBoard[looseMask.==0])\n",
    "println(score,' ',score*looseNumber)"
   ]
  },
  {
   "cell_type": "code",
   "execution_count": null,
   "id": "a6a96d3d-92c8-4569-a471-a8637967411c",
   "metadata": {},
   "outputs": [],
   "source": []
  }
 ],
 "metadata": {
  "kernelspec": {
   "display_name": "Julia 1.4.1",
   "language": "julia",
   "name": "julia-1.4"
  },
  "language_info": {
   "file_extension": ".jl",
   "mimetype": "application/julia",
   "name": "julia",
   "version": "1.4.1"
  }
 },
 "nbformat": 4,
 "nbformat_minor": 5
}
