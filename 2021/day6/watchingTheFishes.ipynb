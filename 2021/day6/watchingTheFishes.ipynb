{
 "cells": [
  {
   "cell_type": "markdown",
   "id": "1e9df503-60a0-4e25-95d6-756f5f5c3ee3",
   "metadata": {},
   "source": [
    "## Loading data"
   ]
  },
  {
   "cell_type": "code",
   "execution_count": 42,
   "id": "31590308-2cc3-4969-9027-00f49b102321",
   "metadata": {},
   "outputs": [],
   "source": [
    "using DelimitedFiles"
   ]
  },
  {
   "cell_type": "code",
   "execution_count": 45,
   "id": "62dd5ef8-3e74-4e7d-bbb1-df9b36ceb10a",
   "metadata": {
    "tags": []
   },
   "outputs": [
    {
     "data": {
      "text/plain": [
       "(300,)"
      ]
     },
     "execution_count": 45,
     "metadata": {},
     "output_type": "execute_result"
    }
   ],
   "source": [
    "initFishes = dropdims(readdlm(\"initialFishes.txt\",',',Int),dims=1)\n",
    "size(initFishes)"
   ]
  },
  {
   "cell_type": "code",
   "execution_count": 6,
   "id": "d4e865f5-2765-4227-9d98-46cc7b88feee",
   "metadata": {},
   "outputs": [
    {
     "data": {
      "text/plain": [
       "5-element Array{Int64,1}:\n",
       " 3\n",
       " 4\n",
       " 3\n",
       " 1\n",
       " 2"
      ]
     },
     "execution_count": 6,
     "metadata": {},
     "output_type": "execute_result"
    }
   ],
   "source": [
    "testFishes = [3,4,3,1,2]"
   ]
  },
  {
   "cell_type": "markdown",
   "id": "2549291c-779c-40b7-89e0-e200c5073a01",
   "metadata": {},
   "source": [
    "## Part 1"
   ]
  },
  {
   "cell_type": "code",
   "execution_count": 19,
   "id": "6090b950-51bd-4906-a168-10d5a42e0243",
   "metadata": {},
   "outputs": [
    {
     "data": {
      "text/plain": [
       "363101"
      ]
     },
     "execution_count": 19,
     "metadata": {},
     "output_type": "execute_result"
    }
   ],
   "source": [
    "fishes = copy(initFishes)\n",
    "for days in 1:80\n",
    "    nfishes = length(fishes) #number of fishes existing at the beginning of the day\n",
    "    for i in 1:nfishes\n",
    "        # fish has reached zero and is ready to spawn another fish and reset\n",
    "        if fishes[i]==0\n",
    "            fishes[i] = 6\n",
    "            push!(fishes,8)\n",
    "        else\n",
    "            fishes[i] -=1\n",
    "        end\n",
    "    end\n",
    "end\n",
    "length(fishes)"
   ]
  },
  {
   "cell_type": "markdown",
   "id": "48ea562a-a9df-43fa-a2c6-7187501132a2",
   "metadata": {},
   "source": [
    "## Part 2"
   ]
  },
  {
   "cell_type": "markdown",
   "id": "4e3d021c-e9a6-4e89-9758-e435fee9d3b2",
   "metadata": {},
   "source": [
    "Dont save the indivdual fishes, just keep a record of how many of each there are..."
   ]
  },
  {
   "cell_type": "code",
   "execution_count": 47,
   "id": "de744300-6348-4102-8f88-3335093e6775",
   "metadata": {},
   "outputs": [],
   "source": [
    "fishes = initFishes;"
   ]
  },
  {
   "cell_type": "code",
   "execution_count": 50,
   "id": "8bdb8bd7-249b-4914-acac-d13207da50f4",
   "metadata": {},
   "outputs": [],
   "source": [
    "fishDaysTillReset = zeros(Int,9)\n",
    "for i in 1:length(fishes)\n",
    "    fishDaysTillReset[fishes[i]+1] +=1\n",
    "end\n",
    "\n",
    "for days in 1:256\n",
    "    #save number of fishes to be reset (index 1), then shift array one index left\n",
    "    resetFishes = fishDaysTillReset[1]\n",
    "    for i in 1:length(fishDaysTillReset)-1\n",
    "        fishDaysTillReset[i] = fishDaysTillReset[i+1]\n",
    "    end\n",
    "    #reset old fishes to 6 days (index 7) and add equal amount of new fishes with 8 days (index 9)\n",
    "    fishDaysTillReset[7] += resetFishes\n",
    "    fishDaysTillReset[9] = resetFishes\n",
    "end"
   ]
  },
  {
   "cell_type": "code",
   "execution_count": 51,
   "id": "4da68cdf-aa01-4e0d-a228-e42a729907e7",
   "metadata": {},
   "outputs": [
    {
     "data": {
      "text/plain": [
       "1644286074024"
      ]
     },
     "execution_count": 51,
     "metadata": {},
     "output_type": "execute_result"
    }
   ],
   "source": [
    "sum(fishDaysTillReset)"
   ]
  }
 ],
 "metadata": {
  "kernelspec": {
   "display_name": "Julia 1.4.1",
   "language": "julia",
   "name": "julia-1.4"
  },
  "language_info": {
   "file_extension": ".jl",
   "mimetype": "application/julia",
   "name": "julia",
   "version": "1.4.1"
  }
 },
 "nbformat": 4,
 "nbformat_minor": 5
}
