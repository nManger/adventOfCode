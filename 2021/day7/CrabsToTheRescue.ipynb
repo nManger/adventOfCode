{
 "cells": [
  {
   "cell_type": "markdown",
   "id": "c403eefa-8d28-42fd-8c61-93e1b6953c42",
   "metadata": {},
   "source": [
    "## Loading data"
   ]
  },
  {
   "cell_type": "code",
   "execution_count": 1,
   "id": "7c0719d8-bef1-476f-9639-e416b690404f",
   "metadata": {},
   "outputs": [],
   "source": [
    "using DelimitedFiles"
   ]
  },
  {
   "cell_type": "code",
   "execution_count": 2,
   "id": "c492aaad-9405-472f-8cc3-645c967da2cf",
   "metadata": {},
   "outputs": [],
   "source": [
    "crabPositions = dropdims(readdlm(\"crabPositions.txt\",',',Int),dims=1);"
   ]
  },
  {
   "cell_type": "code",
   "execution_count": 3,
   "id": "baba7fe4-5944-453a-bbcc-830ef063e5d9",
   "metadata": {},
   "outputs": [],
   "source": [
    "crabPositionsTest = [16,1,2,0,4,2,7,1,2,14];"
   ]
  },
  {
   "cell_type": "markdown",
   "id": "bf806151-7214-4b13-a251-8a696f18a090",
   "metadata": {},
   "source": [
    "## Part 1"
   ]
  },
  {
   "cell_type": "code",
   "execution_count": 4,
   "id": "775ae291-1bb9-4c95-8d29-ad50838e1ca7",
   "metadata": {},
   "outputs": [],
   "source": [
    "using Statistics"
   ]
  },
  {
   "cell_type": "code",
   "execution_count": 17,
   "id": "f36e5122-9a36-410b-9249-d4f69316e6f9",
   "metadata": {},
   "outputs": [
    {
     "data": {
      "text/plain": [
       "(2.0, 4.9)"
      ]
     },
     "execution_count": 17,
     "metadata": {},
     "output_type": "execute_result"
    }
   ],
   "source": [
    "median(crabPositionsTest),mean(crabPositionsTest)"
   ]
  },
  {
   "cell_type": "code",
   "execution_count": 16,
   "id": "0f1ed863-bbbf-4541-97ec-b7ee71c31e49",
   "metadata": {},
   "outputs": [
    {
     "data": {
      "text/plain": [
       "(0, 1946, 361.0)"
      ]
     },
     "execution_count": 16,
     "metadata": {},
     "output_type": "execute_result"
    }
   ],
   "source": [
    "minimum(crabPositions),maximum(crabPositions),median(crabPositions)"
   ]
  },
  {
   "cell_type": "code",
   "execution_count": 21,
   "id": "9215a5c5-de77-46e1-81cd-1564acbf1fc2",
   "metadata": {},
   "outputs": [
    {
     "data": {
      "text/plain": [
       "minimalFuelSpent (generic function with 1 method)"
      ]
     },
     "execution_count": 21,
     "metadata": {},
     "output_type": "execute_result"
    }
   ],
   "source": [
    "function minimalFuelSpent(positions)  \n",
    "    fuelSpent=0\n",
    "    medianPosition = Int(median(positions))\n",
    "    for i in 1:length(positions)\n",
    "        fuelSpent += abs(positions[i]-medianPosition)\n",
    "    end\n",
    "    return fuelSpent\n",
    "end"
   ]
  },
  {
   "cell_type": "code",
   "execution_count": 22,
   "id": "06c420ce-a778-4918-9f96-fda22369d485",
   "metadata": {},
   "outputs": [
    {
     "data": {
      "text/plain": [
       "37"
      ]
     },
     "execution_count": 22,
     "metadata": {},
     "output_type": "execute_result"
    }
   ],
   "source": [
    "minimalFuelSpent(crabPositionsTest)"
   ]
  },
  {
   "cell_type": "code",
   "execution_count": 23,
   "id": "643ed3b2-7c55-4404-be78-2074754161e0",
   "metadata": {},
   "outputs": [
    {
     "data": {
      "text/plain": [
       "364898"
      ]
     },
     "execution_count": 23,
     "metadata": {},
     "output_type": "execute_result"
    }
   ],
   "source": [
    "minimalFuelSpent(crabPositions)"
   ]
  },
  {
   "cell_type": "markdown",
   "id": "f3fc9887-e7c2-4391-a018-75b86cc00220",
   "metadata": {},
   "source": [
    "## Part 2"
   ]
  },
  {
   "cell_type": "code",
   "execution_count": 30,
   "id": "ab216976-0f1b-45e0-905e-b8dc925d2001",
   "metadata": {},
   "outputs": [
    {
     "data": {
      "text/plain": [
       "1000"
      ]
     },
     "execution_count": 30,
     "metadata": {},
     "output_type": "execute_result"
    }
   ],
   "source": [
    "length(crabPositions)"
   ]
  },
  {
   "cell_type": "code",
   "execution_count": 32,
   "id": "d70f413a-e04a-4a48-b8ea-a5937118249a",
   "metadata": {},
   "outputs": [
    {
     "data": {
      "text/plain": [
       "10-element Array{Int64,1}:\n",
       "  0\n",
       "  1\n",
       "  1\n",
       "  2\n",
       "  2\n",
       "  2\n",
       "  4\n",
       "  7\n",
       " 14\n",
       " 16"
      ]
     },
     "execution_count": 32,
     "metadata": {},
     "output_type": "execute_result"
    }
   ],
   "source": [
    "sort(crabPositionsTest)"
   ]
  },
  {
   "cell_type": "code",
   "execution_count": 73,
   "id": "b39e92e1-cd2b-4887-9fc1-9b47a69b06f4",
   "metadata": {
    "tags": []
   },
   "outputs": [
    {
     "data": {
      "text/plain": [
       "minimalFuelSpent (generic function with 1 method)"
      ]
     },
     "execution_count": 73,
     "metadata": {},
     "output_type": "execute_result"
    }
   ],
   "source": [
    "function minimalFuelSpent(positions)\n",
    "    fuelSpent = zeros(Int,length(positions))\n",
    "    for i in 1:length(positions)\n",
    "        for j in 1:length(positions)\n",
    "            fuelSpent[i] += sum(1:abs(positions[j]-positions[i]))\n",
    "        end\n",
    "    end\n",
    "    return(minimum(fuelSpent))\n",
    "end"
   ]
  },
  {
   "cell_type": "code",
   "execution_count": 74,
   "id": "55051204-393d-4e18-a34b-e29a11a24dd4",
   "metadata": {
    "tags": []
   },
   "outputs": [
    {
     "data": {
      "text/plain": [
       "170"
      ]
     },
     "execution_count": 74,
     "metadata": {},
     "output_type": "execute_result"
    }
   ],
   "source": [
    "minimalFuelSpent(crabPositionsTest)"
   ]
  },
  {
   "cell_type": "code",
   "execution_count": 75,
   "id": "1b6cfab3-40c8-49cd-a832-30ab7885c9a4",
   "metadata": {
    "tags": []
   },
   "outputs": [
    {
     "data": {
      "text/plain": [
       "104149091"
      ]
     },
     "execution_count": 75,
     "metadata": {},
     "output_type": "execute_result"
    }
   ],
   "source": [
    "minimalFuelSpent(crabPositions)"
   ]
  },
  {
   "cell_type": "code",
   "execution_count": null,
   "id": "b439d63d-d17f-4483-9c75-80d3cba9c41f",
   "metadata": {},
   "outputs": [],
   "source": []
  }
 ],
 "metadata": {
  "kernelspec": {
   "display_name": "Julia 1.4.1",
   "language": "julia",
   "name": "julia-1.4"
  },
  "language_info": {
   "file_extension": ".jl",
   "mimetype": "application/julia",
   "name": "julia",
   "version": "1.4.1"
  }
 },
 "nbformat": 4,
 "nbformat_minor": 5
}
