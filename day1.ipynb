{
 "cells": [
  {
   "cell_type": "markdown",
   "id": "fdd289ca-1e87-4cb1-b608-319906e6aa2c",
   "metadata": {},
   "source": [
    "# Day 1: Trebuchet?!"
   ]
  },
  {
   "cell_type": "code",
   "execution_count": 1,
   "id": "d849d6cc-fd4a-4fab-8f32-5ff354750667",
   "metadata": {
    "tags": []
   },
   "outputs": [],
   "source": [
    "import re"
   ]
  },
  {
   "cell_type": "code",
   "execution_count": 27,
   "id": "9d35fea0-efa8-4908-af96-0eb0a79db90b",
   "metadata": {
    "tags": []
   },
   "outputs": [],
   "source": [
    "#inputFile = \"../testInputs/day1_1.txt\"\n",
    "#inputFile = \"../testInputs/day1_2.txt\"\n",
    "inputFile = \"../inputs/day1.txt\""
   ]
  },
  {
   "cell_type": "code",
   "execution_count": 13,
   "id": "3ff211e1-d91b-47d6-958a-a61b97eacb01",
   "metadata": {
    "tags": []
   },
   "outputs": [],
   "source": [
    "def parseInput(filename):\n",
    "    lines = []\n",
    "    with open(filename,'r') as f:\n",
    "        lines = [line.rstrip() for line in f]\n",
    "    return lines        "
   ]
  },
  {
   "cell_type": "markdown",
   "id": "bc851262-d939-4894-a3f1-ef77f40fc564",
   "metadata": {
    "jp-MarkdownHeadingCollapsed": true,
    "tags": []
   },
   "source": [
    "## Part 1"
   ]
  },
  {
   "cell_type": "code",
   "execution_count": 4,
   "id": "863715ce-ddb2-409b-b832-66c7f7290a8d",
   "metadata": {
    "tags": []
   },
   "outputs": [],
   "source": [
    "def getCalibrationValues(inputList):\n",
    "    valueList = []\n",
    "    for item in inputList:\n",
    "        allNumbersInItem = re.findall(\"[0-9]\",item)\n",
    "        value = allNumbersInItem[0] + allNumbersInItem[-1]\n",
    "        valueList.append(int(value))\n",
    "    return valueList\n",
    "\n",
    "def getSum(valueList):\n",
    "    mysum = 0\n",
    "    for i in valueList:\n",
    "        mysum += i\n",
    "    return mysum"
   ]
  },
  {
   "cell_type": "code",
   "execution_count": 5,
   "id": "32d90306-aedd-4337-a272-4635f09206e1",
   "metadata": {
    "tags": []
   },
   "outputs": [
    {
     "data": {
      "text/plain": [
       "54081"
      ]
     },
     "execution_count": 5,
     "metadata": {},
     "output_type": "execute_result"
    }
   ],
   "source": [
    "myInput = parseInput(inputFile)\n",
    "calibrValues = getCalibrationValues(myInput)\n",
    "getSum(calibrValues)"
   ]
  },
  {
   "cell_type": "markdown",
   "id": "40af07a6-2542-4f02-93d9-99df692d91cb",
   "metadata": {},
   "source": [
    "## Part 2"
   ]
  },
  {
   "cell_type": "code",
   "execution_count": 26,
   "id": "229483a3-e844-4015-b1b5-b1246f0e83a7",
   "metadata": {
    "tags": []
   },
   "outputs": [],
   "source": [
    "def parseValue(value):\n",
    "    if value.isdigit():\n",
    "        return value\n",
    "    \n",
    "    if value == \"one\":\n",
    "        return \"1\"\n",
    "    elif value == \"two\":\n",
    "        return \"2\"\n",
    "    elif value == \"three\":\n",
    "        return \"3\"\n",
    "    elif value == \"four\":\n",
    "        return \"4\"\n",
    "    elif value == \"five\":\n",
    "        return \"5\"\n",
    "    elif value == \"six\":\n",
    "        return \"6\"\n",
    "    elif value == \"seven\":\n",
    "        return \"7\"\n",
    "    elif value == \"eight\":\n",
    "        return \"8\"\n",
    "    elif value == \"nine\":\n",
    "        return \"9\"\n",
    "\n",
    "'''\n",
    "Patched version of re.findall to continue the search at the last letter of the previous match\n",
    "This allows to resolve e.g. \"oneight\" to 1 and 8 instead of 1\n",
    "'''\n",
    "def patchedFindall(expression, mystring):\n",
    "    items = []\n",
    "    pos = 0\n",
    "    pattern = re.compile(expression)\n",
    "    while True:\n",
    "        match = pattern.search(mystring, pos)\n",
    "        if match is None:\n",
    "            break\n",
    "        items.append(match.group())\n",
    "        if match.group().isdigit():\n",
    "            pos = match.end()\n",
    "        else:\n",
    "            pos = match.end()-1\n",
    "           \n",
    "    return items\n",
    "           \n",
    "def getCalibrationValuesP2(inputList):\n",
    "    valueList = []\n",
    "    for item in inputList:\n",
    "        #reverse regex search would be really helpful here, but we have to make due with modified findall\n",
    "        allNumbersInItem = patchedFindall(\"[0-9]|one|two|three|four|five|six|seven|eight|nine\",item)\n",
    "        #print(allNumbersInItem)\n",
    "        value = parseValue(allNumbersInItem[0]) + parseValue(allNumbersInItem[-1])\n",
    "        valueList.append(int(value))\n",
    "    return valueList"
   ]
  },
  {
   "cell_type": "code",
   "execution_count": 28,
   "id": "95de89f7-3e3f-4c14-a7bc-4ccfe90f01bb",
   "metadata": {
    "tags": []
   },
   "outputs": [
    {
     "data": {
      "text/plain": [
       "54649"
      ]
     },
     "execution_count": 28,
     "metadata": {},
     "output_type": "execute_result"
    }
   ],
   "source": [
    "myInput = parseInput(inputFile)\n",
    "calibrValues = getCalibrationValuesP2(myInput)\n",
    "getSum(calibrValues)"
   ]
  },
  {
   "cell_type": "code",
   "execution_count": 25,
   "id": "c7c66c4e-4225-4e14-b492-68484982969e",
   "metadata": {
    "tags": []
   },
   "outputs": [
    {
     "name": "stdout",
     "output_type": "stream",
     "text": [
      "[29, 83, 13, 24, 42, 14, 76]\n"
     ]
    }
   ],
   "source": [
    "print(calibrValues)"
   ]
  },
  {
   "cell_type": "code",
   "execution_count": 19,
   "id": "ddf76d3e-75aa-43dc-a5ac-96afaa819e9c",
   "metadata": {
    "tags": []
   },
   "outputs": [
    {
     "name": "stdout",
     "output_type": "stream",
     "text": [
      "['two1nine', 'eightwothree', 'abcone2threexyz', 'xtwone3four', '4nineeightseven2', 'zoneight234', '7pqrstsixteen']\n"
     ]
    }
   ],
   "source": [
    "print(myInput)"
   ]
  },
  {
   "cell_type": "code",
   "execution_count": null,
   "id": "a6920823-6e1a-4ef9-8a74-b279511ce0ec",
   "metadata": {},
   "outputs": [],
   "source": []
  }
 ],
 "metadata": {
  "kernelspec": {
   "display_name": "Python 3 (ipykernel)",
   "language": "python",
   "name": "python3"
  },
  "language_info": {
   "codemirror_mode": {
    "name": "ipython",
    "version": 3
   },
   "file_extension": ".py",
   "mimetype": "text/x-python",
   "name": "python",
   "nbconvert_exporter": "python",
   "pygments_lexer": "ipython3",
   "version": "3.11.5"
  }
 },
 "nbformat": 4,
 "nbformat_minor": 5
}
