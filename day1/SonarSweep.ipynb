{
 "cells": [
  {
   "cell_type": "markdown",
   "id": "034efc2f-1071-43a7-a1b3-1741c13fabfd",
   "metadata": {},
   "source": [
    "Load data and parse to integer type"
   ]
  },
  {
   "cell_type": "code",
   "execution_count": 4,
   "id": "f7cc538d-f8c3-443e-a5b8-95ee18d54380",
   "metadata": {
    "tags": []
   },
   "outputs": [],
   "source": [
    "depth_data = open(\"depthMeasurement.txt\") do file\n",
    "    readlines(file)\n",
    "end; #automatically closes file"
   ]
  },
  {
   "cell_type": "code",
   "execution_count": 15,
   "id": "b0833057-79c7-4ad6-ab42-af4a4566e9f6",
   "metadata": {},
   "outputs": [],
   "source": [
    "depth_data=parse.(Int32,depth_data);"
   ]
  },
  {
   "cell_type": "code",
   "execution_count": 18,
   "id": "2c141a1b-dc21-4a33-9a54-15c16b8f5be7",
   "metadata": {},
   "outputs": [
    {
     "data": {
      "text/plain": [
       "5-element Array{Int32,1}:\n",
       " 103\n",
       " 112\n",
       " 111\n",
       " 133\n",
       " 132"
      ]
     },
     "execution_count": 18,
     "metadata": {},
     "output_type": "execute_result"
    }
   ],
   "source": [
    "depth_data[1:5]"
   ]
  },
  {
   "cell_type": "markdown",
   "id": "b10f7d73-19f1-4059-abac-3682597d7826",
   "metadata": {
    "tags": []
   },
   "source": [
    "## Part 1"
   ]
  },
  {
   "cell_type": "markdown",
   "id": "8d90877a-18c3-4a16-82fe-c381ef168ef3",
   "metadata": {},
   "source": [
    "Calculate depth difference between neighboring measurements"
   ]
  },
  {
   "cell_type": "code",
   "execution_count": 19,
   "id": "d97bda38-2ce8-4959-a6a0-e5ce58b12334",
   "metadata": {},
   "outputs": [],
   "source": [
    "depth_delta = depth_data[begin+1:end] - depth_data[begin:end-1];"
   ]
  },
  {
   "cell_type": "markdown",
   "id": "a6b53ae0-0fd8-47bc-8755-7265579ddb7c",
   "metadata": {},
   "source": [
    "Find all depth increases, so find where delta>0. Then count how many there are.\n",
    "\n",
    "Version 1: use x>0 on array (giving 0 for false and 1 for true entries) and sum <br>\n",
    "Version 2: use julia built-in count function and supply anonymous function checking for x>0"
   ]
  },
  {
   "cell_type": "code",
   "execution_count": 22,
   "id": "9798b610-d5ef-4298-90fc-99d9220b3379",
   "metadata": {},
   "outputs": [
    {
     "data": {
      "text/plain": [
       "1482"
      ]
     },
     "execution_count": 22,
     "metadata": {},
     "output_type": "execute_result"
    }
   ],
   "source": [
    "sum(depth_delta .>0)"
   ]
  },
  {
   "cell_type": "code",
   "execution_count": 25,
   "id": "91db337d-f7aa-4ebc-a8bf-b7798ea449ce",
   "metadata": {},
   "outputs": [
    {
     "data": {
      "text/plain": [
       "1482"
      ]
     },
     "execution_count": 25,
     "metadata": {},
     "output_type": "execute_result"
    }
   ],
   "source": [
    "count(x-> x>0,depth_delta)"
   ]
  },
  {
   "cell_type": "markdown",
   "id": "1acb4b08-2b4b-45f4-974b-80e118d249a4",
   "metadata": {},
   "source": [
    "## Part 2"
   ]
  },
  {
   "cell_type": "markdown",
   "id": "616a36ad-c856-4ab4-8c10-84124c87e7fa",
   "metadata": {
    "jupyter": {
     "outputs_hidden": true
    },
    "tags": []
   },
   "source": [
    "Define function to compute sum of 3 measurements as sliding window "
   ]
  },
  {
   "cell_type": "code",
   "execution_count": 42,
   "id": "e637bcd2-de92-47db-a5ed-cdf98b1624bb",
   "metadata": {},
   "outputs": [
    {
     "data": {
      "text/plain": [
       "slidingWindow (generic function with 2 methods)"
      ]
     },
     "execution_count": 42,
     "metadata": {},
     "output_type": "execute_result"
    }
   ],
   "source": [
    "function slidingWindow(data::Array{T,1}) where T\n",
    "    len = length(data)\n",
    "    window_sums = Array{T}(undef,len-2)\n",
    "    for i = 1:len-2\n",
    "        window_sums[i] = sum(data[i:i+2])\n",
    "    end\n",
    "    \n",
    "    return window_sums\n",
    "end"
   ]
  },
  {
   "cell_type": "code",
   "execution_count": 45,
   "id": "7ce496cf-0b49-4201-a77a-c8045bc50396",
   "metadata": {
    "tags": []
   },
   "outputs": [],
   "source": [
    "depth_sliding = slidingWindow(depth_data);"
   ]
  },
  {
   "cell_type": "code",
   "execution_count": 54,
   "id": "b958c002-582c-49d5-8c57-121f18067cf4",
   "metadata": {},
   "outputs": [
    {
     "name": "stdout",
     "output_type": "stream",
     "text": [
      "Int32[103, 112, 111]\n",
      "326"
     ]
    },
    {
     "data": {
      "text/plain": [
       "326"
      ]
     },
     "execution_count": 54,
     "metadata": {},
     "output_type": "execute_result"
    }
   ],
   "source": [
    "i=1\n",
    "print(depth_data[i:i+2],'\\n')\n",
    "print(depth_sliding[i])\n",
    "sum(depth_data[i:i+2])"
   ]
  },
  {
   "cell_type": "markdown",
   "id": "68953676-f31b-4126-a850-aec1043a1b16",
   "metadata": {},
   "source": [
    "Calculate difference between neighboring values and count number of increases (where x>0)"
   ]
  },
  {
   "cell_type": "code",
   "execution_count": 56,
   "id": "41aee757-bec7-43a9-9874-cd7e7a1109d6",
   "metadata": {},
   "outputs": [],
   "source": [
    "depth_sliding_delta = depth_sliding[2:end]-depth_sliding[1:end-1];"
   ]
  },
  {
   "cell_type": "code",
   "execution_count": 57,
   "id": "4afdc0bb-cb9f-4e99-8717-76df2b554fa5",
   "metadata": {},
   "outputs": [
    {
     "data": {
      "text/plain": [
       "1518"
      ]
     },
     "execution_count": 57,
     "metadata": {},
     "output_type": "execute_result"
    }
   ],
   "source": [
    "count(x-> x>0,depth_sliding_delta)"
   ]
  },
  {
   "cell_type": "code",
   "execution_count": null,
   "id": "39e31b8d-c771-45d4-83b1-f7bb645b23b8",
   "metadata": {},
   "outputs": [],
   "source": []
  }
 ],
 "metadata": {
  "kernelspec": {
   "display_name": "Julia 1.4.1",
   "language": "julia",
   "name": "julia-1.4"
  },
  "language_info": {
   "file_extension": ".jl",
   "mimetype": "application/julia",
   "name": "julia",
   "version": "1.4.1"
  }
 },
 "nbformat": 4,
 "nbformat_minor": 5
}
