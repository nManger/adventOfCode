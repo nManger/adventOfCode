{
 "cells": [
  {
   "cell_type": "markdown",
   "id": "8303a5f6-692c-4bbe-b2b9-49a31ff81d8b",
   "metadata": {},
   "source": [
    "# Day 10: Pipe Maze"
   ]
  },
  {
   "cell_type": "code",
   "execution_count": 1,
   "id": "b1435f5f-2909-4180-96a2-5b8f297141a3",
   "metadata": {
    "tags": []
   },
   "outputs": [],
   "source": [
    "def parseInput(filename):\n",
    "    mazeGrid = []\n",
    "    \n",
    "    with open(filename) as f:\n",
    "        for line in f.readlines():\n",
    "            mazeGrid.append(list(line.strip()))\n",
    "    \n",
    "    return mazeGrid"
   ]
  },
  {
   "cell_type": "code",
   "execution_count": 2,
   "id": "cac5bf2f-d187-4176-8d3b-49174450c45a",
   "metadata": {
    "tags": []
   },
   "outputs": [],
   "source": [
    "maze1 = parseInput('../testInputs/day10_1.txt')\n",
    "maze2 = parseInput('../testInputs/day10_2.txt')\n",
    "maze3 = parseInput('../testInputs/day10_3.txt')\n",
    "maze = parseInput('../inputs/day10.txt')"
   ]
  },
  {
   "cell_type": "markdown",
   "id": "7d38c1cd-ce14-4e9f-a667-0b6fa2cb3b0b",
   "metadata": {
    "tags": []
   },
   "source": [
    "## Part 1"
   ]
  },
  {
   "cell_type": "code",
   "execution_count": 3,
   "id": "ffd9c7cc-35fe-49a9-a3b4-351bcc39c78b",
   "metadata": {
    "tags": []
   },
   "outputs": [],
   "source": [
    "#find start tile\n",
    "def findStartTile(mazeGrid,gridDimensions):\n",
    "    for i in range(gridDimensions[0]):\n",
    "        for j in range(gridDimensions[1]):\n",
    "            if mazeGrid[i][j] == 'S':\n",
    "                return [i,j]\n",
    "\n",
    "def getNewHeading(oldHeading,tile):\n",
    "    \n",
    "    if tile == '|' or tile == '-': #no heading change\n",
    "        return oldHeading\n",
    "    elif tile == 'F':\n",
    "        if oldHeading == 'n':\n",
    "            return 'e'\n",
    "        else:\n",
    "            return 's'\n",
    "    elif tile == '7':\n",
    "        if oldHeading == 'n':\n",
    "            return 'w'\n",
    "        else:\n",
    "            return 's'\n",
    "    elif tile == 'L':\n",
    "        if oldHeading == 's':\n",
    "            return 'e'\n",
    "        else:\n",
    "            return 'n'\n",
    "    elif tile == 'J':\n",
    "        if oldHeading == 's':\n",
    "            return 'w'\n",
    "        else:\n",
    "            return 'n'\n",
    "    else:\n",
    "        return ''\n",
    "    \n",
    "\n",
    "def walkMaze(mazeGrid):\n",
    "    gridDimensions = [len(mazeGrid),len(mazeGrid[0])]\n",
    "    \n",
    "    start = findStartTile(mazeGrid,gridDimensions)\n",
    "    \n",
    "    #walk maze\n",
    "    #Find one of the directions to walk off the start tile\n",
    "    nextTile = [0,0]\n",
    "    heading = ''\n",
    "    if start[0] > 0 and (mazeGrid[start[0]-1][start[1]] == '|' or \n",
    "                         mazeGrid[start[0]-1][start[1]] == '7' or \n",
    "                         mazeGrid[start[0]-1][start[1]] == 'F'):\n",
    "        nextTile = [start[0]-1, start[1]]\n",
    "        heading = 'n'\n",
    "        \n",
    "    elif start[0] < gridDimensions[0]-1 and (mazeGrid[start[0]+1][start[1]] == '|' or \n",
    "                                             mazeGrid[start[0]+1][start[1]] == 'J' or \n",
    "                                             mazeGrid[start[0]+1][start[1]] == 'L'):\n",
    "        nextTile = [start[0]+1, start[1]]\n",
    "        heading = 's'\n",
    "        \n",
    "    elif start[1] > 0 and (mazeGrid[start[0]][start[1]-1] == '-' or \n",
    "                         mazeGrid[start[0]][start[1]-1] == 'F' or \n",
    "                         mazeGrid[start[0]][start[1]-1] == 'L'):\n",
    "        nextTile = [start[0], start[1]-1]\n",
    "        heading = 'w'\n",
    "        \n",
    "    elif start[1] < gridDimensions[1]-1 and (mazeGrid[start[0]][start[1]+1] == '-' or \n",
    "                                             mazeGrid[start[0]][start[1]+1] == '7' or \n",
    "                                             mazeGrid[start[0]][start[1]+1] == 'J'):\n",
    "        nextTile = [start[0], start[1]+1]\n",
    "        heading = 'e'\n",
    "    \n",
    "    #walk the maze until we reach start again\n",
    "    currTile = nextTile\n",
    "    tiles = [start,nextTile]\n",
    "    #print(start,heading)\n",
    "    steps = 1\n",
    "    while currTile != start:\n",
    "        heading = getNewHeading(heading,mazeGrid[currTile[0]][currTile[1]])\n",
    "        \n",
    "        if heading == 'n':\n",
    "            nextTile = [currTile[0]-1, currTile[1]]\n",
    "        elif heading == 's':\n",
    "            nextTile = [currTile[0]+1, currTile[1]]\n",
    "        elif heading == 'w':\n",
    "            nextTile = [currTile[0], currTile[1]-1]\n",
    "        elif heading == 'e':\n",
    "            nextTile = [currTile[0], currTile[1]+1]\n",
    "        else:\n",
    "            raise ValueError('No valid heading.')\n",
    "        \n",
    "        #print(currTile, heading)\n",
    "        tiles.append(nextTile)\n",
    "        currTile = nextTile\n",
    "        steps += 1\n",
    "        \n",
    "    return steps,tiles"
   ]
  },
  {
   "cell_type": "code",
   "execution_count": 4,
   "id": "d917385e-0ce9-4ee5-8f8e-54fe37b79209",
   "metadata": {
    "tags": []
   },
   "outputs": [
    {
     "name": "stdout",
     "output_type": "stream",
     "text": [
      "['-', 'L', '|', 'F', '7']\n",
      "['7', 'S', '-', '7', '|']\n",
      "['L', '|', '7', '|', '|']\n",
      "['-', 'L', '-', 'J', '|']\n",
      "['L', '|', '-', 'J', 'F']\n",
      "(8, [[1, 1], [2, 1], [3, 1], [3, 2], [3, 3], [2, 3], [1, 3], [1, 2], [1, 1]])\n"
     ]
    }
   ],
   "source": [
    "print(*maze1,sep='\\n')\n",
    "print(walkMaze(maze1))"
   ]
  },
  {
   "cell_type": "code",
   "execution_count": 5,
   "id": "72ab83f5-8bc5-436f-bd1f-0619dab9ce29",
   "metadata": {
    "tags": []
   },
   "outputs": [
    {
     "name": "stdout",
     "output_type": "stream",
     "text": [
      "['7', '-', 'F', '7', '-']\n",
      "['.', 'F', 'J', '|', '7']\n",
      "['S', 'J', 'L', 'L', '7']\n",
      "['|', 'F', '-', '-', 'J']\n",
      "['L', 'J', '.', 'L', 'J']\n",
      "(16, [[2, 0], [3, 0], [4, 0], [4, 1], [3, 1], [3, 2], [3, 3], [3, 4], [2, 4], [2, 3], [1, 3], [0, 3], [0, 2], [1, 2], [1, 1], [2, 1], [2, 0]])\n"
     ]
    }
   ],
   "source": [
    "print(*maze2,sep='\\n')\n",
    "print(walkMaze(maze2))"
   ]
  },
  {
   "cell_type": "code",
   "execution_count": 6,
   "id": "76926e1b-325b-478d-b88f-0aa85c4aabc2",
   "metadata": {
    "tags": []
   },
   "outputs": [
    {
     "data": {
      "text/plain": [
       "6923"
      ]
     },
     "execution_count": 6,
     "metadata": {},
     "output_type": "execute_result"
    }
   ],
   "source": [
    "walkMaze(maze)[0]//2"
   ]
  },
  {
   "cell_type": "markdown",
   "id": "99e6b650-4640-4a67-a274-f7613d410e01",
   "metadata": {},
   "source": [
    "## Part 2"
   ]
  },
  {
   "cell_type": "code",
   "execution_count": 7,
   "id": "dec6b9e5-22f0-4f2c-bf88-84aa79c8e79c",
   "metadata": {
    "tags": []
   },
   "outputs": [],
   "source": [
    "def calcArea(tileList): #shoelace formula\n",
    "    \n",
    "    area = 0\n",
    "    for i in range(len(tileList)-1):\n",
    "        area += (tileList[i][0]*tileList[i+1][1] - tileList[i+1][0]*tileList[i][1])\n",
    "    \n",
    "    return abs(area//2)\n",
    "\n",
    "def getNumberOfInteriorPoints(maze):\n",
    "    \n",
    "    tilesList = walkMaze(maze)[1]\n",
    "    area = calcArea(tilesList)\n",
    "    \n",
    "    return area - (len(tilesList)-1)//2 + 1 #Pick's theorem\n",
    "    "
   ]
  },
  {
   "cell_type": "code",
   "execution_count": 8,
   "id": "c5fc9f77-4494-4f71-b08e-a63e57d0f024",
   "metadata": {
    "tags": []
   },
   "outputs": [
    {
     "data": {
      "text/plain": [
       "529"
      ]
     },
     "execution_count": 8,
     "metadata": {},
     "output_type": "execute_result"
    }
   ],
   "source": [
    "getNumberOfInteriorPoints(maze)"
   ]
  },
  {
   "cell_type": "code",
   "execution_count": null,
   "id": "57765bfb-453e-4273-aee0-abe67f617d44",
   "metadata": {},
   "outputs": [],
   "source": []
  }
 ],
 "metadata": {
  "kernelspec": {
   "display_name": "Python 3 (ipykernel)",
   "language": "python",
   "name": "python3"
  },
  "language_info": {
   "codemirror_mode": {
    "name": "ipython",
    "version": 3
   },
   "file_extension": ".py",
   "mimetype": "text/x-python",
   "name": "python",
   "nbconvert_exporter": "python",
   "pygments_lexer": "ipython3",
   "version": "3.11.5"
  }
 },
 "nbformat": 4,
 "nbformat_minor": 5
}
