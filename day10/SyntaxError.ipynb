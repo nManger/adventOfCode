{
 "cells": [
  {
   "cell_type": "markdown",
   "id": "8dbfc391-9179-426b-bd60-806e12868db2",
   "metadata": {},
   "source": [
    "## Read data"
   ]
  },
  {
   "cell_type": "code",
   "execution_count": 2,
   "id": "78285762-74f3-4c30-b522-19f8c35147ba",
   "metadata": {},
   "outputs": [],
   "source": [
    "codeLines = readlines(\"navSubsystem.txt\");"
   ]
  },
  {
   "cell_type": "code",
   "execution_count": 3,
   "id": "4dc9d38b-f239-4cd7-bafb-cdf0ed591e8a",
   "metadata": {},
   "outputs": [
    {
     "data": {
      "text/plain": [
       "10-element Array{String,1}:\n",
       " \"[({(<(())[]>[[{[]{<()<>>\"\n",
       " \"[(()[<>])]({[<{<<[]>>(\"\n",
       " \"{([(<{}[<>[]}>{[]{[(<()>\"\n",
       " \"(((({<>}<{<{<>}{[]{[]{}\"\n",
       " \"[[<[([]))<([[{}[[()]]]\"\n",
       " \"[{[{({}]{}}([{[{{{}}([]\"\n",
       " \"{<[[]]>}<{[{[{[]{()[[[]\"\n",
       " \"[<(<(<(<{}))><([]([]()\"\n",
       " \"<{([([[(<>()){}]>(<<{{\"\n",
       " \"<{([{{}}[<[[[<>{}]]]>[]]\""
      ]
     },
     "execution_count": 3,
     "metadata": {},
     "output_type": "execute_result"
    }
   ],
   "source": [
    "codeLinesTest = [\"[({(<(())[]>[[{[]{<()<>>\";\n",
    "\"[(()[<>])]({[<{<<[]>>(\";\n",
    "\"{([(<{}[<>[]}>{[]{[(<()>\";\n",
    "\"(((({<>}<{<{<>}{[]{[]{}\";\n",
    "\"[[<[([]))<([[{}[[()]]]\";\n",
    "\"[{[{({}]{}}([{[{{{}}([]\";\n",
    "\"{<[[]]>}<{[{[{[]{()[[[]\";\n",
    "\"[<(<(<(<{}))><([]([]()\";\n",
    "\"<{([([[(<>()){}]>(<<{{\";\n",
    "\"<{([{{}}[<[[[<>{}]]]>[]]\"]"
   ]
  },
  {
   "cell_type": "markdown",
   "id": "7c41fbcc-d758-46d6-8fdc-a23d25297937",
   "metadata": {},
   "source": [
    "## Part 1"
   ]
  },
  {
   "cell_type": "code",
   "execution_count": 37,
   "id": "041d7b6f-6178-47ca-8b25-315a0b043e75",
   "metadata": {},
   "outputs": [
    {
     "data": {
      "text/plain": [
       "4-element Array{Char,1}:\n",
       " ')'\n",
       " ']'\n",
       " '}'\n",
       " '>'"
      ]
     },
     "execution_count": 37,
     "metadata": {},
     "output_type": "execute_result"
    }
   ],
   "source": [
    "\n"
   ]
  },
  {
   "cell_type": "markdown",
   "id": "38b10990-1505-4629-ad57-eb71c91833aa",
   "metadata": {},
   "source": [
    "determine which lines are incomplete vs. corrupted"
   ]
  },
  {
   "cell_type": "code",
   "execution_count": 43,
   "id": "c62b6d87-da29-453d-906c-ffc6d97d449a",
   "metadata": {},
   "outputs": [
    {
     "data": {
      "text/plain": [
       "findFirstCorruptionInLine (generic function with 1 method)"
      ]
     },
     "execution_count": 43,
     "metadata": {},
     "output_type": "execute_result"
    }
   ],
   "source": [
    "function findCorruptLines(allLines)\n",
    "    \n",
    "    validOpenings = ['(','[','{','<']\n",
    "    validClosings = [')',']','}','>']\n",
    "    validPairs = Dict(zip(validOpenings,validClosings))\n",
    "    \n",
    "    corruptedLines = Array{String}(undef,0)\n",
    "    for line in allLines\n",
    "        currentOpen = Array{Char}(undef,length(line))\n",
    "        nOpen = 0\n",
    "        for c in reverse(line)\n",
    "            #if closing, add to list\n",
    "            if (c in values(validPairs))\n",
    "                nOpen +=1\n",
    "                currentOpen[nOpen] = c\n",
    "            #if Opening, check if nOpen >0, incomplete otherwise\n",
    "            else \n",
    "                if nOpen > 0\n",
    "                    #check if opening matches current innermost closing, corrupt otherwise\n",
    "                    if validPairs[c] == currentOpen[nOpen]\n",
    "                        nOpen -=1 \n",
    "                    else\n",
    "                        push!(corruptedLines,line)\n",
    "                        break\n",
    "                    end\n",
    "                end\n",
    "            end\n",
    "        end\n",
    "    end\n",
    "    return corruptedLines\n",
    "end\n",
    "\n",
    "function findFirstCorruptionInLine(allLines)\n",
    "    \n",
    "    validOpenings = ['(','[','{','<']\n",
    "    validClosings = [')',']','}','>']\n",
    "    validPairs = Dict(zip(validClosings,validOpenings))\n",
    "    \n",
    "    score = 0\n",
    "    scoreCard = Dict(zip(validClosings,[3,57,1197,25137]))\n",
    "    \n",
    "    for line in allLines\n",
    "        currentOpen = Array{Char}(undef,length(line))\n",
    "        nOpen = 0\n",
    "        for c in line\n",
    "            #if opening, add to list\n",
    "            if (c in values(validPairs))\n",
    "                nOpen +=1\n",
    "                currentOpen[nOpen] = c\n",
    "            #if closing, check if opening matches current innermost opening, corrupt otherwise\n",
    "            else \n",
    "                if validPairs[c] == currentOpen[nOpen]\n",
    "                    nOpen -=1 \n",
    "                else\n",
    "                    score += scoreCard[c]\n",
    "                    break\n",
    "                end\n",
    "            end\n",
    "        end\n",
    "    end\n",
    "    \n",
    "    return score\n",
    "end"
   ]
  },
  {
   "cell_type": "code",
   "execution_count": 44,
   "id": "ed8a0b94-b7bf-4731-b384-194c350ad87d",
   "metadata": {},
   "outputs": [
    {
     "name": "stdout",
     "output_type": "stream",
     "text": [
      "26397\n"
     ]
    },
    {
     "data": {
      "text/plain": [
       "5-element Array{String,1}:\n",
       " \"{([(<{}[<>[]}>{[]{[(<()>\"\n",
       " \"[[<[([]))<([[{}[[()]]]\"\n",
       " \"[{[{({}]{}}([{[{{{}}([]\"\n",
       " \"[<(<(<(<{}))><([]([]()\"\n",
       " \"<{([([[(<>()){}]>(<<{{\""
      ]
     },
     "execution_count": 44,
     "metadata": {},
     "output_type": "execute_result"
    }
   ],
   "source": [
    "corruptedLinesTest = findCorruptLines(codeLinesTest)\n",
    "testScore = findFirstCorruptionInLine(corruptedLinesTest)\n",
    "println(testScore)\n",
    "corruptedLinesTest"
   ]
  },
  {
   "cell_type": "code",
   "execution_count": 45,
   "id": "2ab0970a-875b-434c-a0ac-21accd57e38e",
   "metadata": {},
   "outputs": [
    {
     "data": {
      "text/plain": [
       "392421"
      ]
     },
     "execution_count": 45,
     "metadata": {},
     "output_type": "execute_result"
    }
   ],
   "source": [
    "corruptedLines = findCorruptLines(codeLines)\n",
    "score = findFirstCorruptionInLine(corruptedLines)"
   ]
  },
  {
   "cell_type": "markdown",
   "id": "6eea5512-50fb-453e-8759-214cffd344ae",
   "metadata": {},
   "source": [
    "## Part 2"
   ]
  },
  {
   "cell_type": "code",
   "execution_count": 47,
   "id": "59cfbca4-faf6-4905-88d0-96d3da042fdb",
   "metadata": {
    "collapsed": true,
    "jupyter": {
     "outputs_hidden": true
    },
    "tags": []
   },
   "outputs": [
    {
     "data": {
      "text/plain": [
       "5-element Array{String,1}:\n",
       " \"[({(<(())[]>[[{[]{<()<>>\"\n",
       " \"[(()[<>])]({[<{<<[]>>(\"\n",
       " \"(((({<>}<{<{<>}{[]{[]{}\"\n",
       " \"{<[[]]>}<{[{[{[]{()[[[]\"\n",
       " \"<{([{{}}[<[[[<>{}]]]>[]]\""
      ]
     },
     "execution_count": 47,
     "metadata": {},
     "output_type": "execute_result"
    }
   ],
   "source": [
    "incompLinesTest = setdiff(codeLinesTest,corruptedLinesTest)"
   ]
  },
  {
   "cell_type": "code",
   "execution_count": 49,
   "id": "f5cc0ed6-8ef5-413c-91cf-e0a2dce4fc43",
   "metadata": {},
   "outputs": [
    {
     "data": {
      "text/plain": [
       "((5,), (5,), (10,))"
      ]
     },
     "execution_count": 49,
     "metadata": {},
     "output_type": "execute_result"
    }
   ],
   "source": [
    "size(incompLinesTest),size(corruptedLinesTest),size(codeLinesTest)"
   ]
  },
  {
   "cell_type": "code",
   "execution_count": 48,
   "id": "7aca9ab3-8403-4c8b-bada-f5784352e6a8",
   "metadata": {},
   "outputs": [],
   "source": [
    "incompLines = setdiff(codeLines,corruptedLines);"
   ]
  },
  {
   "cell_type": "code",
   "execution_count": 50,
   "id": "9aa8ce91-88f1-4623-96ff-5c079b3659b4",
   "metadata": {},
   "outputs": [
    {
     "data": {
      "text/plain": [
       "((55,), (55,), (110,))"
      ]
     },
     "execution_count": 50,
     "metadata": {},
     "output_type": "execute_result"
    }
   ],
   "source": [
    "size(incompLines),size(corruptedLines),size(codeLines)"
   ]
  },
  {
   "cell_type": "code",
   "execution_count": 83,
   "id": "5dfe204b-ed0c-4b62-aa95-51633c3f7913",
   "metadata": {},
   "outputs": [
    {
     "data": {
      "text/plain": [
       "completeLines (generic function with 1 method)"
      ]
     },
     "execution_count": 83,
     "metadata": {},
     "output_type": "execute_result"
    }
   ],
   "source": [
    "function completeLines(allLines)\n",
    "    \n",
    "    validOpenings = ['(','[','{','<']\n",
    "    validClosings = [')',']','}','>']\n",
    "    validPairs = Dict(zip(validClosings,validOpenings))\n",
    "    scoreCard = Dict(zip(validOpenings,[1,2,3,4]))\n",
    "    \n",
    "    currentOpen = Array{Char}(undef,length(allLines[1]))\n",
    "    scores = zeros(Int,length(allLines))\n",
    "    \n",
    "    \n",
    "    for (i,line) in enumerate(allLines)\n",
    "        nOpen = 0\n",
    "        \n",
    "        for c in line\n",
    "            #if opening, add to list\n",
    "            if (c in values(validPairs))\n",
    "                nOpen +=1\n",
    "                currentOpen[nOpen] = c\n",
    "            #if closing, go back one opening\n",
    "            else \n",
    "                nOpen -=1  \n",
    "            end\n",
    "        end\n",
    "        \n",
    "        for j in nOpen:-1:1\n",
    "            scores[i] *= 5\n",
    "            scores[i] += scoreCard[currentOpen[j]]\n",
    "        end\n",
    "    end\n",
    "    \n",
    "    return scores\n",
    "end"
   ]
  },
  {
   "cell_type": "code",
   "execution_count": 84,
   "id": "64ec4738-313f-4b6a-8be0-6ce4c338b55a",
   "metadata": {},
   "outputs": [
    {
     "data": {
      "text/plain": [
       "288957"
      ]
     },
     "execution_count": 84,
     "metadata": {},
     "output_type": "execute_result"
    }
   ],
   "source": [
    "scoresTest = completeLines(incompLinesTest)\n",
    "sort!(scoresTest)[length(scoresTest)÷2+1]"
   ]
  },
  {
   "cell_type": "code",
   "execution_count": 85,
   "id": "32a6d1ba-4a86-4f80-adab-e273c73b1a24",
   "metadata": {},
   "outputs": [
    {
     "data": {
      "text/plain": [
       "2769449099"
      ]
     },
     "execution_count": 85,
     "metadata": {},
     "output_type": "execute_result"
    }
   ],
   "source": [
    "scores = completeLines(incompLines)\n",
    "sort!(scores)[length(scores)÷2+1]"
   ]
  },
  {
   "cell_type": "code",
   "execution_count": null,
   "id": "300bad2a-86f5-411f-89e7-86348a1fdf73",
   "metadata": {},
   "outputs": [],
   "source": []
  }
 ],
 "metadata": {
  "kernelspec": {
   "display_name": "Julia 1.4.1",
   "language": "julia",
   "name": "julia-1.4"
  },
  "language_info": {
   "file_extension": ".jl",
   "mimetype": "application/julia",
   "name": "julia",
   "version": "1.4.1"
  }
 },
 "nbformat": 4,
 "nbformat_minor": 5
}
