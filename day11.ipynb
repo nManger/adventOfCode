{
 "cells": [
  {
   "cell_type": "markdown",
   "id": "c313d3db-430a-4fa9-a08c-b0af93930e57",
   "metadata": {},
   "source": [
    "# Day 11: Cosmic Expansion"
   ]
  },
  {
   "cell_type": "code",
   "execution_count": 1,
   "id": "9d6fd385-3fbc-42fe-b94a-5dc883363670",
   "metadata": {
    "tags": []
   },
   "outputs": [],
   "source": [
    "def parseInput(filename):\n",
    "    cosmicGrid = []\n",
    "    with open(filename) as f:\n",
    "        for line in f:\n",
    "            cosmicGrid.append(line.strip())\n",
    "            \n",
    "    return cosmicGrid"
   ]
  },
  {
   "cell_type": "code",
   "execution_count": 2,
   "id": "ac4f020f-44f7-4445-8686-f4d7c4cfd46c",
   "metadata": {
    "tags": []
   },
   "outputs": [],
   "source": [
    "cosmicGrid = parseInput('../testInputs/day11.txt')\n",
    "#cosmicGrid = parseInput('../inputs/day11.txt')"
   ]
  },
  {
   "cell_type": "markdown",
   "id": "7405ac79-58fe-41ab-988f-98d4a00fd5c1",
   "metadata": {
    "tags": []
   },
   "source": [
    "## Part 1"
   ]
  },
  {
   "cell_type": "code",
   "execution_count": 3,
   "id": "10a6af6f-6af7-4496-a8b6-3e51831c850a",
   "metadata": {
    "tags": []
   },
   "outputs": [],
   "source": [
    "def expandUniverse(cosmicGrid):\n",
    "    #clone the cosmic grid for expansion\n",
    "    expandedGrid = cosmicGrid.copy()\n",
    "    \n",
    "    #expand in horizontal direction\n",
    "    j = 0\n",
    "    while j < len(expandedGrid[0]):\n",
    "        #check if there is a galaxy in this column\n",
    "        hasGalaxy = False\n",
    "        for i in range(len(expandedGrid)):\n",
    "            if expandedGrid[i][j] == '#':\n",
    "                hasGalaxy = True\n",
    "                break\n",
    "        \n",
    "        # if a galaxy has been found, advance index by one\n",
    "        if hasGalaxy:\n",
    "            j += 1\n",
    "        # if no galaxy has been found, add an empty column behind current column and advance index by 2\n",
    "        else:\n",
    "            for i in range(len(expandedGrid)):\n",
    "                expandedGrid[i] = expandedGrid[i][:j+1]+'.'+expandedGrid[i][j+1:]\n",
    "            j += 2\n",
    "        \n",
    "    #expand in vertical direction\n",
    "    i = 0\n",
    "    while i < len(expandedGrid):\n",
    "        #check if there is a galaxy in the current line\n",
    "        #if yes, advance index by one \n",
    "        if expandedGrid[i].count('#') > 0:\n",
    "            i += 1\n",
    "        #if no, insert a copy of the current row after the current row and advance index by 2\n",
    "        else:\n",
    "            expandedGrid.insert(i+1,expandedGrid[i])\n",
    "            i += 2\n",
    "    \n",
    "    return expandedGrid\n",
    "\n",
    "def getPairwiseGalaxyDistance(cosmicGrid):\n",
    "    \n",
    "    expandedGrid = expandUniverse(cosmicGrid)\n",
    "    galaxyPositions = []\n",
    "    totalDist = 0\n",
    "    \n",
    "    for i in range(len(expandedGrid)):\n",
    "        for j in range(len(expandedGrid[0])):\n",
    "            if expandedGrid[i][j] == '#':\n",
    "                for pos in galaxyPositions:\n",
    "                    totalDist += abs(i - pos[0]) + abs(j - pos[1])\n",
    "                \n",
    "                galaxyPositions.append((i,j))\n",
    "    \n",
    "    return totalDist"
   ]
  },
  {
   "cell_type": "code",
   "execution_count": 4,
   "id": "9efd4f44-7c71-4d22-8a9c-cf5c79c71690",
   "metadata": {
    "tags": []
   },
   "outputs": [],
   "source": [
    "#print(*cosmicGrid,sep='\\n')\n",
    "#expandUniverse(cosmicGrid)"
   ]
  },
  {
   "cell_type": "code",
   "execution_count": 5,
   "id": "dfaa8b82-52d8-4a51-b072-bcde42705bfc",
   "metadata": {
    "tags": []
   },
   "outputs": [
    {
     "data": {
      "text/plain": [
       "374"
      ]
     },
     "execution_count": 5,
     "metadata": {},
     "output_type": "execute_result"
    }
   ],
   "source": [
    "getPairwiseGalaxyDistance(cosmicGrid)"
   ]
  },
  {
   "cell_type": "markdown",
   "id": "e18509d9-bc9a-421f-9d81-d4e60ed07210",
   "metadata": {},
   "source": [
    "## Part 2"
   ]
  },
  {
   "cell_type": "code",
   "execution_count": 6,
   "id": "45d24c70-fd95-4110-afd9-5d56b7f97bd9",
   "metadata": {
    "tags": []
   },
   "outputs": [],
   "source": [
    "def sliceUniverse(cosmicGrid):\n",
    "    \n",
    "    #find all columns to expand\n",
    "    colsToExpand = []\n",
    "    for j in range(len(cosmicGrid[0])):\n",
    "        #check if there is a galaxy in this column\n",
    "        hasGalaxy = False\n",
    "        for i in range(len(cosmicGrid)):\n",
    "            if cosmicGrid[i][j] == '#':\n",
    "                hasGalaxy = True\n",
    "                break\n",
    "        \n",
    "        # if no galaxy has been found, record index\n",
    "        if not hasGalaxy:\n",
    "            colsToExpand.append(j)\n",
    "        \n",
    "    #find all rows to expand\n",
    "    rowsToExpand = []\n",
    "    for i in range(len(cosmicGrid)):\n",
    "        #check if there is no galaxy in the current line\n",
    "        if cosmicGrid[i].count('#') == 0:\n",
    "            rowsToExpand.append(i)\n",
    "    \n",
    "    #slice cosmos into non-expanding pieces\n",
    "    cosmicPieces = []\n",
    "    \n",
    "    #prepend -1 and len(row) or len(col) resp. for ease of iteration\n",
    "    rowsToExpand.insert(0,-1)\n",
    "    rowsToExpand.append(len(cosmicGrid))\n",
    "    colsToExpand.insert(0,-1)\n",
    "    colsToExpand.append(len(cosmicGrid[0]))\n",
    "    \n",
    "    for i in range(len(rowsToExpand)-1):\n",
    "        cosmicPieces.append([])\n",
    "        for j in range(len(colsToExpand)-1): \n",
    "            cosmicPieces[-1].append( ((rowsToExpand[i]+1,rowsToExpand[i+1]),(colsToExpand[j]+1,colsToExpand[j+1])) )\n",
    "            \n",
    "    return cosmicPieces\n",
    "\n",
    "def getPairwiseGalaxyDistanceWithExpansionFactor(cosmicGrid,factor):\n",
    "    \n",
    "    cosmicSlices = sliceUniverse(cosmicGrid)\n",
    "    galaxyPositions = []\n",
    "    totalDist = 0\n",
    "    \n",
    "    #iterate over cubicles\n",
    "    for i in range(len(cosmicSlices)):\n",
    "        for j in range(len(cosmicSlices[0])):\n",
    "            #iterate over items in cubicle\n",
    "            dx,dy = cosmicSlices[i][j]            \n",
    "            for k in range(dx[0],dx[1]):\n",
    "                for l in range(dy[0],dy[1]):\n",
    "                    if cosmicGrid[k][l] == '#':\n",
    "                        expandedPos = (k + (factor-1)*i,l + (factor-1)*j)\n",
    "                        for pos in galaxyPositions:\n",
    "                            totalDist += abs(expandedPos[0] - pos[0]) + abs(expandedPos[1] - pos[1])\n",
    "                        galaxyPositions.append(expandedPos)\n",
    "    \n",
    "    return totalDist"
   ]
  },
  {
   "cell_type": "code",
   "execution_count": 7,
   "id": "9e5c4c46-4790-44a4-82d5-8bf8774b6701",
   "metadata": {
    "tags": []
   },
   "outputs": [
    {
     "name": "stdout",
     "output_type": "stream",
     "text": [
      "374\n",
      "1030\n",
      "8410\n",
      "82000210\n"
     ]
    }
   ],
   "source": [
    "print(getPairwiseGalaxyDistanceWithExpansionFactor(cosmicGrid,2))\n",
    "print(getPairwiseGalaxyDistanceWithExpansionFactor(cosmicGrid,10))\n",
    "print(getPairwiseGalaxyDistanceWithExpansionFactor(cosmicGrid,100))\n",
    "print(getPairwiseGalaxyDistanceWithExpansionFactor(cosmicGrid,int(1e6)))"
   ]
  },
  {
   "cell_type": "code",
   "execution_count": null,
   "id": "149f4d15-6fc6-4524-9bb4-c1617e35892a",
   "metadata": {},
   "outputs": [],
   "source": []
  }
 ],
 "metadata": {
  "kernelspec": {
   "display_name": "Python 3 (ipykernel)",
   "language": "python",
   "name": "python3"
  },
  "language_info": {
   "codemirror_mode": {
    "name": "ipython",
    "version": 3
   },
   "file_extension": ".py",
   "mimetype": "text/x-python",
   "name": "python",
   "nbconvert_exporter": "python",
   "pygments_lexer": "ipython3",
   "version": "3.11.5"
  }
 },
 "nbformat": 4,
 "nbformat_minor": 5
}
