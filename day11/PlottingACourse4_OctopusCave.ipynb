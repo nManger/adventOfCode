{
 "cells": [
  {
   "cell_type": "markdown",
   "id": "13bae354-cca1-4e09-aa55-e9c694ca2b02",
   "metadata": {},
   "source": [
    "## Loading data"
   ]
  },
  {
   "cell_type": "code",
   "execution_count": 2,
   "id": "870f63ee-4c05-4723-9ca5-c281eca78e53",
   "metadata": {},
   "outputs": [],
   "source": [
    "raw_data = readlines(\"octopusGrid.txt\");"
   ]
  },
  {
   "cell_type": "code",
   "execution_count": 3,
   "id": "aa212081-8eaa-4751-b2e6-dc65b897363c",
   "metadata": {},
   "outputs": [],
   "source": [
    "octoGrid = Array{Int}(undef,length(raw_data),length(raw_data[1]))\n",
    "for i in 1:length(raw_data)\n",
    "    octoGrid[i,:] = parse.(Int,split(raw_data[i],\"\"))\n",
    "end"
   ]
  },
  {
   "cell_type": "code",
   "execution_count": 4,
   "id": "76a20513-2bf1-432a-9cbb-a251f8c06e87",
   "metadata": {},
   "outputs": [],
   "source": [
    "octoGridTest = [ 5 4 8 3 1 4 3 2 2 3;\n",
    "2 7 4 5 8 5 4 7 1 1;\n",
    "5 2 6 4 5 5 6 1 7 3;\n",
    "6 1 4 1 3 3 6 1 4 6;\n",
    "6 3 5 7 3 8 5 4 7 8;\n",
    "4 1 6 7 5 2 4 6 4 5;\n",
    "2 1 7 6 8 4 1 7 2 1;\n",
    "6 8 8 2 8 8 1 1 3 4;\n",
    "4 8 4 6 8 4 8 5 5 4;\n",
    "5 2 8 3 7 5 1 5 2 6];"
   ]
  },
  {
   "cell_type": "markdown",
   "id": "207c42b4-e329-483c-ae56-0c9fcb9b8b57",
   "metadata": {},
   "source": [
    "## Part 1"
   ]
  },
  {
   "cell_type": "code",
   "execution_count": 5,
   "id": "c61e5241-8678-470d-9719-a7684b3c1ebf",
   "metadata": {},
   "outputs": [
    {
     "data": {
      "text/plain": [
       "gridIterate (generic function with 1 method)"
      ]
     },
     "execution_count": 5,
     "metadata": {},
     "output_type": "execute_result"
    }
   ],
   "source": [
    "#function to trigger flash in octopus flashIndx and transfer energy to surrounding octopusses\n",
    "function octoFlash(grid,indx,hasFlashed)\n",
    "    \n",
    "    grid[indx...] +=1\n",
    "    #check if octopus can flash, if yes, set hasFlashed and transfer energy\n",
    "    if grid[indx...]>9 \n",
    "        hasFlashed[indx...] = true\n",
    "        grid[indx...] = 0\n",
    "        for i in -1:1, j in -1:1\n",
    "            newIndx = indx + [i,j]\n",
    "            if any(newIndx .<1) || any(newIndx .> collect(size(grid)))\n",
    "                continue  \n",
    "            end\n",
    "            if !hasFlashed[newIndx...] #automatically excludes 0,0\n",
    "                octoFlash(grid,newIndx,hasFlashed)\n",
    "            end\n",
    "        end\n",
    "    end\n",
    "end\n",
    "\n",
    "function gridIterate(init_grid,tmax)\n",
    "    \n",
    "    grid = copy(init_grid)\n",
    "    hasFlashed = fill(false,size(grid))\n",
    "    m,n = size(grid)\n",
    "    nFlashes = 0\n",
    "    for t in 1:tmax\n",
    "        #increment all octopusses and start flash chains\n",
    "        for i in 1:m, j in 1:n\n",
    "            if !hasFlashed[i,j]\n",
    "                octoFlash(grid,[i,j],hasFlashed)\n",
    "            end\n",
    "        end\n",
    "        nFlashes += sum( hasFlashed) #find all flashes and update total flash counter\n",
    "        fill!(hasFlashed,false) #reset flash grid\n",
    "    end\n",
    "    return nFlashes,grid\n",
    "end"
   ]
  },
  {
   "cell_type": "code",
   "execution_count": 24,
   "id": "47809fd6-be8b-45ba-a3f8-cad722e69334",
   "metadata": {},
   "outputs": [],
   "source": [
    "nflashes,octoGridNew = gridIterate(octoGridTest,100);"
   ]
  },
  {
   "cell_type": "code",
   "execution_count": 6,
   "id": "95c91257-8518-458b-b527-ec29806ec11e",
   "metadata": {
    "collapsed": true,
    "jupyter": {
     "outputs_hidden": true
    },
    "tags": []
   },
   "outputs": [
    {
     "data": {
      "text/plain": [
       "10×10 Array{Int64,2}:\n",
       " 0  3  9  7  6  6  6  8  6  6\n",
       " 0  7  4  9  7  6  6  9  1  8\n",
       " 0  0  5  3  9  7  6  9  3  3\n",
       " 0  0  0  4  2  9  7  8  2  2\n",
       " 0  0  0  4  2  2  9  8  9  2\n",
       " 0  0  5  3  2  2  2  8  7  7\n",
       " 0  5  3  2  2  2  2  9  6  6\n",
       " 9  3  2  2  2  2  8  9  6  6\n",
       " 7  9  2  2  2  8  6  8  6  6\n",
       " 6  7  8  9  9  9  8  7  6  6"
      ]
     },
     "execution_count": 6,
     "metadata": {},
     "output_type": "execute_result"
    }
   ],
   "source": [
    "octoGridNew"
   ]
  },
  {
   "cell_type": "code",
   "execution_count": 102,
   "id": "fe7216b5-18da-45c9-9c4c-cc3fd6ab4a21",
   "metadata": {},
   "outputs": [
    {
     "data": {
      "text/plain": [
       "1656"
      ]
     },
     "execution_count": 102,
     "metadata": {},
     "output_type": "execute_result"
    }
   ],
   "source": [
    "nflashes"
   ]
  },
  {
   "cell_type": "code",
   "execution_count": 7,
   "id": "e6482f4f-5f49-491c-8388-75a9cb3d20e1",
   "metadata": {},
   "outputs": [],
   "source": [
    "nflashes,octoGridNew = gridIterate(octoGrid,100);"
   ]
  },
  {
   "cell_type": "code",
   "execution_count": 8,
   "id": "4b0baa85-38f3-4e8e-80fe-97dfa9dbba57",
   "metadata": {},
   "outputs": [
    {
     "data": {
      "text/plain": [
       "1647"
      ]
     },
     "execution_count": 8,
     "metadata": {},
     "output_type": "execute_result"
    }
   ],
   "source": [
    "nflashes"
   ]
  },
  {
   "cell_type": "code",
   "execution_count": 9,
   "id": "79d79425-efbb-4bf4-9fcd-81ceaab11bd3",
   "metadata": {
    "collapsed": true,
    "jupyter": {
     "outputs_hidden": true
    },
    "tags": []
   },
   "outputs": [
    {
     "data": {
      "text/plain": [
       "10×10 Array{Int64,2}:\n",
       " 4  4  5  6  9  9  1  1  1  7\n",
       " 4  5  7  1  1  1  1  1  1  1\n",
       " 5  7  3  4  6  1  1  1  1  1\n",
       " 6  2  2  2  3  4  7  1  1  1\n",
       " 9  2  2  2  2  3  6  1  1  1\n",
       " 8  2  2  2  3  5  1  1  1  1\n",
       " 8  2  2  3  5  1  1  1  1  1\n",
       " 9  3  3  5  1  1  1  1  1  1\n",
       " 0  6  6  1  1  1  1  1  2  2\n",
       " 0  0  2  1  1  1  1  1  2  0"
      ]
     },
     "execution_count": 9,
     "metadata": {},
     "output_type": "execute_result"
    }
   ],
   "source": [
    "octoGridNew"
   ]
  },
  {
   "cell_type": "markdown",
   "id": "bf76b030-9254-4873-bc79-e44b603a9e65",
   "metadata": {},
   "source": [
    "## Part 2"
   ]
  },
  {
   "cell_type": "code",
   "execution_count": 7,
   "id": "8d6fec12-5085-47fe-9a32-3a0c252720dc",
   "metadata": {},
   "outputs": [
    {
     "data": {
      "text/plain": [
       "gridIterateSynchro (generic function with 2 methods)"
      ]
     },
     "execution_count": 7,
     "metadata": {},
     "output_type": "execute_result"
    }
   ],
   "source": [
    "function gridIterateSynchro(init_grid)\n",
    "    \n",
    "    grid = copy(init_grid)\n",
    "    hasFlashed = fill(false,size(grid))\n",
    "    m,n = size(grid)\n",
    "    \n",
    "    t = 0\n",
    "    synchronized =false\n",
    "    while !synchronized\n",
    "        t+=1\n",
    "        #increment all octopusses and start flash chains\n",
    "        for i in 1:m, j in 1:n\n",
    "            if !hasFlashed[i,j]\n",
    "                octoFlash(grid,[i,j],hasFlashed)\n",
    "            end\n",
    "        end\n",
    "        #check how many flashed, set synchronized flag if all flashed\n",
    "        nflashes = sum(hasFlashed) \n",
    "        if nflashes == n*m\n",
    "            synchronized = true\n",
    "        end\n",
    "        fill!(hasFlashed,false) #reset flash grid\n",
    "    end\n",
    "    return t\n",
    "end"
   ]
  },
  {
   "cell_type": "code",
   "execution_count": 8,
   "id": "5308912c-86fe-4136-81f0-8c38d969986e",
   "metadata": {},
   "outputs": [
    {
     "data": {
      "text/plain": [
       "195"
      ]
     },
     "execution_count": 8,
     "metadata": {},
     "output_type": "execute_result"
    }
   ],
   "source": [
    "tsyncTest = gridIterateSynchro(octoGridTest)"
   ]
  },
  {
   "cell_type": "code",
   "execution_count": 9,
   "id": "12bc3f35-7f33-4d59-b29b-db77e96d97bd",
   "metadata": {},
   "outputs": [
    {
     "data": {
      "text/plain": [
       "348"
      ]
     },
     "execution_count": 9,
     "metadata": {},
     "output_type": "execute_result"
    }
   ],
   "source": [
    "tsyncTest = gridIterateSynchro(octoGrid)"
   ]
  },
  {
   "cell_type": "code",
   "execution_count": null,
   "id": "9d09fbf1-284b-443b-8524-173af85439e6",
   "metadata": {},
   "outputs": [],
   "source": []
  }
 ],
 "metadata": {
  "kernelspec": {
   "display_name": "Julia 1.4.1",
   "language": "julia",
   "name": "julia-1.4"
  },
  "language_info": {
   "file_extension": ".jl",
   "mimetype": "application/julia",
   "name": "julia",
   "version": "1.4.1"
  }
 },
 "nbformat": 4,
 "nbformat_minor": 5
}
