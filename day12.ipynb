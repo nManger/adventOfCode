{
 "cells": [
  {
   "cell_type": "markdown",
   "id": "07d98243-5830-4319-b3ac-712d6a6c9e71",
   "metadata": {},
   "source": [
    "# Day 12: Hot Springs"
   ]
  },
  {
   "cell_type": "code",
   "execution_count": 1,
   "id": "34e47f8e-212c-4c7e-92d0-b69da227b4eb",
   "metadata": {
    "tags": []
   },
   "outputs": [],
   "source": [
    "import re\n",
    "from functools import cache"
   ]
  },
  {
   "cell_type": "code",
   "execution_count": 2,
   "id": "62774ec9-60b0-44e0-81b2-130c1ba4f5d6",
   "metadata": {},
   "outputs": [],
   "source": [
    "def parseInput(filename):\n",
    "    records = []\n",
    "    with open(filename) as f:\n",
    "        for line in f:\n",
    "            row,groups = line.strip().split(' ')\n",
    "            groups = tuple([int(x) for x in groups.split(',')])\n",
    "            records.append((row,groups))\n",
    "    return records"
   ]
  },
  {
   "cell_type": "code",
   "execution_count": 3,
   "id": "04090f97-6c98-4030-b937-26950947b60d",
   "metadata": {
    "tags": []
   },
   "outputs": [],
   "source": [
    "records=parseInput('../testInputs/day12.txt')\n",
    "records=parseInput('../inputs/day12.txt')"
   ]
  },
  {
   "cell_type": "markdown",
   "id": "a2494f1f-ef7b-4bec-84c5-c8e73ea0264e",
   "metadata": {
    "tags": []
   },
   "source": [
    "## Part 1"
   ]
  },
  {
   "cell_type": "code",
   "execution_count": 4,
   "id": "f34a31b9-e750-4239-a2ab-dbe6d21b0de7",
   "metadata": {
    "tags": []
   },
   "outputs": [],
   "source": [
    "def testRow(row,groups):\n",
    "    indexFirstQ = row.find('?')\n",
    "    #no more question marks in string - evaluate if arrangement is allowed\n",
    "    if indexFirstQ<0:\n",
    "        brokenGroups = re.findall('#+',row)\n",
    "        #check if we have same number of groupings\n",
    "        if len(brokenGroups) != len(groups):\n",
    "            return 0\n",
    "        #check if lenght of each group of broken springs matches\n",
    "        for i in range(len(brokenGroups)):\n",
    "            if len(brokenGroups[i]) != groups[i]:\n",
    "                return 0\n",
    "        #print(row)\n",
    "        return 1\n",
    "    #there are still question marks in string - replace first question mark found once with '.' and once with '#' and recurse\n",
    "    else:\n",
    "        nArrangements = 0\n",
    "        newRow = row[:indexFirstQ]+ '.' + row[(indexFirstQ+1):]\n",
    "        nArrangements += testRow(newRow,groups)\n",
    "        \n",
    "        newRow = row[:indexFirstQ]+ '#' + row[(indexFirstQ+1):]\n",
    "        nArrangements += testRow(newRow,groups)\n",
    "        \n",
    "        return nArrangements\n",
    "    \n",
    "def testRecords(records):\n",
    "    nArrangements = 0\n",
    "    \n",
    "    for row,groups in records:\n",
    "        dummy = testRow(row,groups)\n",
    "        nArrangements += dummy\n",
    "        #print(dummy)\n",
    "        #print('')\n",
    "    return nArrangements"
   ]
  },
  {
   "cell_type": "code",
   "execution_count": 5,
   "id": "e3ad279a-da1a-408d-b36c-4f6c6f117720",
   "metadata": {
    "tags": []
   },
   "outputs": [
    {
     "data": {
      "text/plain": [
       "7169"
      ]
     },
     "execution_count": 5,
     "metadata": {},
     "output_type": "execute_result"
    }
   ],
   "source": [
    "testRecords(records)"
   ]
  },
  {
   "cell_type": "markdown",
   "id": "7bbeb368-7f92-4177-93ce-28667fcf4e80",
   "metadata": {},
   "source": [
    "## Part 2"
   ]
  },
  {
   "cell_type": "markdown",
   "id": "f85843a8-3281-4602-a2e1-53174b73efe7",
   "metadata": {
    "tags": []
   },
   "source": [
    "So... Part 1 brute force is not going to work here...\n",
    "\n",
    "We need a new plan: \n",
    "- check character by character, passing only the remaining string along\n",
    "- keep track of how long the current group is\n",
    "- use functools.cache\n",
    "- conditions of replacing a ? with .\n",
    "    - we have no current open group\n",
    "    - our current group has reached its end\n",
    "- conditions of replacing a ? with a #\n",
    "    - we have no current open group but can open one\n",
    "    - the current open group has not reached its end\n",
    "- fail conditions when encountering a .\n",
    "    - the current open group has not reached its end\n",
    "- fail conditions when encountering a #\n",
    "    - the current open group has already reached its end\n",
    "    - we have no currend open group and there are no more groups left\n",
    "- fail conditions when string is empty\n",
    "    - we have an open group that terminates prematurely\n",
    "    - we have no open group but still groups left\n",
    "- success conditions:\n",
    "    - the remaining string is empty and we have no open groups and no groups left"
   ]
  },
  {
   "cell_type": "code",
   "execution_count": 6,
   "id": "907da9ea-1bfe-4c6c-b2e0-228d30238309",
   "metadata": {
    "tags": []
   },
   "outputs": [],
   "source": [
    "@cache\n",
    "def testRowPart2(rowRemaining,groupsRemaining, lenCurrentOpenGroup):\n",
    "    \n",
    "    # we have no chars left\n",
    "    if rowRemaining == '':\n",
    "        # we have no groups left or last remaining group has ended: success\n",
    "        if len(groupsRemaining) == 0 or (len(groupsRemaining) == 1 and groupsRemaining[0] == lenCurrentOpenGroup):\n",
    "            return 1\n",
    "        #we still have groups left and/or last group terminated prematurely: fail\n",
    "        else:\n",
    "            return 0\n",
    "    \n",
    "    nextChar = rowRemaining[0]\n",
    "    nArrangements = 0\n",
    "    \n",
    "    if nextChar == '.':\n",
    "        #we currently have no open group\n",
    "        if lenCurrentOpenGroup == 0:\n",
    "            nArrangements += testRowPart2(rowRemaining[1:], groupsRemaining,0)\n",
    "        #we have an open group and terminated it correctly\n",
    "        elif lenCurrentOpenGroup == groupsRemaining[0]:\n",
    "            nArrangements += testRowPart2(rowRemaining[1:], groupsRemaining[1:],0)\n",
    "        #we have an open group and terminated it prematurely -> no possible matching arrangements from this point forward\n",
    "        else:\n",
    "            return 0\n",
    "    \n",
    "    elif nextChar == '#':\n",
    "        # we currently have no open group but still possible groups left or\n",
    "        # we currently have an open group which has not reached its full length\n",
    "        if len(groupsRemaining)>0 and groupsRemaining[0]>lenCurrentOpenGroup:\n",
    "            nArrangements += testRowPart2(rowRemaining[1:], groupsRemaining,lenCurrentOpenGroup+1)\n",
    "        # we have have no possible groups left or the current group is already full -> no possible matching arrangements\n",
    "        else:\n",
    "            return 0\n",
    "    \n",
    "    #next char is '?'\n",
    "    else:\n",
    "        # if we have no open group, we can always place a .\n",
    "        # if we have groups left, we can also place a #\n",
    "        if lenCurrentOpenGroup == 0:\n",
    "            nArrangements += testRowPart2(rowRemaining[1:], groupsRemaining,0)\n",
    "            if len(groupsRemaining) > 0:\n",
    "                nArrangements += testRowPart2(rowRemaining[1:], groupsRemaining,lenCurrentOpenGroup+1)\n",
    "        # if we have an open group, we can place a # if the group has not reached full length\n",
    "        # and a . if it has and needs to terminate at this point\n",
    "        else:\n",
    "            if lenCurrentOpenGroup < groupsRemaining[0]:\n",
    "                nArrangements += testRowPart2(rowRemaining[1:], groupsRemaining,lenCurrentOpenGroup+1)\n",
    "            else:\n",
    "                nArrangements += testRowPart2(rowRemaining[1:], groupsRemaining[1:],0)\n",
    "                \n",
    "    return nArrangements   \n",
    "        \n",
    "def testRecordsPart2(records):\n",
    "    nArrangements = 0\n",
    "    \n",
    "    unfoldedRecords = [('?'.join([row]*5), groups*5) for row,groups in records]\n",
    "    \n",
    "    for row,groups in unfoldedRecords:\n",
    "        dummy = testRowPart2(row,groups,0)\n",
    "        nArrangements += dummy\n",
    "        #print(dummy)\n",
    "    return nArrangements"
   ]
  },
  {
   "cell_type": "code",
   "execution_count": 7,
   "id": "814733f2-9a2f-4aae-8dea-1b7ecefb214b",
   "metadata": {
    "tags": []
   },
   "outputs": [
    {
     "data": {
      "text/plain": [
       "1738259948652"
      ]
     },
     "execution_count": 7,
     "metadata": {},
     "output_type": "execute_result"
    }
   ],
   "source": [
    "testRecordsPart2(records)"
   ]
  }
 ],
 "metadata": {
  "kernelspec": {
   "display_name": "Python 3 (ipykernel)",
   "language": "python",
   "name": "python3"
  },
  "language_info": {
   "codemirror_mode": {
    "name": "ipython",
    "version": 3
   },
   "file_extension": ".py",
   "mimetype": "text/x-python",
   "name": "python",
   "nbconvert_exporter": "python",
   "pygments_lexer": "ipython3",
   "version": "3.11.5"
  }
 },
 "nbformat": 4,
 "nbformat_minor": 5
}
