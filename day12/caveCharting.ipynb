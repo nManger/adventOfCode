{
 "cells": [
  {
   "cell_type": "markdown",
   "id": "3391ab95-da07-44ce-a9d4-dac19cde42a9",
   "metadata": {},
   "source": [
    "## Load Data"
   ]
  },
  {
   "cell_type": "code",
   "execution_count": 1,
   "id": "591e8191-ef1e-4dbe-8647-8904c5ad16c2",
   "metadata": {},
   "outputs": [
    {
     "data": {
      "text/plain": [
       "19-element Array{Array{SubString{String},1},1}:\n",
       " [\"lg\", \"GW\"]\n",
       " [\"pt\", \"start\"]\n",
       " [\"pt\", \"uq\"]\n",
       " [\"nx\", \"lg\"]\n",
       " [\"ve\", \"GW\"]\n",
       " [\"start\", \"nx\"]\n",
       " [\"GW\", \"start\"]\n",
       " [\"GW\", \"nx\"]\n",
       " [\"pt\", \"SM\"]\n",
       " [\"sx\", \"GW\"]\n",
       " [\"lg\", \"end\"]\n",
       " [\"nx\", \"SM\"]\n",
       " [\"lg\", \"SM\"]\n",
       " [\"pt\", \"nx\"]\n",
       " [\"end\", \"ve\"]\n",
       " [\"ve\", \"SM\"]\n",
       " [\"TG\", \"uq\"]\n",
       " [\"end\", \"SM\"]\n",
       " [\"SM\", \"uq\"]"
      ]
     },
     "execution_count": 1,
     "metadata": {},
     "output_type": "execute_result"
    }
   ],
   "source": [
    "dataRaw = readlines(\"caveNetwork.txt\")\n",
    "caveLinks = split.(dataRaw,'-')"
   ]
  },
  {
   "cell_type": "code",
   "execution_count": 2,
   "id": "58f51ec7-2203-4ec1-8e1b-7c8184d98ca2",
   "metadata": {},
   "outputs": [
    {
     "data": {
      "text/plain": [
       "7-element Array{Array{SubString{String},1},1}:\n",
       " [\"start\", \"A\"]\n",
       " [\"start\", \"b\"]\n",
       " [\"A\", \"c\"]\n",
       " [\"A\", \"b\"]\n",
       " [\"b\", \"d\"]\n",
       " [\"A\", \"end\"]\n",
       " [\"b\", \"end\"]"
      ]
     },
     "execution_count": 2,
     "metadata": {},
     "output_type": "execute_result"
    }
   ],
   "source": [
    "dataSmallTest = \"start-A\n",
    "start-b\n",
    "A-c\n",
    "A-b\n",
    "b-d\n",
    "A-end\n",
    "b-end\"\n",
    "smallCaveLinks = split.(split(dataSmallTest,\"\\n\"),\"-\")"
   ]
  },
  {
   "cell_type": "markdown",
   "id": "84ef92e3-f641-481a-a370-8bb153086e85",
   "metadata": {
    "tags": []
   },
   "source": [
    "## Part 1"
   ]
  },
  {
   "cell_type": "code",
   "execution_count": 95,
   "id": "bb9b0e75-799a-4109-8315-9d50f7f0f0da",
   "metadata": {},
   "outputs": [
    {
     "data": {
      "text/plain": [
       "traverseCaves (generic function with 1 method)"
      ]
     },
     "execution_count": 95,
     "metadata": {},
     "output_type": "execute_result"
    }
   ],
   "source": [
    "function buildCaveNetwork(caveLinks)\n",
    "    caves = [string(x) for x in Set(hcat(caveLinks...))]\n",
    "    caveConnects = Array[]\n",
    "    for cave in caves\n",
    "        neighborCaveList = String[]\n",
    "        neighborCaves = findall(x->(x[1] == cave || x[2] == cave),caveLinks)\n",
    "        for i in neighborCaves\n",
    "            if caveLinks[i][1] == cave\n",
    "                push!(neighborCaveList,string(caveLinks[i][2]))\n",
    "            else\n",
    "                push!(neighborCaveList,string(caveLinks[i][1]))\n",
    "            end\n",
    "        end\n",
    "        push!(caveConnects, neighborCaveList)\n",
    "    end\n",
    "    return caves,caveConnects\n",
    "end\n",
    "\n",
    "function traverseCaves(cave::String,\n",
    "                    allCaves::Array{String,1},\n",
    "                    caveLinkList::Array{Array,1},\n",
    "                    path::Array{String,1})\n",
    "    \n",
    "    push!(path,cave)\n",
    "    #print(cave,\" \")\n",
    "    caveNeigbors = caveLinkList[findfirst(x -> x==cave,allCaves)]\n",
    "    returnPath = 0\n",
    "    for neighbor in caveNeigbors\n",
    "        if all(isuppercase,neighbor)\n",
    "            returnPath += traverseCaves(neighbor,allCaves,caveLinkList,copy(path))\n",
    "        else\n",
    "            if neighbor == \"end\"\n",
    "                returnPath += 1 #\n",
    "                println(vcat(path,\"end\")) # exit found\n",
    "            elseif !(neighbor in path)\n",
    "                returnPath += traverseCaves(neighbor,allCaves,caveLinkList,copy(path))\n",
    "            #else\n",
    "                #returnPath = nothing # dead end..\n",
    "            end\n",
    "        end\n",
    "    end\n",
    "    return returnPath\n",
    "end"
   ]
  },
  {
   "cell_type": "code",
   "execution_count": 4,
   "id": "b9d0c400-7e6e-4ccd-8071-f2d00267b202",
   "metadata": {},
   "outputs": [
    {
     "data": {
      "text/plain": [
       "([\"A\", \"c\", \"start\", \"b\", \"end\", \"d\"], Array[[\"start\", \"c\", \"b\", \"end\"], [\"A\"], [\"A\", \"b\"], [\"start\", \"A\", \"d\", \"end\"], [\"A\", \"b\"], [\"b\"]])"
      ]
     },
     "execution_count": 4,
     "metadata": {},
     "output_type": "execute_result"
    }
   ],
   "source": [
    "cavesSTest,linksSTest = buildCaveNetwork(smallCaveLinks)"
   ]
  },
  {
   "cell_type": "code",
   "execution_count": 11,
   "id": "e3328571-4d1d-4b20-891e-cd1cc3eb8f7a",
   "metadata": {},
   "outputs": [
    {
     "name": "stdout",
     "output_type": "stream",
     "text": [
      "[\"start\", \"A\", \"c\", \"A\", \"b\", \"A\", \"end\"]\n",
      "[\"start\", \"A\", \"c\", \"A\", \"b\", \"end\"]\n",
      "[\"start\", \"A\", \"c\", \"A\", \"end\"]\n",
      "[\"start\", \"A\", \"b\", \"A\", \"c\", \"A\", \"end\"]\n",
      "[\"start\", \"A\", \"b\", \"A\", \"end\"]\n",
      "[\"start\", \"A\", \"b\", \"end\"]\n",
      "[\"start\", \"A\", \"end\"]\n",
      "[\"start\", \"b\", \"A\", \"c\", \"A\", \"end\"]\n",
      "[\"start\", \"b\", \"A\", \"end\"]\n",
      "[\"start\", \"b\", \"end\"]\n"
     ]
    },
    {
     "data": {
      "text/plain": [
       "10"
      ]
     },
     "execution_count": 11,
     "metadata": {},
     "output_type": "execute_result"
    }
   ],
   "source": [
    "traverseCaves(\"start\",cavesSTest,linksSTest,String[])"
   ]
  },
  {
   "cell_type": "code",
   "execution_count": 6,
   "id": "4620f544-58c0-4ff8-822a-41301f28fd25",
   "metadata": {},
   "outputs": [
    {
     "data": {
      "text/plain": [
       "([\"SM\", \"pt\", \"uq\", \"ve\", \"nx\", \"sx\", \"start\", \"TG\", \"GW\", \"end\", \"lg\"], Array[[\"pt\", \"nx\", \"lg\", \"ve\", \"end\", \"uq\"], [\"start\", \"uq\", \"SM\", \"nx\"], [\"pt\", \"TG\", \"SM\"], [\"GW\", \"end\", \"SM\"], [\"lg\", \"start\", \"GW\", \"SM\", \"pt\"], [\"GW\"], [\"pt\", \"nx\", \"GW\"], [\"uq\"], [\"lg\", \"ve\", \"start\", \"nx\", \"sx\"], [\"lg\", \"ve\", \"SM\"], [\"GW\", \"nx\", \"end\", \"SM\"]])"
      ]
     },
     "execution_count": 6,
     "metadata": {},
     "output_type": "execute_result"
    }
   ],
   "source": [
    "caves,links = buildCaveNetwork(caveLinks)"
   ]
  },
  {
   "cell_type": "code",
   "execution_count": 7,
   "id": "b24a8c17-5c4f-4ccf-a326-5f21fe16a11f",
   "metadata": {},
   "outputs": [
    {
     "data": {
      "text/plain": [
       "3708"
      ]
     },
     "execution_count": 7,
     "metadata": {},
     "output_type": "execute_result"
    }
   ],
   "source": [
    "traverseCaves(\"start\",caves,links,String[])"
   ]
  },
  {
   "cell_type": "markdown",
   "id": "fac85f92-5401-4645-932e-6a9856506c21",
   "metadata": {},
   "source": [
    "## Part 2"
   ]
  },
  {
   "cell_type": "code",
   "execution_count": 92,
   "id": "822c38c5-6ce9-4794-b8f1-79a9dca9fbf6",
   "metadata": {},
   "outputs": [
    {
     "data": {
      "text/plain": [
       "travelCaves (generic function with 1 method)"
      ]
     },
     "execution_count": 92,
     "metadata": {},
     "output_type": "execute_result"
    }
   ],
   "source": [
    "function travelCaves(cave::String,\n",
    "                    allCaves::Array{String,1},\n",
    "                    caveLinkList::Array{Array,1},\n",
    "                    path::Array{String,1})\n",
    "    push!(path,cave)\n",
    "    caveNeigbors = caveLinkList[findfirst(x -> x==cave,allCaves)]\n",
    "    returnPath = 0\n",
    "    for neighbor in caveNeigbors\n",
    "        if all(isuppercase,neighbor) #always enter uppercase cave \n",
    "            returnPath += travelCaves(neighbor,allCaves,caveLinkList,copy(path)) \n",
    "        else\n",
    "            # exit found, terminate search and print path\n",
    "            if neighbor == \"end\" \n",
    "                returnPath += 1  \n",
    "                #println(vcat(path,\"end\"))\n",
    "            #enter *one* lowercase(lc) cave at most twice, other lc caves at most once, and start only once at beginning\n",
    "            elseif neighbor != \"start\"\n",
    "                #check if *any* lc cave has been visitied twice already\n",
    "                lcCavesVisited = path[findall(x->any(islowercase,x)==true,path)]\n",
    "                uniqueLcs = unique(lcCavesVisited)\n",
    "                numVisitsLc = zeros(Int,length(uniqueLcs))\n",
    "                for (i,lcCave) in enumerate(uniqueLcs)\n",
    "                    numVisitsLc[i]=count(x->x == lcCave,lcCavesVisited)\n",
    "                end\n",
    "                \n",
    "                if !( any(numVisitsLc.>=2) && (neighbor in path) )\n",
    "                    returnPath += travelCaves(neighbor,allCaves,caveLinkList,copy(path))\n",
    "                end\n",
    "            # else dead end..\n",
    "            end\n",
    "        end\n",
    "    end\n",
    "    return returnPath\n",
    "end"
   ]
  },
  {
   "cell_type": "code",
   "execution_count": 93,
   "id": "daadad8a-9e54-486e-85f5-a175f1d669cd",
   "metadata": {
    "tags": []
   },
   "outputs": [
    {
     "data": {
      "text/plain": [
       "36"
      ]
     },
     "execution_count": 93,
     "metadata": {},
     "output_type": "execute_result"
    }
   ],
   "source": [
    "travelCaves(\"start\",cavesSTest,linksSTest,String[])"
   ]
  },
  {
   "cell_type": "code",
   "execution_count": 94,
   "id": "7a96768d-fff1-4f85-ad8b-90607bf15bfa",
   "metadata": {},
   "outputs": [
    {
     "data": {
      "text/plain": [
       "93858"
      ]
     },
     "execution_count": 94,
     "metadata": {},
     "output_type": "execute_result"
    }
   ],
   "source": [
    "travelCaves(\"start\",caves,links,String[])"
   ]
  },
  {
   "cell_type": "code",
   "execution_count": null,
   "id": "5e0b16e4-3829-4b03-866b-362c1486028a",
   "metadata": {},
   "outputs": [],
   "source": []
  }
 ],
 "metadata": {
  "kernelspec": {
   "display_name": "Julia 1.4.1",
   "language": "julia",
   "name": "julia-1.4"
  },
  "language_info": {
   "file_extension": ".jl",
   "mimetype": "application/julia",
   "name": "julia",
   "version": "1.4.1"
  }
 },
 "nbformat": 4,
 "nbformat_minor": 5
}
