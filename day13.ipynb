{
 "cells": [
  {
   "cell_type": "markdown",
   "id": "ddd512d0-72f2-4d61-999e-452164fa4edb",
   "metadata": {},
   "source": [
    "# Day 13: Point of Incidence"
   ]
  },
  {
   "cell_type": "code",
   "execution_count": 22,
   "id": "1ae61985-87bd-4b92-be4c-6ce57e54a265",
   "metadata": {
    "tags": []
   },
   "outputs": [],
   "source": [
    "def parseInput(filename):\n",
    "    \n",
    "    with open(filename) as f:\n",
    "        lines = f.read().split('\\n')\n",
    "        \n",
    "    patternPatches = []\n",
    "    i=0\n",
    "    while i < len(lines):     \n",
    "        patch = []\n",
    "        while lines[i] != '':\n",
    "            patch.append(lines[i])\n",
    "            i += 1\n",
    "            #print(i,lines[i])\n",
    "            \n",
    "        patternPatches.append(patch)\n",
    "        i += 1\n",
    "           \n",
    "    return patternPatches\n"
   ]
  },
  {
   "cell_type": "code",
   "execution_count": 46,
   "id": "adf48726-2658-45d5-9ae0-fde92229d89b",
   "metadata": {
    "tags": []
   },
   "outputs": [],
   "source": [
    "puzzlePatches = parseInput('../testInputs/day13.txt')\n",
    "puzzlePatches = parseInput('../inputs/day13.txt')"
   ]
  },
  {
   "cell_type": "markdown",
   "id": "ee50a016-88f5-457d-ae89-92b887a41ade",
   "metadata": {
    "tags": []
   },
   "source": [
    "## Part 1"
   ]
  },
  {
   "cell_type": "code",
   "execution_count": 2,
   "id": "adeded13-acd8-4961-8f2d-64af68c02623",
   "metadata": {
    "tags": []
   },
   "outputs": [],
   "source": [
    "def flipPatch(patch):\n",
    "    \n",
    "    newPatch = []\n",
    "    for i in range(len(patch[0])):\n",
    "        newPatch.append(''.join([row[i] for row in patch]))\n",
    "\n",
    "    return newPatch\n",
    "\n",
    "#find two matchin rows, returns None if no match is found\n",
    "def findMatchingRows(patch):\n",
    "    lenPatch = len(patch)\n",
    "    #check if 1st row has match\n",
    "    for i in range(1,lenPatch):\n",
    "        if patch[0] == patch[i] and checkPattern(patch,0,i):\n",
    "            return 0,i\n",
    "    #check if last row has match\n",
    "    for i in range(0,lenPatch-1):\n",
    "        if patch[i] == patch[lenPatch-1] and checkPattern(patch,i,lenPatch-1):\n",
    "            return i,lenPatch-1\n",
    "    return None\n",
    "            \n",
    "def checkPattern(patch,lower,upper):\n",
    "    i = lower\n",
    "    j = upper\n",
    "    \n",
    "    if i > j:\n",
    "        raise Exception('Something went terribly wrong here')\n",
    "    \n",
    "    while i < j:\n",
    "        if patch[i] != patch[j]:\n",
    "            return False\n",
    "        i += 1\n",
    "        j -= 1\n",
    "    \n",
    "    if i == j:\n",
    "        return False\n",
    "    \n",
    "    return True\n",
    "    \n",
    "#find a reflection between two rows (flip patch for columns)\n",
    "def findReflection(patch):\n",
    "\n",
    "    res = findMatchingRows(patch)\n",
    "    #no match found\n",
    "    if res is None:\n",
    "        return None\n",
    "    lower,upper = res\n",
    "    return (upper-lower)//2 + lower +1\n",
    "    \n",
    "def findMirrors(patternPatches):\n",
    "    \n",
    "    totalCount = 0\n",
    "    i = 0\n",
    "    for patch in patternPatches:\n",
    "        mirrorLine = findReflection(patch)\n",
    "        \n",
    "        if mirrorLine is not None:\n",
    "            totalCount += (mirrorLine*100)\n",
    "        else:\n",
    "            mirrorLine = findReflection(flipPatch(patch))\n",
    "            if mirrorLine is not None:\n",
    "                totalCount += mirrorLine\n",
    "            else:\n",
    "                print(i)\n",
    "                raise Exception('There should be a line')\n",
    "        i += 1\n",
    "    return totalCount\n",
    "    "
   ]
  },
  {
   "cell_type": "code",
   "execution_count": 14,
   "id": "5da366e2-6521-4fcc-8324-2efc80f8cd9e",
   "metadata": {
    "tags": []
   },
   "outputs": [
    {
     "data": {
      "text/plain": [
       "30518"
      ]
     },
     "execution_count": 14,
     "metadata": {},
     "output_type": "execute_result"
    }
   ],
   "source": [
    "findMirrors(puzzlePatches)"
   ]
  },
  {
   "cell_type": "markdown",
   "id": "0d835921-dc15-4ef2-86e6-23888609f2e1",
   "metadata": {},
   "source": [
    "# Part 2"
   ]
  },
  {
   "cell_type": "code",
   "execution_count": 1,
   "id": "621dd5bc-c21f-4f7c-ba07-bad7d8e3ddfb",
   "metadata": {
    "tags": []
   },
   "outputs": [],
   "source": [
    "def findSmudge(patch):\n",
    "    dimi = len(patch)\n",
    "    dimj = len(patch[0])\n",
    "\n",
    "    #find original mirror line\n",
    "    origMirrorLineH = findReflection(patch)\n",
    "    origMirrorLineV = findReflection(flipPatch(patch))\n",
    "    \n",
    "    for i in range(dimi):\n",
    "        for j in range(dimj):\n",
    "            newPatch = []\n",
    "            for k in range(dimi):\n",
    "                line = ''\n",
    "                for l in range(dimj):\n",
    "                    if i==k and j==l:\n",
    "                        if patch[i][j] == '#': \n",
    "                            line += '.'\n",
    "                        else:\n",
    "                            line += '#'\n",
    "                    else:\n",
    "                        line += patch[k][l]\n",
    "                \n",
    "                newPatch.append(line)\n",
    "            \n",
    "            mirrorLine = findReflection(newPatch)\n",
    "            if mirrorLine is not None:\n",
    "                if mirrorLine == origMirrorLineH:\n",
    "                    mirrorLine = findReflection(newPatch[:origMirrorLineH])\n",
    "                    if mirrorLine is not None:\n",
    "                        return mirrorLine*100\n",
    "                    else:\n",
    "                        mirrorLine = findReflection(newPatch[origMirrorLineH:])\n",
    "                        if mirrorLine is not None:\n",
    "                            return (mirrorLine+origMirrorLineH)*100\n",
    "                    \n",
    "                else:\n",
    "                    return mirrorLine*100\n",
    "            \n",
    "            mirrorLine = findReflection(flipPatch(newPatch))\n",
    "            if mirrorLine is not None:\n",
    "                if mirrorLine == origMirrorLineV:\n",
    "                    mirrorLine = findReflection(flipPatch(newPatch)[:origMirrorLineV])\n",
    "                    if mirrorLine is not None:\n",
    "                        return mirrorLine\n",
    "                    else:\n",
    "                        mirrorLine = findReflection(flipPatch(newPatch)[origMirrorLineV:])\n",
    "                        if mirrorLine is not None:\n",
    "                            return (mirrorLine+origMirrorLineV)\n",
    "                    \n",
    "                else:\n",
    "                    return mirrorLine\n",
    "            \n",
    "    return 0"
   ]
  },
  {
   "cell_type": "code",
   "execution_count": 120,
   "id": "e3b51810-4444-4c23-b4ff-14d98fb277a6",
   "metadata": {
    "tags": []
   },
   "outputs": [
    {
     "data": {
      "text/plain": [
       "36735"
      ]
     },
     "execution_count": 120,
     "metadata": {},
     "output_type": "execute_result"
    }
   ],
   "source": [
    "sum([findSmudge(patch) for patch in puzzlePatches])"
   ]
  },
  {
   "cell_type": "code",
   "execution_count": null,
   "id": "01d7f538-4df0-4d45-aa69-01ebe2bf45e1",
   "metadata": {},
   "outputs": [],
   "source": []
  }
 ],
 "metadata": {
  "kernelspec": {
   "display_name": "Python 3 (ipykernel)",
   "language": "python",
   "name": "python3"
  },
  "language_info": {
   "codemirror_mode": {
    "name": "ipython",
    "version": 3
   },
   "file_extension": ".py",
   "mimetype": "text/x-python",
   "name": "python",
   "nbconvert_exporter": "python",
   "pygments_lexer": "ipython3",
   "version": "3.11.5"
  }
 },
 "nbformat": 4,
 "nbformat_minor": 5
}
