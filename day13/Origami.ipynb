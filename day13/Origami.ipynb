{
 "cells": [
  {
   "cell_type": "markdown",
   "id": "dc712d62-f818-4426-9df7-24b900d7677c",
   "metadata": {},
   "source": [
    "## Load Data"
   ]
  },
  {
   "cell_type": "code",
   "execution_count": 1,
   "id": "18c5f086-fea4-4274-8817-87b53e8391a0",
   "metadata": {},
   "outputs": [
    {
     "data": {
      "text/plain": [
       "parseData (generic function with 1 method)"
      ]
     },
     "execution_count": 1,
     "metadata": {},
     "output_type": "execute_result"
    }
   ],
   "source": [
    "function parseData(filename)\n",
    "    rawData = readlines(filename)\n",
    "    splitRaw=findfirst(x->occursin(\"fold\",x),rawData)\n",
    "    \n",
    "    points = parse.(Int,hcat(split.(rawData[1:splitRaw-2],\",\")...))\n",
    "    \n",
    "    nfolds = length(rawData)-splitRaw+1\n",
    "    folds = Array{Int}(undef,nfolds,2);\n",
    "    for i in 1:nfolds\n",
    "        dummyString = split(rawData[splitRaw+i-1])[end]\n",
    "        foldInstruction = split(dummyString,\"=\")\n",
    "        if foldInstruction[1] == \"x\"\n",
    "            folds[i,:] = [0,parse(Int,foldInstruction[2])]\n",
    "        else\n",
    "            folds[i,:] = [1,parse(Int,foldInstruction[2])]\n",
    "        end\n",
    "    end\n",
    "    return(points,folds)\n",
    "end"
   ]
  },
  {
   "cell_type": "code",
   "execution_count": 2,
   "id": "b5acdca5-994c-42d1-8c7c-071d2a519c2e",
   "metadata": {},
   "outputs": [
    {
     "data": {
      "text/plain": [
       "([309 32 … 954 960; 320 761 … 841 278], [0 655; 1 447; … ; 1 13; 1 6])"
      ]
     },
     "execution_count": 2,
     "metadata": {},
     "output_type": "execute_result"
    }
   ],
   "source": [
    "points,folds = parseData(\"dottedPaper.txt\")"
   ]
  },
  {
   "cell_type": "code",
   "execution_count": 3,
   "id": "ed742658-8d6e-4f96-8440-2cabad39a336",
   "metadata": {},
   "outputs": [
    {
     "data": {
      "text/plain": [
       "([6 0 … 8 9; 10 14 … 10 0], [1 7; 0 5])"
      ]
     },
     "execution_count": 3,
     "metadata": {},
     "output_type": "execute_result"
    }
   ],
   "source": [
    "pointsTest,foldsTest = parseData(\"dottedPaperTest.txt\")"
   ]
  },
  {
   "cell_type": "markdown",
   "id": "63a9c30f-18ff-4ed0-9e42-5eefc3411baf",
   "metadata": {},
   "source": [
    "## Part 1"
   ]
  },
  {
   "cell_type": "code",
   "execution_count": 4,
   "id": "675cfbff-606d-4686-b57e-b1112030dfd4",
   "metadata": {},
   "outputs": [
    {
     "data": {
      "text/plain": [
       "(10, 14)"
      ]
     },
     "execution_count": 4,
     "metadata": {},
     "output_type": "execute_result"
    }
   ],
   "source": [
    "maximum(pointsTest[1,:]),maximum(pointsTest[2,:])"
   ]
  },
  {
   "cell_type": "code",
   "execution_count": 5,
   "id": "c84ae020-b887-4d03-9e76-1406d4ee091d",
   "metadata": {
    "tags": []
   },
   "outputs": [
    {
     "data": {
      "text/plain": [
       "2×2 Array{Int64,2}:\n",
       " 1  7\n",
       " 0  5"
      ]
     },
     "execution_count": 5,
     "metadata": {},
     "output_type": "execute_result"
    }
   ],
   "source": [
    "foldsTest"
   ]
  },
  {
   "cell_type": "code",
   "execution_count": 38,
   "id": "3f5481e6-78b3-46f7-80c8-c40b0c21d550",
   "metadata": {},
   "outputs": [
    {
     "data": {
      "text/plain": [
       "foldOrigamiOnce (generic function with 1 method)"
      ]
     },
     "execution_count": 38,
     "metadata": {},
     "output_type": "execute_result"
    }
   ],
   "source": [
    "function createSheet(points,folds)\n",
    "    nx = folds[findfirst(x->x==0,folds[:,1]),2]*2+1\n",
    "    ny = folds[findfirst(x->x==1,folds[:,1]),2]*2+1\n",
    "    \n",
    "    sheet = zeros(Int,ny,nx)\n",
    "    npoints = size(points)[2]\n",
    "    for i in 1:npoints\n",
    "        #assign points as ones, taking shift from 0 to 1 based indexing into account\n",
    "        sheet[points[2,i]+1,points[1,i]+1] = 1\n",
    "    end\n",
    "    return sheet\n",
    "end\n",
    "\n",
    "function foldOrigamiOnce(sheet_init,fold)\n",
    "    #fold left\n",
    "    sheet = copy(sheet_init)\n",
    "    ny,nx = size(sheet)\n",
    "    if fold[1] == 0\n",
    "        for i in 1:fold[2],j in 1:ny\n",
    "            if sheet[j,nx-(i-1)] == 1\n",
    "                sheet[j,i] = 1\n",
    "            end\n",
    "        end\n",
    "        return sheet[:,1:fold[2]]\n",
    "    #fold up    \n",
    "    else\n",
    "       for i in 1:fold[2],j in 1:nx\n",
    "            if sheet[ny-(i-1),j] == 1\n",
    "                sheet[i,j] = 1\n",
    "            end\n",
    "        end\n",
    "        return sheet[1:fold[2],:] \n",
    "    end\n",
    "end"
   ]
  },
  {
   "cell_type": "code",
   "execution_count": 40,
   "id": "ec835e64-c218-424d-a278-d88298463857",
   "metadata": {},
   "outputs": [],
   "source": [
    "sheetTest = createSheet(pointsTest,foldsTest);"
   ]
  },
  {
   "cell_type": "code",
   "execution_count": 41,
   "id": "4316b020-d2a8-4e64-9041-1d371ed1a131",
   "metadata": {},
   "outputs": [
    {
     "data": {
      "text/plain": [
       "7×11 Array{Int64,2}:\n",
       " 1  0  1  1  0  0  1  0  0  1  0\n",
       " 1  0  0  0  1  0  0  0  0  0  0\n",
       " 0  0  0  0  0  0  1  0  0  0  1\n",
       " 1  0  0  0  1  0  0  0  0  0  0\n",
       " 0  1  0  1  0  0  1  0  1  1  1\n",
       " 0  0  0  0  0  0  0  0  0  0  0\n",
       " 0  0  0  0  0  0  0  0  0  0  0"
      ]
     },
     "execution_count": 41,
     "metadata": {},
     "output_type": "execute_result"
    }
   ],
   "source": [
    "foldOnetest = foldOrigamiOnce(sheetTest,foldsTest[1,:])"
   ]
  },
  {
   "cell_type": "code",
   "execution_count": 42,
   "id": "ab6dd475-3390-427f-a0a4-51495471796f",
   "metadata": {},
   "outputs": [
    {
     "data": {
      "text/plain": [
       "18"
      ]
     },
     "execution_count": 42,
     "metadata": {},
     "output_type": "execute_result"
    }
   ],
   "source": [
    "sum(sheetTest)"
   ]
  },
  {
   "cell_type": "code",
   "execution_count": 43,
   "id": "afa17477-a97b-4abc-b09f-201baec9c62e",
   "metadata": {},
   "outputs": [
    {
     "data": {
      "text/plain": [
       "17"
      ]
     },
     "execution_count": 43,
     "metadata": {},
     "output_type": "execute_result"
    }
   ],
   "source": [
    "sum(foldOnetest)"
   ]
  },
  {
   "cell_type": "code",
   "execution_count": 11,
   "id": "e13838bb-938c-4189-919b-4c864015b11d",
   "metadata": {},
   "outputs": [
    {
     "data": {
      "text/plain": [
       "7×5 Array{Int64,2}:\n",
       " 1  1  1  1  1\n",
       " 1  0  0  0  1\n",
       " 1  0  0  0  1\n",
       " 1  0  0  0  1\n",
       " 1  1  1  1  1\n",
       " 0  0  0  0  0\n",
       " 0  0  0  0  0"
      ]
     },
     "execution_count": 11,
     "metadata": {},
     "output_type": "execute_result"
    }
   ],
   "source": [
    "foldOnetest = foldOrigamiOnce(foldOnetest,foldsTest[2,:])"
   ]
  },
  {
   "cell_type": "code",
   "execution_count": 44,
   "id": "b2626473-bf18-40a8-ac49-b32be68de9ff",
   "metadata": {},
   "outputs": [],
   "source": [
    "sheet = createSheet(points,folds)\n",
    "foldOne = foldOrigamiOnce(sheet,folds[1,:]);"
   ]
  },
  {
   "cell_type": "code",
   "execution_count": 45,
   "id": "8e21d097-00b1-47f2-af50-369c3a2806d2",
   "metadata": {},
   "outputs": [
    {
     "data": {
      "text/plain": [
       "(895, 1311)"
      ]
     },
     "execution_count": 45,
     "metadata": {},
     "output_type": "execute_result"
    }
   ],
   "source": [
    "size(sheet)"
   ]
  },
  {
   "cell_type": "code",
   "execution_count": 46,
   "id": "d2fa962f-da7e-4313-8678-dabf19549125",
   "metadata": {},
   "outputs": [
    {
     "data": {
      "text/plain": [
       "802"
      ]
     },
     "execution_count": 46,
     "metadata": {},
     "output_type": "execute_result"
    }
   ],
   "source": [
    "sum(sheet)"
   ]
  },
  {
   "cell_type": "code",
   "execution_count": 47,
   "id": "17e511d2-540c-4059-8636-2952a1e4f90a",
   "metadata": {},
   "outputs": [
    {
     "data": {
      "text/plain": [
       "669"
      ]
     },
     "execution_count": 47,
     "metadata": {},
     "output_type": "execute_result"
    }
   ],
   "source": [
    "sum(foldOne)"
   ]
  },
  {
   "cell_type": "markdown",
   "id": "eeb585de-d437-4ee1-81bf-1f97c8e32e6a",
   "metadata": {},
   "source": [
    "## Part 2"
   ]
  },
  {
   "cell_type": "code",
   "execution_count": 70,
   "id": "cf0560a5-2795-4901-a584-50e06f628d2a",
   "metadata": {},
   "outputs": [
    {
     "data": {
      "text/plain": [
       "prettyPrintOrigami (generic function with 1 method)"
      ]
     },
     "execution_count": 70,
     "metadata": {},
     "output_type": "execute_result"
    }
   ],
   "source": [
    "function foldOrigami(sheet,folds)\n",
    "    nfolds = size(folds)[1]\n",
    "    newSheet = copy(sheet)\n",
    "    for i in 1:nfolds\n",
    "        newSheet = foldOrigamiOnce(newSheet,folds[i,:])\n",
    "    end\n",
    "    return newSheet\n",
    "end\n",
    "\n",
    "function prettyPrintOrigami(sheet)\n",
    "    ni,nj = size(sheet)\n",
    "    for i in 1:ni\n",
    "        for j in 1:nj\n",
    "            if sheet[i,j] == 1\n",
    "                print(\"x\")\n",
    "            else\n",
    "                print(\" \")\n",
    "            end\n",
    "        end\n",
    "        print(\"\\n\")\n",
    "    end\n",
    "end"
   ]
  },
  {
   "cell_type": "code",
   "execution_count": 71,
   "id": "a0317d20-dc4d-46e8-81a1-cb9ef8e13ec1",
   "metadata": {},
   "outputs": [
    {
     "data": {
      "text/plain": [
       "7×5 Array{Int64,2}:\n",
       " 1  1  1  1  1\n",
       " 1  0  0  0  1\n",
       " 1  0  0  0  1\n",
       " 1  0  0  0  1\n",
       " 1  1  1  1  1\n",
       " 0  0  0  0  0\n",
       " 0  0  0  0  0"
      ]
     },
     "execution_count": 71,
     "metadata": {},
     "output_type": "execute_result"
    }
   ],
   "source": [
    "origamiTest = foldOrigami(sheetTest,foldsTest)"
   ]
  },
  {
   "cell_type": "code",
   "execution_count": 72,
   "id": "9277a678-639c-41d0-87d9-befe2de2b9cf",
   "metadata": {},
   "outputs": [
    {
     "name": "stdout",
     "output_type": "stream",
     "text": [
      "xxxxx\n",
      "x   x\n",
      "x   x\n",
      "x   x\n",
      "xxxxx\n",
      "     \n",
      "     \n"
     ]
    }
   ],
   "source": [
    "prettyPrintOrigami(origamiTest)"
   ]
  },
  {
   "cell_type": "code",
   "execution_count": 73,
   "id": "b1f8612c-726b-4bd0-b779-f68ac52e1e48",
   "metadata": {},
   "outputs": [],
   "source": [
    "origami = foldOrigami(sheet,folds);"
   ]
  },
  {
   "cell_type": "code",
   "execution_count": 74,
   "id": "380456af-d239-4c63-9804-d78eda098ced",
   "metadata": {},
   "outputs": [
    {
     "name": "stdout",
     "output_type": "stream",
     "text": [
      "x  x xxxx xxxx xxxx  xx  x  x  xx    xx \n",
      "x  x x    x       x x  x x  x x  x    x \n",
      "x  x xxx  xxx    x  x    x  x x       x \n",
      "x  x x    x     x   x    x  x x       x \n",
      "x  x x    x    x    x  x x  x x  x x  x \n",
      " xx  xxxx x    xxxx  xx   xx   xx   xx  \n"
     ]
    }
   ],
   "source": [
    "prettyPrintOrigami(origami)"
   ]
  },
  {
   "cell_type": "code",
   "execution_count": null,
   "id": "a9faf182-6213-42b7-b35e-08021567883e",
   "metadata": {},
   "outputs": [],
   "source": []
  }
 ],
 "metadata": {
  "kernelspec": {
   "display_name": "Julia 1.4.1",
   "language": "julia",
   "name": "julia-1.4"
  },
  "language_info": {
   "file_extension": ".jl",
   "mimetype": "application/julia",
   "name": "julia",
   "version": "1.4.1"
  }
 },
 "nbformat": 4,
 "nbformat_minor": 5
}
