{
 "cells": [
  {
   "cell_type": "markdown",
   "id": "d3052ed2-d708-4509-8596-d553554ec2a8",
   "metadata": {},
   "source": [
    "# Day 14: Parabolic Reflector Dish"
   ]
  },
  {
   "cell_type": "code",
   "execution_count": 2,
   "id": "62f8b97d-3546-4c6e-903c-836dbb977aed",
   "metadata": {
    "tags": []
   },
   "outputs": [],
   "source": [
    "def parseInput(filename):\n",
    "    grid = []\n",
    "    with open(filename) as f:\n",
    "        for line in f:\n",
    "            grid.append(list(line.strip()))\n",
    "            \n",
    "    return grid"
   ]
  },
  {
   "cell_type": "code",
   "execution_count": 3,
   "id": "713fc63b-f4a8-44b4-a5ff-fc2e285e1a23",
   "metadata": {
    "tags": []
   },
   "outputs": [],
   "source": [
    "#puzzleGrid=parseInput('../testInputs/day14.txt')\n",
    "puzzleGrid=parseInput('../inputs/day14.txt')"
   ]
  },
  {
   "cell_type": "markdown",
   "id": "dcd66892-f775-45fd-bf07-adbd3d4c6c14",
   "metadata": {},
   "source": [
    "## Part 1"
   ]
  },
  {
   "cell_type": "code",
   "execution_count": 4,
   "id": "18c637c6-e355-4528-859a-550399c9bdf2",
   "metadata": {
    "tags": []
   },
   "outputs": [],
   "source": [
    "def duplicateGrid(grid):\n",
    "    duplGrid = []\n",
    "    for i in range(len(grid)):\n",
    "        duplGrid.append([])\n",
    "        for j in range(len(grid[i])):\n",
    "            duplGrid[i].append(grid[i][j])\n",
    "    return duplGrid\n",
    "\n",
    "def tiltNorth(origGrid):\n",
    "    grid = duplicateGrid(origGrid)\n",
    "    \n",
    "    for i in range(1,len(grid)):\n",
    "        if len(grid[i]) != len(grid[0]):\n",
    "            raise ValueError('Grid not regular.')\n",
    "        \n",
    "        for j in range(len(grid[i])):\n",
    "            if grid[i][j] == 'O':\n",
    "                grid[i][j] = '.' #set original position to empty\n",
    "                for k in range(i-1,-1,-1):\n",
    "                    if k == 0 and grid[k][j] == '.':\n",
    "                        grid[k][j] = 'O'\n",
    "                    elif grid[k][j] != '.':\n",
    "                        grid[k+1][j] = 'O'\n",
    "                        break\n",
    "    \n",
    "    return grid\n",
    "\n",
    "def calculateLoad(grid):\n",
    "    totLoad = 0\n",
    "    lenI = len(grid)\n",
    "    for i in range(lenI):\n",
    "        for j in range(len(grid[i])):\n",
    "            if grid[i][j] == 'O':\n",
    "                totLoad += (lenI-i)\n",
    "    \n",
    "    return totLoad\n",
    "\n",
    "def getTotalLoad(origGrid):\n",
    "    #get tilted grid\n",
    "    grid = tiltNorth(origGrid)\n",
    "    \n",
    "    return calculateLoad(grid)\n",
    "    "
   ]
  },
  {
   "cell_type": "code",
   "execution_count": 5,
   "id": "55f8654d-7cbc-48d6-8654-de88ee0fe0d5",
   "metadata": {
    "tags": []
   },
   "outputs": [
    {
     "data": {
      "text/plain": [
       "108641"
      ]
     },
     "execution_count": 5,
     "metadata": {},
     "output_type": "execute_result"
    }
   ],
   "source": [
    "#print(*tiltNorth(puzzleGrid),sep='\\n')\n",
    "getTotalLoad(puzzleGrid)"
   ]
  },
  {
   "cell_type": "markdown",
   "id": "b80e1357-9fd5-4e79-91c8-b02939a40ed6",
   "metadata": {},
   "source": [
    "## Part 2"
   ]
  },
  {
   "cell_type": "markdown",
   "id": "2104c6af-8724-42b7-b266-c04af743bf33",
   "metadata": {
    "tags": []
   },
   "source": [
    "... welll... its pattern recognition day... again"
   ]
  },
  {
   "cell_type": "code",
   "execution_count": 6,
   "id": "6ecb5f36-fc90-4e65-abdd-f0e62340228f",
   "metadata": {},
   "outputs": [],
   "source": [
    "def rotateGrid(grid):\n",
    "    newGrid = []\n",
    "    deltai = len(grid)\n",
    "    \n",
    "    for j in range(len(grid[0])):\n",
    "        newGrid.append([])\n",
    "        for i in range(deltai-1,-1,-1):\n",
    "            newGrid[j].append(grid[i][j])\n",
    "    \n",
    "    return newGrid\n",
    "\n",
    "def compareGrids(gridA,gridB):\n",
    "    if len(gridA) != len(gridB) or len(gridA[0]) != len(gridB[0]):\n",
    "        raise ValueError('Grid dimensions do not match.')\n",
    "    \n",
    "    for i in range(len(gridA)):\n",
    "        for j in range(len(gridA[0])):\n",
    "            if gridA[i][j] != gridB[i][j]:\n",
    "                return False\n",
    "    \n",
    "    return True\n",
    "\n",
    "def getTotalLoadAfterCycles(origGrid,cycles):\n",
    "    \n",
    "    #only cache when rolling north\n",
    "    cache = []\n",
    "    cycleFound = False\n",
    "    \n",
    "    #cache initial state\n",
    "    \n",
    "    grid = duplicateGrid(origGrid)\n",
    "    #cache.append(origGrid)\n",
    "    \n",
    "    time = 0\n",
    "    cycleBeginTime = 0\n",
    "    cycleEndTime = 0\n",
    "    \n",
    "    while not (cycleFound or time>=cycles):\n",
    "        \n",
    "        #simulate one cycle\n",
    "        for i in range(4):\n",
    "            grid = tiltNorth(grid)  \n",
    "            grid = rotateGrid(grid)\n",
    "            \n",
    "        #check if current configuration has already been saved\n",
    "        for i in range(len(cache)):\n",
    "            if compareGrids(grid, cache[i]) and compareGrids(cache[-1], cache[i-1]) and compareGrids(cache[-2], cache[i-2]):\n",
    "                cycleFound = True\n",
    "                cycleBeginTime = i-2\n",
    "                cycleEndTime = len(cache)-2\n",
    "                break\n",
    "                \n",
    "        #cache result at cycle end\n",
    "        cache.append(grid)\n",
    "        time += 1\n",
    "        \n",
    "    #calculate at which point in the cycle the final step is\n",
    "    lenCycle = cycleEndTime - cycleBeginTime\n",
    "    \n",
    "    point = (cycles-cycleBeginTime)%lenCycle + cycleBeginTime-1\n",
    "    \n",
    "    return cycleBeginTime,cycleEndTime,lenCycle, point, calculateLoad(cache[point])"
   ]
  },
  {
   "cell_type": "code",
   "execution_count": 7,
   "id": "95c00000-53dc-4f98-afd6-7c5df770f912",
   "metadata": {
    "tags": []
   },
   "outputs": [
    {
     "data": {
      "text/plain": [
       "(162, 180, 18, 171, 84328)"
      ]
     },
     "execution_count": 7,
     "metadata": {},
     "output_type": "execute_result"
    }
   ],
   "source": [
    "getTotalLoadAfterCycles(puzzleGrid,1000000000)"
   ]
  }
 ],
 "metadata": {
  "kernelspec": {
   "display_name": "Python 3 (ipykernel)",
   "language": "python",
   "name": "python3"
  },
  "language_info": {
   "codemirror_mode": {
    "name": "ipython",
    "version": 3
   },
   "file_extension": ".py",
   "mimetype": "text/x-python",
   "name": "python",
   "nbconvert_exporter": "python",
   "pygments_lexer": "ipython3",
   "version": "3.11.5"
  }
 },
 "nbformat": 4,
 "nbformat_minor": 5
}
