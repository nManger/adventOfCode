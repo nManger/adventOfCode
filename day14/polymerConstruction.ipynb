{
 "cells": [
  {
   "cell_type": "markdown",
   "id": "b3cc5260-f71c-4f26-9f3b-b1d5d7e19144",
   "metadata": {},
   "source": [
    "## Load Data"
   ]
  },
  {
   "cell_type": "code",
   "execution_count": 1,
   "id": "dcf9da1d-6f11-4cc6-ba00-51e049da6085",
   "metadata": {},
   "outputs": [
    {
     "data": {
      "text/plain": [
       "loadData (generic function with 1 method)"
      ]
     },
     "execution_count": 1,
     "metadata": {},
     "output_type": "execute_result"
    }
   ],
   "source": [
    "function loadData(filename)\n",
    "    rawData = readlines(filename)\n",
    "    iniPolymer = split(rawData[1],\"\")\n",
    "    rules = Dict{String,String}()\n",
    "    for i in 3:length(rawData)\n",
    "        splitLine = split(rawData[i])\n",
    "        rules[splitLine[1]] = splitLine[3]\n",
    "    end\n",
    "    return iniPolymer,rules\n",
    "end"
   ]
  },
  {
   "cell_type": "code",
   "execution_count": 2,
   "id": "a2f8523f-bcba-4f9e-aa69-3ed24b339690",
   "metadata": {},
   "outputs": [
    {
     "data": {
      "text/plain": [
       "(SubString{String}[\"N\", \"N\", \"C\", \"B\"], Dict(\"HB\" => \"C\",\"CH\" => \"B\",\"BC\" => \"B\",\"HC\" => \"B\",\"NN\" => \"C\",\"HH\" => \"N\",\"BH\" => \"H\",\"CC\" => \"N\",\"NB\" => \"B\",\"BB\" => \"N\"…))"
      ]
     },
     "execution_count": 2,
     "metadata": {},
     "output_type": "execute_result"
    }
   ],
   "source": [
    "iniPolymerTest,rulesTest = loadData(\"insertionRulesTest.txt\")"
   ]
  },
  {
   "cell_type": "code",
   "execution_count": 3,
   "id": "63deeb9f-eaa3-440e-a492-ec0430ae30b9",
   "metadata": {},
   "outputs": [
    {
     "data": {
      "text/plain": [
       "(SubString{String}[\"P\", \"H\", \"V\", \"C\", \"V\", \"B\", \"F\", \"H\", \"C\", \"V\", \"P\", \"F\", \"K\", \"B\", \"N\", \"H\", \"K\", \"N\", \"B\", \"O\"], Dict(\"FN\" => \"V\",\"PO\" => \"V\",\"CC\" => \"N\",\"BC\" => \"B\",\"KF\" => \"B\",\"BV\" => \"N\",\"OP\" => \"O\",\"PF\" => \"V\",\"NB\" => \"F\",\"VN\" => \"S\"…))"
      ]
     },
     "execution_count": 3,
     "metadata": {},
     "output_type": "execute_result"
    }
   ],
   "source": [
    "iniPolymer,rules = loadData(\"insertionRules.txt\")"
   ]
  },
  {
   "cell_type": "markdown",
   "id": "047842ff-a5f5-46b4-963a-9121c537ea00",
   "metadata": {},
   "source": [
    "## Part 1"
   ]
  },
  {
   "cell_type": "code",
   "execution_count": 4,
   "id": "bc3c9ffb-c89c-4d66-952a-df63017ebd7a",
   "metadata": {},
   "outputs": [
    {
     "data": {
      "text/plain": [
       "analyzePolymer (generic function with 1 method)"
      ]
     },
     "execution_count": 4,
     "metadata": {},
     "output_type": "execute_result"
    }
   ],
   "source": [
    "function insertElements(origPolymer,rules)\n",
    "    lenOrigPolymer = length(origPolymer)\n",
    "    newPolymer = Array{String}(undef,0)\n",
    "    for i in 1:lenOrigPolymer-1\n",
    "        push!(newPolymer,origPolymer[i])\n",
    "        if join(origPolymer[i:i+1]) in keys(rules)\n",
    "            push!(newPolymer,rules[join(origPolymer[i:i+1])])\n",
    "        end\n",
    "    end\n",
    "    push!(newPolymer,origPolymer[end])\n",
    "    return newPolymer\n",
    "end\n",
    "\n",
    "function buildPolymer(origPolymer,rules,niter)\n",
    "    polymer = origPolymer\n",
    "    for i in 1:niter\n",
    "        polymer = insertElements(polymer,rules)\n",
    "    end\n",
    "    return polymer\n",
    "end\n",
    "\n",
    "function analyzePolymer(polymer)\n",
    "    uniqueElements = Set(polymer)\n",
    "    numElements = zeros(Int,length(uniqueElements))\n",
    "    i = 0\n",
    "    for c in uniqueElements\n",
    "        i+=1\n",
    "        numElements[i] = count(x ->x == c,polymer) \n",
    "    end\n",
    "    return sort(numElements)\n",
    "end"
   ]
  },
  {
   "cell_type": "code",
   "execution_count": 5,
   "id": "5208442d-2ea2-407e-9cb9-1753fd3b8b4a",
   "metadata": {},
   "outputs": [],
   "source": [
    "finPolymerTest = buildPolymer(iniPolymerTest,rulesTest,10);"
   ]
  },
  {
   "cell_type": "code",
   "execution_count": 6,
   "id": "fb15bf0e-8e8a-473f-9430-a1cb8748fdd1",
   "metadata": {},
   "outputs": [
    {
     "data": {
      "text/plain": [
       "1588"
      ]
     },
     "execution_count": 6,
     "metadata": {},
     "output_type": "execute_result"
    }
   ],
   "source": [
    "nElements = analyzePolymer(finPolymerTest)\n",
    "nElements[end]-nElements[1]"
   ]
  },
  {
   "cell_type": "code",
   "execution_count": 7,
   "id": "3411968a-488c-4d26-8705-1a8ca29effdf",
   "metadata": {},
   "outputs": [
    {
     "data": {
      "text/plain": [
       "3555"
      ]
     },
     "execution_count": 7,
     "metadata": {},
     "output_type": "execute_result"
    }
   ],
   "source": [
    "finPolymer = buildPolymer(iniPolymer,rules,10);\n",
    "nElements = analyzePolymer(finPolymer)\n",
    "nElements[end]-nElements[1]"
   ]
  },
  {
   "cell_type": "markdown",
   "id": "633e7060-6411-4dfe-aedc-ffa4d2f9901a",
   "metadata": {},
   "source": [
    "## Part 2"
   ]
  },
  {
   "cell_type": "code",
   "execution_count": 42,
   "id": "9d878570-e855-4d67-8a5a-41245b8ddc54",
   "metadata": {
    "tags": []
   },
   "outputs": [
    {
     "data": {
      "text/plain": [
       "analyzePolymerNew (generic function with 1 method)"
      ]
     },
     "execution_count": 42,
     "metadata": {},
     "output_type": "execute_result"
    }
   ],
   "source": [
    "function updatePolymerCount(polymerPieces::Dict{String,Int},rules::Dict{String,String})\n",
    "    newPolymerPieces = Dict(key=>0 for key in keys(polymerPieces))\n",
    "    for (piece,n) in polymerPieces\n",
    "        if n>0\n",
    "            newPolymerPieces[string(piece[1],rules[piece])] += n\n",
    "            newPolymerPieces[string(rules[piece],piece[2])] += n\n",
    "        end\n",
    "    end\n",
    "    return newPolymerPieces\n",
    "end\n",
    "\n",
    "function initPolymerCount(origPolymer::String,rules::Dict{String,String})\n",
    "    polymerPieces = Dict(key=>0 for key in keys(rules))\n",
    "    lenPolymer = length(origPolymer)\n",
    "    for i in 1:lenPolymer-1\n",
    "        polymerPieces[join(origPolymer[i:i+1])] += 1\n",
    "    end\n",
    "    return polymerPieces   \n",
    "end\n",
    "\n",
    "function constructPolymer(origPolymer::String,rules::Dict{String,String},niter::Int)\n",
    "    polymer = initPolymerCount(origPolymer,rules)\n",
    "    for i in 1:niter\n",
    "        polymer = updatePolymerCount(polymer,rules)\n",
    "    end\n",
    "    return polymer\n",
    "end\n",
    "\n",
    "function analyzePolymerNew(polymer,lastElement)\n",
    "    uniqueElements = Set(join(keys(polymer)))\n",
    "    elementCount = Dict(x => 0 for x in uniqueElements)\n",
    "    println(uniqueElements)\n",
    "    elementCount[lastElement[1]] +=1 \n",
    "    for (key,n) in polymer\n",
    "        elementCount[key[1]] += n\n",
    "    end\n",
    "    \n",
    "    nelements = Array{Int}(undef,length(uniqueElements))\n",
    "    i = 1\n",
    "    for (key,n) in elementCount\n",
    "        nelements[i] = n\n",
    "        i+=1\n",
    "    end\n",
    "    sort!(nelements)\n",
    "    return elementCount,(nelements[end]-nelements[1])\n",
    "end"
   ]
  },
  {
   "cell_type": "code",
   "execution_count": 43,
   "id": "e753cf48-7951-409d-91d7-f1a010fc841c",
   "metadata": {},
   "outputs": [
    {
     "name": "stdout",
     "output_type": "stream",
     "text": [
      "Set(['H', 'B', 'C', 'N'])\n"
     ]
    },
    {
     "data": {
      "text/plain": [
       "(Dict('C' => 6597635301,'H' => 3849876073,'N' => 1096047802353,'B' => 2192039569602), 2188189693529)"
      ]
     },
     "execution_count": 43,
     "metadata": {},
     "output_type": "execute_result"
    }
   ],
   "source": [
    "finPolymerTest = constructPolymer(join(iniPolymerTest),rulesTest,40)\n",
    "nElements = analyzePolymerNew(finPolymerTest,iniPolymerTest[end])"
   ]
  },
  {
   "cell_type": "code",
   "execution_count": 44,
   "id": "20a93ea2-273e-48be-9912-ec3ab021af8d",
   "metadata": {},
   "outputs": [
    {
     "name": "stdout",
     "output_type": "stream",
     "text": [
      "Set(['B', 'P', 'K', 'H', 'V', 'O', 'C', 'F', 'N', 'S'])\n"
     ]
    },
    {
     "data": {
      "text/plain": [
       "(Dict('P' => 3178628005225,'K' => 927295863022,'C' => 755642661164,'F' => 2014715170153,'N' => 1322198384438,'H' => 1378718959755,'V' => 2501671713686,'S' => 1866024773848,'O' => 5195084704903,'B' => 1750740691551…), 4439442043739)"
      ]
     },
     "execution_count": 44,
     "metadata": {},
     "output_type": "execute_result"
    }
   ],
   "source": [
    "finPolymer = constructPolymer(join(iniPolymer),rules,40)\n",
    "nElements = analyzePolymerNew(finPolymer,iniPolymer[end])"
   ]
  },
  {
   "cell_type": "code",
   "execution_count": null,
   "id": "7cb621df-fc48-4a20-b55f-3c745be12eb1",
   "metadata": {},
   "outputs": [],
   "source": []
  }
 ],
 "metadata": {
  "kernelspec": {
   "display_name": "Julia 1.4.1",
   "language": "julia",
   "name": "julia-1.4"
  },
  "language_info": {
   "file_extension": ".jl",
   "mimetype": "application/julia",
   "name": "julia",
   "version": "1.4.1"
  }
 },
 "nbformat": 4,
 "nbformat_minor": 5
}
