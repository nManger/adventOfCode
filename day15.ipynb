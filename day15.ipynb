{
 "cells": [
  {
   "cell_type": "markdown",
   "id": "f9581849-11c5-4498-8f49-84492e8da779",
   "metadata": {},
   "source": [
    "# Day 15: Lens Library"
   ]
  },
  {
   "cell_type": "code",
   "execution_count": 4,
   "id": "bb7d12e8-dabb-4c19-9a2a-0a6d64385afa",
   "metadata": {
    "tags": []
   },
   "outputs": [],
   "source": [
    "def parseInput(filename):\n",
    "    text = ''\n",
    "    with open(filename) as f:\n",
    "        text = f.read().strip()\n",
    "    return text"
   ]
  },
  {
   "cell_type": "code",
   "execution_count": 5,
   "id": "ce6c0150-be7c-47b2-b12f-69a80391eadb",
   "metadata": {
    "tags": []
   },
   "outputs": [],
   "source": [
    "initStringTest1 = 'HASH'\n",
    "initStringTest2 = 'rn=1,cm-,qp=3,cm=2,qp-,pc=4,ot=9,ab=5,pc-,pc=6,ot=7'\n",
    "initString = parseInput('../inputs/day15.txt')"
   ]
  },
  {
   "cell_type": "markdown",
   "id": "7c676102-f788-4834-8f68-814dbb1786dc",
   "metadata": {},
   "source": [
    "## Part 1"
   ]
  },
  {
   "cell_type": "code",
   "execution_count": 20,
   "id": "72267ce1-478c-404e-8764-4324af94527f",
   "metadata": {
    "tags": []
   },
   "outputs": [],
   "source": [
    "def getHash(label):\n",
    "    currSum = 0\n",
    "    for char in label:\n",
    "        currSum = ((currSum + ord(char))*17)%256\n",
    "    return currSum\n",
    "    \n",
    "def processSequence(sequence):\n",
    "    verificationNumber = 0\n",
    "    for item in sequence.split(','):\n",
    "        verificationNumber += getHash(item)\n",
    "    \n",
    "    return verificationNumber"
   ]
  },
  {
   "cell_type": "code",
   "execution_count": 21,
   "id": "9a75e485-8e99-4876-946b-458b349b3c02",
   "metadata": {
    "tags": []
   },
   "outputs": [
    {
     "name": "stdout",
     "output_type": "stream",
     "text": [
      "52\n",
      "1320\n",
      "511343\n"
     ]
    }
   ],
   "source": [
    "print(processSequence(initStringTest1))\n",
    "print(processSequence(initStringTest2))\n",
    "print(processSequence(initString))"
   ]
  },
  {
   "cell_type": "markdown",
   "id": "d1dd8534-d715-46f7-9afb-88ece761f92a",
   "metadata": {},
   "source": [
    "## Part 2"
   ]
  },
  {
   "cell_type": "code",
   "execution_count": 87,
   "id": "7e0302a8-ee69-4177-9809-17a8aebc8f1f",
   "metadata": {
    "tags": []
   },
   "outputs": [],
   "source": [
    "def arrangeLenses(initSequence):\n",
    "    boxes = [[] for i in range(256)]\n",
    "    \n",
    "    #loop over all initialization statements\n",
    "    for item in initSequence.split(','):\n",
    "        #operation is '-': opeartion character '-' is always the last character\n",
    "        if (item[-1] == '-'):\n",
    "            boxNo = getHash(item[:-1])\n",
    "            lens = list(filter(lambda x: x[0] == item[:-1], boxes[boxNo]))\n",
    "            if lens:\n",
    "                boxes[boxNo].remove(*lens)\n",
    "            \n",
    "        #operation is '='\n",
    "        else:\n",
    "            label,lensStrength = item.split('=')\n",
    "            boxNo = getHash(label)\n",
    "            lens = list(filter(lambda x: x[0] == label, boxes[boxNo]))\n",
    "            #if lens already exists, change focal length\n",
    "            if lens:\n",
    "                i = boxes[boxNo].index(*lens)\n",
    "                boxes[boxNo][i] = (label,int(lensStrength))\n",
    "            else:\n",
    "                dummy = boxes[boxNo].append((label,int(lensStrength)))\n",
    "    \n",
    "    return boxes\n",
    "\n",
    "def getTotalFocussingPower(initSequence):\n",
    "    \n",
    "    boxes = arrangeLenses(initSequence)\n",
    "    totalPower = 0\n",
    "    \n",
    "    for i in range(256):\n",
    "        for j,lens in enumerate(boxes[i]):\n",
    "            totalPower += (i+1)*(j+1)*lens[1]\n",
    "    return totalPower"
   ]
  },
  {
   "cell_type": "code",
   "execution_count": 90,
   "id": "baa26f54-85ba-4f1e-99ea-3733fac5a584",
   "metadata": {
    "tags": []
   },
   "outputs": [
    {
     "data": {
      "text/plain": [
       "294474"
      ]
     },
     "execution_count": 90,
     "metadata": {},
     "output_type": "execute_result"
    }
   ],
   "source": [
    "getTotalFocussingPower(initString)"
   ]
  },
  {
   "cell_type": "code",
   "execution_count": null,
   "id": "477d085e-04f7-4a5a-91b9-c6be415aad55",
   "metadata": {},
   "outputs": [],
   "source": []
  }
 ],
 "metadata": {
  "kernelspec": {
   "display_name": "Python 3 (ipykernel)",
   "language": "python",
   "name": "python3"
  },
  "language_info": {
   "codemirror_mode": {
    "name": "ipython",
    "version": 3
   },
   "file_extension": ".py",
   "mimetype": "text/x-python",
   "name": "python",
   "nbconvert_exporter": "python",
   "pygments_lexer": "ipython3",
   "version": "3.11.5"
  }
 },
 "nbformat": 4,
 "nbformat_minor": 5
}
