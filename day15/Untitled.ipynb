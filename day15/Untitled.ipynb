{
 "cells": [
  {
   "cell_type": "markdown",
   "id": "6bca05b9-c252-4e69-9e1b-4f41efc3e471",
   "metadata": {},
   "source": [
    "## Load data"
   ]
  },
  {
   "cell_type": "code",
   "execution_count": 2,
   "id": "cef57dcd-2a1c-4269-83b1-c10370b785fd",
   "metadata": {},
   "outputs": [],
   "source": [
    "rawData = readlines(\"caveMap.txt\");"
   ]
  },
  {
   "cell_type": "code",
   "execution_count": 8,
   "id": "b12ef49f-d046-4c1f-b84f-bb9ef142ca2f",
   "metadata": {
    "tags": []
   },
   "outputs": [],
   "source": [
    "caveMap = transpose(parse.(Int,hcat(split.(rawData,\"\")...)));"
   ]
  },
  {
   "cell_type": "code",
   "execution_count": 92,
   "id": "f70e9bbb-2591-4770-862a-263af066fdb2",
   "metadata": {},
   "outputs": [],
   "source": [
    "caveMapTest = [1 1 6 3 7 5 1 7 4 2;\n",
    "1 3 8 1 3 7 3 6 7 2;\n",
    "2 1 3 6 5 1 1 3 2 8;\n",
    "3 6 9 4 9 3 1 5 6 9;\n",
    "7 4 6 3 4 1 7 1 1 1;\n",
    "1 3 1 9 1 2 8 1 3 7;\n",
    "1 3 5 9 9 1 2 4 2 1;\n",
    "3 1 2 5 4 2 1 6 3 9;\n",
    "1 2 9 3 1 3 8 5 2 1;\n",
    "2 3 1 1 9 4 4 5 8 1];"
   ]
  },
  {
   "cell_type": "markdown",
   "id": "eeedaa33-2ece-4362-b83c-73b4f9625eb5",
   "metadata": {},
   "source": [
    "## Part 1"
   ]
  },
  {
   "cell_type": "code",
   "execution_count": 123,
   "id": "f2c1f149-b3fd-49e6-b73f-6730c646f4c9",
   "metadata": {},
   "outputs": [
    {
     "data": {
      "text/plain": [
       "dijkstra_algorithm (generic function with 1 method)"
      ]
     },
     "execution_count": 123,
     "metadata": {},
     "output_type": "execute_result"
    }
   ],
   "source": [
    "function min_distance(cost,visited)\n",
    "    min = Inf\n",
    "    minIndx = nothing\n",
    "    for i in CartesianIndices(cost)\n",
    "        if !(visited[i]) && (cost[i]<=min)\n",
    "            min = cost[i]\n",
    "            minIndx = i\n",
    "        end\n",
    "    end\n",
    "    return minIndx\n",
    "end\n",
    "\n",
    "function dijkstra_algorithm(caveMap)\n",
    "    \n",
    "    visited = falses(size(caveMap))\n",
    "    cost = fill(Inf,size(caveMap))\n",
    "    cost[1,1] = 0.0\n",
    "    \n",
    "    for i in eachindex(caveMap)\n",
    "        indx = min_distance(cost,visited)\n",
    "        \n",
    "        if Tuple(indx) == size(caveMap)\n",
    "            break\n",
    "        end\n",
    "        \n",
    "        visited[indx] = true\n",
    "        \n",
    "        #find neighboring indices\n",
    "        neighboringIndices = [(indx[1]-1,indx[2]),(indx[1],indx[2]-1),(indx[1]+1,indx[2]),(indx[1],indx[2]+1)]\n",
    "        #update costs\n",
    "        for newindx in neighboringIndices\n",
    "            #print(newindx)\n",
    "            #skip index if index not valid or already visited\n",
    "            if any(newindx .<1) || any(newindx.>size(caveMap)) || visited[CartesianIndex(newindx)]\n",
    "                continue\n",
    "            end\n",
    "            newindx = CartesianIndex(newindx)\n",
    "            if cost[newindx] > cost[indx]+ caveMap[newindx]\n",
    "                cost[newindx] = cost[indx]+ caveMap[newindx]\n",
    "            end\n",
    "        end     \n",
    "            \n",
    "    end\n",
    "    \n",
    "    return cost\n",
    "end      "
   ]
  },
  {
   "cell_type": "code",
   "execution_count": 78,
   "id": "4150f74c-2bf4-4bcb-8d28-62f273502ace",
   "metadata": {},
   "outputs": [
    {
     "data": {
      "text/plain": [
       "40.0"
      ]
     },
     "execution_count": 78,
     "metadata": {},
     "output_type": "execute_result"
    }
   ],
   "source": [
    "costMapTest = dijkstra_algorithm(caveMapTest);\n",
    "costMapTest[end]"
   ]
  },
  {
   "cell_type": "code",
   "execution_count": 124,
   "id": "38ee29f4-e12a-4ca8-8150-8453b646c104",
   "metadata": {},
   "outputs": [
    {
     "data": {
      "text/plain": [
       "581.0"
      ]
     },
     "execution_count": 124,
     "metadata": {},
     "output_type": "execute_result"
    }
   ],
   "source": [
    "costMap = dijkstra_algorithm(caveMap);\n",
    "costMap[end]"
   ]
  },
  {
   "cell_type": "markdown",
   "id": "0521bf30-fde7-4da0-b729-8f1c9274c631",
   "metadata": {},
   "source": [
    "## Part 2"
   ]
  },
  {
   "cell_type": "code",
   "execution_count": 115,
   "id": "017bdf56-acc0-4262-846a-e83b4f21fed0",
   "metadata": {},
   "outputs": [
    {
     "data": {
      "text/plain": [
       "extendMap (generic function with 1 method)"
      ]
     },
     "execution_count": 115,
     "metadata": {},
     "output_type": "execute_result"
    }
   ],
   "source": [
    "function extendMap(caveMap)\n",
    "    mapSize = size(caveMap)\n",
    "    extendedMap = Array{Int}(undef,mapSize[1]*5,mapSize[2]*5)\n",
    "    \n",
    "    for m in 0:4, n in 0:4\n",
    "        shiftFactor = m+n\n",
    "        for i in 1:mapSize[1],j in 1:mapSize[2]\n",
    "            if caveMap[i,j]+shiftFactor > 9\n",
    "                extendedMap[i+m*mapSize[1],j+n*mapSize[2]] = mod(caveMap[i,j]+shiftFactor,10)+1\n",
    "            else\n",
    "                extendedMap[i+m*mapSize[1],j+n*mapSize[2]] = caveMap[i,j]+shiftFactor\n",
    "            end\n",
    "        end\n",
    "    end\n",
    "    return extendedMap\n",
    "end"
   ]
  },
  {
   "cell_type": "code",
   "execution_count": 81,
   "id": "2c090dec-57cf-45ff-b72b-fc7c6e5d0060",
   "metadata": {},
   "outputs": [
    {
     "data": {
      "text/plain": [
       "500"
      ]
     },
     "execution_count": 81,
     "metadata": {},
     "output_type": "execute_result"
    }
   ],
   "source": [
    "size(caveMap)[1]*5"
   ]
  },
  {
   "cell_type": "code",
   "execution_count": 117,
   "id": "613074ca-8dc8-4a74-bd7c-f0df8d366221",
   "metadata": {},
   "outputs": [],
   "source": [
    "extendCaveMapTest = extendMap(caveMapTest);\n",
    "extendCaveMap = extendMap(caveMap);"
   ]
  },
  {
   "cell_type": "code",
   "execution_count": 118,
   "id": "9ec54add-54a6-4f2e-84af-c0c041183af6",
   "metadata": {},
   "outputs": [
    {
     "data": {
      "text/plain": [
       "50×50 Array{Int64,2}:\n",
       " 1  1  6  3  7  5  1  7  4  2  2  2  7  …  7  5  5  5  1  7  2  9  5  2  8  6\n",
       " 1  3  8  1  3  7  3  6  7  2  2  4  9     1  5  5  7  3  5  7  2  7  1  2  6\n",
       " 2  1  3  6  5  1  1  3  2  8  3  2  4     5  2  6  5  7  1  9  5  5  7  6  3\n",
       " 3  6  9  4  9  3  1  5  6  9  4  7  1     9  3  7  1  4  8  4  7  5  9  1  4\n",
       " 7  4  6  3  4  1  7  1  1  1  8  5  7     4  4  2  8  1  7  8  5  2  5  5  5\n",
       " 1  3  1  9  1  2  8  1  3  7  2  4  2  …  6  1  5  7  5  4  5  6  3  5  7  2\n",
       " 1  3  5  9  9  1  2  4  2  1  2  4  6     5  4  5  7  9  4  4  5  6  8  6  5\n",
       " 3  1  2  5  4  2  1  6  3  9  4  2  3     6  3  7  5  6  9  8  6  5  1  7  4\n",
       " 1  2  9  3  1  3  8  5  2  1  2  3  1     5  4  5  6  4  7  5  7  3  9  6  5\n",
       " 2  3  1  1  9  4  4  5  8  1  3  4  2     2  4  6  7  5  5  4  8  8  9  3  5\n",
       " 2  2  7  4  8  6  2  8  5  3  3  3  8  …  8  6  6  6  2  8  3  1  6  3  9  7\n",
       " 2  4  9  2  4  8  4  7  8  3  3  5  1     2  6  6  8  4  6  8  3  8  2  3  7\n",
       " 3  2  4  7  6  2  2  4  3  9  4  3  5     6  3  7  6  8  2  1  6  6  8  7  4\n",
       " ⋮              ⋮              ⋮        ⋱        ⋮              ⋮           \n",
       " 4  5  3  6  4  6  2  8  5  4  5  6  4     8  7  8  9  7  1  8  1  6  3  9  8\n",
       " 5  6  4  4  3  7  7  8  2  4  6  7  5     5  7  9  1  8  8  7  2  2  3  6  8\n",
       " 5  5  1  7  2  9  5  2  8  6  6  6  2  …  2  9  9  9  5  2  6  4  9  6  3  1\n",
       " 5  7  3  5  7  2  7  1  2  6  6  8  4     5  9  9  2  7  9  2  6  2  5  6  1\n",
       " 6  5  7  1  9  5  5  7  6  3  7  6  8     9  6  1  9  2  5  4  9  9  2  1  7\n",
       " 7  1  4  8  4  7  5  9  1  4  8  2  5     4  7  2  5  8  3  8  2  9  4  5  8\n",
       " 2  8  1  7  8  5  2  5  5  5  3  9  2     8  8  6  3  5  2  3  9  6  9  9  9\n",
       " 5  7  5  4  5  6  3  5  7  2  6  8  6  …  1  5  9  2  9  8  9  1  7  9  2  6\n",
       " 5  7  9  4  4  5  6  8  6  5  6  8  1     9  8  9  2  4  8  8  9  1  3  1  9\n",
       " 7  5  6  9  8  6  5  1  7  4  8  6  7     1  7  2  9  1  4  3  1  9  5  2  8\n",
       " 5  6  4  7  5  7  3  9  6  5  6  7  5     9  8  9  1  8  2  9  2  7  4  1  9\n",
       " 6  7  5  5  4  8  8  9  3  5  7  8  6     6  8  1  2  9  9  8  3  3  4  7  9"
      ]
     },
     "execution_count": 118,
     "metadata": {},
     "output_type": "execute_result"
    }
   ],
   "source": [
    "extendCaveMapTest"
   ]
  },
  {
   "cell_type": "code",
   "execution_count": 119,
   "id": "2cf322fc-5498-45cd-884d-1b4d1a6839b2",
   "metadata": {},
   "outputs": [
    {
     "data": {
      "text/plain": [
       "315.0"
      ]
     },
     "execution_count": 119,
     "metadata": {},
     "output_type": "execute_result"
    }
   ],
   "source": [
    "costMapTest = dijkstra_algorithm(extendCaveMapTest);\n",
    "costMapTest[end]"
   ]
  },
  {
   "cell_type": "code",
   "execution_count": 125,
   "id": "e6d1948e-c979-4a39-983b-4e2cf832c23e",
   "metadata": {},
   "outputs": [
    {
     "ename": "InterruptException",
     "evalue": "InterruptException:",
     "output_type": "error",
     "traceback": [
      "InterruptException:",
      "",
      "Stacktrace:",
      " [1] iterate at ./range.jl:593 [inlined]",
      " [2] dijkstra_algorithm(::Array{Int64,2}) at ./In[123]:19",
      " [3] top-level scope at In[125]:1"
     ]
    }
   ],
   "source": [
    "costMap = dijkstra_algorithm(extendCaveMap);\n",
    "costMap[end]"
   ]
  },
  {
   "cell_type": "code",
   "execution_count": null,
   "id": "cd14e83b-47fa-40ad-9721-c21099661193",
   "metadata": {},
   "outputs": [],
   "source": []
  }
 ],
 "metadata": {
  "kernelspec": {
   "display_name": "Julia 1.4.1",
   "language": "julia",
   "name": "julia-1.4"
  },
  "language_info": {
   "file_extension": ".jl",
   "mimetype": "application/julia",
   "name": "julia",
   "version": "1.4.1"
  }
 },
 "nbformat": 4,
 "nbformat_minor": 5
}
