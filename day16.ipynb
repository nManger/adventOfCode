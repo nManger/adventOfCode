{
 "cells": [
  {
   "cell_type": "markdown",
   "id": "fc1ef2d4-6060-4d06-bb4f-999c7f6b73b1",
   "metadata": {},
   "source": [
    "# Day 16: The Floor Will Be Lava"
   ]
  },
  {
   "cell_type": "code",
   "execution_count": 4,
   "id": "c507f3a7-94fe-4628-8199-0b4575e95573",
   "metadata": {
    "tags": []
   },
   "outputs": [],
   "source": [
    "from collections import deque"
   ]
  },
  {
   "cell_type": "code",
   "execution_count": 1,
   "id": "48b14bea-b305-4a7e-93a9-73e333e0c528",
   "metadata": {
    "tags": []
   },
   "outputs": [],
   "source": [
    "def parseInput(filename):\n",
    "    caveGrid = []\n",
    "    with open(filename) as f:\n",
    "        for line in f:\n",
    "            caveGrid.append(line.strip())\n",
    "        \n",
    "    return caveGrid"
   ]
  },
  {
   "cell_type": "code",
   "execution_count": 152,
   "id": "74961c9d-e24f-4381-a9d9-614662b0be18",
   "metadata": {
    "tags": []
   },
   "outputs": [],
   "source": [
    "puzzleGrid=parseInput('../testInputs/day16.txt')\n",
    "puzzleGrid=parseInput('../inputs/day16.txt')"
   ]
  },
  {
   "cell_type": "markdown",
   "id": "c05d97ab-3318-4110-8608-14f944f4a767",
   "metadata": {
    "tags": []
   },
   "source": [
    "## Part 1"
   ]
  },
  {
   "cell_type": "code",
   "execution_count": 146,
   "id": "813f5642-404f-400c-bd5f-6eda78a86c71",
   "metadata": {
    "tags": []
   },
   "outputs": [],
   "source": [
    "def plotEnergizedGrid(tiles):\n",
    "    dimI = len(tiles)\n",
    "    dimJ = len(tiles[0])\n",
    "    \n",
    "    for i in range(dimI):\n",
    "        for j in range(dimJ):\n",
    "            if tiles[i][j]>0:\n",
    "                print('#',end='')\n",
    "            else:\n",
    "                print('.',end='')\n",
    "        print('')\n",
    "    return None\n",
    "    \n",
    "\n",
    "def moveLight(point,heading):\n",
    "    \n",
    "    if heading == 'n':\n",
    "        return (point[0]-1,point[1])\n",
    "    if heading == 's':\n",
    "        return (point[0]+1,point[1])\n",
    "    if heading == 'w':\n",
    "        return (point[0],point[1]-1)\n",
    "    if heading == 'e':\n",
    "        return (point[0],point[1]+1)\n",
    "    \n",
    "    return None\n",
    "\n",
    "def reorientLight(grid,coords,currentHeading):\n",
    "    \n",
    "    if grid[coords[0]][coords[1]] == '.':\n",
    "        return [currentHeading]\n",
    "    if grid[coords[0]][coords[1]] == '/':\n",
    "        if currentHeading == 'n':\n",
    "            return ['e']\n",
    "        if currentHeading == 's':\n",
    "            return ['w']\n",
    "        if currentHeading == 'w':\n",
    "            return ['s']\n",
    "        if currentHeading == 'e':\n",
    "            return ['n']\n",
    "        \n",
    "    if grid[coords[0]][coords[1]] == '\\\\':\n",
    "        if currentHeading == 'n':\n",
    "            return ['w']\n",
    "        if currentHeading == 's':\n",
    "            return ['e']\n",
    "        if currentHeading == 'w':\n",
    "            return ['n']\n",
    "        if currentHeading == 'e':\n",
    "            return ['s']\n",
    "        \n",
    "    if grid[coords[0]][coords[1]] == '-':\n",
    "        if currentHeading == 'n':\n",
    "            return ['w','e']\n",
    "        if currentHeading == 's':\n",
    "            return ['e','w']\n",
    "        if currentHeading == 'w':\n",
    "            return ['w']\n",
    "        if currentHeading == 'e':\n",
    "            return ['e']\n",
    "        \n",
    "    if grid[coords[0]][coords[1]] == '|':\n",
    "        if currentHeading == 'n':\n",
    "            return ['n']\n",
    "        if currentHeading == 's':\n",
    "            return ['s']\n",
    "        if currentHeading == 'w':\n",
    "            return ['n','s']\n",
    "        if currentHeading == 'e':\n",
    "            return ['n','s']\n",
    "        \n",
    "    return None\n",
    "    \n",
    "def directLaser(grid,start):\n",
    "    \n",
    "    dimI = len(grid)\n",
    "    dimJ = len(grid[0])\n",
    "    \n",
    "    #prepare grid to track energized tiles\n",
    "    #grid contains a bitmask tracking if we entered already with this heading: w s e n\n",
    "    energizedTiles = []\n",
    "    for i in range(dimI):\n",
    "        energizedTiles.append([0 for j in range(dimJ)])\n",
    "    \n",
    "    directionMap = {'w':8,'s':4,'e':2,'n':1}\n",
    "    energizedTiles[start[0]][start[1]] +=directionMap[start[2]]\n",
    "    \n",
    "    beamQueue = deque([start])\n",
    "    \n",
    "    while len(beamQueue)>0:\n",
    "        laser = beamQueue.popleft()\n",
    "        #print(laser)\n",
    "        \n",
    "        newHeading = reorientLight(grid,(laser[0],laser[1]),laser[2])\n",
    "        \n",
    "        for heading in newHeading:\n",
    "            newCoords = moveLight((laser[0],laser[1]),heading)\n",
    "            #check if we are still on the grid, if not, abort this beam\n",
    "            if(newCoords[0]<0 or newCoords[0]>=dimI or newCoords[1]<0 or newCoords[1]>=dimJ):\n",
    "                continue\n",
    "            #check if we have already entered this cell on the current heading, if yes, abort beam\n",
    "            if (directionMap[heading] & energizedTiles[newCoords[0]][newCoords[1]] > 0):\n",
    "                continue\n",
    "            \n",
    "            #set flag for current heading in this cell\n",
    "            energizedTiles[newCoords[0]][newCoords[1]] += directionMap[heading]\n",
    "            #requeue beam with current coordinates and heading\n",
    "            beamQueue.append((newCoords[0],newCoords[1],heading))\n",
    "        \n",
    "    return energizedTiles\n",
    "\n",
    "def countEnergizedTiles(tiles):\n",
    "    nTiles =0\n",
    "    for i in range(len(tiles)):\n",
    "        for j in range(len(tiles[0])):\n",
    "            if tiles[i][j]>0:\n",
    "                nTiles += 1\n",
    "    return nTiles"
   ]
  },
  {
   "cell_type": "code",
   "execution_count": 155,
   "id": "ee49d1a2-27bf-46cd-963f-5bf21fce291c",
   "metadata": {
    "tags": []
   },
   "outputs": [
    {
     "data": {
      "text/plain": [
       "8539"
      ]
     },
     "execution_count": 155,
     "metadata": {},
     "output_type": "execute_result"
    }
   ],
   "source": [
    "tiles = directLaser(puzzleGrid,(0,0,'e'))\n",
    "#plotEnergizedGrid(tiles)\n",
    "countEnergizedTiles(tiles)"
   ]
  },
  {
   "cell_type": "markdown",
   "id": "08424fce-876c-439f-8671-6f8ad56c2e68",
   "metadata": {},
   "source": [
    "## Part 2"
   ]
  },
  {
   "cell_type": "code",
   "execution_count": 140,
   "id": "ab01681d-9473-46fb-944c-0744825c1bd9",
   "metadata": {
    "tags": []
   },
   "outputs": [],
   "source": [
    "def findMaxEnergizedCells(grid):\n",
    "    dimI = len(grid)\n",
    "    dimJ = len(grid)\n",
    "    \n",
    "    #just brute force try all possible start positions\n",
    "    nMaxTiles = 0\n",
    "    for i in range(dimI):\n",
    "        nMaxTiles = max(countEnergizedTiles(directLaser(grid,(i,0,'e'))),nMaxTiles)\n",
    "        nMaxTiles = max(countEnergizedTiles(directLaser(grid,(i,dimJ-1,'w'))),nMaxTiles)\n",
    "        \n",
    "    for j in range(dimJ):\n",
    "        nMaxTiles = max(countEnergizedTiles(directLaser(grid,(0,j,'s'))),nMaxTiles)\n",
    "        nMaxTiles = max(countEnergizedTiles(directLaser(grid,(dimI-1,j,'n'))),nMaxTiles)\n",
    "    \n",
    "    return nMaxTiles\n",
    "    "
   ]
  },
  {
   "cell_type": "code",
   "execution_count": 153,
   "id": "b5506a66-8630-484c-8a84-cebf46b1c7f4",
   "metadata": {
    "tags": []
   },
   "outputs": [
    {
     "data": {
      "text/plain": [
       "8674"
      ]
     },
     "execution_count": 153,
     "metadata": {},
     "output_type": "execute_result"
    }
   ],
   "source": [
    "findMaxEnergizedCells(puzzleGrid)"
   ]
  }
 ],
 "metadata": {
  "kernelspec": {
   "display_name": "Python 3 (ipykernel)",
   "language": "python",
   "name": "python3"
  },
  "language_info": {
   "codemirror_mode": {
    "name": "ipython",
    "version": 3
   },
   "file_extension": ".py",
   "mimetype": "text/x-python",
   "name": "python",
   "nbconvert_exporter": "python",
   "pygments_lexer": "ipython3",
   "version": "3.11.5"
  }
 },
 "nbformat": 4,
 "nbformat_minor": 5
}
