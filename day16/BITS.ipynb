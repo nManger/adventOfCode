{
 "cells": [
  {
   "cell_type": "markdown",
   "id": "b51ff7c1-52cf-4114-841a-103c341fd708",
   "metadata": {},
   "source": [
    "## Load and transform data"
   ]
  },
  {
   "cell_type": "code",
   "execution_count": 1,
   "id": "d0d134a3-b5df-4ec7-9e75-679a7eb9ad45",
   "metadata": {},
   "outputs": [],
   "source": [
    "rawData = open(\"message.txt\") do file\n",
    "    (read(file,String))\n",
    "end;"
   ]
  },
  {
   "cell_type": "code",
   "execution_count": 2,
   "id": "40f430da-57af-44e4-9e68-a7efaf5644a1",
   "metadata": {},
   "outputs": [
    {
     "data": {
      "text/plain": [
       "hexToBinary (generic function with 1 method)"
      ]
     },
     "execution_count": 2,
     "metadata": {},
     "output_type": "execute_result"
    }
   ],
   "source": [
    "function hexToBinary(input::AbstractString)\n",
    "    myIObuffer = IOBuffer();\n",
    "    hexBinMap = Dict('0' => \"0000\",'1' => \"0001\",'2' => \"0010\",'3' => \"0011\",'4' => \"0100\",'5' => \"0101\",'6' => \"0110\",'7' => \"0111\",'8' => \"1000\",'9' => \"1001\",'A' => \"1010\",'B' => \"1011\",'C' => \"1100\",'D' => \"1101\",'E' => \"1110\",'F' => \"1111\")\n",
    "    \n",
    "    for c in input\n",
    "        #println(c,\" \",hexBinMap[c])\n",
    "        write(myIObuffer,hexBinMap[c])\n",
    "    end\n",
    "    #println(read(myIObuffer,String))\n",
    "    return read(seekstart(myIObuffer),String)\n",
    "end"
   ]
  },
  {
   "cell_type": "code",
   "execution_count": 49,
   "id": "88f6377c-0be0-4619-86de-5581eae42d0c",
   "metadata": {
    "collapsed": true,
    "jupyter": {
     "outputs_hidden": true
    },
    "tags": []
   },
   "outputs": [
    {
     "name": "stdout",
     "output_type": "stream",
     "text": [
      "0 0000\n",
      "2 0010\n",
      "3 0011\n",
      "2 0010\n",
      "9 1001\n",
      "3 0011\n",
      "4 0100\n",
      "5 0101\n",
      "A 1010\n",
      "F 1111\n",
      "0 0000\n",
      "0 0000\n",
      "C 1100\n",
      "A 1010\n",
      "\n"
     ]
    },
    {
     "data": {
      "text/plain": [
       "\"00000010001100101001001101000101101011110000000011001010\""
      ]
     },
     "execution_count": 49,
     "metadata": {},
     "output_type": "execute_result"
    }
   ],
   "source": [
    "dummy=\"02329345AF00CA\"\n",
    "hexToBinary(dummy)"
   ]
  },
  {
   "cell_type": "code",
   "execution_count": 3,
   "id": "7a75d078-f0eb-4429-8be5-f7eb770ea04c",
   "metadata": {},
   "outputs": [],
   "source": [
    "message = hexToBinary(rawData);"
   ]
  },
  {
   "cell_type": "markdown",
   "id": "7368609c-8e44-486f-87f9-448b3d616d24",
   "metadata": {},
   "source": [
    "## Part 1"
   ]
  },
  {
   "cell_type": "code",
   "execution_count": 4,
   "id": "eaea7595-011d-4656-a1e8-133f43803edc",
   "metadata": {},
   "outputs": [
    {
     "data": {
      "text/plain": [
       "decodeMessage (generic function with 1 method)"
      ]
     },
     "execution_count": 4,
     "metadata": {},
     "output_type": "execute_result"
    }
   ],
   "source": [
    "function decodePacket(message::AbstractString,sidx::Integer,cache::Array)\n",
    "    packVersion = parse(Int,SubString(message,sidx,sidx+2),base=2)\n",
    "    packType = parse(Int,SubString(message,sidx+3,sidx+5),base=2)\n",
    "    nbitsMessage = 6\n",
    "    push!(cache,packVersion)\n",
    "    #print(\"$(sidx) $(packVersion) $(packType) \")\n",
    "    \n",
    "    if packType == 4 #Packet is value\n",
    "        lastGroup = false\n",
    "        idx = sidx+6\n",
    "        valBinary = \"\"\n",
    "        while !lastGroup\n",
    "            if message[idx] == '0' # typeof(message[i]) is char, so test for '0' instead of 0\n",
    "                lastGroup = true\n",
    "            end\n",
    "            valBinary = string(valBinary,message[idx+1:idx+4])\n",
    "            idx+=5\n",
    "            nbitsMessage+=5\n",
    "        end\n",
    "        value = parse(Int,valBinary,base=2)\n",
    "        #println(\"$(valBinary) $(value)\")\n",
    "        \n",
    "    else #Packet is operator\n",
    "        lengthType = parse(Int,message[sidx+6])\n",
    "        nbitsMessage +=1\n",
    "        \n",
    "        #Packet contains total length of subpackets in bits\n",
    "        if lengthType == 0 \n",
    "            bitsSubPack = parse(Int,SubString(message,sidx+7,sidx+21),base=2) # 15 bits: indx 7 to 7+14 (inclusive)\n",
    "            nbitsMessage += (bitsSubPack+15)\n",
    "            #println(\"$(lengthType) $(bitsSubPack)\")\n",
    "            bitsUsed = 0\n",
    "            idx = sidx+22\n",
    "            while bitsUsed < bitsSubPack\n",
    "                lengthPack = decodePacket(message,idx,cache)\n",
    "                bitsUsed +=lengthPack\n",
    "                idx +=lengthPack\n",
    "            end\n",
    "        \n",
    "        #Packet contains number of subpackets\n",
    "        else\n",
    "            nSubPacks = parse(Int,SubString(message,sidx+7,sidx+17),base=2) # 11 bits: indx 7 to 7+10 (inclusive)\n",
    "            nbitsMessage += 11\n",
    "            #println(\"$(lengthType) $(nSubPacks)\")\n",
    "            \n",
    "            newSidx = sidx+18\n",
    "            for n in 1:nSubPacks\n",
    "                bitsSubPack = decodePacket(message,newSidx,cache)\n",
    "                newSidx +=bitsSubPack\n",
    "                nbitsMessage +=bitsSubPack\n",
    "            end\n",
    "        end\n",
    "    end\n",
    "    return nbitsMessage\n",
    "end\n",
    "\n",
    "function decodeMessage(message::AbstractString)\n",
    "    eom = length(message)\n",
    "    idx = 1\n",
    "    cache = Array{Int}(undef,0)\n",
    "    sizehint!(cache,100)\n",
    "    \n",
    "    while idx<=eom-6\n",
    "        idx+=decodePacket(message,idx,cache)       \n",
    "    end\n",
    "    return cache\n",
    "end"
   ]
  },
  {
   "cell_type": "code",
   "execution_count": 22,
   "id": "5a41f6a2-aafd-4d71-a97b-326e7a5092ee",
   "metadata": {},
   "outputs": [
    {
     "data": {
      "text/plain": [
       "String"
      ]
     },
     "execution_count": 22,
     "metadata": {},
     "output_type": "execute_result"
    }
   ],
   "source": [
    "typeof(message)"
   ]
  },
  {
   "cell_type": "code",
   "execution_count": 24,
   "id": "64659e8f-5c1f-400e-bff5-f24d29feb27b",
   "metadata": {},
   "outputs": [
    {
     "data": {
      "text/plain": [
       "String"
      ]
     },
     "execution_count": 24,
     "metadata": {},
     "output_type": "execute_result"
    }
   ],
   "source": [
    "typeof(test0)"
   ]
  },
  {
   "cell_type": "code",
   "execution_count": 44,
   "id": "34baa93f-dd31-4d11-b562-54816b8490bb",
   "metadata": {},
   "outputs": [],
   "source": [
    "versNum = decodeMessage(message);"
   ]
  },
  {
   "cell_type": "code",
   "execution_count": 45,
   "id": "52a814d8-49e8-4ba7-b491-4f6d9794d5f8",
   "metadata": {},
   "outputs": [
    {
     "data": {
      "text/plain": [
       "934"
      ]
     },
     "execution_count": 45,
     "metadata": {},
     "output_type": "execute_result"
    }
   ],
   "source": [
    "sum(versNum)"
   ]
  },
  {
   "cell_type": "code",
   "execution_count": 26,
   "id": "178cbd00-9702-418e-9365-c3e6a64018cd",
   "metadata": {},
   "outputs": [
    {
     "data": {
      "text/plain": [
       "5464"
      ]
     },
     "execution_count": 26,
     "metadata": {},
     "output_type": "execute_result"
    }
   ],
   "source": [
    "length(message)"
   ]
  },
  {
   "cell_type": "markdown",
   "id": "dca7e4a3-afd2-4929-a88a-549e8a5c9bfc",
   "metadata": {
    "jp-MarkdownHeadingCollapsed": true,
    "tags": []
   },
   "source": [
    "### Testing message decoder"
   ]
  },
  {
   "cell_type": "code",
   "execution_count": 5,
   "id": "e96cea92-1b0a-40bb-90d3-3d74e692d61d",
   "metadata": {},
   "outputs": [],
   "source": [
    "test0 = hexToBinary(\"38006F45291200\")\n",
    "test1 = hexToBinary(\"EE00D40C823060\")\n",
    "testA = hexToBinary(\"8A004A801A8002F478\")\n",
    "testB = hexToBinary(\"620080001611562C8802118E34\")\n",
    "testC = hexToBinary(\"C0015000016115A2E0802F182340\")\n",
    "testD = hexToBinary(\"A0016C880162017C3686B18A3D4780\");"
   ]
  },
  {
   "cell_type": "code",
   "execution_count": 7,
   "id": "28bb6796-5608-4a84-ab64-205de10e2c69",
   "metadata": {},
   "outputs": [
    {
     "name": "stdout",
     "output_type": "stream",
     "text": [
      "1 7 3 1 3\n",
      "19 2 4 0001 1\n",
      "30 4 4 0010 2\n",
      "41 1 4 0011 3\n"
     ]
    },
    {
     "data": {
      "text/plain": [
       "51"
      ]
     },
     "execution_count": 7,
     "metadata": {},
     "output_type": "execute_result"
    }
   ],
   "source": [
    "decodePacket(test1,1)"
   ]
  },
  {
   "cell_type": "code",
   "execution_count": 8,
   "id": "33b057f2-88dd-45a3-84de-affe9ad41156",
   "metadata": {},
   "outputs": [
    {
     "data": {
      "text/plain": [
       "56"
      ]
     },
     "execution_count": 8,
     "metadata": {},
     "output_type": "execute_result"
    }
   ],
   "source": [
    "length(test1)"
   ]
  },
  {
   "cell_type": "code",
   "execution_count": 13,
   "id": "9fdc9e03-6241-440a-8ca5-c66d569f850f",
   "metadata": {},
   "outputs": [
    {
     "name": "stdout",
     "output_type": "stream",
     "text": [
      "1 1 6 0 27\n",
      "23 6 4 1010 10\n",
      "34 2 4 00010100 20\n"
     ]
    },
    {
     "data": {
      "text/plain": [
       "49"
      ]
     },
     "execution_count": 13,
     "metadata": {},
     "output_type": "execute_result"
    }
   ],
   "source": [
    "decodePacket(test0,1)"
   ]
  },
  {
   "cell_type": "code",
   "execution_count": 14,
   "id": "4faeffad-5925-4207-af8e-e394aa07a455",
   "metadata": {},
   "outputs": [
    {
     "name": "stdout",
     "output_type": "stream",
     "text": [
      "1 4 2 1 1\n",
      "19 1 2 1 1\n",
      "37 5 2 0 11\n",
      "59 6 4 1111 15\n"
     ]
    },
    {
     "data": {
      "text/plain": [
       "69"
      ]
     },
     "execution_count": 14,
     "metadata": {},
     "output_type": "execute_result"
    }
   ],
   "source": [
    "decodePacket(testA,1)"
   ]
  },
  {
   "cell_type": "code",
   "execution_count": 17,
   "id": "6a80ca1b-bf45-4c60-8fcc-56c904b81f04",
   "metadata": {},
   "outputs": [
    {
     "data": {
      "text/plain": [
       "16"
      ]
     },
     "execution_count": 17,
     "metadata": {},
     "output_type": "execute_result"
    }
   ],
   "source": [
    "4+1+5+6"
   ]
  },
  {
   "cell_type": "code",
   "execution_count": 15,
   "id": "eba7d314-8da1-4270-b4f5-06a9668c271d",
   "metadata": {},
   "outputs": [
    {
     "name": "stdout",
     "output_type": "stream",
     "text": [
      "1 3 0 1 2\n",
      "19 0 0 0 22\n",
      "41 0 4 1010 10\n",
      "52 5 4 1011 11\n",
      "63 1 0 1 2\n",
      "81 0 4 1100 12\n",
      "92 3 4 1101 13\n"
     ]
    },
    {
     "data": {
      "text/plain": [
       "102"
      ]
     },
     "execution_count": 15,
     "metadata": {},
     "output_type": "execute_result"
    }
   ],
   "source": [
    "decodePacket(testB,1)"
   ]
  },
  {
   "cell_type": "code",
   "execution_count": 18,
   "id": "764b07e2-d2e2-4688-990a-2f6c6dc9252c",
   "metadata": {},
   "outputs": [
    {
     "data": {
      "text/plain": [
       "12"
      ]
     },
     "execution_count": 18,
     "metadata": {},
     "output_type": "execute_result"
    }
   ],
   "source": [
    "3+0+0+5+1+0+3"
   ]
  },
  {
   "cell_type": "code",
   "execution_count": 16,
   "id": "3afd3a43-8c02-4ea8-b296-70cfdd67c157",
   "metadata": {},
   "outputs": [
    {
     "name": "stdout",
     "output_type": "stream",
     "text": [
      "1 6 0 0 84\n",
      "23 0 0 0 22\n",
      "45 0 4 1010 10\n",
      "56 6 4 1011 11\n",
      "67 4 0 1 2\n",
      "85 7 4 1100 12\n",
      "96 0 4 1101 13\n"
     ]
    },
    {
     "data": {
      "text/plain": [
       "106"
      ]
     },
     "execution_count": 16,
     "metadata": {},
     "output_type": "execute_result"
    }
   ],
   "source": [
    "decodePacket(testC,1)"
   ]
  },
  {
   "cell_type": "code",
   "execution_count": 19,
   "id": "39bcbb42-ed47-4469-a452-7721fdc5348b",
   "metadata": {},
   "outputs": [
    {
     "data": {
      "text/plain": [
       "23"
      ]
     },
     "execution_count": 19,
     "metadata": {},
     "output_type": "execute_result"
    }
   ],
   "source": [
    "6+0+0+6+4+7+0"
   ]
  },
  {
   "cell_type": "code",
   "execution_count": 20,
   "id": "1807912f-66d1-4ba1-88d7-c09137cc6825",
   "metadata": {},
   "outputs": [
    {
     "name": "stdout",
     "output_type": "stream",
     "text": [
      "1 5 0 0 91\n",
      "23 1 0 1 1\n",
      "41 3 0 1 5\n",
      "59 7 4 0110 6\n",
      "70 6 4 0110 6\n",
      "81 5 4 1100 12\n",
      "92 2 4 1111 15\n",
      "103 2 4 1111 15\n"
     ]
    },
    {
     "data": {
      "text/plain": [
       "113"
      ]
     },
     "execution_count": 20,
     "metadata": {},
     "output_type": "execute_result"
    }
   ],
   "source": [
    "decodePacket(testD,1)"
   ]
  },
  {
   "cell_type": "markdown",
   "id": "0c3186b3-5ec4-4ec6-92bf-45a1d9bcc40f",
   "metadata": {},
   "source": [
    "## Part 2"
   ]
  },
  {
   "cell_type": "code",
   "execution_count": 25,
   "id": "241cbd6e-b6b6-4fca-9050-04fd31ccc662",
   "metadata": {},
   "outputs": [
    {
     "data": {
      "text/plain": [
       "interpretMessage (generic function with 1 method)"
      ]
     },
     "execution_count": 25,
     "metadata": {},
     "output_type": "execute_result"
    }
   ],
   "source": [
    "function interpretPackage(message::AbstractString,sidx::Integer)\n",
    "    packVersion = parse(Int,SubString(message,sidx,sidx+2),base=2)\n",
    "    packType = parse(Int,SubString(message,sidx+3,sidx+5),base=2)\n",
    "    nbitsMessage = 6\n",
    "    #print(\"$(sidx) $(packVersion) $(packType) \")\n",
    "    \n",
    "    result = 0\n",
    "    \n",
    "    if packType == 4 #Packet is value\n",
    "        lastGroup = false\n",
    "        idx = sidx+6\n",
    "        valBinary = \"\"\n",
    "        while !lastGroup\n",
    "            if message[idx] == '0' # typeof(message[i]) is char, so test for '0' instead of 0\n",
    "                lastGroup = true\n",
    "            end\n",
    "            valBinary = string(valBinary,message[idx+1:idx+4])\n",
    "            idx+=5\n",
    "            nbitsMessage+=5\n",
    "        end\n",
    "        result = parse(Int,valBinary,base=2)\n",
    "        #println(\"$(valBinary) $(result)\")\n",
    "        \n",
    "    else #Packet is operator\n",
    "        lengthType = parse(Int,message[sidx+6])\n",
    "        nbitsMessage +=1\n",
    "        \n",
    "        allResults = Array{Int}(undef,0)\n",
    "        ## decode package\n",
    "        #Packet contains total length of subpackets in bits\n",
    "        if lengthType == 0 \n",
    "            bitsSubPack = parse(Int,SubString(message,sidx+7,sidx+21),base=2) # 15 bits: indx 7 to 7+14 (inclusive)\n",
    "            nbitsMessage += (bitsSubPack+15)\n",
    "            #println(\"$(lengthType) $(bitsSubPack)\")\n",
    "            bitsUsed = 0\n",
    "            idx = sidx+22\n",
    "            while bitsUsed < bitsSubPack\n",
    "                lengthPack,resultPack = interpretPackage(message,idx)\n",
    "                bitsUsed +=lengthPack\n",
    "                idx +=lengthPack\n",
    "                push!(allResults,resultPack)\n",
    "            end\n",
    "        \n",
    "        #Packet contains number of subpackets\n",
    "        else\n",
    "            nSubPacks = parse(Int,SubString(message,sidx+7,sidx+17),base=2) # 11 bits: indx 7 to 7+10 (inclusive)\n",
    "            nbitsMessage += 11\n",
    "            #println(\"$(lengthType) $(nSubPacks)\")\n",
    "            \n",
    "            newSidx = sidx+18\n",
    "            for n in 1:nSubPacks\n",
    "                bitsSubPack,resultPack = interpretPackage(message,newSidx)\n",
    "                newSidx +=bitsSubPack\n",
    "                nbitsMessage +=bitsSubPack\n",
    "                push!(allResults,resultPack)\n",
    "            end\n",
    "        end\n",
    "        \n",
    "        #interpret package\n",
    "        \n",
    "        if packType == 0\n",
    "            result = sum(allResults)\n",
    "        elseif packType == 1\n",
    "            result = prod(allResults)\n",
    "        elseif packType == 2\n",
    "            result = minimum(allResults)\n",
    "        elseif packType == 3\n",
    "            result = maximum(allResults)\n",
    "        elseif packType == 5\n",
    "            result = allResults[1]>allResults[2] ? 1 : 0\n",
    "        elseif packType == 6\n",
    "            result = allResults[1]<allResults[2] ? 1 : 0\n",
    "        else\n",
    "            result = allResults[1]==allResults[2] ? 1 : 0\n",
    "        end\n",
    "    end\n",
    "    \n",
    "    return nbitsMessage,result\n",
    "end\n",
    "\n",
    "function interpretMessage(message::AbstractString)\n",
    "    eom = length(message)\n",
    "    idx = 1\n",
    "    \n",
    "    result=0\n",
    "    while idx<=eom-6\n",
    "        packSize,result=interpretPackage(message,idx) \n",
    "        idx+=packSize\n",
    "    end\n",
    "    return result\n",
    "end"
   ]
  },
  {
   "cell_type": "code",
   "execution_count": 26,
   "id": "b25be058-c3f9-4dbd-bda9-2044b3219e95",
   "metadata": {},
   "outputs": [
    {
     "data": {
      "text/plain": [
       "912901337844"
      ]
     },
     "execution_count": 26,
     "metadata": {},
     "output_type": "execute_result"
    }
   ],
   "source": [
    "interpretMessage(message)"
   ]
  },
  {
   "cell_type": "markdown",
   "id": "5c082b96-cdeb-4f37-a4d8-9d445c21199a",
   "metadata": {
    "jp-MarkdownHeadingCollapsed": true,
    "tags": []
   },
   "source": [
    "### Testing message interpreter"
   ]
  },
  {
   "cell_type": "code",
   "execution_count": 17,
   "id": "503a2edd-84e8-4d61-825a-74174b2ae60c",
   "metadata": {},
   "outputs": [],
   "source": [
    "testa = hexToBinary(\"C200B40A82\")\n",
    "testb = hexToBinary(\"04005AC33890\")\n",
    "testc = hexToBinary(\"880086C3E88112\")\n",
    "testd = hexToBinary(\"CE00C43D881120\")\n",
    "teste = hexToBinary(\"D8005AC2A8F0\")\n",
    "testf = hexToBinary(\"F600BC2D8F\")\n",
    "testg = hexToBinary(\"9C005AC2F8F0\")\n",
    "testh = hexToBinary(\"9C0141080250320F1802104A08\");"
   ]
  },
  {
   "cell_type": "code",
   "execution_count": 14,
   "id": "78a433bc-7b3b-4608-b55e-5de917054ec3",
   "metadata": {},
   "outputs": [
    {
     "name": "stdout",
     "output_type": "stream",
     "text": [
      "1 6 0 1 2\n",
      "19 6 4 0001 1\n",
      "30 2 4 0010 2\n"
     ]
    },
    {
     "data": {
      "text/plain": [
       "3"
      ]
     },
     "execution_count": 14,
     "metadata": {},
     "output_type": "execute_result"
    }
   ],
   "source": [
    "interpretMessage(testa)"
   ]
  },
  {
   "cell_type": "code",
   "execution_count": 18,
   "id": "5f6a020d-196f-476c-b597-0f138e72c6ed",
   "metadata": {},
   "outputs": [
    {
     "name": "stdout",
     "output_type": "stream",
     "text": [
      "1 0 1 0 22\n",
      "23 5 4 0110 6\n",
      "34 3 4 1001 9\n"
     ]
    },
    {
     "data": {
      "text/plain": [
       "54"
      ]
     },
     "execution_count": 18,
     "metadata": {},
     "output_type": "execute_result"
    }
   ],
   "source": [
    "interpretMessage(testb)"
   ]
  },
  {
   "cell_type": "code",
   "execution_count": 19,
   "id": "2b83d82b-95e1-484f-9573-dd9b779dfc6d",
   "metadata": {},
   "outputs": [
    {
     "name": "stdout",
     "output_type": "stream",
     "text": [
      "1 4 2 0 33\n",
      "23 5 4 0111 7\n",
      "34 6 4 1000 8\n",
      "45 0 4 1001 9\n"
     ]
    },
    {
     "data": {
      "text/plain": [
       "7"
      ]
     },
     "execution_count": 19,
     "metadata": {},
     "output_type": "execute_result"
    }
   ],
   "source": [
    "interpretMessage(testc)"
   ]
  },
  {
   "cell_type": "code",
   "execution_count": 20,
   "id": "e2092452-3471-433e-bf9e-4beeff1c3462",
   "metadata": {},
   "outputs": [
    {
     "name": "stdout",
     "output_type": "stream",
     "text": [
      "1 6 3 1 3\n",
      "19 0 4 0111 7\n",
      "30 5 4 1000 8\n",
      "41 0 4 1001 9\n"
     ]
    },
    {
     "data": {
      "text/plain": [
       "9"
      ]
     },
     "execution_count": 20,
     "metadata": {},
     "output_type": "execute_result"
    }
   ],
   "source": [
    "interpretMessage(testd)"
   ]
  },
  {
   "cell_type": "code",
   "execution_count": 21,
   "id": "575fa5de-17b8-448c-b7e0-db374a7c44ef",
   "metadata": {},
   "outputs": [
    {
     "name": "stdout",
     "output_type": "stream",
     "text": [
      "1 6 6 0 22\n",
      "23 5 4 0101 5\n",
      "34 2 4 1111 15\n"
     ]
    },
    {
     "data": {
      "text/plain": [
       "1"
      ]
     },
     "execution_count": 21,
     "metadata": {},
     "output_type": "execute_result"
    }
   ],
   "source": [
    "interpretMessage(teste)"
   ]
  },
  {
   "cell_type": "code",
   "execution_count": 22,
   "id": "c297094d-a19c-463c-a883-6b22df94c1e7",
   "metadata": {},
   "outputs": [
    {
     "name": "stdout",
     "output_type": "stream",
     "text": [
      "1 7 5 1 2\n",
      "19 7 4 0101 5\n",
      "30 5 4 1111 15\n"
     ]
    },
    {
     "data": {
      "text/plain": [
       "0"
      ]
     },
     "execution_count": 22,
     "metadata": {},
     "output_type": "execute_result"
    }
   ],
   "source": [
    "interpretMessage(testf)"
   ]
  },
  {
   "cell_type": "code",
   "execution_count": 23,
   "id": "8272fa62-289a-42ad-8199-21488a0459a8",
   "metadata": {},
   "outputs": [
    {
     "name": "stdout",
     "output_type": "stream",
     "text": [
      "1 4 7 0 22\n",
      "23 5 4 0101 5\n",
      "34 7 4 1111 15\n"
     ]
    },
    {
     "data": {
      "text/plain": [
       "0"
      ]
     },
     "execution_count": 23,
     "metadata": {},
     "output_type": "execute_result"
    }
   ],
   "source": [
    "interpretMessage(testg)"
   ]
  },
  {
   "cell_type": "code",
   "execution_count": 24,
   "id": "c7ab795c-f643-4a8d-af15-272c36a70c71",
   "metadata": {},
   "outputs": [
    {
     "name": "stdout",
     "output_type": "stream",
     "text": [
      "1 4 7 0 80\n",
      "23 2 0 1 2\n",
      "41 2 4 0001 1\n",
      "52 4 4 0011 3\n",
      "63 6 1 1 2\n",
      "81 0 4 0010 2\n",
      "92 2 4 0010 2\n"
     ]
    },
    {
     "data": {
      "text/plain": [
       "1"
      ]
     },
     "execution_count": 24,
     "metadata": {},
     "output_type": "execute_result"
    }
   ],
   "source": [
    "interpretMessage(testh)"
   ]
  },
  {
   "cell_type": "code",
   "execution_count": null,
   "id": "b90cf835-ac9f-4b97-9eca-c192534033c1",
   "metadata": {},
   "outputs": [],
   "source": []
  }
 ],
 "metadata": {
  "kernelspec": {
   "display_name": "Julia 1.4.1",
   "language": "julia",
   "name": "julia-1.4"
  },
  "language_info": {
   "file_extension": ".jl",
   "mimetype": "application/julia",
   "name": "julia",
   "version": "1.4.1"
  }
 },
 "nbformat": 4,
 "nbformat_minor": 5
}
