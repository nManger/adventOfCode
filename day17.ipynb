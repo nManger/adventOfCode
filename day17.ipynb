{
 "cells": [
  {
   "cell_type": "markdown",
   "id": "54ceea84-40cf-49a3-808a-d7714fd8fcf9",
   "metadata": {},
   "source": [
    "# Day 17: Clumsy Crucible"
   ]
  },
  {
   "cell_type": "code",
   "execution_count": 1,
   "id": "62d8f128-6f2c-45ec-9c7b-f3e73a9c21d5",
   "metadata": {
    "tags": []
   },
   "outputs": [],
   "source": [
    "import numpy as np\n",
    "import heapq"
   ]
  },
  {
   "cell_type": "code",
   "execution_count": 2,
   "id": "7cc21d68-30a4-4e8b-8980-daff2e5c07d7",
   "metadata": {
    "tags": []
   },
   "outputs": [],
   "source": [
    "def parseInput(filename):\n",
    "    return np.genfromtxt(filename,dtype=int,delimiter=1)\n",
    "    \n",
    "    "
   ]
  },
  {
   "cell_type": "code",
   "execution_count": 3,
   "id": "8c954b65-cec2-4f54-8273-833c14392736",
   "metadata": {
    "tags": []
   },
   "outputs": [],
   "source": [
    "heatMap=parseInput('../testInputs/day17_1.txt')\n",
    "heatMap2=parseInput('../testInputs/day17_2.txt')\n",
    "heatMap=parseInput('../inputs/day17.txt')"
   ]
  },
  {
   "cell_type": "markdown",
   "id": "21378c00-ede2-48c0-8815-1b382dc96cd5",
   "metadata": {
    "tags": []
   },
   "source": [
    "## Part 1"
   ]
  },
  {
   "cell_type": "code",
   "execution_count": 4,
   "id": "9e2ce568-769f-4428-b202-f94ea0ef7884",
   "metadata": {
    "tags": []
   },
   "outputs": [],
   "source": [
    "inf = np.iinfo(np.int32).max #manually define integer infinity as highest representable 32bit-integer number\n",
    "directionSteps = [(-1,0),(0,1),(1,0),(0,-1)]\n",
    "\n",
    "def findShortestPath(heatMap,start,end):\n",
    "    diGrid,djGrid = heatMap.shape\n",
    "    #State Map: Position i, position j, heading on enter (0=n,1=e,2=s,3=w),step count\n",
    "    stateMap = np.full([heatMap.shape[0],heatMap.shape[1],4,3],inf)\n",
    "    pathMap = [[[] for j in range(djGrid)] for i in range(diGrid)]\n",
    "    stateMap[start][1,0] = 0\n",
    "    visitedStates = set()\n",
    "    \n",
    "    stateQueue = []\n",
    "    heapq.heappush(stateQueue,(0,start[0],start[1],1,-1))\n",
    "    \n",
    "    while stateQueue:\n",
    "        #find item in queue with shortest distance\n",
    "        prio,i,j,heading,steps = heapq.heappop(stateQueue)\n",
    "        \n",
    "        if (i,j) == end:\n",
    "            return prio\n",
    "        \n",
    "        visitedStates.add((i,j,heading,steps))\n",
    "        \n",
    "        #generate possible states\n",
    "        for k,delta in enumerate(directionSteps):\n",
    "            ni = i+delta[0]\n",
    "            nj = j+delta[1]\n",
    "            \n",
    "            #reject states outside the grid, doubling back or taking more than 3 steps in one direction\n",
    "            if 0 <= ni < diGrid and 0 <= nj < djGrid and k != (heading+2)%4 and not (k == heading and steps >= 2):\n",
    "                if k == heading:\n",
    "                    newState = (ni,nj,k,steps+1)\n",
    "                else:\n",
    "                    newState = (ni,nj,k,0)\n",
    "                \n",
    "                newPrio = prio + heatMap[ni,nj]\n",
    "                if newPrio < stateMap[newState] and newState not in visitedStates:\n",
    "                    stateMap[newState] = newPrio\n",
    "                    heapq.heappush(stateQueue,(newPrio,*newState))\n",
    "                \n",
    "    return inf"
   ]
  },
  {
   "cell_type": "code",
   "execution_count": 5,
   "id": "96d44ac5-a570-4a3a-8c42-ed75b71b67f4",
   "metadata": {
    "tags": []
   },
   "outputs": [
    {
     "data": {
      "text/plain": [
       "886"
      ]
     },
     "execution_count": 5,
     "metadata": {},
     "output_type": "execute_result"
    }
   ],
   "source": [
    "findShortestPath(heatMap,(0,0),(heatMap.shape[0]-1,heatMap.shape[1]-1))"
   ]
  },
  {
   "cell_type": "markdown",
   "id": "23aef72f-cbcf-49b2-b596-e27b004c4567",
   "metadata": {},
   "source": [
    "## Part 2"
   ]
  },
  {
   "cell_type": "code",
   "execution_count": 6,
   "id": "759ffcc0-4462-4280-8b1e-c505d6644443",
   "metadata": {
    "tags": []
   },
   "outputs": [],
   "source": [
    "def findShortestPathPart2(heatMap):\n",
    "    diGrid,djGrid = heatMap.shape\n",
    "    start = (0,0)\n",
    "    end = (diGrid-1,djGrid-1)\n",
    "    #State Map: Position i, position j, heading on enter (0=n,1=e,2=s,3=w),step count\n",
    "    stateMap = np.full([heatMap.shape[0],heatMap.shape[1],4,10],inf)\n",
    "    pathMap = [[[] for j in range(djGrid)] for i in range(diGrid)]\n",
    "    visitedStates = set()\n",
    "    \n",
    "    stateQueue = []\n",
    "    heapq.heappush(stateQueue,(0,start[0],start[1],0,-1))\n",
    "    heapq.heappush(stateQueue,(0,start[0],start[1],1,-1))\n",
    "    heapq.heappush(stateQueue,(0,start[0],start[1],2,-1))\n",
    "    heapq.heappush(stateQueue,(0,start[0],start[1],3,-1))\n",
    "    \n",
    "    while stateQueue:\n",
    "        #find item in queue with shortest distance\n",
    "        prio,i,j,heading,steps = heapq.heappop(stateQueue)\n",
    "        \n",
    "        if (i,j) == end and steps >= 3:\n",
    "            return prio\n",
    "        \n",
    "        visitedStates.add((i,j,heading,steps))\n",
    "\n",
    "        #generate possible states\n",
    "        for k,delta in enumerate(directionSteps):\n",
    "            ni = i+delta[0]\n",
    "            nj = j+delta[1]\n",
    "            \n",
    "            #reject states outside the grid, doubling back or taking less than 4 or more than 10 steps in one direction\n",
    "            if (0 <= ni < diGrid and 0 <= nj < djGrid and k != (heading+2)%4 \n",
    "                and not (k == heading and steps >= 9) and not (k != heading and steps < 3)):\n",
    "                if k == heading:\n",
    "                    newState = (ni,nj,k,steps+1)\n",
    "                else:\n",
    "                    newState = (ni,nj,k,0)\n",
    "                \n",
    "                newPrio = prio + heatMap[ni,nj]\n",
    "                if newPrio < stateMap[newState] and newState not in visitedStates:\n",
    "                    stateMap[newState] = newPrio\n",
    "                    heapq.heappush(stateQueue,(newPrio,*newState))\n",
    "                \n",
    "    return inf"
   ]
  },
  {
   "cell_type": "code",
   "execution_count": 7,
   "id": "808f25c8-bc13-4117-9c99-1ae048d8017b",
   "metadata": {
    "tags": []
   },
   "outputs": [
    {
     "data": {
      "text/plain": [
       "1055"
      ]
     },
     "execution_count": 7,
     "metadata": {},
     "output_type": "execute_result"
    }
   ],
   "source": [
    "findShortestPathPart2(heatMap)"
   ]
  },
  {
   "cell_type": "code",
   "execution_count": null,
   "id": "9cd0eb2b-5168-4c6d-973d-74f9d0b1f98b",
   "metadata": {},
   "outputs": [],
   "source": []
  }
 ],
 "metadata": {
  "kernelspec": {
   "display_name": "Python 3 (ipykernel)",
   "language": "python",
   "name": "python3"
  },
  "language_info": {
   "codemirror_mode": {
    "name": "ipython",
    "version": 3
   },
   "file_extension": ".py",
   "mimetype": "text/x-python",
   "name": "python",
   "nbconvert_exporter": "python",
   "pygments_lexer": "ipython3",
   "version": "3.11.5"
  }
 },
 "nbformat": 4,
 "nbformat_minor": 5
}
