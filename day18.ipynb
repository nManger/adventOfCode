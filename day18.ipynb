{
 "cells": [
  {
   "cell_type": "markdown",
   "id": "a2d849f8-057f-44f5-9904-2c5827ee857c",
   "metadata": {},
   "source": [
    "# Day 18: Lavaduct Lagoon"
   ]
  },
  {
   "cell_type": "code",
   "execution_count": 42,
   "id": "193709f9-fe04-458e-a5ba-36b85c951325",
   "metadata": {
    "tags": []
   },
   "outputs": [],
   "source": [
    "def parseInput(filename):\n",
    "    instructions = []\n",
    "    with open(filename) as f:\n",
    "        for line in f:\n",
    "            d,l,code = line.split()\n",
    "            instructions.append((d,int(l),code[2:-1]))\n",
    "    \n",
    "    return instructions"
   ]
  },
  {
   "cell_type": "code",
   "execution_count": 76,
   "id": "488f7338-8d20-4ec9-8621-48cb7c340f17",
   "metadata": {
    "tags": []
   },
   "outputs": [],
   "source": [
    "instructions=parseInput('../testInputs/day18.txt')\n",
    "instructions=parseInput('../inputs/day18.txt')"
   ]
  },
  {
   "cell_type": "markdown",
   "id": "e4635f51-4cb0-4b84-a338-a5ae30ed5076",
   "metadata": {
    "tags": []
   },
   "source": [
    "## Part 1"
   ]
  },
  {
   "cell_type": "code",
   "execution_count": 38,
   "id": "55ab712c-18b9-40e4-833b-0e4b0ac29bf9",
   "metadata": {
    "tags": []
   },
   "outputs": [],
   "source": [
    "directionMap = {'U':(-1,0),'D':(1,0),'L':(0,-1),'R':(0,1)}\n",
    "def digTrench(instructions):\n",
    "    i = 0\n",
    "    j = 0\n",
    "    vertices=[(0,0)]\n",
    "    \n",
    "    for direction,stepsize,_ in instructions:\n",
    "        for k in range(stepsize):\n",
    "            i += directionMap[direction][0]\n",
    "            j += directionMap[direction][1]\n",
    "            vertices.append((i,j))\n",
    "    return vertices\n",
    "\n",
    "def drawTrench(vertices):\n",
    "    deltaI=0\n",
    "    deltaJ=0\n",
    "    for point in vertices:\n",
    "        if point[0]>deltaI: \n",
    "            deltaI=point[0]\n",
    "        if point[1]>deltaJ: \n",
    "            deltaJ=point[1]\n",
    "    \n",
    "    for i in range(deltaI+1):\n",
    "        for j in range(deltaJ+1):\n",
    "            if (i,j) in vertices:\n",
    "                print('#',end='')\n",
    "            else:\n",
    "                print('.',end='')\n",
    "        print()\n",
    "    \n",
    "    return None\n",
    "\n",
    "#from day 10, part 2\n",
    "def calcArea(tileList): #shoelace formula\n",
    "    area = 0\n",
    "    for i in range(len(tileList)-1):\n",
    "        area += (tileList[i][0]*tileList[i+1][1] - tileList[i+1][0]*tileList[i][1])\n",
    "    \n",
    "    area = abs(area//2)\n",
    "    \n",
    "    return area + (len(tileList)-1)//2 + 1 # interior+boundary with interior = area - boundary//2 + 1 (Pick's theorem)\n"
   ]
  },
  {
   "cell_type": "code",
   "execution_count": 39,
   "id": "2a64679d-f75b-465f-bea1-e94ded3c3ce0",
   "metadata": {
    "tags": []
   },
   "outputs": [
    {
     "data": {
      "text/plain": [
       "47527"
      ]
     },
     "execution_count": 39,
     "metadata": {},
     "output_type": "execute_result"
    }
   ],
   "source": [
    "verts = digTrench(instructions)\n",
    "calcArea(verts)   "
   ]
  },
  {
   "cell_type": "code",
   "execution_count": 31,
   "id": "2a61cab1-2eff-401e-babb-67b669c61f4b",
   "metadata": {
    "tags": []
   },
   "outputs": [
    {
     "data": {
      "text/plain": [
       "461937"
      ]
     },
     "execution_count": 31,
     "metadata": {},
     "output_type": "execute_result"
    }
   ],
   "source": [
    "int(0x70c71)"
   ]
  },
  {
   "cell_type": "markdown",
   "id": "031dee86-1ec3-4cc8-a5bc-88a96b7e0cd6",
   "metadata": {},
   "source": [
    "## Part 2"
   ]
  },
  {
   "cell_type": "code",
   "execution_count": 72,
   "id": "e4e114f5-a6ce-4b82-9ff8-ac3dbc80d020",
   "metadata": {
    "tags": []
   },
   "outputs": [],
   "source": [
    "convertDirectionMap = { 0:'R', 1:'D', 2:'L', 3:'U'}\n",
    "def convertInstructions(instructions):\n",
    "    newInstructions = []\n",
    "    for _,_,code in instructions:\n",
    "        hexnum = '0x'+code[:-1]\n",
    "        steps = int(hexnum,16)\n",
    "        newInstructions.append((convertDirectionMap[int(code[-1])],steps,'dummy'))\n",
    "    return newInstructions\n",
    "        \n",
    "def calcAreaPart2(instructions): \n",
    "    area = 0\n",
    "    i = 0\n",
    "    j = 0\n",
    "    n = 0\n",
    "    vertices=[(0,0)]\n",
    "    for direction,stepsize,_ in instructions:\n",
    "        \n",
    "        for k in range(stepsize): # xi*yi+1 - xi+1*yi #shoelace formula #well... I think I actually calculate the area of the polygon mirrored at x=y\n",
    "            n +=1\n",
    "            area += ((vertices[-1][0]+k*directionMap[direction][0])*(vertices[-1][1]+(k+1)*directionMap[direction][1])\n",
    "                     -(vertices[-1][0]+(k+1)*directionMap[direction][0])*(vertices[-1][1]+k*directionMap[direction][1]))\n",
    "        \n",
    "        i += directionMap[direction][0]*stepsize\n",
    "        j += directionMap[direction][1]*stepsize\n",
    "        vertices.append((i,j))\n",
    "    \n",
    "    area = abs(area//2)\n",
    "    \n",
    "    return area + (n)//2 + 1 # interior+boundary with interior = area - boundary//2 + 1 (Pick's theorem)\n"
   ]
  },
  {
   "cell_type": "code",
   "execution_count": 77,
   "id": "467622c4-b30a-407f-a218-6dc74ff33a69",
   "metadata": {
    "tags": []
   },
   "outputs": [
    {
     "data": {
      "text/plain": [
       "52240187443190"
      ]
     },
     "execution_count": 77,
     "metadata": {},
     "output_type": "execute_result"
    }
   ],
   "source": [
    "calcAreaPart2(convertInstructions(instructions))"
   ]
  }
 ],
 "metadata": {
  "kernelspec": {
   "display_name": "Python 3 (ipykernel)",
   "language": "python",
   "name": "python3"
  },
  "language_info": {
   "codemirror_mode": {
    "name": "ipython",
    "version": 3
   },
   "file_extension": ".py",
   "mimetype": "text/x-python",
   "name": "python",
   "nbconvert_exporter": "python",
   "pygments_lexer": "ipython3",
   "version": "3.11.5"
  }
 },
 "nbformat": 4,
 "nbformat_minor": 5
}
