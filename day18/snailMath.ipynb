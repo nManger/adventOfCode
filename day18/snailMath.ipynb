{
 "cells": [
  {
   "cell_type": "markdown",
   "id": "f5029316-68d6-43f5-a406-751b89496649",
   "metadata": {},
   "source": [
    "## Load Data"
   ]
  },
  {
   "cell_type": "code",
   "execution_count": 65,
   "id": "4c2192c1-b00c-418d-ba36-944d6e63ebdf",
   "metadata": {},
   "outputs": [
    {
     "data": {
      "text/plain": [
       "parseData (generic function with 1 method)"
      ]
     },
     "execution_count": 65,
     "metadata": {},
     "output_type": "execute_result"
    }
   ],
   "source": [
    "function parseData(data::String)\n",
    "    dataLines = split(data,\"\\n\")\n",
    "    lines = Array[]\n",
    "    \n",
    "    for line in dataLines\n",
    "        splitLine = split(line,\"\")\n",
    "        depth = 0\n",
    "        expr = []\n",
    "        for c in splitLine\n",
    "            if c == \"[\"\n",
    "                depth += 1\n",
    "            elseif c == \"]\"\n",
    "                depth -= 1\n",
    "            elseif c == \",\"\n",
    "                #do nothing\n",
    "            else\n",
    "                push!(expr,[parse(Int,c),depth])\n",
    "            end\n",
    "        end\n",
    "        push!(lines,expr)\n",
    "    end\n",
    "    return lines\n",
    "end"
   ]
  },
  {
   "cell_type": "code",
   "execution_count": 154,
   "id": "fce7075f-b983-4386-893a-4b1839214736",
   "metadata": {},
   "outputs": [],
   "source": [
    "testData1 = \"[[[0,[4,5]],[0,0]],[[[4,5],[2,6]],[9,5]]]\n",
    "[7,[[[3,7],[4,3]],[[6,3],[8,8]]]]\n",
    "[[2,[[0,8],[3,4]]],[[[6,7],1],[7,[1,6]]]]\n",
    "[[[[2,4],7],[6,[0,5]]],[[[6,8],[2,8]],[[2,1],[4,5]]]]\n",
    "[7,[5,[[3,8],[1,4]]]]\n",
    "[[2,[2,2]],[8,[8,1]]]\n",
    "[2,9]\n",
    "[1,[[[9,3],9],[[9,0],[0,7]]]]\n",
    "[[[5,[7,4]],7],1]\n",
    "[[[[4,2],2],6],[8,7]]\";\n",
    "\n",
    "testData2 = \"[[[0,[5,8]],[[1,7],[9,6]]],[[4,[1,2]],[[1,4],2]]]\n",
    "[[[5,[2,8]],4],[5,[[9,9],0]]]\n",
    "[6,[[[6,2],[5,6]],[[7,6],[4,7]]]]\n",
    "[[[6,[0,7]],[0,9]],[4,[9,[9,0]]]]\n",
    "[[[7,[6,4]],[3,[1,3]]],[[[5,5],1],9]]\n",
    "[[6,[[7,3],[3,2]]],[[[3,8],[5,7]],4]]\n",
    "[[[[5,4],[7,7]],8],[[8,3],8]]\n",
    "[[9,3],[[9,9],[6,[4,9]]]]\n",
    "[[2,[[7,7],7]],[[5,8],[[9,3],[0,2]]]]\n",
    "[[[[5,2],5],[8,[3,7]]],[[5,[7,5]],[4,4]]]\";"
   ]
  },
  {
   "cell_type": "code",
   "execution_count": 155,
   "id": "1c1e25a2-5eac-4676-a867-7a740d3ce9dc",
   "metadata": {
    "tags": []
   },
   "outputs": [],
   "source": [
    "test1 = parseData(testData1);\n",
    "test2 = parseData(testData2);"
   ]
  },
  {
   "cell_type": "code",
   "execution_count": 219,
   "id": "ca9e942b-9407-400a-a15a-025f77c41222",
   "metadata": {},
   "outputs": [],
   "source": [
    "rawData = open(\"snailHomework.txt\") do file\n",
    "    (read(file,String))\n",
    "end\n",
    "homeworkData = parseData(rawData);"
   ]
  },
  {
   "cell_type": "markdown",
   "id": "fce9e4da-f75c-4b82-a8a1-48ad83988b74",
   "metadata": {},
   "source": [
    "## Part 1"
   ]
  },
  {
   "cell_type": "code",
   "execution_count": 210,
   "id": "9962893d-2d58-46ac-a077-0a56f0e0dc7a",
   "metadata": {},
   "outputs": [
    {
     "data": {
      "text/plain": [
       "magnitudeNumber (generic function with 1 method)"
      ]
     },
     "execution_count": 210,
     "metadata": {},
     "output_type": "execute_result"
    }
   ],
   "source": [
    "function explodeNumber(num)\n",
    "    indx = findfirst(x->x[2]>=5,num)\n",
    "    if indx == 1 #exploding first pair\n",
    "        num[3][1] += num[2][1] #add right number to next right\n",
    "        num[2] = [0,num[1][2]-1] #replace exploded pair with single 0\n",
    "        popfirst!(num)\n",
    "        \n",
    "    elseif indx == length(num) -1 #exploding last pair\n",
    "        num[indx-1][1] += num[indx][1] #add left number to next left\n",
    "        num[indx] = [0,num[indx][2]-1] #replace exploded pair with single 0\n",
    "        pop!(num)\n",
    "    else\n",
    "        num[indx-1][1] += num[indx][1]\n",
    "        num[indx+2][1] += num[indx+1][1]\n",
    "        num[indx] = [0,num[indx][2]-1]\n",
    "        deleteat!(num,indx+1)\n",
    "    end\n",
    "end\n",
    "\n",
    "function splitNumber(num)\n",
    "    indx = findfirst(x->x[1]>=10,num)\n",
    "    dummy = num[indx]\n",
    "    num[indx] = [Int(floor(dummy[1]/2)),dummy[2]+1]\n",
    "    insert!(num,indx+1,[Int(ceil(dummy[1]/2)),dummy[2]+1])\n",
    "end\n",
    "\n",
    "function addNumbers(num1, num2)\n",
    "    for i in 1:length(num1)\n",
    "        num1[i][2] +=1\n",
    "    end\n",
    "    for i in 1:length(num2)\n",
    "        num2[i][2] +=1\n",
    "    end\n",
    "    numsum = vcat(num1,num2)\n",
    "    \n",
    "    #reduce numsum\n",
    "    toexplode = findfirst(x->x[2]>=5,numsum)\n",
    "    tosplit = findfirst(x->x[1]>=10,numsum)\n",
    "    #println(numsum)\n",
    "    while !(isnothing(toexplode)) || !(isnothing(tosplit))\n",
    "        if !(isnothing(toexplode))\n",
    "            explodeNumber(numsum)\n",
    "        else\n",
    "            splitNumber(numsum)\n",
    "        end\n",
    "        #println(numsum)\n",
    "        toexplode = findfirst(x->x[2]>=5,numsum)\n",
    "        tosplit = findfirst(x->x[1]>=10,numsum)\n",
    "    end\n",
    "    return numsum\n",
    "end\n",
    "\n",
    "function magnitudeNumber(num)\n",
    "    maxdepth = maximum([x[2] for x in num])\n",
    "    #println(maxdepth)\n",
    "    for depth in maxdepth:-1:1\n",
    "        indxs = findall(x->x[2]==depth,num)\n",
    "        #println(num)\n",
    "        #println(indxs)\n",
    "        for i in (length(indxs)-1):-2:1 #reverse iterate through list so we can delete in place\n",
    "            #replace first element in pair with magnitude and reduce its depth, and delete second element\n",
    "            num[indxs[i]] = [3*num[indxs[i]][1] + 2*num[indxs[i]+1][1], num[indxs[i]][2]-1]\n",
    "            deleteat!(num,indxs[i]+1)\n",
    "        end\n",
    "    end\n",
    "    return num[1][1]\n",
    "end"
   ]
  },
  {
   "cell_type": "code",
   "execution_count": 211,
   "id": "d1304396-feaa-4d8d-8c35-b9ef797951ca",
   "metadata": {},
   "outputs": [
    {
     "name": "stdout",
     "output_type": "stream",
     "text": [
      "Any[[6, 4], [6, 4], [7, 4], [6, 4], [7, 4], [7, 4], [7, 4], [0, 4], [7, 4], [7, 4], [7, 4], [7, 4], [7, 4], [8, 4], [9, 4], [9, 4]]\n"
     ]
    },
    {
     "data": {
      "text/plain": [
       "4140"
      ]
     },
     "execution_count": 211,
     "metadata": {},
     "output_type": "execute_result"
    }
   ],
   "source": [
    "sumTest2 = deepcopy(test2[1])\n",
    "for i in 2:length(test2)\n",
    "    sumTest2 = addNumbers(sumTest2,deepcopy(test2[i]))    \n",
    "end\n",
    "println(sumTest2)\n",
    "magnitudeNumber(sumTest2)"
   ]
  },
  {
   "cell_type": "code",
   "execution_count": 216,
   "id": "d93ef893-c5da-45e2-8a62-9c23d59528dc",
   "metadata": {},
   "outputs": [
    {
     "name": "stdout",
     "output_type": "stream",
     "text": [
      "Any[[6, 4], [7, 4], [7, 4], [7, 4], [0, 4], [7, 4], [7, 4], [7, 4], [7, 4], [7, 4], [8, 4], [8, 4], [8, 4], [7, 4], [3, 3]]\n"
     ]
    },
    {
     "data": {
      "text/plain": [
       "3756"
      ]
     },
     "execution_count": 216,
     "metadata": {},
     "output_type": "execute_result"
    }
   ],
   "source": [
    "sumHw = deepcopy(homeworkData[1])\n",
    "for i in 2:length(homeworkData)\n",
    "    sumHw = addNumbers(sumHw,deepcopy(homeworkData[i]))\n",
    "end\n",
    "println(sumHw)\n",
    "magnitudeNumber(sumHw)"
   ]
  },
  {
   "cell_type": "markdown",
   "id": "7107de1d-cbe9-4c91-bf25-1caf995f4407",
   "metadata": {
    "jp-MarkdownHeadingCollapsed": true,
    "tags": []
   },
   "source": [
    "### Testing explosion"
   ]
  },
  {
   "cell_type": "code",
   "execution_count": 95,
   "id": "0f9d378d-de7d-4c04-86d6-0051b6783b39",
   "metadata": {},
   "outputs": [
    {
     "name": "stdout",
     "output_type": "stream",
     "text": [
      "Any[[9, 5], [8, 5], [1, 4], [2, 3], [3, 2], [4, 1]]\n",
      "Any[[0, 4], [9, 4], [2, 3], [3, 2], [4, 1]]\n"
     ]
    }
   ],
   "source": [
    "teste = parseData(\"[[[[[9,8],1],2],3],4]\")[1]\n",
    "println(teste)\n",
    "explodeNumber(teste)\n",
    "println(teste)"
   ]
  },
  {
   "cell_type": "code",
   "execution_count": 96,
   "id": "3d7ce3c3-7569-4a95-b5bc-3b9b0060ff0e",
   "metadata": {},
   "outputs": [
    {
     "name": "stdout",
     "output_type": "stream",
     "text": [
      "Any[[7, 1], [6, 2], [5, 3], [4, 4], [3, 5], [2, 5]]\n",
      "Any[[7, 1], [6, 2], [5, 3], [7, 4], [0, 4]]\n"
     ]
    }
   ],
   "source": [
    "teste = parseData(\"[7,[6,[5,[4,[3,2]]]]]\")[1]\n",
    "println(teste)\n",
    "explodeNumber(teste)\n",
    "println(teste)"
   ]
  },
  {
   "cell_type": "code",
   "execution_count": 97,
   "id": "eb2527ae-182f-4fd6-b75f-dac084176845",
   "metadata": {},
   "outputs": [
    {
     "name": "stdout",
     "output_type": "stream",
     "text": [
      "Any[[6, 2], [5, 3], [4, 4], [3, 5], [2, 5], [1, 1]]\n",
      "Any[[6, 2], [5, 3], [7, 4], [0, 4], [3, 1]]\n"
     ]
    }
   ],
   "source": [
    "teste = parseData(\"[[6,[5,[4,[3,2]]]],1]\")[1]\n",
    "println(teste)\n",
    "explodeNumber(teste)\n",
    "println(teste)"
   ]
  },
  {
   "cell_type": "markdown",
   "id": "95e57bd2-ff92-4e10-9daf-91f6ceff2d5f",
   "metadata": {
    "jp-MarkdownHeadingCollapsed": true,
    "tags": []
   },
   "source": [
    "### Testing addition"
   ]
  },
  {
   "cell_type": "code",
   "execution_count": 132,
   "id": "e35fde6e-d768-4b12-8ccf-9ae3224ec9ca",
   "metadata": {},
   "outputs": [
    {
     "name": "stdout",
     "output_type": "stream",
     "text": [
      "Any[[4, 5], [3, 5], [4, 4], [4, 3], [7, 3], [8, 5], [4, 5], [9, 4], [1, 2], [1, 2]]\n",
      "Any[[0, 4], [7, 4], [4, 3], [7, 3], [8, 5], [4, 5], [9, 4], [1, 2], [1, 2]]\n",
      "Any[[0, 4], [7, 4], [4, 3], [15, 3], [0, 4], [13, 4], [1, 2], [1, 2]]\n",
      "Any[[0, 4], [7, 4], [4, 3], [7, 4], [8, 4], [0, 4], [13, 4], [1, 2], [1, 2]]\n",
      "Any[[0, 4], [7, 4], [4, 3], [7, 4], [8, 4], [0, 4], [6, 5], [7, 5], [1, 2], [1, 2]]\n",
      "Any[[0, 4], [7, 4], [4, 3], [7, 4], [8, 4], [6, 4], [0, 4], [8, 2], [1, 2]]\n"
     ]
    },
    {
     "data": {
      "text/plain": [
       "9-element Array{Any,1}:\n",
       " [0, 4]\n",
       " [7, 4]\n",
       " [4, 3]\n",
       " [7, 4]\n",
       " [8, 4]\n",
       " [6, 4]\n",
       " [0, 4]\n",
       " [8, 2]\n",
       " [1, 2]"
      ]
     },
     "execution_count": 132,
     "metadata": {},
     "output_type": "execute_result"
    }
   ],
   "source": [
    "num1 = parseData(\"[[[[4,3],4],4],[7,[[8,4],9]]]\")[1]\n",
    "num2 = parseData(\"[1,1]\")[1]\n",
    "addNumbers(num1,num2)"
   ]
  },
  {
   "cell_type": "code",
   "execution_count": 156,
   "id": "77301a37-fbd7-46ef-8b43-96c1782f04f1",
   "metadata": {},
   "outputs": [
    {
     "name": "stdout",
     "output_type": "stream",
     "text": [
      "Any[[4, 4], [0, 4], [5, 4], [4, 4], [7, 4], [7, 4], [6, 4], [0, 4], [8, 3], [7, 4], [7, 4], [7, 4], [9, 4], [5, 4], [0, 4]]\n",
      "Any[[6, 4], [7, 4], [6, 4], [7, 4], [7, 4], [7, 4], [0, 4], [7, 4], [8, 4], [7, 4], [7, 4], [7, 4], [8, 4], [8, 4], [8, 4], [0, 4]]\n",
      "Any[[7, 4], [0, 4], [7, 4], [7, 4], [7, 4], [7, 4], [7, 4], [8, 4], [7, 4], [7, 4], [8, 4], [8, 4], [7, 4], [7, 4], [8, 4], [7, 4]]\n",
      "Any[[7, 4], [7, 4], [7, 4], [8, 4], [9, 4], [5, 4], [8, 4], [7, 4], [6, 4], [8, 4], [0, 4], [8, 4], [9, 4], [9, 4], [9, 4], [0, 4]]\n",
      "Any[[6, 4], [6, 4], [6, 4], [6, 4], [6, 4], [0, 4], [6, 4], [7, 4], [7, 4], [7, 4], [8, 4], [9, 4], [8, 3], [8, 4], [1, 4]]\n",
      "Any[[6, 4], [6, 4], [7, 4], [7, 4], [0, 4], [7, 4], [7, 4], [7, 4], [5, 4], [5, 4], [5, 4], [6, 4], [9, 2]]\n",
      "Any[[7, 4], [8, 4], [6, 4], [7, 4], [6, 4], [8, 4], [0, 4], [8, 4], [7, 4], [7, 4], [5, 4], [0, 4], [5, 4], [5, 4], [5, 4], [6, 4]]\n",
      "Any[[7, 4], [7, 4], [7, 4], [7, 4], [8, 4], [7, 4], [8, 4], [7, 4], [7, 4], [0, 4], [7, 4], [7, 4], [9, 2]]\n",
      "Any[[8, 4], [7, 4], [7, 4], [7, 4], [8, 4], [6, 4], [7, 4], [7, 4], [0, 4], [7, 4], [6, 4], [6, 4], [8, 3], [7, 3]]\n"
     ]
    }
   ],
   "source": [
    "mysum = deepcopy(test1[1])\n",
    "for i in 2:length(test1)\n",
    "    mysum = addNumbers(mysum,deepcopy(test1[i]))\n",
    "    println(mysum)\n",
    "end"
   ]
  },
  {
   "cell_type": "code",
   "execution_count": 157,
   "id": "9bcd3bf8-78c4-429a-afec-ab48f1163c3b",
   "metadata": {},
   "outputs": [
    {
     "data": {
      "text/plain": [
       "6-element Array{Any,1}:\n",
       " [4, 4]\n",
       " [2, 4]\n",
       " [2, 3]\n",
       " [6, 2]\n",
       " [8, 2]\n",
       " [7, 2]"
      ]
     },
     "execution_count": 157,
     "metadata": {},
     "output_type": "execute_result"
    }
   ],
   "source": [
    "test1[10]"
   ]
  },
  {
   "cell_type": "markdown",
   "id": "499c0a4d-1d2f-4b6f-ab7d-c8569f4ba728",
   "metadata": {
    "jp-MarkdownHeadingCollapsed": true,
    "tags": []
   },
   "source": [
    "### Testing magnitude"
   ]
  },
  {
   "cell_type": "code",
   "execution_count": 195,
   "id": "aba07081-6c6e-4521-92b3-c06954436843",
   "metadata": {},
   "outputs": [
    {
     "name": "stdout",
     "output_type": "stream",
     "text": [
      "Any[[9, 1], [1, 1]]\n",
      "[1, 2]\n"
     ]
    },
    {
     "data": {
      "text/plain": [
       "29"
      ]
     },
     "execution_count": 195,
     "metadata": {},
     "output_type": "execute_result"
    }
   ],
   "source": [
    "testm = parseData(\"[9,1]\")[1]\n",
    "magnitudeNumber(testm)"
   ]
  },
  {
   "cell_type": "code",
   "execution_count": 196,
   "id": "20ff4882-363f-4863-90bf-44f2cb0dee39",
   "metadata": {},
   "outputs": [
    {
     "name": "stdout",
     "output_type": "stream",
     "text": [
      "Any[[1, 2], [2, 2], [3, 3], [4, 3], [5, 2]]\n",
      "Any[[1, 2], [2, 2], [3, 3], [4, 3], [5, 2]]\n",
      "[3, 4]\n",
      "Any[[1, 2], [2, 2], [17, 2], [5, 2]]\n",
      "[1, 2, 3, 4]\n",
      "Any[[7, 1], [61, 1]]\n",
      "[1, 2]\n"
     ]
    },
    {
     "data": {
      "text/plain": [
       "143"
      ]
     },
     "execution_count": 196,
     "metadata": {},
     "output_type": "execute_result"
    }
   ],
   "source": [
    "testm = parseData(\"[[1,2],[[3,4],5]]\")[1]\n",
    "println(testm)\n",
    "magnitudeNumber(testm)"
   ]
  },
  {
   "cell_type": "code",
   "execution_count": 198,
   "id": "9f1a98fe-c329-48ca-960b-c4be021545dc",
   "metadata": {},
   "outputs": [
    {
     "name": "stdout",
     "output_type": "stream",
     "text": [
      "Any[[0, 4], [7, 4], [4, 3], [7, 4], [8, 4], [6, 4], [0, 4], [8, 2], [1, 2]]\n"
     ]
    },
    {
     "data": {
      "text/plain": [
       "1384"
      ]
     },
     "execution_count": 198,
     "metadata": {},
     "output_type": "execute_result"
    }
   ],
   "source": [
    "testm = parseData(\"[[[[0,7],4],[[7,8],[6,0]]],[8,1]]\")[1]\n",
    "println(testm)\n",
    "magnitudeNumber(testm)"
   ]
  },
  {
   "cell_type": "code",
   "execution_count": 200,
   "id": "ee2f7336-111f-4060-b7e5-98a556043062",
   "metadata": {},
   "outputs": [
    {
     "name": "stdout",
     "output_type": "stream",
     "text": [
      "Any[[8, 4], [7, 4], [7, 4], [7, 4], [8, 4], [6, 4], [7, 4], [7, 4], [0, 4], [7, 4], [6, 4], [6, 4], [8, 3], [7, 3]]\n"
     ]
    },
    {
     "data": {
      "text/plain": [
       "3488"
      ]
     },
     "execution_count": 200,
     "metadata": {},
     "output_type": "execute_result"
    }
   ],
   "source": [
    "testm = parseData(\"[[[[8,7],[7,7]],[[8,6],[7,7]]],[[[0,7],[6,6]],[8,7]]]\")[1]\n",
    "println(testm)\n",
    "magnitudeNumber(testm)"
   ]
  },
  {
   "cell_type": "markdown",
   "id": "600d7a47-f491-4490-bfb8-508cf5077ed2",
   "metadata": {},
   "source": [
    "## Part2"
   ]
  },
  {
   "cell_type": "code",
   "execution_count": 217,
   "id": "68ce6090-a240-4283-9b08-ce029728bc64",
   "metadata": {},
   "outputs": [
    {
     "data": {
      "text/plain": [
       "3993"
      ]
     },
     "execution_count": 217,
     "metadata": {},
     "output_type": "execute_result"
    }
   ],
   "source": [
    "maxMagnitude = 0\n",
    "for i in 1:length(test2),j in 1:length(test2)\n",
    "    if i == j\n",
    "        continue\n",
    "    end\n",
    "    magn = magnitudeNumber(addNumbers(deepcopy(test2[i]),deepcopy(test2[j])))\n",
    "    if magn > maxMagnitude\n",
    "        maxMagnitude = magn\n",
    "    end\n",
    "end\n",
    "maxMagnitude"
   ]
  },
  {
   "cell_type": "code",
   "execution_count": 220,
   "id": "a68b61b5-e198-473e-820b-66a9a8669d39",
   "metadata": {},
   "outputs": [
    {
     "data": {
      "text/plain": [
       "4585"
      ]
     },
     "execution_count": 220,
     "metadata": {},
     "output_type": "execute_result"
    }
   ],
   "source": [
    "maxMagnitude = 0\n",
    "for i in 1:length(homeworkData),j in 1:length(homeworkData)\n",
    "    if i == j\n",
    "        continue\n",
    "    end\n",
    "    magn = magnitudeNumber(addNumbers(deepcopy(homeworkData[i]),deepcopy(homeworkData[j])))\n",
    "    if magn > maxMagnitude\n",
    "        maxMagnitude = magn\n",
    "    end\n",
    "end\n",
    "maxMagnitude"
   ]
  },
  {
   "cell_type": "code",
   "execution_count": null,
   "id": "3f96cf20-b700-41b9-a414-bed387ab5c95",
   "metadata": {},
   "outputs": [],
   "source": []
  }
 ],
 "metadata": {
  "kernelspec": {
   "display_name": "Julia 1.4.1",
   "language": "julia",
   "name": "julia-1.4"
  },
  "language_info": {
   "file_extension": ".jl",
   "mimetype": "application/julia",
   "name": "julia",
   "version": "1.4.1"
  }
 },
 "nbformat": 4,
 "nbformat_minor": 5
}
