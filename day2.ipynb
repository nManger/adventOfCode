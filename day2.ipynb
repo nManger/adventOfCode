{
 "cells": [
  {
   "cell_type": "markdown",
   "id": "6d3c962b-7990-4591-9e05-4e51e330c941",
   "metadata": {},
   "source": [
    "# Day2: Cube Conundrum"
   ]
  },
  {
   "cell_type": "code",
   "execution_count": 31,
   "id": "96487961-e35c-4f32-b07b-7b560203a206",
   "metadata": {
    "tags": []
   },
   "outputs": [],
   "source": [
    "'''\n",
    "Parse input into a list of lists: 1st index is game-1, 2nd index is draw, 3rd index is [red,green,blue]\n",
    "returns list<list<list<int>>> gameList\n",
    "'''\n",
    "def parseInput(filename):\n",
    "    gameList = [] # list<list<list<int>>>\n",
    "    with open(filename,'r') as f:\n",
    "        for line in f:\n",
    "            gameList.append([])\n",
    "            splitLine = line.split(':')\n",
    "            \n",
    "            game = int((splitLine[0].split())[1])\n",
    "            #print('game: ',game)\n",
    "            \n",
    "            draws = splitLine[1].split(';')\n",
    "            \n",
    "            ndraw=0\n",
    "            for draw in draws:\n",
    "                gameList[game-1].append([0,0,0])\n",
    "                #print(gameList)\n",
    "                cubeList = draw.split(',')\n",
    "                for cubes in cubeList:\n",
    "                    num,color = cubes.split()\n",
    "                    num = int(num)\n",
    "                    if color == 'red':\n",
    "                        gameList[game-1][ndraw][0] = num\n",
    "                    elif color == 'green':\n",
    "                        gameList[game-1][ndraw][1] = num\n",
    "                    elif color == 'blue':\n",
    "                        gameList[game-1][ndraw][2] = num\n",
    "                    else:\n",
    "                        raise ValueError('Allowed colors are: red, green, blue')\n",
    "                ndraw+=1\n",
    "    return gameList    "
   ]
  },
  {
   "cell_type": "raw",
   "id": "6e5dca27-4892-4b37-8528-21be817fb310",
   "metadata": {
    "jupyter": {
     "source_hidden": true
    },
    "tags": []
   },
   "source": [
    "test= \"Game 1: 3 blue, 4 red; 1 red, 2 green, 6 blue; 2 green\"\n",
    "splits=test.split(':')\n",
    "print(splits)\n",
    "splits=splits[1].split(';')\n",
    "print(splits)\n",
    "cubes=[]\n",
    "for item in splits:\n",
    "    cubes.append(item.split(','))\n",
    "print(cubes)\n",
    "for cubelist in cubes:\n",
    "    for item in cubelist:\n",
    "        print(item.split())"
   ]
  },
  {
   "cell_type": "raw",
   "id": "08b1d78d-d559-4000-b33f-da461eae059a",
   "metadata": {
    "jupyter": {
     "outputs_hidden": true,
     "source_hidden": true
    },
    "tags": []
   },
   "source": [
    "test2= '2 green'\n",
    "num, color = test2.split()\n",
    "print('num:',num,'color:', color)"
   ]
  },
  {
   "cell_type": "code",
   "execution_count": 80,
   "id": "36730984-ce6b-4e6c-ba25-1f9c595edcf1",
   "metadata": {
    "tags": []
   },
   "outputs": [],
   "source": [
    "#inputFile = \"../testInputs/day2.txt\"\n",
    "inputFile = \"../inputs/day2.txt\"\n",
    "\n",
    "puzzleInput = parseInput(inputFile)"
   ]
  },
  {
   "cell_type": "markdown",
   "id": "e7a1b90f-253e-432e-90b0-01861c0a8171",
   "metadata": {
    "tags": []
   },
   "source": [
    "## Part 1"
   ]
  },
  {
   "cell_type": "code",
   "execution_count": 62,
   "id": "063546b6-dfda-4614-a684-f40d9f45f9c9",
   "metadata": {
    "tags": []
   },
   "outputs": [],
   "source": [
    "def findGameIds(gameList,totalCubes):\n",
    "    gameIds = []\n",
    "    for i in range(len(gameList)):\n",
    "        gameIsPossible = True\n",
    "        for j in range(len(gameList[i])):\n",
    "            for k in range(3):\n",
    "                if gameList[i][j][k] > totalCubes[k]:\n",
    "                    gameIsPossible = False\n",
    "                    break\n",
    "            if gameIsPossible == False:\n",
    "                break\n",
    "        if gameIsPossible:\n",
    "            gameIds.append(i+1)\n",
    "    return gameIds"
   ]
  },
  {
   "cell_type": "code",
   "execution_count": 71,
   "id": "f6d7e512-92fa-4589-b812-bda6d951636c",
   "metadata": {
    "tags": []
   },
   "outputs": [
    {
     "data": {
      "text/plain": [
       "2683"
      ]
     },
     "execution_count": 71,
     "metadata": {},
     "output_type": "execute_result"
    }
   ],
   "source": [
    "ids=findGameIds(puzzleInput,[12,13,14])\n",
    "sum(ids)"
   ]
  },
  {
   "cell_type": "markdown",
   "id": "91d3ae05-2833-4a6f-8b2e-beba6cb3d2ee",
   "metadata": {},
   "source": [
    "## Part 2"
   ]
  },
  {
   "cell_type": "code",
   "execution_count": 76,
   "id": "96fe18e2-b4d9-4b0e-b6ca-ce082a59a00d",
   "metadata": {
    "tags": []
   },
   "outputs": [],
   "source": [
    "def findMinCubesInBag(gameList): \n",
    "    minCubesList= []\n",
    "    for game in gameList:\n",
    "        minCubes = [0,0,0]\n",
    "        for i in range(0,len(game)):\n",
    "            for j in range(3):\n",
    "                if game[i][j] > minCubes[j]:\n",
    "                    minCubes[j] = game[i][j]\n",
    "        minCubesList.append(minCubes)\n",
    "    return minCubesList\n",
    "            \n",
    "    \n",
    "def getCubeSetPower(cubesList):\n",
    "    return [r*b*g for (r,g,b) in cubesList]\n",
    "    "
   ]
  },
  {
   "cell_type": "code",
   "execution_count": 81,
   "id": "debc730e-8f11-4486-b9dd-8f328ed194a1",
   "metadata": {
    "tags": []
   },
   "outputs": [
    {
     "data": {
      "text/plain": [
       "49710"
      ]
     },
     "execution_count": 81,
     "metadata": {},
     "output_type": "execute_result"
    }
   ],
   "source": [
    "cubesList=findMinCubesInBag(puzzleInput)\n",
    "#print(cubesList)\n",
    "power = getCubeSetPower(cubesList)\n",
    "#print(power)\n",
    "sum(power)"
   ]
  },
  {
   "cell_type": "raw",
   "id": "bcbe1c6a-a749-42a7-83b4-5ea02a38c74a",
   "metadata": {
    "jupyter": {
     "source_hidden": true
    },
    "tags": []
   },
   "source": [
    "Game 1 4 red, 2 green, and 6 blue cubes\n",
    "Game 2 1 red, 3 green, and 4 blue cubes.\n",
    "Game 3 20 red, 13 green, and 6 blue cubes.\n",
    "Game 4 14 red, 3 green, and 15 blue cubes.\n",
    "Game 5 6 red, 3 green, and 2 blue cubes.\n",
    "\n",
    "Power: 48, 12, 1560, 630, 36\n",
    "sum 2286"
   ]
  }
 ],
 "metadata": {
  "kernelspec": {
   "display_name": "Python 3 (ipykernel)",
   "language": "python",
   "name": "python3"
  },
  "language_info": {
   "codemirror_mode": {
    "name": "ipython",
    "version": 3
   },
   "file_extension": ".py",
   "mimetype": "text/x-python",
   "name": "python",
   "nbconvert_exporter": "python",
   "pygments_lexer": "ipython3",
   "version": "3.11.5"
  }
 },
 "nbformat": 4,
 "nbformat_minor": 5
}
