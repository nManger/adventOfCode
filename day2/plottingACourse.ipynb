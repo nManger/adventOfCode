{
 "cells": [
  {
   "cell_type": "markdown",
   "id": "756f9d89-64aa-478b-bd75-4e54a717a636",
   "metadata": {},
   "source": [
    "## Read input and prepare data"
   ]
  },
  {
   "cell_type": "code",
   "execution_count": 1,
   "id": "83cd8ed6-f7de-44a7-b96d-422000641680",
   "metadata": {},
   "outputs": [],
   "source": [
    "using DelimitedFiles"
   ]
  },
  {
   "cell_type": "code",
   "execution_count": 3,
   "id": "a8372e7e-ec07-4dc5-893b-319a6c7bbb0a",
   "metadata": {
    "tags": []
   },
   "outputs": [],
   "source": [
    "course_data = readdlm(\"courseCorrections.txt\");"
   ]
  },
  {
   "cell_type": "markdown",
   "id": "88983c52-c2c3-458f-a416-1baf2a0eb292",
   "metadata": {},
   "source": [
    "## Part 1"
   ]
  },
  {
   "cell_type": "code",
   "execution_count": 35,
   "id": "0da76ef6-019e-429d-8ac2-b4577be54dc2",
   "metadata": {},
   "outputs": [
    {
     "data": {
      "text/plain": [
       "0"
      ]
     },
     "execution_count": 35,
     "metadata": {},
     "output_type": "execute_result"
    }
   ],
   "source": [
    "horizontal=0\n",
    "depth=0"
   ]
  },
  {
   "cell_type": "code",
   "execution_count": 36,
   "id": "4f3c5002-3dcd-48f2-b241-9a5e91305984",
   "metadata": {},
   "outputs": [],
   "source": [
    "for i in 1:length(course_data[:,1])\n",
    "    if course_data[i,1] == \"down\"\n",
    "        depth += course_data[i,2]\n",
    "    elseif course_data[i,1] == \"up\"\n",
    "        depth -= course_data[i,2]\n",
    "    elseif course_data[i,1] == \"forward\"\n",
    "        horizontal += course_data[i,2]\n",
    "    else\n",
    "        error(\"I don't know where to go ...\")\n",
    "    end\n",
    "end"
   ]
  },
  {
   "cell_type": "code",
   "execution_count": 37,
   "id": "f9b430e9-5aa4-4ccb-b5b3-e5f3a64ad406",
   "metadata": {},
   "outputs": [
    {
     "data": {
      "text/plain": [
       "(1971, 830)"
      ]
     },
     "execution_count": 37,
     "metadata": {},
     "output_type": "execute_result"
    }
   ],
   "source": [
    "horizontal, depth"
   ]
  },
  {
   "cell_type": "code",
   "execution_count": 38,
   "id": "e2580754-1f49-42cb-9d55-b524140e269b",
   "metadata": {},
   "outputs": [
    {
     "data": {
      "text/plain": [
       "1635930"
      ]
     },
     "execution_count": 38,
     "metadata": {},
     "output_type": "execute_result"
    }
   ],
   "source": [
    "horizontal*depth"
   ]
  },
  {
   "cell_type": "markdown",
   "id": "43612394-be11-46f3-9a8f-16f27ff1dc9a",
   "metadata": {},
   "source": [
    "## Part 2"
   ]
  },
  {
   "cell_type": "code",
   "execution_count": 39,
   "id": "ee662155-7872-4dbc-b153-937820420c30",
   "metadata": {},
   "outputs": [
    {
     "data": {
      "text/plain": [
       "0"
      ]
     },
     "execution_count": 39,
     "metadata": {},
     "output_type": "execute_result"
    }
   ],
   "source": [
    "horizontal=0\n",
    "depth=0\n",
    "aim = 0"
   ]
  },
  {
   "cell_type": "code",
   "execution_count": 40,
   "id": "59d4aedc-bc6a-4019-8040-439d370f7b54",
   "metadata": {},
   "outputs": [],
   "source": [
    "for i in 1:length(course_data[:,1])\n",
    "    if course_data[i,1] == \"down\"\n",
    "        aim += course_data[i,2]\n",
    "    elseif course_data[i,1] == \"up\"\n",
    "        aim -= course_data[i,2]\n",
    "    elseif course_data[i,1] == \"forward\"\n",
    "        horizontal += course_data[i,2]\n",
    "        depth += course_data[i,2]*aim\n",
    "    else\n",
    "        error(\"I don't know where to go ...\")\n",
    "    end\n",
    "end"
   ]
  },
  {
   "cell_type": "code",
   "execution_count": 41,
   "id": "c34329c2-7565-4ee1-9223-81e5a2aa3801",
   "metadata": {},
   "outputs": [
    {
     "data": {
      "text/plain": [
       "(1971, 904018)"
      ]
     },
     "execution_count": 41,
     "metadata": {},
     "output_type": "execute_result"
    }
   ],
   "source": [
    "horizontal, depth"
   ]
  },
  {
   "cell_type": "code",
   "execution_count": 42,
   "id": "2f9e4639-c7d3-4988-a677-3cb2ef084cad",
   "metadata": {},
   "outputs": [
    {
     "data": {
      "text/plain": [
       "1781819478"
      ]
     },
     "execution_count": 42,
     "metadata": {},
     "output_type": "execute_result"
    }
   ],
   "source": [
    "horizontal*depth"
   ]
  },
  {
   "cell_type": "code",
   "execution_count": null,
   "id": "a7c5a395-bd78-40bd-ac11-e0357a37a78a",
   "metadata": {},
   "outputs": [],
   "source": []
  }
 ],
 "metadata": {
  "kernelspec": {
   "display_name": "Julia 1.4.1",
   "language": "julia",
   "name": "julia-1.4"
  },
  "language_info": {
   "file_extension": ".jl",
   "mimetype": "application/julia",
   "name": "julia",
   "version": "1.4.1"
  }
 },
 "nbformat": 4,
 "nbformat_minor": 5
}
