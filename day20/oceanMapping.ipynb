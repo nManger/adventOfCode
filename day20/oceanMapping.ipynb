{
 "cells": [
  {
   "cell_type": "markdown",
   "id": "f366dd7c-2d2f-45b5-8e3c-aefaa0210898",
   "metadata": {},
   "source": [
    "## Load Data"
   ]
  },
  {
   "cell_type": "code",
   "execution_count": 1,
   "id": "a4b8818e-37e4-4ca7-b37d-3f6028c6eeb3",
   "metadata": {},
   "outputs": [],
   "source": [
    "rawData = readlines(\"oceanFloor.txt\");"
   ]
  },
  {
   "cell_type": "code",
   "execution_count": 14,
   "id": "b80720a4-a6e3-4a38-9c5e-c1259db28925",
   "metadata": {},
   "outputs": [
    {
     "data": {
      "text/plain": [
       "convertInput (generic function with 1 method)"
      ]
     },
     "execution_count": 14,
     "metadata": {},
     "output_type": "execute_result"
    }
   ],
   "source": [
    "function convertInput(input::String)\n",
    "    len = length(input)\n",
    "    conv = Array{Int32}(undef,len)\n",
    "    for i in 1:len\n",
    "        if input[i] == '.'\n",
    "            conv[i] = 0\n",
    "        else\n",
    "            conv[i] = 1\n",
    "        end\n",
    "    end\n",
    "    return conv\n",
    "end"
   ]
  },
  {
   "cell_type": "code",
   "execution_count": 19,
   "id": "74093f3e-e797-473b-ab5c-a6351fa02803",
   "metadata": {},
   "outputs": [],
   "source": [
    "mask = convertInput(rawData[1]);\n",
    "image = Array{Int32}(undef,length(rawData[3:end]),length(rawData[3]))\n",
    "for (i,s) in enumerate(rawData[3:end])\n",
    "    image[i,:] = convertInput(s);\n",
    "end"
   ]
  },
  {
   "cell_type": "code",
   "execution_count": 32,
   "id": "83459cf1-1238-421c-80e8-efbc3cd95bb7",
   "metadata": {},
   "outputs": [],
   "source": [
    "rawDataTest = \"..#.#..#####.#.#.#.###.##.....###.##.#..###.####..#####..#....#..#..##..###..######.###...####..#..#####..##..#.#####...##.#.#..#.##..#.#......#.###.######.###.####...#.##.##..#..#..#####.....#.#....###..#.##......#.....#..#..#..##..#...##.######.####.####.#.#...#.......#..#.#.#...####.##.#......#..#...##.#.##..#...##.#.##..###.#......#.#.......#.#.#.####.###.##...#.....####.#..#..#.##.#....##..#.####....##...##..#...#......#.#.......#.......##..####..#...#.#.#...##..#.#..###..#####........#..####......#..#\n",
    "\n",
    "#..#.\n",
    "#....\n",
    "##..#\n",
    "..#..\n",
    "..###\";"
   ]
  },
  {
   "cell_type": "code",
   "execution_count": 33,
   "id": "da8ae053-7f55-401f-8bea-0a8aa82188de",
   "metadata": {},
   "outputs": [],
   "source": [
    "rawDataTest=String.(split(rawDataTest,\"\\n\"))\n",
    "maskTest = convertInput(rawDataTest[1]);\n",
    "imageTest = Array{Int32}(undef,length(rawDataTest[3:end]),length(rawDataTest[3]))\n",
    "for (i,s) in enumerate(rawDataTest[3:end])\n",
    "    imageTest[i,:] = convertInput(s);\n",
    "end"
   ]
  },
  {
   "cell_type": "markdown",
   "id": "75064206-c64d-4efb-819f-e1b986f77389",
   "metadata": {},
   "source": [
    "## Part 1"
   ]
  },
  {
   "cell_type": "code",
   "execution_count": 66,
   "id": "f36eb905-982c-4ab9-8b9c-c4c8d38f273c",
   "metadata": {},
   "outputs": [
    {
     "data": {
      "text/plain": [
       "enhanceImage (generic function with 1 method)"
      ]
     },
     "execution_count": 66,
     "metadata": {},
     "output_type": "execute_result"
    }
   ],
   "source": [
    "function enhanceImage(inImage::Array{Int32,2},mask::Array{Int32,1};npass=1)\n",
    "    inSize = size(inImage)\n",
    "    # account for extended image turning 1 every second pass if mask[0]==1\n",
    "    if mask[1] == 1 && iseven(npass)\n",
    "        origImage = ones(Int32,inSize[1]+4,inSize[2]+4)\n",
    "    else\n",
    "        origImage = zeros(Int32,inSize[1]+4,inSize[2]+4)\n",
    "    end\n",
    "    origImage[3:end-2,3:end-2] = inImage\n",
    "    outImage = Array{Int32}(undef,inSize[1]+2,inSize[2]+2)\n",
    "    \n",
    "    subImage = Array{Int32}(undef,3,3)\n",
    "    for i in 2:inSize[1]+3, j in 2:inSize[2]+3\n",
    "        \n",
    "        for k in -1:1,l in -1:1\n",
    "            #store subImage transposed so information is already fortran contiguous for later use\n",
    "            subImage[l+2,k+2] = origImage[i+k,j+l]\n",
    "        end\n",
    "        \n",
    "        value = parse(Int,join(string.(subImage)),base=2) #turn image into single binary number and convert to base 10\n",
    "        outImage[i-1,j-1] = mask[value+1] # account for 1-based indexing\n",
    "    end\n",
    "    return outImage\n",
    "end"
   ]
  },
  {
   "cell_type": "code",
   "execution_count": 46,
   "id": "e469d797-5b6f-40e4-8c58-6f2de034ca52",
   "metadata": {},
   "outputs": [
    {
     "data": {
      "text/plain": [
       "5×5 Array{Int32,2}:\n",
       " 1  0  0  1  0\n",
       " 1  0  0  0  0\n",
       " 1  1  0  0  1\n",
       " 0  0  1  0  0\n",
       " 0  0  1  1  1"
      ]
     },
     "execution_count": 46,
     "metadata": {},
     "output_type": "execute_result"
    }
   ],
   "source": [
    "imageTest"
   ]
  },
  {
   "cell_type": "code",
   "execution_count": 69,
   "id": "6b3d2678-2dc2-4249-b1ca-1411a93ac279",
   "metadata": {},
   "outputs": [
    {
     "data": {
      "text/plain": [
       "7×7 Array{Int32,2}:\n",
       " 0  1  1  0  1  1  0\n",
       " 1  0  0  1  0  1  0\n",
       " 1  1  0  1  0  0  1\n",
       " 1  1  1  1  0  0  1\n",
       " 0  1  0  0  1  1  0\n",
       " 0  0  1  1  0  0  1\n",
       " 0  0  0  1  0  1  0"
      ]
     },
     "execution_count": 69,
     "metadata": {},
     "output_type": "execute_result"
    }
   ],
   "source": [
    "pass1t = enhanceImage(imageTest,maskTest)"
   ]
  },
  {
   "cell_type": "code",
   "execution_count": 70,
   "id": "e2f4366b-7bf2-44fe-af15-b59099fc8f39",
   "metadata": {},
   "outputs": [
    {
     "data": {
      "text/plain": [
       "9×9 Array{Int32,2}:\n",
       " 0  0  0  0  0  0  0  1  0\n",
       " 0  1  0  0  1  0  1  0  0\n",
       " 1  0  1  0  0  0  1  1  1\n",
       " 1  0  0  0  1  1  0  1  0\n",
       " 1  0  0  0  0  0  1  0  1\n",
       " 0  1  0  1  1  1  1  1  0\n",
       " 0  0  1  0  1  1  1  1  1\n",
       " 0  0  0  1  1  0  1  1  0\n",
       " 0  0  0  0  1  1  1  0  0"
      ]
     },
     "execution_count": 70,
     "metadata": {},
     "output_type": "execute_result"
    }
   ],
   "source": [
    "pass2t = enhanceImage(pass1t,maskTest)"
   ]
  },
  {
   "cell_type": "code",
   "execution_count": 71,
   "id": "ba310653-2162-48e3-b578-cb92b299ed2d",
   "metadata": {},
   "outputs": [
    {
     "data": {
      "text/plain": [
       "35"
      ]
     },
     "execution_count": 71,
     "metadata": {},
     "output_type": "execute_result"
    }
   ],
   "source": [
    "sum(pass2t)"
   ]
  },
  {
   "cell_type": "code",
   "execution_count": 72,
   "id": "776c8d49-27a8-4f45-aa38-06d7bb1e1e4d",
   "metadata": {},
   "outputs": [
    {
     "data": {
      "text/plain": [
       "5347"
      ]
     },
     "execution_count": 72,
     "metadata": {},
     "output_type": "execute_result"
    }
   ],
   "source": [
    "passN = image\n",
    "for i in 1:2\n",
    "    passN = enhanceImage(passN,mask,npass=i)\n",
    "end\n",
    "sum(passN)"
   ]
  },
  {
   "cell_type": "markdown",
   "id": "ae8d8116-47ac-4bfa-9712-60d9d9518142",
   "metadata": {},
   "source": [
    "## Part 2"
   ]
  },
  {
   "cell_type": "code",
   "execution_count": 73,
   "id": "aa1e1cf4-6d01-4f45-a67a-137bcbbb4ce7",
   "metadata": {},
   "outputs": [
    {
     "data": {
      "text/plain": [
       "17172"
      ]
     },
     "execution_count": 73,
     "metadata": {},
     "output_type": "execute_result"
    }
   ],
   "source": [
    "passN = image\n",
    "for i in 1:50\n",
    "    passN = enhanceImage(passN,mask,npass=i)\n",
    "end\n",
    "sum(passN)"
   ]
  },
  {
   "cell_type": "code",
   "execution_count": null,
   "id": "4a123fe0-be10-4def-a80a-d16e2491afed",
   "metadata": {},
   "outputs": [],
   "source": []
  }
 ],
 "metadata": {
  "kernelspec": {
   "display_name": "Julia 1.4.1",
   "language": "julia",
   "name": "julia-1.4"
  },
  "language_info": {
   "file_extension": ".jl",
   "mimetype": "application/julia",
   "name": "julia",
   "version": "1.4.1"
  }
 },
 "nbformat": 4,
 "nbformat_minor": 5
}
