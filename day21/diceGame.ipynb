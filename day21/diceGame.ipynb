{
 "cells": [
  {
   "cell_type": "markdown",
   "id": "4d0ec4ab-d12f-4054-9f03-5c0a0c90af53",
   "metadata": {},
   "source": [
    "## Initial positions"
   ]
  },
  {
   "cell_type": "code",
   "execution_count": 34,
   "id": "f46c66ac-f6c7-43ca-9b87-3f6267502e44",
   "metadata": {},
   "outputs": [
    {
     "data": {
      "text/plain": [
       "2-element Array{Int64,1}:\n",
       " 4\n",
       " 8"
      ]
     },
     "execution_count": 34,
     "metadata": {},
     "output_type": "execute_result"
    }
   ],
   "source": [
    "#Player 1 starting position: 4\n",
    "#Player 2 starting position: 8\n",
    "demoGame = [4, 8]"
   ]
  },
  {
   "cell_type": "code",
   "execution_count": 2,
   "id": "78273077-5ac3-4333-ac2d-14e4b31ba6a5",
   "metadata": {},
   "outputs": [
    {
     "data": {
      "text/plain": [
       "2-element Array{Int64,1}:\n",
       " 10\n",
       "  7"
      ]
     },
     "execution_count": 2,
     "metadata": {},
     "output_type": "execute_result"
    }
   ],
   "source": [
    "#Player 1 starting position: 10\n",
    "#Player 2 starting position: 7\n",
    "game = [10, 7]"
   ]
  },
  {
   "cell_type": "markdown",
   "id": "ae50baea-5e2a-48d6-9715-2bf6cfe08302",
   "metadata": {},
   "source": [
    "## Part 1"
   ]
  },
  {
   "cell_type": "code",
   "execution_count": 3,
   "id": "d2d26da2-4bc0-40aa-9371-cde7cadf73ea",
   "metadata": {},
   "outputs": [
    {
     "data": {
      "text/plain": [
       "simulatePracticeGame (generic function with 1 method)"
      ]
     },
     "execution_count": 3,
     "metadata": {},
     "output_type": "execute_result"
    }
   ],
   "source": [
    "mutable struct myDice\n",
    "    i::Int64\n",
    "    nrolls::Int64\n",
    "end\n",
    "function createDice()\n",
    "   return myDice(1,0) \n",
    "end\n",
    "\n",
    "function rollDice(dice)\n",
    "    n=0\n",
    "    dice.nrolls+=3\n",
    "    if dice.i<99\n",
    "        n = 3*dice.i + 3\n",
    "        dice.i+=3\n",
    "    elseif dice.i == 99\n",
    "        n = 99 +100+1\n",
    "        dice.i=2\n",
    "    elseif dice.i == 100\n",
    "        n = 100+1+2\n",
    "        dice.i = 3\n",
    "    else\n",
    "        dice.i = dice.i - 100\n",
    "        n = 3*dice.i + 3\n",
    "        dice.i+=3\n",
    "    end\n",
    "    return n \n",
    "end\n",
    "\n",
    "function simulatePracticeGame(playerStartPos::Array{Int64,1})\n",
    "    playerPos = copy(playerStartPos)\n",
    "    playerScore = zeros(Int,size(playerStartPos))\n",
    "    dice = createDice()\n",
    "    \n",
    "    player = 1\n",
    "    while all(playerScore .< 1000)\n",
    "        playerPos[player] = mod((playerPos[player]+rollDice(dice))-1,10)+1\n",
    "        playerScore[player] += playerPos[player]\n",
    "        player = mod(player,length(playerPos))+1\n",
    "    end\n",
    "    return playerScore,dice\n",
    "end"
   ]
  },
  {
   "cell_type": "code",
   "execution_count": 4,
   "id": "7f84b12e-802f-4479-82f8-736f1200917e",
   "metadata": {},
   "outputs": [
    {
     "data": {
      "text/plain": [
       "([1000, 745], myDice(94, 993))"
      ]
     },
     "execution_count": 4,
     "metadata": {},
     "output_type": "execute_result"
    }
   ],
   "source": [
    "simulatePracticeGame(demoGame)"
   ]
  },
  {
   "cell_type": "code",
   "execution_count": 5,
   "id": "464d2024-1609-4900-b4ed-c8f3fb4f5b30",
   "metadata": {},
   "outputs": [
    {
     "data": {
      "text/plain": [
       "([1006, 907], myDice(100, 999))"
      ]
     },
     "execution_count": 5,
     "metadata": {},
     "output_type": "execute_result"
    }
   ],
   "source": [
    "score,dice=simulatePracticeGame(game)"
   ]
  },
  {
   "cell_type": "code",
   "execution_count": 6,
   "id": "002cea06-5cbd-4311-af38-9febf6ac4619",
   "metadata": {},
   "outputs": [
    {
     "data": {
      "text/plain": [
       "906093"
      ]
     },
     "execution_count": 6,
     "metadata": {},
     "output_type": "execute_result"
    }
   ],
   "source": [
    "minimum(score)*dice.nrolls"
   ]
  },
  {
   "cell_type": "markdown",
   "id": "22ef4cc3-5a8a-475b-b750-ca7259de3a87",
   "metadata": {},
   "source": [
    "## Part 2"
   ]
  },
  {
   "cell_type": "code",
   "execution_count": 16,
   "id": "6c4e7afd-a9b2-4c4e-9e57-072b17498055",
   "metadata": {},
   "outputs": [
    {
     "data": {
      "text/plain": [
       "7-element Array{Pair{Int32,Int64},1}:\n",
       " 3 => 1\n",
       " 4 => 3\n",
       " 5 => 6\n",
       " 6 => 7\n",
       " 7 => 6\n",
       " 8 => 3\n",
       " 9 => 1"
      ]
     },
     "execution_count": 16,
     "metadata": {},
     "output_type": "execute_result"
    }
   ],
   "source": [
    "sides= [1,2,3]\n",
    "scores = Array{Int32}(undef,3,3,3)\n",
    "for i in 1:3,j in 1:3,k in 1:3\n",
    "    scores[i,j,k] = i+j+k\n",
    "end\n",
    "diracDice = [Pair(s,count(x->x==s,scores)) for s in unique(scores)]"
   ]
  },
  {
   "cell_type": "code",
   "execution_count": 30,
   "id": "a12596f3-1728-4333-888e-3592b79c81c2",
   "metadata": {},
   "outputs": [
    {
     "data": {
      "text/plain": [
       "simulateGame (generic function with 1 method)"
      ]
     },
     "execution_count": 30,
     "metadata": {},
     "output_type": "execute_result"
    }
   ],
   "source": [
    "maxScore = 21\n",
    "nPlayers = 2\n",
    "#playerWins = zeros(Int64,nPlayers)\n",
    "\n",
    "function simulateGame(playerPos::Array{Int64,1},dice::Array{Pair{Int32,Int64},1},playerScore::Array{Int64,1},turn::Int64)\n",
    "        \n",
    "    playerWins = zeros(Int64,nPlayers)\n",
    "    player = mod(turn-1,nPlayers)+1\n",
    "\n",
    "    for (steps,universes) in dice\n",
    "        pos = copy(playerPos)\n",
    "        score = copy(playerScore)\n",
    "        \n",
    "        pos[player] = mod((pos[player]+steps)-1,10)+1\n",
    "        score[player] += pos[player]\n",
    "        \n",
    "        if (score[player]>=maxScore)\n",
    "            playerWins[player] += universes\n",
    "        else\n",
    "            playerWins += simulateGame(pos,dice,score,turn+1)*universes\n",
    "        end\n",
    "    end\n",
    "    return playerWins\n",
    "\n",
    "end"
   ]
  },
  {
   "cell_type": "code",
   "execution_count": 35,
   "id": "f474a895-2a73-4ceb-8104-40c9b5e422ab",
   "metadata": {},
   "outputs": [
    {
     "data": {
      "text/plain": [
       "2-element Array{Int64,1}:\n",
       " 444356092776315\n",
       " 341960390180808"
      ]
     },
     "execution_count": 35,
     "metadata": {},
     "output_type": "execute_result"
    }
   ],
   "source": [
    "demoResult=simulateGame(demoGame,diracDice,[0,0],1)"
   ]
  },
  {
   "cell_type": "code",
   "execution_count": 36,
   "id": "c99da39e-90fa-46d5-9748-86ae7e08cdd0",
   "metadata": {},
   "outputs": [
    {
     "data": {
      "text/plain": [
       "true"
      ]
     },
     "execution_count": 36,
     "metadata": {},
     "output_type": "execute_result"
    }
   ],
   "source": [
    "comparison = [444356092776315,341960390180808]\n",
    "demoResult==comparison"
   ]
  },
  {
   "cell_type": "code",
   "execution_count": 37,
   "id": "de6b62b1-d22b-4eb2-bfb5-6a6c24423273",
   "metadata": {},
   "outputs": [
    {
     "data": {
      "text/plain": [
       "2-element Array{Int64,1}:\n",
       " 274291038026362\n",
       " 135620348907779"
      ]
     },
     "execution_count": 37,
     "metadata": {},
     "output_type": "execute_result"
    }
   ],
   "source": [
    "result = simulateGame(game,diracDice,[0,0],1)"
   ]
  },
  {
   "cell_type": "code",
   "execution_count": 38,
   "id": "0ec77bd7-bb66-44a4-9e2f-049d95350378",
   "metadata": {},
   "outputs": [
    {
     "data": {
      "text/plain": [
       "274291038026362"
      ]
     },
     "execution_count": 38,
     "metadata": {},
     "output_type": "execute_result"
    }
   ],
   "source": [
    "maximum(result)"
   ]
  },
  {
   "cell_type": "code",
   "execution_count": null,
   "id": "cf348ebe-e818-4bbb-b2d8-ba17363ca3f5",
   "metadata": {},
   "outputs": [],
   "source": []
  }
 ],
 "metadata": {
  "kernelspec": {
   "display_name": "Julia 1.4.1",
   "language": "julia",
   "name": "julia-1.4"
  },
  "language_info": {
   "file_extension": ".jl",
   "mimetype": "application/julia",
   "name": "julia",
   "version": "1.4.1"
  }
 },
 "nbformat": 4,
 "nbformat_minor": 5
}
