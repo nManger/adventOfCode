{
 "cells": [
  {
   "cell_type": "markdown",
   "id": "8f9fd37c-785b-4032-9ab6-2a2335ed5721",
   "metadata": {},
   "source": [
    "## Load Data"
   ]
  },
  {
   "cell_type": "code",
   "execution_count": 3,
   "id": "b7ef2d61-0f6e-4220-94f8-c97032775be8",
   "metadata": {},
   "outputs": [
    {
     "data": {
      "text/plain": [
       "loadSequence (generic function with 1 method)"
      ]
     },
     "execution_count": 3,
     "metadata": {},
     "output_type": "execute_result"
    }
   ],
   "source": [
    "function loadSequence(filename::String)\n",
    "    rawData = readlines(filename)\n",
    "    bootSeq = Array{Int64}(undef,7,length(rawData))\n",
    "    for (i,line) in enumerate(rawData)\n",
    "        state,field = split(line)\n",
    "        bootSeq[1,i] = (state == \"on\") ? 1 : 0\n",
    "        x,y,z = split(field,\",\")\n",
    "        bootSeq[2:3,i] = parse.(Int64,split(strip(x,['x','y','z','=']),\"..\"))\n",
    "        bootSeq[4:5,i] = parse.(Int64,split(strip(y,['x','y','z','=']),\"..\"))\n",
    "        bootSeq[6:7,i] = parse.(Int64,split(strip(z,['x','y','z','=']),\"..\"))\n",
    "    end\n",
    "    return bootSeq\n",
    "end"
   ]
  },
  {
   "cell_type": "code",
   "execution_count": 4,
   "id": "4b9c41de-7252-428e-a3ed-d7daf2380d4e",
   "metadata": {},
   "outputs": [
    {
     "data": {
      "text/plain": [
       "7×60 Array{Int64,2}:\n",
       "   1    1    1    1   0    1    0    1  …       0       0        1        0\n",
       "  -5  -44  -49  -20  26  -41  -43  -33     -27365  -70369   -53470   -93533\n",
       "  47    5   -1   34  39    5  -33   15      46395  -16548    21291    -4276\n",
       " -31  -27  -11  -40  40  -41  -45  -32      31009   22648  -120233   -16170\n",
       "  22   21   42    6  50    6  -28   19      98017   78696   -33476    68771\n",
       " -19  -14  -10  -44  -2  -36    7  -34  …   15428   -1892   -44150  -104985\n",
       "  33   35   38    1  11    8   25   11      76570   86821    38147   -24507"
      ]
     },
     "execution_count": 4,
     "metadata": {},
     "output_type": "execute_result"
    }
   ],
   "source": [
    "testSeq = loadSequence(\"testInitializeSequence.txt\")\n",
    "testSeqP2 = loadSequence(\"testRebootSequence.txt\")"
   ]
  },
  {
   "cell_type": "code",
   "execution_count": 5,
   "id": "ef740862-d4b7-4243-b194-3bde9705761d",
   "metadata": {},
   "outputs": [],
   "source": [
    "sequence = loadSequence(\"rebootSequence.txt\");"
   ]
  },
  {
   "cell_type": "code",
   "execution_count": 6,
   "id": "2010e841-f3f6-4968-8a9c-cedfc2da8cdd",
   "metadata": {},
   "outputs": [
    {
     "data": {
      "text/plain": [
       "(7, 420)"
      ]
     },
     "execution_count": 6,
     "metadata": {},
     "output_type": "execute_result"
    }
   ],
   "source": [
    "size(sequence)"
   ]
  },
  {
   "cell_type": "code",
   "execution_count": 7,
   "id": "553d9837-e9bb-4812-94fa-6d8b35cf2fc2",
   "metadata": {},
   "outputs": [
    {
     "data": {
      "text/plain": [
       "7×4 LinearAlgebra.Transpose{Int64,Array{Int64,2}}:\n",
       "  1   1   0   1\n",
       " 10  11   9  10\n",
       " 12  13  11  10\n",
       " 10  11   9  10\n",
       " 12  13  11  10\n",
       " 10  11   9  10\n",
       " 12  13  11  10"
      ]
     },
     "execution_count": 7,
     "metadata": {},
     "output_type": "execute_result"
    }
   ],
   "source": [
    "testSeqSmall=[1 10 12 10 12 10 12;\n",
    "1 11 13 11 13 11 13;\n",
    "0 9 11 9 11 9 11;\n",
    "1 10 10 10 10 10 10]\n",
    "testSeqSmall = transpose(testSeqSmall)"
   ]
  },
  {
   "cell_type": "markdown",
   "id": "92bf7e3c-1e28-4df9-ac02-c5832b886b08",
   "metadata": {
    "jp-MarkdownHeadingCollapsed": true,
    "tags": []
   },
   "source": [
    "## Part 1"
   ]
  },
  {
   "cell_type": "code",
   "execution_count": 81,
   "id": "010973bb-9c72-4e88-ae0e-393f617660ad",
   "metadata": {},
   "outputs": [
    {
     "data": {
      "text/plain": [
       "initializeReactor (generic function with 1 method)"
      ]
     },
     "execution_count": 81,
     "metadata": {},
     "output_type": "execute_result"
    }
   ],
   "source": [
    "function initializeReactor(sequence::AbstractArray{Int64,2},bounds::AbstractArray{Int64,1})\n",
    "    lx = bounds[2]-bounds[1]+1\n",
    "    ly = bounds[4]-bounds[3]+1\n",
    "    lz = bounds[6]-bounds[5]+1\n",
    "    reactor = zeros(Int64,lx,ly,lz)\n",
    "    i = Array{Int64}(undef,6)\n",
    "    for step in eachcol(sequence)\n",
    "        #ignore out-of-bounds directions\n",
    "        if (any(step[2:2:end].<bounds[1:2:end]) || any(step[3:2:end].>bounds[2:2:end]))\n",
    "            continue\n",
    "        end\n",
    "        \n",
    "        #shift index\n",
    "        i[1:2] = step[2:3] .- (bounds[1]-1)\n",
    "        i[3:4] = step[4:5] .- (bounds[3]-1)\n",
    "        i[5:6] = step[6:7] .- (bounds[5]-1)\n",
    "        \n",
    "        #assign state\n",
    "        reactor[i[1]:i[2],i[3]:i[4],i[5]:i[6]] .= step[1]     \n",
    "    end\n",
    "    \n",
    "    return reactor\n",
    "end"
   ]
  },
  {
   "cell_type": "code",
   "execution_count": 67,
   "id": "cc51161c-75ac-49c2-9e6b-a8230a38df47",
   "metadata": {},
   "outputs": [],
   "source": [
    "bounds = [5,15,5,15,5,15]\n",
    "testReactor = initializeReactor(testSeqSmall,bounds);"
   ]
  },
  {
   "cell_type": "code",
   "execution_count": 72,
   "id": "f40e284a-5fa5-47a0-a038-cd0612e8a3ac",
   "metadata": {},
   "outputs": [
    {
     "data": {
      "text/plain": [
       "39"
      ]
     },
     "execution_count": 72,
     "metadata": {},
     "output_type": "execute_result"
    }
   ],
   "source": [
    "sum(testReactor)"
   ]
  },
  {
   "cell_type": "code",
   "execution_count": 73,
   "id": "d10b23ad-9bba-4e85-ace1-a1d376dfbb5e",
   "metadata": {},
   "outputs": [],
   "source": [
    "bounds = [-50,50,-50,50,-50,50]\n",
    "testReactor = initializeReactor(testSeq,bounds);"
   ]
  },
  {
   "cell_type": "code",
   "execution_count": 74,
   "id": "352dd275-cddb-4229-9317-dab03630f37a",
   "metadata": {},
   "outputs": [
    {
     "data": {
      "text/plain": [
       "590784"
      ]
     },
     "execution_count": 74,
     "metadata": {},
     "output_type": "execute_result"
    }
   ],
   "source": [
    "sum(testReactor)"
   ]
  },
  {
   "cell_type": "code",
   "execution_count": 75,
   "id": "2352e27f-43cf-4d15-aed9-ad1a40f96579",
   "metadata": {},
   "outputs": [
    {
     "data": {
      "text/plain": [
       "547648"
      ]
     },
     "execution_count": 75,
     "metadata": {},
     "output_type": "execute_result"
    }
   ],
   "source": [
    "bounds = [-50,50,-50,50,-50,50]\n",
    "reactor = initializeReactor(sequence,bounds);\n",
    "sum(reactor)"
   ]
  },
  {
   "cell_type": "markdown",
   "id": "4dae24a6-3294-40de-b55f-6fc8e33f15c6",
   "metadata": {},
   "source": [
    "## Part 2"
   ]
  },
  {
   "cell_type": "code",
   "execution_count": 52,
   "id": "3638cd04-a70b-45a2-98d4-e5498a880dd2",
   "metadata": {},
   "outputs": [
    {
     "data": {
      "text/plain": [
       "rebootReactor (generic function with 1 method)"
      ]
     },
     "execution_count": 52,
     "metadata": {},
     "output_type": "execute_result"
    }
   ],
   "source": [
    "function addCube(matrix::Array{Array{T,1},1},cube::AbstractArray{T,1}) where T<:Integer\n",
    "    \n",
    "    newMatrix = Array{Array{Int,1}}(undef,0)\n",
    "    \n",
    "    for mcube in matrix      \n",
    "        #check if new cube overlaps with previous cube\n",
    "        xbegin = max.(mcube[1:2:5],cube[1:2:5])\n",
    "        xend = min.(mcube[2:2:6],cube[2:2:6])\n",
    "        dx = xend .- xbegin\n",
    "\n",
    "        #if cubes overlap\n",
    "        if !any(dx.<0)\n",
    "            if xbegin == cube[1:2:5] && xend == cube[2:2:6] \n",
    "                #if new cube is fully contained, return immediately without change to matrix\n",
    "                return matrix\n",
    "            elseif  xbegin == mcube[1:2:5] && xend == mcube[2:2:6]\n",
    "                #if old cube is fully contained, do nothing \n",
    "            else #if partial overlap, split mcube along overlap lines in each dimension\n",
    "                ranges = Array{Array{Int,1}}(undef,3,3) # i=direction, j=split\n",
    "                for i in 0:2\n",
    "                    if xbegin[1+i] > mcube[1+2*i] && xend[1+i] < mcube[2+2*i]\n",
    "                        ranges[1+i,1] = [mcube[1+2*i],xbegin[1+i]-1]\n",
    "                        ranges[1+i,2] = [xbegin[1+i],xend[1+i]]\n",
    "                        ranges[1+i,3] = [xend[1+i]+1,mcube[2+2*i]]\n",
    "                    elseif xbegin[1+i] > mcube[1+2*i]\n",
    "                        ranges[1+i,1] = [mcube[1+2*i],xbegin[1+i]-1]\n",
    "                        ranges[1+i,2] = [xbegin[1+i],xend[1+i]]\n",
    "                    else\n",
    "                        ranges[1+i,1] = [xbegin[1+i],xend[1+i]]\n",
    "                        ranges[1+i,2] = [xend[1+i]+1,mcube[2+2*i]]\n",
    "                    end\n",
    "                end\n",
    "                cubes = Array[]\n",
    "                overlapBounds = Array{Int}(undef,2,3)\n",
    "                overlapBounds[1,:]=xbegin[:]\n",
    "                overlapBounds[2,:]=xend[:]\n",
    "                overlapBounds = [overlapBounds...]\n",
    "                for i in 1:3,j in 1:3,k in 1:3\n",
    "                    if (isassigned(ranges,1,i) && isassigned(ranges,2,j) && isassigned(ranges,3,k))\n",
    "                        push!(cubes,[ranges[1,i][1],ranges[1,i][2],ranges[2,j][1],ranges[2,j][2],ranges[3,k][1],ranges[3,k][2]])\n",
    "                    end\n",
    "                    if all(cubes[end] .== overlapBounds) #if cube is overlap cube delete it\n",
    "                        pop!(cubes)\n",
    "                    end\n",
    "                end\n",
    "                append!(newMatrix,cubes) #append new cubes\n",
    "                \n",
    "            end\n",
    "        else #add mcube to newMatrix map\n",
    "            push!(newMatrix,mcube)\n",
    "        end\n",
    "        \n",
    "    end\n",
    "    #add new cube to matrix\n",
    "    push!(newMatrix,cube)\n",
    "    \n",
    "    return newMatrix\n",
    "    \n",
    "end\n",
    "\n",
    "function subtractCube(matrix::Array{Array{T,1},1},cube::AbstractArray{T,1}) where T<:Integer\n",
    "    newMatrix = Array{Array{Int,1}}(undef,0)\n",
    "    \n",
    "    for mcube in matrix\n",
    "        #check for overlap\n",
    "        xbegin = max.(mcube[1:2:5],cube[1:2:5]) #indices 1,3,5\n",
    "        xend = min.(mcube[2:2:6],cube[2:2:6]) #indices 2,4,6\n",
    "        dx = xend .- xbegin\n",
    "        \n",
    "        if !any(dx.<0) #if overlap, split mcube\n",
    "            if  xbegin == mcube[1:2:5] && xend == mcube[2:2:6]\n",
    "                #if old cube is fully contained, do nothing \n",
    "                \n",
    "            else #if partial overlap, split mcube along overlap lines in each dimension\n",
    "                ranges = Array{Array{Int,1}}(undef,3,3) # i=direction, j=split\n",
    "                for i in 0:2\n",
    "                    if xbegin[1+i] > mcube[1+2*i] && xend[1+i] < mcube[2+2*i]\n",
    "                        ranges[1+i,1] = [mcube[1+2*i],xbegin[1+i]-1]\n",
    "                        ranges[1+i,2] = [xbegin[1+i],xend[1+i]]\n",
    "                        ranges[1+i,3] = [xend[1+i]+1,mcube[2+2*i]]\n",
    "                    elseif xbegin[1+i] > mcube[1+2*i]\n",
    "                        ranges[1+i,1] = [mcube[1+2*i],xbegin[1+i]-1]\n",
    "                        ranges[1+i,2] = [xbegin[1+i],xend[1+i]]\n",
    "                    else\n",
    "                        ranges[1+i,1] = [xbegin[1+i],xend[1+i]]\n",
    "                        ranges[1+i,2] = [xend[1+i]+1,mcube[2+2*i]]\n",
    "                    end\n",
    "                end\n",
    "                cubes = Array[]\n",
    "                overlapBounds = Array{Int}(undef,2,3)\n",
    "                overlapBounds[1,:]=xbegin[:]\n",
    "                overlapBounds[2,:]=xend[:]\n",
    "                overlapBounds = [overlapBounds...]\n",
    "                for i in 1:3,j in 1:3,k in 1:3\n",
    "                    if (isassigned(ranges,1,i) && isassigned(ranges,2,j) && isassigned(ranges,3,k))\n",
    "                        push!(cubes,[ranges[1,i][1],ranges[1,i][2],ranges[2,j][1],ranges[2,j][2],ranges[3,k][1],ranges[3,k][2]])\n",
    "                    end\n",
    "                    if all(cubes[end] .== overlapBounds) #if cube is overlap cube delete it\n",
    "                        pop!(cubes)\n",
    "                    end\n",
    "                end\n",
    "                append!(newMatrix,cubes) #append new cubes\n",
    "                \n",
    "            end\n",
    "        else #add mcube to newMatrix map\n",
    "            push!(newMatrix,mcube)\n",
    "        end\n",
    "    end\n",
    "    \n",
    "    return newMatrix\n",
    "end\n",
    "\n",
    "function countCubes(matrix::Array{Array{T,1},1}) where T<:Integer\n",
    "    numOnCubes = 0\n",
    "    for mcube in matrix\n",
    "        numOnCubes += prod(mcube[2:2:6]-mcube[1:2:5].+1)\n",
    "    end\n",
    "    return numOnCubes\n",
    "end\n",
    "\n",
    "function rebootReactor(sequence::AbstractArray{Int64,2})\n",
    "    allCubes = Array{Array{Int,1}}(undef,0)\n",
    "    for step in eachcol(sequence)\n",
    "        if step[1] == 1\n",
    "            allCubes=addCube(allCubes,step[2:end])\n",
    "        else\n",
    "            allCubes=subtractCube(allCubes,step[2:end])\n",
    "        end\n",
    "        #println(countCubes(allCubes))#,\"\\n\",allCubes)\n",
    "    end\n",
    "    numOnCubes = countCubes(allCubes)\n",
    "    return numOnCubes#,allCubes\n",
    "end"
   ]
  },
  {
   "cell_type": "code",
   "execution_count": 50,
   "id": "6fba6706-276b-4ed9-bbad-687008ec2512",
   "metadata": {},
   "outputs": [
    {
     "name": "stdout",
     "output_type": "stream",
     "text": [
      "27\n",
      "46\n",
      "38\n",
      "39\n"
     ]
    },
    {
     "data": {
      "text/plain": [
       "39"
      ]
     },
     "execution_count": 50,
     "metadata": {},
     "output_type": "execute_result"
    }
   ],
   "source": [
    "rebootReactor(testSeqSmall)"
   ]
  },
  {
   "cell_type": "code",
   "execution_count": 53,
   "id": "54d7af1f-1f91-416e-b66f-a011df1249c5",
   "metadata": {},
   "outputs": [
    {
     "data": {
      "text/plain": [
       "true"
      ]
     },
     "execution_count": 53,
     "metadata": {},
     "output_type": "execute_result"
    }
   ],
   "source": [
    "2758514936282235 == rebootReactor(testSeqP2)"
   ]
  },
  {
   "cell_type": "code",
   "execution_count": 57,
   "id": "0fc6beb1-7914-44c6-b780-e871cb167e8e",
   "metadata": {},
   "outputs": [
    {
     "name": "stdout",
     "output_type": "stream",
     "text": [
      "  4.599743 seconds (53.44 M allocations: 5.117 GiB, 9.74% gc time)\n"
     ]
    },
    {
     "data": {
      "text/plain": [
       "1206644425246111"
      ]
     },
     "execution_count": 57,
     "metadata": {},
     "output_type": "execute_result"
    }
   ],
   "source": [
    "@time rebootReactor(sequence)"
   ]
  },
  {
   "cell_type": "code",
   "execution_count": null,
   "id": "194a32c9-550b-49c3-b1ae-f4bcc46d9a1a",
   "metadata": {},
   "outputs": [],
   "source": []
  }
 ],
 "metadata": {
  "kernelspec": {
   "display_name": "Julia 1.4.1",
   "language": "julia",
   "name": "julia-1.4"
  },
  "language_info": {
   "file_extension": ".jl",
   "mimetype": "application/julia",
   "name": "julia",
   "version": "1.4.1"
  }
 },
 "nbformat": 4,
 "nbformat_minor": 5
}
