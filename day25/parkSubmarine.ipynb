{
 "cells": [
  {
   "cell_type": "markdown",
   "id": "ee4c416e-4017-4ba1-b5da-9cfa7ebcba4a",
   "metadata": {},
   "source": [
    "## Load Data"
   ]
  },
  {
   "cell_type": "code",
   "execution_count": 1,
   "id": "ffe38859-c548-46af-823a-69f1f08ab242",
   "metadata": {},
   "outputs": [
    {
     "data": {
      "text/plain": [
       "loadData (generic function with 1 method)"
      ]
     },
     "execution_count": 1,
     "metadata": {},
     "output_type": "execute_result"
    }
   ],
   "source": [
    "function loadData(filename::String)\n",
    "    rawData = readlines(filename)\n",
    "    data = Array{Int16}(undef,length(rawData),length(rawData[1]))\n",
    "    for (i,line) in enumerate(rawData)\n",
    "        splitLine = only.(split(line,\"\"))\n",
    "        for j in 1:length(splitLine)\n",
    "            if splitLine[j] == '.'\n",
    "                data[i,j] = 0\n",
    "            elseif splitLine[j] == '>'\n",
    "                data[i,j] = 1\n",
    "            else\n",
    "                data[i,j] = 2\n",
    "            end\n",
    "        end\n",
    "    end\n",
    "    return data\n",
    "end"
   ]
  },
  {
   "cell_type": "code",
   "execution_count": 15,
   "id": "535fc8a3-face-447d-9e31-b5daedf5b6b5",
   "metadata": {},
   "outputs": [
    {
     "data": {
      "text/plain": [
       "9×10 Array{Int16,2}:\n",
       " 2  0  0  0  1  1  0  2  2  1\n",
       " 0  2  2  1  1  0  2  2  0  0\n",
       " 1  1  0  1  2  1  0  0  0  2\n",
       " 1  1  2  1  1  0  1  0  2  0\n",
       " 2  1  2  0  2  2  0  2  0  0\n",
       " 1  0  1  1  0  0  2  0  0  0\n",
       " 0  2  2  0  0  1  0  1  2  0\n",
       " 2  0  2  0  0  1  1  2  0  2\n",
       " 0  0  0  0  2  0  0  2  0  1"
      ]
     },
     "execution_count": 15,
     "metadata": {},
     "output_type": "execute_result"
    }
   ],
   "source": [
    "floorSmall=loadData(\"oceanFloorSmall.txt\")"
   ]
  },
  {
   "cell_type": "code",
   "execution_count": 3,
   "id": "6a5666b6-e534-4d65-a9c8-837b6b18081a",
   "metadata": {},
   "outputs": [],
   "source": [
    "floor=loadData(\"oceanFloor.txt\");"
   ]
  },
  {
   "cell_type": "markdown",
   "id": "13358acb-d606-4d2b-93f9-a3396406e665",
   "metadata": {},
   "source": [
    "## Part 1"
   ]
  },
  {
   "cell_type": "code",
   "execution_count": 20,
   "id": "defc2d92-35b3-4943-9b5b-3e69a8f6d601",
   "metadata": {},
   "outputs": [
    {
     "data": {
      "text/plain": [
       "findParkingSpot (generic function with 1 method)"
      ]
     },
     "execution_count": 20,
     "metadata": {},
     "output_type": "execute_result"
    }
   ],
   "source": [
    "function seaCucumberMovement(floorMap::AbstractArray{T,2}) where {T<:Integer}\n",
    "    newFloorMap = copy(floorMap)\n",
    "    floorSize = size(floorMap)\n",
    "    moves = 0\n",
    "    # move all sea cucumbers of type 1 that obey criteria\n",
    "    for i in 1:floorSize[1],j in 1:floorSize[2]\n",
    "        if (floorMap[i,j] == 1) && (floorMap[i,mod(j,floorSize[2])+1] == 0)\n",
    "            newFloorMap[i,mod(j,floorSize[2])+1] = 1\n",
    "            newFloorMap[i,j] = 0\n",
    "            moves +=1\n",
    "        end\n",
    "    end\n",
    "    floorMap = copy(newFloorMap)\n",
    "    # move all sea cucumbers of type 2 that obey criteria\n",
    "    for i in 1:floorSize[1],j in 1:floorSize[2]\n",
    "        \n",
    "        if (floorMap[i,j] == 2) && (floorMap[mod(i,floorSize[1])+1,j] == 0)\n",
    "            newFloorMap[mod(i,floorSize[1])+1,j] = 2\n",
    "            newFloorMap[i,j] = 0\n",
    "            moves +=1\n",
    "        end\n",
    "    end\n",
    "    \n",
    "    return moves,newFloorMap\n",
    "end\n",
    "\n",
    "function findParkingSpot(floorMap::AbstractArray{T,2}) where {T<:Integer}\n",
    "    moves = 1\n",
    "    steps = 0\n",
    "    stepFloorMap = copy(floorMap)\n",
    "    while moves > 0\n",
    "        steps +=1\n",
    "        moves,stepFloorMap = seaCucumberMovement(stepFloorMap)\n",
    "    end\n",
    "    return steps\n",
    "end"
   ]
  },
  {
   "cell_type": "code",
   "execution_count": 19,
   "id": "f5ba139c-4bc8-42f2-8797-43555f34bead",
   "metadata": {},
   "outputs": [
    {
     "data": {
      "text/plain": [
       "9×10 Array{Int16,2}:\n",
       " 0  0  0  0  1  0  1  2  0  1\n",
       " 2  0  2  1  0  1  2  0  2  0\n",
       " 1  2  1  1  0  0  1  2  0  0\n",
       " 1  1  2  1  2  1  0  1  0  2\n",
       " 0  1  2  0  2  0  0  0  2  0\n",
       " 2  1  1  0  1  2  2  2  0  0\n",
       " 0  0  2  0  0  0  1  1  0  0\n",
       " 2  2  0  0  0  1  1  2  2  0\n",
       " 1  0  2  0  2  0  0  2  0  2"
      ]
     },
     "execution_count": 19,
     "metadata": {},
     "output_type": "execute_result"
    }
   ],
   "source": [
    "moves,mymap=seaCucumberMovement(copy(floorSmall))\n",
    "mymap"
   ]
  },
  {
   "cell_type": "code",
   "execution_count": 21,
   "id": "f10c4f2a-ad02-4df8-a949-e3058c5fbc82",
   "metadata": {},
   "outputs": [
    {
     "data": {
      "text/plain": [
       "58"
      ]
     },
     "execution_count": 21,
     "metadata": {},
     "output_type": "execute_result"
    }
   ],
   "source": [
    "findParkingSpot(floorSmall)"
   ]
  },
  {
   "cell_type": "code",
   "execution_count": 22,
   "id": "01ccecae-f01e-4ed8-aecb-ace4bc49c2fc",
   "metadata": {},
   "outputs": [
    {
     "data": {
      "text/plain": [
       "482"
      ]
     },
     "execution_count": 22,
     "metadata": {},
     "output_type": "execute_result"
    }
   ],
   "source": [
    "findParkingSpot(floor)"
   ]
  },
  {
   "cell_type": "code",
   "execution_count": null,
   "id": "ac0d8157-dcc7-44f4-9e3e-de069d58a987",
   "metadata": {},
   "outputs": [],
   "source": []
  }
 ],
 "metadata": {
  "kernelspec": {
   "display_name": "Julia 1.4.1",
   "language": "julia",
   "name": "julia-1.4"
  },
  "language_info": {
   "file_extension": ".jl",
   "mimetype": "application/julia",
   "name": "julia",
   "version": "1.4.1"
  }
 },
 "nbformat": 4,
 "nbformat_minor": 5
}
