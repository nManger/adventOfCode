{
 "cells": [
  {
   "cell_type": "markdown",
   "id": "1792af84-4474-4684-bb68-76fafee224a5",
   "metadata": {},
   "source": [
    "# Day 3: Gear Ratios"
   ]
  },
  {
   "cell_type": "code",
   "execution_count": 1,
   "id": "a24a2565-daed-4546-b348-d1cad6dc2be1",
   "metadata": {
    "tags": []
   },
   "outputs": [],
   "source": [
    "import math"
   ]
  },
  {
   "cell_type": "code",
   "execution_count": 2,
   "id": "37433751-8176-4ed6-a094-b373fe528a3b",
   "metadata": {
    "tags": []
   },
   "outputs": [],
   "source": [
    "def parseInput(filename):\n",
    "    schematic = []\n",
    "    with open(filename,'r') as f:\n",
    "        for line in f:\n",
    "            #print(line)\n",
    "            schematic.append(list(line.strip()))\n",
    "    return schematic"
   ]
  },
  {
   "cell_type": "code",
   "execution_count": 3,
   "id": "84742626-18c6-4bd0-9ee9-8aeb8e711962",
   "metadata": {
    "tags": []
   },
   "outputs": [],
   "source": [
    "inputFile = \"../testInputs/day3.txt\"\n",
    "#inputFile = \"../inputs/day3.txt\"\n",
    "\n",
    "puzzleInput = parseInput(inputFile)"
   ]
  },
  {
   "cell_type": "markdown",
   "id": "ae925506-61a4-41cb-ad4c-133dbcd28b02",
   "metadata": {
    "jp-MarkdownHeadingCollapsed": true,
    "tags": []
   },
   "source": [
    "## Part 1"
   ]
  },
  {
   "cell_type": "code",
   "execution_count": 4,
   "id": "45f85b6a-4655-4060-8b5f-80f28639ef1c",
   "metadata": {
    "tags": []
   },
   "outputs": [],
   "source": [
    "def findPartNumbers(schematic):\n",
    "    partNumbers = []\n",
    "    \n",
    "    leni = len(schematic)\n",
    "    lenj = len(schematic[0])\n",
    "    #print(leni,lenj)\n",
    "    \n",
    "    # find the numbers and check if they have an adjacent symbol that is not '.'\n",
    "    i=0\n",
    "    while i < leni:\n",
    "        j=0 #reset j\n",
    "        while j < lenj:\n",
    "            #print(str(i)+','+str(j)+\" \",end='')\n",
    "            #we are only interested in the digits\n",
    "            if schematic[i][j].isdigit() == False:\n",
    "                j+=1\n",
    "                continue\n",
    "            #get the whole number\n",
    "            k = j\n",
    "            number = \"\"\n",
    "            while (k<lenj and schematic[i][k].isdigit()): #check we are still in bounds\n",
    "                number += schematic[i][k]\n",
    "                k += 1\n",
    "            \n",
    "            #check if any of the adjacent fields contains a symbol\n",
    "            hasSymbol = False\n",
    "            for n in range(j-1,k+1):\n",
    "                #continue if n=-1 or n=lenj\n",
    "                if (n<0 or n>=lenj):\n",
    "                    continue\n",
    "                \n",
    "                #check top row\n",
    "                if ((i != 0) and not(schematic[i-1][n].isdigit() or schematic[i-1][n] == '.')):\n",
    "                    hasSymbol = True\n",
    "                    break\n",
    "                \n",
    "                #check bottom row (if it exists)\n",
    "                if ((i != leni-1) and not(schematic[i+1][n].isdigit() or schematic[i+1][n] == '.')):\n",
    "                    hasSymbol = True\n",
    "                    break\n",
    "            #if no symbol found yet, check left and right of number (if they exist) \n",
    "            #we don't have to check for digits as they would be part of the number\n",
    "            if (not hasSymbol) and ((j!=0 and not(schematic[i][j-1] == '.')) or (k!=lenj and not(schematic[i][k] == '.'))):\n",
    "                hasSymbol = True\n",
    "            \n",
    "            #if a symbol was found, add number to list\n",
    "            if hasSymbol:\n",
    "                #print(int(number))\n",
    "                partNumbers.append(int(number))\n",
    "            \n",
    "            # reset column counter to the field of the last digit\n",
    "            j = k\n",
    "        i+=1\n",
    "    return partNumbers"
   ]
  },
  {
   "cell_type": "code",
   "execution_count": 5,
   "id": "b9291f74-0d62-446e-8109-f21db5a1b73f",
   "metadata": {
    "tags": []
   },
   "outputs": [
    {
     "data": {
      "text/plain": [
       "4361"
      ]
     },
     "execution_count": 5,
     "metadata": {},
     "output_type": "execute_result"
    }
   ],
   "source": [
    "partNumbers=findPartNumbers(puzzleInput)\n",
    "#print(partNumbers)\n",
    "sum(partNumbers)"
   ]
  },
  {
   "cell_type": "markdown",
   "id": "365bba9d-0d49-4255-8f6c-89b92f1fe837",
   "metadata": {
    "jp-MarkdownHeadingCollapsed": true,
    "tags": []
   },
   "source": [
    "## Part 2"
   ]
  },
  {
   "cell_type": "code",
   "execution_count": 6,
   "id": "158d1944-a3a5-4b81-ac08-4c5a5c28ad0b",
   "metadata": {
    "tags": []
   },
   "outputs": [],
   "source": [
    "def findGears(schematic):\n",
    "    possibleGears = {}\n",
    "    confirmedGears = {}\n",
    "    \n",
    "    leni = len(schematic)\n",
    "    lenj = len(schematic[0])\n",
    "    #print(leni,lenj)\n",
    "    \n",
    "    # find the numbers and check if they have an adjacent symbol that is '*'\n",
    "    i=0\n",
    "    while i < leni:\n",
    "        j=0 #reset j\n",
    "        while j < lenj:\n",
    "            #print(str(i)+','+str(j)+\" \",end='')\n",
    "            #we are only interested in the digits\n",
    "            if schematic[i][j].isdigit() == False:\n",
    "                j+=1\n",
    "                continue\n",
    "            #get the whole number\n",
    "            k = j\n",
    "            number = \"\"\n",
    "            while (k<lenj and schematic[i][k].isdigit()): #check we are still in bounds\n",
    "                number += schematic[i][k]\n",
    "                k += 1\n",
    "            \n",
    "            #check if any of the adjacent fields contains a '*' symbol\n",
    "            hasSymbol = False\n",
    "            symbolPos = (0,0)\n",
    "            for n in range(j-1,k+1):\n",
    "                #continue if n=-1 or n=lenj\n",
    "                if (n<0 or n>=lenj):\n",
    "                    continue\n",
    "                \n",
    "                #check top row\n",
    "                if ((i != 0) and (schematic[i-1][n] == '*')):\n",
    "                    hasSymbol = True\n",
    "                    symbolPos = (i-1,n)\n",
    "                    break\n",
    "                \n",
    "                #check bottom row (if it exists)\n",
    "                if ((i != leni-1) and (schematic[i+1][n] == '*')):\n",
    "                    hasSymbol = True\n",
    "                    symbolPos = (i+1,n)\n",
    "                    break\n",
    "            \n",
    "            #if no symbol found yet, check left and right of number (if they exist) \n",
    "            if (not hasSymbol):\n",
    "                if (j!=0 and (schematic[i][j-1] == '*')):\n",
    "                    hasSymbol = True\n",
    "                    symbolPos = (i,j-1)\n",
    "                elif (k!=lenj and (schematic[i][k] == '*')):\n",
    "                    hasSymbol = True\n",
    "                    symbolPos = (i,k)\n",
    "            \n",
    "            #if a * symbol was found, check if position was already recorded\n",
    "            #if yes: add position to confirmedGears with both numbers and delete from possibleGears\n",
    "            #if no: add position and number to possibleGears\n",
    "            if hasSymbol:\n",
    "                if symbolPos in possibleGears:\n",
    "                    confirmedGears[symbolPos] = [possibleGears[symbolPos],int(number)]\n",
    "                    del possibleGears[symbolPos]\n",
    "                else:\n",
    "                    possibleGears[symbolPos] = int(number)\n",
    "            \n",
    "            # reset column counter to the field of the last digit\n",
    "            j = k\n",
    "        i+=1\n",
    "    return confirmedGears\n",
    "\n",
    "def getGearRatios(confirmedGears):\n",
    "    gearRatioList = []\n",
    "    for x in confirmedGears.values():\n",
    "        gearRatioList.append(math.prod(x))\n",
    "    return gearRatioList"
   ]
  },
  {
   "cell_type": "code",
   "execution_count": 7,
   "id": "f51090e6-3c29-49dc-8844-ec5d371d942b",
   "metadata": {
    "tags": []
   },
   "outputs": [
    {
     "data": {
      "text/plain": [
       "467835"
      ]
     },
     "execution_count": 7,
     "metadata": {},
     "output_type": "execute_result"
    }
   ],
   "source": [
    "gearsList=findGears(puzzleInput)\n",
    "#print(gearsList)\n",
    "gearRatios=getGearRatios(gearsList)\n",
    "#print(gearRatios)\n",
    "sum(gearRatios)"
   ]
  },
  {
   "cell_type": "markdown",
   "id": "c96f80d7-0d3c-4e1e-8cf2-7ac872180a96",
   "metadata": {
    "tags": []
   },
   "source": [
    "## Some extra fun..."
   ]
  },
  {
   "cell_type": "code",
   "execution_count": 8,
   "id": "414b1098-7973-44dc-90d1-a0a9bc3500ed",
   "metadata": {
    "tags": []
   },
   "outputs": [
    {
     "name": "stdout",
     "output_type": "stream",
     "text": [
      "\u001b[38;5;220moutput\u001b[39m input\n"
     ]
    }
   ],
   "source": [
    "print('\\033[38;5;220m' + 'output' + '\\033[39m ' + 'input')"
   ]
  },
  {
   "cell_type": "code",
   "execution_count": 9,
   "id": "87c4de20-44b4-439a-ae43-dc868331003b",
   "metadata": {
    "tags": []
   },
   "outputs": [],
   "source": [
    "def printColoredOutput(schematic):\n",
    "    \n",
    "    partNumbers = []\n",
    "    confirmedGears = findGears(schematic)\n",
    "    \n",
    "    leni = len(schematic)\n",
    "    lenj = len(schematic[0])\n",
    "    #print(leni,lenj)\n",
    "    \n",
    "    # find the numbers and check if they have an adjacent symbol that is not '.'\n",
    "    i=0\n",
    "    while i < leni:\n",
    "        j=0 #reset j\n",
    "        while j < lenj:\n",
    "            #print(str(i)+','+str(j)+\" \",end='')\n",
    "            #we are only interested in the digits\n",
    "            if schematic[i][j].isdigit() == False:\n",
    "                print(schematic[i][j],end='')\n",
    "                j+=1\n",
    "                continue\n",
    "            #get the whole number\n",
    "            k = j\n",
    "            number = \"\"\n",
    "            while (k<lenj and schematic[i][k].isdigit()): #check we are still in bounds\n",
    "                number += schematic[i][k]\n",
    "                k += 1\n",
    "            \n",
    "            #check if any of the adjacent fields contains a symbol\n",
    "            hasSymbol = False\n",
    "            symbol = ''\n",
    "            symbolPos = (0,0)\n",
    "            for n in range(j-1,k+1):\n",
    "                #continue if n=-1 or n=lenj\n",
    "                if (n<0 or n>=lenj):\n",
    "                    continue\n",
    "                \n",
    "                #check top row\n",
    "                if ((i != 0) and not(schematic[i-1][n].isdigit() or schematic[i-1][n] == '.')):\n",
    "                    hasSymbol = True\n",
    "                    symbol = schematic[i-1][n]\n",
    "                    symbolPos = (i-1,n)\n",
    "                    break\n",
    "                \n",
    "                #check bottom row (if it exists)\n",
    "                if ((i != leni-1) and not(schematic[i+1][n].isdigit() or schematic[i+1][n] == '.')):\n",
    "                    hasSymbol = True\n",
    "                    symbol = schematic[i+1][n]\n",
    "                    symbolPos = (i+1,n)\n",
    "                    break\n",
    "            #if no symbol found yet, check left and right of number (if they exist) \n",
    "            #we don't have to check for digits as they would be part of the number\n",
    "            if (not hasSymbol):\n",
    "                if (j!=0 and not(schematic[i][j-1] == '.')):\n",
    "                    hasSymbol = True\n",
    "                    symbol = schematic[i][j-1]\n",
    "                    symbolPos = (i,j-1)\n",
    "                elif (k!=lenj and not(schematic[i][k] == '.')):\n",
    "                    hasSymbol = True\n",
    "                    symbol = schematic[i][k]\n",
    "                    symbolPos = (i,k)\n",
    "            \n",
    "            #if a symbol was found print number in color\n",
    "            if hasSymbol:\n",
    "                #if the symbol is a gear, print in gold\n",
    "                if (symbol == '*'):\n",
    "                    if symbolPos in confirmedGears:\n",
    "                        print('\\033[38;5;220m'+number+'\\033[0m',end='')\n",
    "                    else:\n",
    "                        print('\\033[38;5;106m'+number+'\\033[0m',end='')\n",
    "                else:\n",
    "                    print('\\033[32m'+number+'\\033[0m',end='')\n",
    "            else:\n",
    "                print('\\033[31m'+number+'\\033[0m',end='')\n",
    "            \n",
    "            # reset column counter to the field of the last digit\n",
    "            j = k\n",
    "        i+=1\n",
    "        print('')\n",
    "    "
   ]
  },
  {
   "cell_type": "code",
   "execution_count": 10,
   "id": "240e47d7-27f2-4d81-9c6d-ce72be3a3f96",
   "metadata": {
    "tags": []
   },
   "outputs": [
    {
     "name": "stdout",
     "output_type": "stream",
     "text": [
      "\u001b[38;5;220m467\u001b[0m..\u001b[31m114\u001b[0m..\n",
      "...*......\n",
      "..\u001b[38;5;220m35\u001b[0m..\u001b[32m633\u001b[0m.\n",
      "......#...\n",
      "\u001b[38;5;106m617\u001b[0m*......\n",
      ".....+.\u001b[31m58\u001b[0m.\n",
      "..\u001b[32m592\u001b[0m.....\n",
      "......\u001b[38;5;220m755\u001b[0m.\n",
      "...$.*....\n",
      ".\u001b[32m664\u001b[0m.\u001b[38;5;220m598\u001b[0m..\n"
     ]
    }
   ],
   "source": [
    "printColoredOutput(puzzleInput)"
   ]
  },
  {
   "cell_type": "code",
   "execution_count": null,
   "id": "0147a3d6-485d-4049-bfab-9c5cddb63011",
   "metadata": {},
   "outputs": [],
   "source": []
  }
 ],
 "metadata": {
  "kernelspec": {
   "display_name": "Python 3 (ipykernel)",
   "language": "python",
   "name": "python3"
  },
  "language_info": {
   "codemirror_mode": {
    "name": "ipython",
    "version": 3
   },
   "file_extension": ".py",
   "mimetype": "text/x-python",
   "name": "python",
   "nbconvert_exporter": "python",
   "pygments_lexer": "ipython3",
   "version": "3.11.5"
  }
 },
 "nbformat": 4,
 "nbformat_minor": 5
}
