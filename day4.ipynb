{
 "cells": [
  {
   "cell_type": "markdown",
   "id": "ff134d79-b3c6-47ee-bfc8-b803972f6bd5",
   "metadata": {},
   "source": [
    "# Day4: Scratchcards"
   ]
  },
  {
   "cell_type": "code",
   "execution_count": 1,
   "id": "06f948bd-64ad-4f85-8cbe-d1e949bb7301",
   "metadata": {
    "tags": []
   },
   "outputs": [],
   "source": [
    "import math"
   ]
  },
  {
   "cell_type": "code",
   "execution_count": 26,
   "id": "fc60a975-baf8-40af-8551-d696a67b5bf0",
   "metadata": {
    "tags": []
   },
   "outputs": [],
   "source": [
    "def parseInput(filename):\n",
    "    winningNumbers = []\n",
    "    elfsNumbers = []\n",
    "    \n",
    "    with open(filename,'r') as f:\n",
    "        for line in f:\n",
    "            numbers = line.split(':')[1]\n",
    "            winNum, elfNum = numbers.split('|')\n",
    "            winningNumbers.append([int(x) for x in winNum.split()])\n",
    "            elfsNumbers.append([int(x) for x in elfNum.split()])\n",
    "    return winningNumbers, elfsNumbers"
   ]
  },
  {
   "cell_type": "code",
   "execution_count": 51,
   "id": "a1f58033-635d-4260-b5f7-2a155f4adaea",
   "metadata": {
    "tags": []
   },
   "outputs": [],
   "source": [
    "puzzleInput = parseInput('../testInputs/day4.txt')\n",
    "#puzzleInput = parseInput('../inputs/day4.txt')"
   ]
  },
  {
   "cell_type": "markdown",
   "id": "50058fe4-cd1c-425c-ad56-d5c709ed55bd",
   "metadata": {
    "tags": []
   },
   "source": [
    "## Part 1"
   ]
  },
  {
   "cell_type": "code",
   "execution_count": 52,
   "id": "b4c55133-9754-47aa-8694-475038d4a90c",
   "metadata": {
    "tags": []
   },
   "outputs": [],
   "source": [
    "def getCardPoints(winningNumbers,elfsNumbers):\n",
    "    points= []\n",
    "    nCards = len(winningNumbers)\n",
    "    #f=lambda x: math.pow(2,x) if x>=0 else 0\n",
    "    for i in range(nCards):\n",
    "        #points.append(f(len(set(winningNumbers[i]).intersection(set(elfsNumbers[i])))-1))\n",
    "        points.append(math.floor(math.pow(2,(len(set(winningNumbers[i]).intersection(set(elfsNumbers[i])))-1))))\n",
    "    return points"
   ]
  },
  {
   "cell_type": "code",
   "execution_count": 54,
   "id": "c2c7c989-4cb8-48ca-a0d4-da0b45e613df",
   "metadata": {
    "tags": []
   },
   "outputs": [
    {
     "name": "stdout",
     "output_type": "stream",
     "text": [
      "[8, 2, 2, 1, 0, 0]\n"
     ]
    },
    {
     "data": {
      "text/plain": [
       "13"
      ]
     },
     "execution_count": 54,
     "metadata": {},
     "output_type": "execute_result"
    }
   ],
   "source": [
    "points=getCardPoints(puzzleInput[0],puzzleInput[1])\n",
    "print(points)\n",
    "int(sum(points))"
   ]
  },
  {
   "cell_type": "markdown",
   "id": "9cee4ef6-ac0a-4eb5-8008-12b74fd357c7",
   "metadata": {},
   "source": [
    "## Part 2"
   ]
  },
  {
   "cell_type": "code",
   "execution_count": 48,
   "id": "095d9d39-cb8f-44a1-86a9-2d88cea2a034",
   "metadata": {
    "tags": []
   },
   "outputs": [],
   "source": [
    "def getTotalNumberOfCards(winningNumbers,elfsNumbers):\n",
    "    nOrigCards = len(winningNumbers)\n",
    "    numCards = [1 for x in range(nOrigCards)]\n",
    "    for i in range(nOrigCards):\n",
    "        nMatchingNumbers = len(set(winningNumbers[i]).intersection(set(elfsNumbers[i])))\n",
    "        for k in range(1,nMatchingNumbers+1):\n",
    "            #ignore results applicable after last original\n",
    "            if i+k >= nOrigCards:\n",
    "                continue\n",
    "            \n",
    "            numCards[i+k] += numCards[i]\n",
    "    #print(numCards)\n",
    "    return sum(numCards)"
   ]
  },
  {
   "cell_type": "code",
   "execution_count": 50,
   "id": "1ac5f8e4-f53d-4459-8ecd-16d5618efa4b",
   "metadata": {
    "tags": []
   },
   "outputs": [
    {
     "data": {
      "text/plain": [
       "9924412"
      ]
     },
     "execution_count": 50,
     "metadata": {},
     "output_type": "execute_result"
    }
   ],
   "source": [
    "getTotalNumberOfCards(puzzleInput[0],puzzleInput[1])"
   ]
  },
  {
   "cell_type": "code",
   "execution_count": null,
   "id": "0b137a43-6232-499a-a5ef-50d16c8c7955",
   "metadata": {},
   "outputs": [],
   "source": []
  }
 ],
 "metadata": {
  "kernelspec": {
   "display_name": "Python 3 (ipykernel)",
   "language": "python",
   "name": "python3"
  },
  "language_info": {
   "codemirror_mode": {
    "name": "ipython",
    "version": 3
   },
   "file_extension": ".py",
   "mimetype": "text/x-python",
   "name": "python",
   "nbconvert_exporter": "python",
   "pygments_lexer": "ipython3",
   "version": "3.11.5"
  }
 },
 "nbformat": 4,
 "nbformat_minor": 5
}
