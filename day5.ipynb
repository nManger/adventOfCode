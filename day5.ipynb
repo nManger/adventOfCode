{
 "cells": [
  {
   "cell_type": "markdown",
   "id": "68a35192-d3e7-4ef0-9dc8-69f5d7bfca49",
   "metadata": {},
   "source": [
    "# Day5: If You Give A Seed A Fertilizer"
   ]
  },
  {
   "cell_type": "code",
   "execution_count": 4,
   "id": "cf5130a6-93e2-4c75-9df0-44638ed210d5",
   "metadata": {
    "tags": []
   },
   "outputs": [],
   "source": [
    "def parseInput(filename):\n",
    "    maps = {}\n",
    "    seeds = []\n",
    "    with open(filename,'r') as f:\n",
    "        line = f.readline()\n",
    "        seeds= [int(x) for x in line.split(':')[1].split()]\n",
    "        \n",
    "        f.readline() #consume empty line\n",
    "        \n",
    "        lines = f.readlines()\n",
    "\n",
    "        i=0\n",
    "        while i<len(lines): \n",
    "            #process one map block\n",
    "            key = lines[i].split()[0].split('-')[0]\n",
    "            dest = lines[i].split()[0].split('-')[-1]\n",
    "            i+=1\n",
    "            vals = []\n",
    "            while(i<len(lines) and lines[i].strip() !='' ):\n",
    "                vals.append([int(x) for x in lines[i].split()])\n",
    "                i+=1\n",
    "            maps[key]=[dest,vals]\n",
    "            i+=1 #skip the empty line\n",
    "            \n",
    "    #print(seeds)\n",
    "    #print(maps)\n",
    "    return seeds,maps"
   ]
  },
  {
   "cell_type": "code",
   "execution_count": 15,
   "id": "9b08eae2-1035-42c0-bbfa-dc3d31a32973",
   "metadata": {
    "tags": []
   },
   "outputs": [],
   "source": [
    "#seeds,maps = parseInput('../testInputs/day5.txt')\n",
    "seeds,maps = parseInput('../inputs/day5.txt')"
   ]
  },
  {
   "cell_type": "markdown",
   "id": "60ab78a4-814c-40b5-a8f0-3e405bfe3873",
   "metadata": {
    "tags": []
   },
   "source": [
    "## Part 1"
   ]
  },
  {
   "cell_type": "code",
   "execution_count": 73,
   "id": "6f19a0a3-4b1e-4c42-86d4-a934e02898f3",
   "metadata": {
    "tags": []
   },
   "outputs": [],
   "source": [
    "def findLocations(maps, seeds):\n",
    "    start = 'seed'\n",
    "    dest =''\n",
    "    modifiedVals = seeds.copy()\n",
    "    nSeeds = len(seeds)\n",
    "    \n",
    "    \n",
    "    #print(seeds)\n",
    "    while(start!='location'):\n",
    "        dest = maps[start][0]\n",
    "        ranges = maps[start][1]\n",
    "        #print(dest)\n",
    "        \n",
    "        for i in range(nSeeds):\n",
    "            for item in ranges:\n",
    "                #item =[destinationRangeStart,sourceRangeStart,width]\n",
    "                if  modifiedVals[i]>= item[1] and modifiedVals[i]< item[1]+item[2]:\n",
    "                    modifiedVals[i] = item[0] + (modifiedVals[i] - item[1])\n",
    "                    break\n",
    "        #print(modifiedVals)\n",
    "        start = dest\n",
    "    \n",
    "    return modifiedVals"
   ]
  },
  {
   "cell_type": "code",
   "execution_count": 74,
   "id": "856b1052-3978-461d-82c6-7d78d37b938c",
   "metadata": {
    "tags": []
   },
   "outputs": [
    {
     "data": {
      "text/plain": [
       "240320250"
      ]
     },
     "execution_count": 74,
     "metadata": {},
     "output_type": "execute_result"
    }
   ],
   "source": [
    "locs = findLocations(maps,seeds)\n",
    "#print(locs)\n",
    "min(locs)"
   ]
  },
  {
   "cell_type": "markdown",
   "id": "d71ace2c-27cb-4a2d-8daf-3665a6d0c0d9",
   "metadata": {},
   "source": [
    "## Part 2"
   ]
  },
  {
   "cell_type": "code",
   "execution_count": 13,
   "id": "db544b3d-70af-4c61-95c9-e9ce425533d2",
   "metadata": {
    "tags": []
   },
   "outputs": [],
   "source": [
    "def checkRanges(start,width,ranges):\n",
    "    dummy=[]\n",
    "    notContained=False\n",
    "    \n",
    "    for i,item in enumerate(ranges):\n",
    "        #print(i)\n",
    "        #item =[destinationRangeStart,sourceRangeStart,width]\n",
    "        if start+width <= item[1] or start >= (item[1]+item[2]): #whole range is not contained\n",
    "            notContained=True\n",
    "            #print(item[2])\n",
    "            #print('not contained:',start+width,'<=',item[1],' ',start,'>=',(item[1]+item[2]),' ',bool(start+width <= item[1]), bool(start >= item[1]+item[2]))\n",
    "            continue\n",
    "        \n",
    "        if  start >= item[1] and start+width <= item[1]+item[2]: #whole range is contained (start+width = first number above range)\n",
    "            dummy=[item[0]+(start-item[1]),width]\n",
    "            #print(item[2])\n",
    "            #print('contained:', start, '>=', item[1],' ',start+width, '<=', item[1]+item[2])\n",
    "        elif start < item[1] and start+width <= item[1]+item[2]: #upper end is contained\n",
    "            dummy+=[item[0],start+width-item[1]]\n",
    "            #print('upper contained:',item[1],start+width-item[1],start,item[1]-start)\n",
    "            dummy+=checkRanges(start,item[1]-start,ranges)\n",
    "        elif start >= item[1] and start+width > item[1]+item[2]: #lower end is contained\n",
    "            dummy+=[item[0]+(start-item[1]), item[1]+item[2]-start]\n",
    "            #print('lower contained:',item[1]+(start-item[1]), item[1]+item[2]-start,item[1]+item[2],start+width-(item[1]+item[2]))\n",
    "            dummy+=checkRanges(item[1]+item[2],start+width-(item[1]+item[2]),ranges)\n",
    "        elif start < item[1] and start+width > item[1]+item[2]: #both ends are outside range\n",
    "            dummy+=[item[0], item[2]]\n",
    "            #print('both contained',item[1], item[2],item[1]+item[2],start+width-(item[1]+item[2]),start,item[1]-start)\n",
    "            dummy+=checkRanges(item[1]+item[2],start+width-(item[1]+item[2]),ranges)\n",
    "            dummy+=checkRanges(start,item[1]-start,ranges)\n",
    "        notContained=False\n",
    "        break\n",
    "    \n",
    "    if notContained: #range was not contained in any item\n",
    "        dummy = [start,width]\n",
    "        \n",
    "    #print(dummy)\n",
    "    return dummy\n",
    "        \n",
    "        \n",
    "def findLocationsFromRanges(maps, seeds):\n",
    "    start = 'seed'\n",
    "    dest =''\n",
    "    \n",
    "    vals=seeds.copy()\n",
    "    newVals=[]\n",
    "    \n",
    "    #print(seeds)\n",
    "    while(start!='location'):\n",
    "        dest = maps[start][0]\n",
    "        ranges = maps[start][1]\n",
    "        #print(start,dest)\n",
    "        \n",
    "        for i in range(0,len(vals),2):\n",
    "            newVals+=checkRanges(vals[i],vals[i+1],ranges)\n",
    "                \n",
    "        #print(newVals)\n",
    "        #reset pointers for next loop\n",
    "        start = dest\n",
    "        vals = newVals\n",
    "        newVals=[]\n",
    "    \n",
    "    return vals"
   ]
  },
  {
   "cell_type": "code",
   "execution_count": 16,
   "id": "18b64440-ca54-4e8f-8ec6-deeff1ae21eb",
   "metadata": {
    "tags": []
   },
   "outputs": [
    {
     "data": {
      "text/plain": [
       "28580589"
      ]
     },
     "execution_count": 16,
     "metadata": {},
     "output_type": "execute_result"
    }
   ],
   "source": [
    "locs = findLocationsFromRanges(maps,seeds)\n",
    "#print(locs)\n",
    "min(locs[::2]) #79,14,55,13"
   ]
  },
  {
   "cell_type": "code",
   "execution_count": null,
   "id": "f9c2a882-5d89-42a6-ba9a-44195164761d",
   "metadata": {},
   "outputs": [],
   "source": []
  }
 ],
 "metadata": {
  "kernelspec": {
   "display_name": "Python 3 (ipykernel)",
   "language": "python",
   "name": "python3"
  },
  "language_info": {
   "codemirror_mode": {
    "name": "ipython",
    "version": 3
   },
   "file_extension": ".py",
   "mimetype": "text/x-python",
   "name": "python",
   "nbconvert_exporter": "python",
   "pygments_lexer": "ipython3",
   "version": "3.11.5"
  }
 },
 "nbformat": 4,
 "nbformat_minor": 5
}
