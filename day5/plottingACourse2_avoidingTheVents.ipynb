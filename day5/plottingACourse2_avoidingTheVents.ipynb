{
 "cells": [
  {
   "cell_type": "markdown",
   "id": "a5f24c42-b07f-4642-9566-31c55e3bedc2",
   "metadata": {},
   "source": [
    "## Read Input and prepare data"
   ]
  },
  {
   "cell_type": "code",
   "execution_count": 80,
   "id": "2d96d916-cab6-4672-96dd-6e0f645443ba",
   "metadata": {},
   "outputs": [],
   "source": [
    "ventLines = open(\"ventLines.txt\") do file\n",
    "    data = Int64[]\n",
    "    nlines =0 #line counter\n",
    "    coordinates=Array{Int}(undef,4)\n",
    "    for line in eachline(file)\n",
    "        nlines+=1\n",
    "        splitString = split(line)\n",
    "        coordinates[1:2]=parse.(Int,split(splitString[1],','))\n",
    "        coordinates[3:4]=parse.(Int,split(splitString[3],','))\n",
    "        append!(data,coordinates)\n",
    "    end\n",
    "    (reshape(data,4,nlines))\n",
    "end;"
   ]
  },
  {
   "cell_type": "code",
   "execution_count": 81,
   "id": "b7f833ff-129f-4abb-9bf2-243885f4829f",
   "metadata": {},
   "outputs": [
    {
     "data": {
      "text/plain": [
       "4×500 Array{Int64,2}:\n",
       " 599  435  768  845  167   45  780  310  …   47  549  944  713   83  814  980\n",
       " 531  904  714  552  680  887  295  539     103  880   15  456  865  585  439\n",
       " 599  435  768  596  167   45  179  602     897  942   44  713  239  814  685\n",
       "  32  489  187  801  445  346  896  831     953  487  915  402  865  105  439"
      ]
     },
     "execution_count": 81,
     "metadata": {},
     "output_type": "execute_result"
    }
   ],
   "source": [
    "ventLines"
   ]
  },
  {
   "cell_type": "code",
   "execution_count": 181,
   "id": "23bc4b02-9993-4f28-bf7f-cd79e00b5f89",
   "metadata": {},
   "outputs": [],
   "source": [
    "ventLinesTest = open(\"ventLinesTest.txt\") do file\n",
    "    data = Int64[]\n",
    "    nlines =0 #line counter\n",
    "    coordinates=Array{Int}(undef,4)\n",
    "    for line in eachline(file)\n",
    "        nlines+=1\n",
    "        splitString = split(line)\n",
    "        coordinates[1:2]=parse.(Int,split(splitString[1],','))\n",
    "        coordinates[3:4]=parse.(Int,split(splitString[3],','))\n",
    "        append!(data,coordinates)\n",
    "    end\n",
    "    (reshape(data,4,nlines))\n",
    "end;"
   ]
  },
  {
   "cell_type": "code",
   "execution_count": 182,
   "id": "6daabe7f-3f21-4bac-ae17-fab8f2af2685",
   "metadata": {},
   "outputs": [
    {
     "data": {
      "text/plain": [
       "4×10 Array{Int64,2}:\n",
       " 0  8  9  2  7  6  0  3  0  5\n",
       " 9  0  4  2  0  4  9  4  0  5\n",
       " 5  0  3  2  7  2  2  1  8  8\n",
       " 9  8  4  1  4  0  9  4  8  2"
      ]
     },
     "execution_count": 182,
     "metadata": {},
     "output_type": "execute_result"
    }
   ],
   "source": [
    "ventLinesTest"
   ]
  },
  {
   "cell_type": "markdown",
   "id": "606ae7b2-b1fb-4aec-a6ac-d1b7dc336218",
   "metadata": {},
   "source": [
    "## Part 1"
   ]
  },
  {
   "cell_type": "markdown",
   "id": "a330ffdb-9ef6-44fa-a4c5-8c3aa930b418",
   "metadata": {},
   "source": [
    "Find the maximum grid size in each direction"
   ]
  },
  {
   "cell_type": "code",
   "execution_count": 172,
   "id": "66957e5a-d881-4418-ab44-5d6b20321bbf",
   "metadata": {},
   "outputs": [
    {
     "name": "stdout",
     "output_type": "stream",
     "text": [
      "988\n",
      "988\n",
      "989\n",
      "989\n"
     ]
    }
   ],
   "source": [
    "println(maximum(ventLines[1,:]))\n",
    "println(maximum(ventLines[2,:]))\n",
    "println(maximum(ventLines[3,:]))\n",
    "println(maximum(ventLines[4,:]))"
   ]
  },
  {
   "cell_type": "code",
   "execution_count": 178,
   "id": "19bd22e6-dc63-4056-8f86-f286b31d0532",
   "metadata": {},
   "outputs": [
    {
     "name": "stdout",
     "output_type": "stream",
     "text": [
      "11\n",
      "14\n",
      "10\n",
      "10\n"
     ]
    }
   ],
   "source": [
    "println(minimum(ventLines[1,:]))\n",
    "println(minimum(ventLines[2,:]))\n",
    "println(minimum(ventLines[3,:]))\n",
    "println(minimum(ventLines[4,:]))"
   ]
  },
  {
   "cell_type": "code",
   "execution_count": 173,
   "id": "895d6821-f4fa-46fa-9f82-393ced9a5861",
   "metadata": {},
   "outputs": [
    {
     "data": {
      "text/plain": [
       "(989, 989)"
      ]
     },
     "execution_count": 173,
     "metadata": {},
     "output_type": "execute_result"
    }
   ],
   "source": [
    "xMax = max(maximum(ventLines[1,:]),maximum(ventLines[3,:]))\n",
    "yMax = max(maximum(ventLines[2,:]),maximum(ventLines[4,:]))\n",
    "xMax,yMax"
   ]
  },
  {
   "cell_type": "code",
   "execution_count": 202,
   "id": "21e5b536-fb63-4f71-becd-9748268c9425",
   "metadata": {},
   "outputs": [
    {
     "data": {
      "text/plain": [
       "mapOceanFloor (generic function with 1 method)"
      ]
     },
     "execution_count": 202,
     "metadata": {},
     "output_type": "execute_result"
    }
   ],
   "source": [
    "function mapOceanFloor(data)\n",
    "    xMax = max(maximum(data[1,:]),maximum(data[3,:]))\n",
    "    yMax = max(maximum(data[2,:]),maximum(data[4,:]))\n",
    "    map=zeros(Int,xMax,yMax)\n",
    "    dataSize = size(data)\n",
    "    \n",
    "    #loop over all vent lines, act only on lines with x1==x2 or y1==y2\n",
    "    for i in 1:dataSize[2]\n",
    "        if data[1,i] == data[3,i]\n",
    "            #check if coordinates are in ascending or descending order and \n",
    "            if data[2,i]>data[4,i]\n",
    "                map[data[1,i],data[4,i]:data[2,i]] .+= 1\n",
    "            else\n",
    "                map[data[1,i],data[2,i]:data[4,i]] .+= 1\n",
    "            end\n",
    "        elseif data[2,i] == data[4,i]\n",
    "            if data[1,i]>data[3,i]\n",
    "                map[data[3,i]:data[1,i],data[2,i]] .+= 1\n",
    "            else\n",
    "                map[data[1,i]:data[3,i],data[2,i]] .+= 1\n",
    "            end\n",
    "        end\n",
    "    end\n",
    "    \n",
    "    return map\n",
    "end"
   ]
  },
  {
   "cell_type": "code",
   "execution_count": 203,
   "id": "4fcc1219-079f-40de-a186-72f6b20a1dc4",
   "metadata": {
    "tags": []
   },
   "outputs": [],
   "source": [
    "oceanFloor = mapOceanFloor(ventLines.+1);"
   ]
  },
  {
   "cell_type": "code",
   "execution_count": 215,
   "id": "33b66e5b-1a69-4357-a34c-8cc458d855e4",
   "metadata": {
    "tags": []
   },
   "outputs": [
    {
     "data": {
      "text/plain": [
       "7644"
      ]
     },
     "execution_count": 215,
     "metadata": {},
     "output_type": "execute_result"
    }
   ],
   "source": [
    "count(x->x>1,oceanFloor)"
   ]
  },
  {
   "cell_type": "code",
   "execution_count": 213,
   "id": "a6ec51bc-97b7-49c5-8e25-be51a03d9ee8",
   "metadata": {},
   "outputs": [],
   "source": [
    "oceanFloorTest = mapOceanFloor(ventLinesTest.+1);"
   ]
  },
  {
   "cell_type": "code",
   "execution_count": 214,
   "id": "2fac58ae-ea7b-4063-a69d-0467df0d4c7f",
   "metadata": {},
   "outputs": [
    {
     "data": {
      "text/plain": [
       "10×10 LinearAlgebra.Transpose{Int64,Array{Int64,2}}:\n",
       " 0  0  0  0  0  0  0  1  0  0\n",
       " 0  0  1  0  0  0  0  1  0  0\n",
       " 0  0  1  0  0  0  0  1  0  0\n",
       " 0  0  0  0  0  0  0  1  0  0\n",
       " 0  1  1  2  1  1  1  2  1  1\n",
       " 0  0  0  0  0  0  0  0  0  0\n",
       " 0  0  0  0  0  0  0  0  0  0\n",
       " 0  0  0  0  0  0  0  0  0  0\n",
       " 0  0  0  0  0  0  0  0  0  0\n",
       " 2  2  2  1  1  1  0  0  0  0"
      ]
     },
     "execution_count": 214,
     "metadata": {},
     "output_type": "execute_result"
    }
   ],
   "source": [
    "transpose(oceanFloorTest)"
   ]
  },
  {
   "cell_type": "code",
   "execution_count": 210,
   "id": "449b1858-8ac2-41d9-ad16-adadbde83b0c",
   "metadata": {},
   "outputs": [
    {
     "data": {
      "text/plain": [
       "5"
      ]
     },
     "execution_count": 210,
     "metadata": {},
     "output_type": "execute_result"
    }
   ],
   "source": [
    "count(x->x>1,oceanFloorTest)"
   ]
  },
  {
   "cell_type": "markdown",
   "id": "a6880a26-ad9c-4baf-8027-1e00316163c6",
   "metadata": {
    "jp-MarkdownHeadingCollapsed": true,
    "tags": []
   },
   "source": [
    "#### Some trials on broadcasting addition operations"
   ]
  },
  {
   "cell_type": "code",
   "execution_count": 234,
   "id": "96b7d503-59c1-4fe8-be91-f44f04e2c1b7",
   "metadata": {},
   "outputs": [
    {
     "data": {
      "text/plain": [
       "5×5 Array{Int64,2}:\n",
       " 0  0  0  0  0\n",
       " 0  0  0  0  0\n",
       " 0  0  0  0  0\n",
       " 0  0  0  0  0\n",
       " 0  0  0  0  0"
      ]
     },
     "execution_count": 234,
     "metadata": {},
     "output_type": "execute_result"
    }
   ],
   "source": [
    "map=zeros(Int,5,5)"
   ]
  },
  {
   "cell_type": "code",
   "execution_count": 235,
   "id": "309a970b-1167-4b70-a4f2-b0fa0a5137b1",
   "metadata": {},
   "outputs": [
    {
     "data": {
      "text/plain": [
       "3-element view(::Array{Int64,2}, 2:4, 3) with eltype Int64:\n",
       " 1\n",
       " 2\n",
       " 1"
      ]
     },
     "execution_count": 235,
     "metadata": {},
     "output_type": "execute_result"
    }
   ],
   "source": [
    "map[3,4:-1:2].+=1 #ones(Int,3)\n",
    "map[2:4,3].+=1 #ones(Int,3)"
   ]
  },
  {
   "cell_type": "code",
   "execution_count": 236,
   "id": "674bf843-00f7-4be2-bd5c-8146d17ccd56",
   "metadata": {},
   "outputs": [
    {
     "data": {
      "text/plain": [
       "1"
      ]
     },
     "execution_count": 236,
     "metadata": {},
     "output_type": "execute_result"
    }
   ],
   "source": [
    "map[1,1]+=1"
   ]
  },
  {
   "cell_type": "code",
   "execution_count": 237,
   "id": "382c8af8-e0b7-4820-87b2-846a88e38346",
   "metadata": {},
   "outputs": [
    {
     "data": {
      "text/plain": [
       "5×5 Array{Int64,2}:\n",
       " 1  0  0  0  0\n",
       " 0  0  1  0  0\n",
       " 0  1  2  1  0\n",
       " 0  0  1  0  0\n",
       " 0  0  0  0  0"
      ]
     },
     "execution_count": 237,
     "metadata": {},
     "output_type": "execute_result"
    }
   ],
   "source": [
    "map"
   ]
  },
  {
   "cell_type": "markdown",
   "id": "c87c5088-9bb7-4412-8124-a615e7683010",
   "metadata": {},
   "source": [
    "## Part 2"
   ]
  },
  {
   "cell_type": "code",
   "execution_count": 254,
   "id": "e0347a4d-8d4a-41a1-97be-c7100c28d239",
   "metadata": {},
   "outputs": [
    {
     "data": {
      "text/plain": [
       "mapOceanFloorDiag (generic function with 1 method)"
      ]
     },
     "execution_count": 254,
     "metadata": {},
     "output_type": "execute_result"
    }
   ],
   "source": [
    "function mapOceanFloorDiag(data)\n",
    "    xMax = max(maximum(data[1,:]),maximum(data[3,:]))\n",
    "    yMax = max(maximum(data[2,:]),maximum(data[4,:]))\n",
    "    map=zeros(Int,xMax,yMax)\n",
    "    dataSize = size(data)\n",
    "    \n",
    "    #loop over all vent lines \n",
    "    for i in 1:dataSize[2]\n",
    "        #horizontal lines\n",
    "        if data[1,i] == data[3,i] \n",
    "            #check if coordinates are in ascending or descending order and \n",
    "            if data[2,i]>data[4,i]\n",
    "                map[data[1,i],data[4,i]:data[2,i]] .+= 1\n",
    "            else\n",
    "                map[data[1,i],data[2,i]:data[4,i]] .+= 1\n",
    "            end\n",
    "        #vertical lines\n",
    "        elseif data[2,i] == data[4,i] \n",
    "            if data[1,i]>data[3,i]\n",
    "                map[data[3,i]:data[1,i],data[2,i]] .+= 1\n",
    "            else\n",
    "                map[data[1,i]:data[3,i],data[2,i]] .+= 1\n",
    "            end\n",
    "        #diagonal lines\n",
    "        else\n",
    "            #determine if either coordinate direction is in descending order\n",
    "            incx = 1\n",
    "            incy = 1\n",
    "            if data[1,i]>data[3,i]\n",
    "                incx = -1\n",
    "            end\n",
    "            if data[2,i]>data[4,i]\n",
    "                incy = -1\n",
    "            end \n",
    "            dx = abs(data[1,i] - data[3,i])\n",
    "            for j in 0:dx     \n",
    "                    map[data[1,i]+incx*j,data[2,i]+incy*j] +=1\n",
    "            end\n",
    "                    \n",
    "        end\n",
    "    end\n",
    "    \n",
    "    return map\n",
    "end"
   ]
  },
  {
   "cell_type": "code",
   "execution_count": 251,
   "id": "4ead26fe-3a69-44f3-bc7d-b4f31c899c79",
   "metadata": {
    "collapsed": true,
    "jupyter": {
     "outputs_hidden": true
    },
    "tags": []
   },
   "outputs": [
    {
     "name": "stdout",
     "output_type": "stream",
     "text": [
      "line 1 is vertical\n",
      "line 2 is diagonal\n",
      "line 3 is vertical\n",
      "line 4 is horizontal\n",
      "line 5 is horizontal\n",
      "line 6 is diagonal\n",
      "line 7 is vertical\n",
      "line 8 is vertical\n",
      "line 9 is diagonal\n",
      "line 10 is diagonal\n"
     ]
    }
   ],
   "source": [
    "oceanFloorTest = mapOceanFloorDiag(ventLinesTest.+1);"
   ]
  },
  {
   "cell_type": "code",
   "execution_count": 252,
   "id": "fb55ea15-fd04-4d26-b590-d002846a6198",
   "metadata": {},
   "outputs": [
    {
     "data": {
      "text/plain": [
       "10×10 LinearAlgebra.Transpose{Int64,Array{Int64,2}}:\n",
       " 1  0  1  0  0  0  0  1  1  0\n",
       " 0  1  1  1  0  0  0  2  0  0\n",
       " 0  0  2  0  1  0  1  1  1  0\n",
       " 0  0  0  1  0  2  0  2  0  0\n",
       " 0  1  1  2  3  1  3  2  1  1\n",
       " 0  0  0  1  0  2  0  0  0  0\n",
       " 0  0  1  0  0  0  1  0  0  0\n",
       " 0  1  0  0  0  0  0  1  0  0\n",
       " 1  0  0  0  0  0  0  0  1  0\n",
       " 2  2  2  1  1  1  0  0  0  0"
      ]
     },
     "execution_count": 252,
     "metadata": {},
     "output_type": "execute_result"
    }
   ],
   "source": [
    "transpose(oceanFloorTest)"
   ]
  },
  {
   "cell_type": "code",
   "execution_count": 253,
   "id": "86aaaa32-5367-4814-9429-d2c5035ce71d",
   "metadata": {},
   "outputs": [
    {
     "data": {
      "text/plain": [
       "12"
      ]
     },
     "execution_count": 253,
     "metadata": {},
     "output_type": "execute_result"
    }
   ],
   "source": [
    "count(x->x>1,oceanFloorTest)"
   ]
  },
  {
   "cell_type": "code",
   "execution_count": 257,
   "id": "7a5470d7-0b83-4fe5-a061-b7b1e2972fdf",
   "metadata": {
    "tags": []
   },
   "outputs": [],
   "source": [
    "oceanFloor = mapOceanFloorDiag(ventLines.+1);"
   ]
  },
  {
   "cell_type": "code",
   "execution_count": 258,
   "id": "6037f6fc-95f2-4789-88d2-32346bce72da",
   "metadata": {
    "tags": []
   },
   "outputs": [
    {
     "data": {
      "text/plain": [
       "18627"
      ]
     },
     "execution_count": 258,
     "metadata": {},
     "output_type": "execute_result"
    }
   ],
   "source": [
    "count(x->x>1,oceanFloor)"
   ]
  },
  {
   "cell_type": "code",
   "execution_count": null,
   "id": "8c0af414-0c82-410e-8344-aee09ff961de",
   "metadata": {},
   "outputs": [],
   "source": []
  }
 ],
 "metadata": {
  "kernelspec": {
   "display_name": "Julia 1.4.1",
   "language": "julia",
   "name": "julia-1.4"
  },
  "language_info": {
   "file_extension": ".jl",
   "mimetype": "application/julia",
   "name": "julia",
   "version": "1.4.1"
  }
 },
 "nbformat": 4,
 "nbformat_minor": 5
}
