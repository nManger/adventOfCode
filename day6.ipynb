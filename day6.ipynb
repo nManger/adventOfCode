{
 "cells": [
  {
   "cell_type": "markdown",
   "id": "f1718399-da47-4d30-8068-5e8742de750e",
   "metadata": {},
   "source": [
    "# Day 6: Wait For It"
   ]
  },
  {
   "cell_type": "code",
   "execution_count": 1,
   "id": "a88a9525-99f8-4816-bcd1-61f7e84c3833",
   "metadata": {
    "tags": []
   },
   "outputs": [],
   "source": [
    "import math"
   ]
  },
  {
   "cell_type": "code",
   "execution_count": 2,
   "id": "ee438b88-dc07-41f8-92a3-5d94cae6ac17",
   "metadata": {},
   "outputs": [],
   "source": [
    "def parseInput(filename):\n",
    "    races = []\n",
    "    with open(filename) as f:\n",
    "        lines = f.readlines()\n",
    "        time = lines[0].split(':')[1].split()\n",
    "        dist = lines[1].split(':')[1].split()\n",
    "        for i in range(len(time)):\n",
    "            races.append([time[i],dist[i]])\n",
    "            \n",
    "    return races"
   ]
  },
  {
   "cell_type": "code",
   "execution_count": 16,
   "id": "c0027b58-8508-4e7c-9056-dcef7591e1ba",
   "metadata": {
    "tags": []
   },
   "outputs": [],
   "source": [
    "#races = parseInput('../testInputs/day6.txt')\n",
    "races = parseInput('../inputs/day6.txt')"
   ]
  },
  {
   "cell_type": "markdown",
   "id": "c243cc35-5622-4492-989a-4f1a0c14af83",
   "metadata": {
    "tags": []
   },
   "source": [
    "Todays Puzzle can be solved analytically.\n",
    "\n",
    "Let $x$ be the distance travelled,$x_{record}$ the current record distance, $t_{0}$ the time you let go of the button and $t_{race}$ the total race time.\n",
    "From the puzzle explanation we can derive the following equation for the distance travelled:\n",
    "$$ x = (t_{race}-t_{0})* t_{0} $$\n",
    "\n",
    "Now we have to find the values for $t_{0}$ corresponding to the record distance $x_{record}$:\n",
    "$$ x_{record} = (t_{race}-t_{0})* t_{0}$$ \n",
    "Reordering gives us a second order polynomial equation:\n",
    "$$ t_{0}^2 - t_{race}*t_{0} + x_{record} = 0$$\n",
    "This equation has a well known solution:\n",
    "$$ t_{0,\\pm} = \\frac{t_{race}}{2} \\pm \\sqrt{\\frac{t_{race}^2}{4} - x_{record}}$$\n",
    "\n",
    "To win, we have to cover more distance, so we add $\\epsilon << 1$ to the lower value and subtract it from the upper value:\n",
    "$$ t_{0,\\pm} = \\frac{t_{race}}{2} \\pm \\sqrt{\\frac{t_{race}^2}{4} - x_{record}} \\mp \\epsilon$$\n",
    "\n",
    "As we are only interrested in the full Milliseconds, we have round the lower value up and round the upper value down: $\\lceil t_{0,-} \\rceil$, $\\lfloor t_{0,+} \\rfloor$. To get the number of ways to win (we are only interrested in solutions letting go at a full Millisecond), we need to take the difference of the two values:\n",
    "$$ n_\\text{ways to win} = \\lfloor t_{0,+} \\rfloor - \\lceil t_{0,-} \\rceil +1 $$\n"
   ]
  },
  {
   "cell_type": "code",
   "execution_count": 4,
   "id": "5fe4b8ba-6317-4b49-b6bb-c1c9e69f287c",
   "metadata": {
    "tags": []
   },
   "outputs": [],
   "source": [
    "def pqFunction(p,q):\n",
    "    return [-1*p/2+math.sqrt(p*p/4-q), -1*p/2-math.sqrt(p*p/4-q)]\n",
    "\n",
    "def evaluateRaces(races):\n",
    "    nWaysToWin = []\n",
    "    epsilon = 1e-6\n",
    "    \n",
    "    for race in races:\n",
    "        tup,tlow = pqFunction(-1*int(race[0]),int(race[1]))\n",
    "        nWaysToWin.append(math.floor(tup-epsilon) - math.ceil(tlow+epsilon)+1)\n",
    "        \n",
    "    print(nWaysToWin)\n",
    "    return math.prod(nWaysToWin)"
   ]
  },
  {
   "cell_type": "markdown",
   "id": "71abef47-4056-43b9-b60d-dcb1177d76cd",
   "metadata": {},
   "source": [
    "## Part 1"
   ]
  },
  {
   "cell_type": "code",
   "execution_count": 5,
   "id": "5e3f90b7-d036-453f-8aa9-3c88d5445fe2",
   "metadata": {
    "tags": []
   },
   "outputs": [
    {
     "name": "stdout",
     "output_type": "stream",
     "text": [
      "[4, 8, 9]\n"
     ]
    },
    {
     "data": {
      "text/plain": [
       "288"
      ]
     },
     "execution_count": 5,
     "metadata": {},
     "output_type": "execute_result"
    }
   ],
   "source": [
    "evaluateRaces(races)"
   ]
  },
  {
   "cell_type": "markdown",
   "id": "5bec4021-df57-46d5-ab29-f74c93768e80",
   "metadata": {},
   "source": [
    "## Part 2"
   ]
  },
  {
   "cell_type": "code",
   "execution_count": 17,
   "id": "a3b3bafb-353d-400f-afc0-71a861da1061",
   "metadata": {
    "tags": []
   },
   "outputs": [
    {
     "name": "stdout",
     "output_type": "stream",
     "text": [
      "62649190 553101014731074\n",
      "[41382569]\n"
     ]
    },
    {
     "data": {
      "text/plain": [
       "41382569"
      ]
     },
     "execution_count": 17,
     "metadata": {},
     "output_type": "execute_result"
    }
   ],
   "source": [
    "time = ''\n",
    "dist = ''\n",
    "for i in range(len(races)):\n",
    "    time += races[i][0]\n",
    "    dist += races[i][1]\n",
    "\n",
    "print(time,dist)\n",
    "evaluateRaces([[time,dist]])"
   ]
  },
  {
   "cell_type": "code",
   "execution_count": null,
   "id": "21ade6f3-898d-4936-9420-836fb7133b43",
   "metadata": {},
   "outputs": [],
   "source": []
  }
 ],
 "metadata": {
  "kernelspec": {
   "display_name": "Python 3 (ipykernel)",
   "language": "python",
   "name": "python3"
  },
  "language_info": {
   "codemirror_mode": {
    "name": "ipython",
    "version": 3
   },
   "file_extension": ".py",
   "mimetype": "text/x-python",
   "name": "python",
   "nbconvert_exporter": "python",
   "pygments_lexer": "ipython3",
   "version": "3.11.5"
  }
 },
 "nbformat": 4,
 "nbformat_minor": 5
}
