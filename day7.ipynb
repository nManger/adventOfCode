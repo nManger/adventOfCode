{
 "cells": [
  {
   "cell_type": "markdown",
   "id": "5f6c58b4-8d5f-4b20-8cee-25574e2b2807",
   "metadata": {},
   "source": [
    "# Day 7: Camel Cards"
   ]
  },
  {
   "cell_type": "code",
   "execution_count": 1,
   "id": "541f2b02-0e56-4b76-9718-7a99a5e628a1",
   "metadata": {
    "tags": []
   },
   "outputs": [],
   "source": [
    "from functools import cmp_to_key"
   ]
  },
  {
   "cell_type": "code",
   "execution_count": 13,
   "id": "3017909e-1307-4edb-af67-92098017dc1d",
   "metadata": {
    "tags": []
   },
   "outputs": [],
   "source": [
    "def parseInput(filename):\n",
    "    hands={}\n",
    "    mapping=str.maketrans({'T':'A','J':'B','Q':'C','K':'D','A':'E'})\n",
    "    with open(filename) as f:\n",
    "        for line in f:\n",
    "            hand,bid = line.split()\n",
    "            hand = hand.translate(mapping)\n",
    "            hands[hand] = int(bid)\n",
    "    return hands"
   ]
  },
  {
   "cell_type": "code",
   "execution_count": 95,
   "id": "21cf8825-409e-4059-aef2-dcc19566602f",
   "metadata": {
    "tags": []
   },
   "outputs": [],
   "source": [
    "#Code is applicable to both parts today\n",
    "def getHandTypeStrength(hand):\n",
    "    #determine how many cards of each strenght are in hand\n",
    "    cards = {}\n",
    "    for c in hand:\n",
    "        if c in cards:\n",
    "            cards[c] +=1\n",
    "        else:\n",
    "            cards[c] = 1\n",
    "    #deduce Hand strength\n",
    "    if '1' in cards:\n",
    "        #if there is a joker present and part 2 rules are applied, add the number of jokers to the number of the most common item\n",
    "        nJokers = cards.pop('1')\n",
    "        if len(cards) == 0: #if there are only jokers present and the dict is now empty, assign it 25 for five of a kind \n",
    "            return 25\n",
    "        return sum([(x+nJokers)*(x+nJokers) if i==0 else x*x for i,x in enumerate(sorted(cards.values(),reverse=True))])\n",
    "        \n",
    "    return sum([x*x for x in cards.values()])\n",
    "    \n",
    "#Five of a kind 5*5 = 25\n",
    "#Four of a kind 4*4 + 1*1 = 17\n",
    "#Full house 3*3+2*2 = 9+4 = 15\n",
    "#Three of a kind 3*3 + 1*1 *2 = 11\n",
    "#Two pair 2*2* 2 + 1*1 = 9\n",
    "#One pair 2*2 + 1*1 *3 = 7\n",
    "#High card 1*1 *5 = 5\n",
    "    \n",
    "def compareHands(handA,handB):\n",
    "    handAtype = getHandTypeStrength(handA)\n",
    "    handBtype = getHandTypeStrength(handB)\n",
    "    \n",
    "    #if hand type is not equal, return comparison of hand type\n",
    "    if handAtype != handBtype:\n",
    "        return handBtype - handAtype\n",
    "    \n",
    "    #if hands are of equal type strength, compare cards in hand from left to right\n",
    "    for i in range(5):\n",
    "        #return the comparison of the first element different in both lists\n",
    "        if handB[i] != handA[i]:\n",
    "            return int(handB[i],16)-int(handA[i],16)\n",
    "\n",
    "def getTotalWinnings(hands,part2=False):\n",
    "    unsortedHands = []\n",
    "    if part2: #change the value of jokers from 'B' to '1'\n",
    "        unsortedHands = [key.replace('B','1') for key in hands.keys()]\n",
    "    else:\n",
    "        unsortedHands = list(hands.keys())\n",
    "        \n",
    "    sortedHands = sorted(unsortedHands,key=cmp_to_key(compareHands),reverse=True)\n",
    "    \n",
    "    sortedHands = [key.replace('1','B') for key in sortedHands]\n",
    "    #print(sortedHands)\n",
    "    totWin = 0\n",
    "    for i,hand in enumerate(sortedHands):\n",
    "        totWin += (i+1)*hands[hand]\n",
    "    return totWin\n",
    "    "
   ]
  },
  {
   "cell_type": "code",
   "execution_count": 98,
   "id": "f8ebda8e-516c-43ec-a0af-70bb53b5a97e",
   "metadata": {
    "tags": []
   },
   "outputs": [],
   "source": [
    "#hands = parseInput('../testInputs/day7.txt')\n",
    "hands = parseInput('../inputs/day7.txt')"
   ]
  },
  {
   "cell_type": "markdown",
   "id": "a01086ca-6cc5-41c5-b2ba-1f162eb1d946",
   "metadata": {},
   "source": [
    "## Part 1"
   ]
  },
  {
   "cell_type": "code",
   "execution_count": 96,
   "id": "40cea83c-db6b-4ce2-be80-3edf0dd3bca2",
   "metadata": {
    "tags": []
   },
   "outputs": [
    {
     "data": {
      "text/plain": [
       "252295678"
      ]
     },
     "execution_count": 96,
     "metadata": {},
     "output_type": "execute_result"
    }
   ],
   "source": [
    "getTotalWinnings(hands)"
   ]
  },
  {
   "cell_type": "markdown",
   "id": "6e53c4e4-d441-41a6-942f-3737ea6b389e",
   "metadata": {},
   "source": [
    "## Part 2"
   ]
  },
  {
   "cell_type": "code",
   "execution_count": 97,
   "id": "127df902-a9ee-4fef-bc7f-6120f4698896",
   "metadata": {
    "tags": []
   },
   "outputs": [
    {
     "data": {
      "text/plain": [
       "250577259"
      ]
     },
     "execution_count": 97,
     "metadata": {},
     "output_type": "execute_result"
    }
   ],
   "source": [
    "getTotalWinnings(hands,part2=True)"
   ]
  }
 ],
 "metadata": {
  "kernelspec": {
   "display_name": "Python 3 (ipykernel)",
   "language": "python",
   "name": "python3"
  },
  "language_info": {
   "codemirror_mode": {
    "name": "ipython",
    "version": 3
   },
   "file_extension": ".py",
   "mimetype": "text/x-python",
   "name": "python",
   "nbconvert_exporter": "python",
   "pygments_lexer": "ipython3",
   "version": "3.11.5"
  }
 },
 "nbformat": 4,
 "nbformat_minor": 5
}
