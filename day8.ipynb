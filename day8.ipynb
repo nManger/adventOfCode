{
 "cells": [
  {
   "cell_type": "markdown",
   "id": "f44496ef-1d48-4425-a21a-eda6b6f7e7e0",
   "metadata": {},
   "source": [
    "# Day 8: Haunted Wasteland"
   ]
  },
  {
   "cell_type": "code",
   "execution_count": 45,
   "id": "94f9f95a-8003-4a33-9b55-fb1209950b96",
   "metadata": {
    "tags": []
   },
   "outputs": [],
   "source": [
    "import math"
   ]
  },
  {
   "cell_type": "code",
   "execution_count": 1,
   "id": "e5cb52f8-8907-4c9d-bc71-286fb6c7e340",
   "metadata": {
    "tags": []
   },
   "outputs": [],
   "source": [
    "def parseInput(filename):\n",
    "    network = {}\n",
    "    directions = ''\n",
    "    \n",
    "    with open(filename) as f:\n",
    "        #get directions from first line of file\n",
    "        directions = f.readline().strip()\n",
    "        f.readline()#consume empty line\n",
    "        \n",
    "        #get the network from the rest of the file\n",
    "        lines = f.readlines()\n",
    "        for line in lines:\n",
    "            start,dest = line.replace(' ','').split('=')\n",
    "            destList = dest.strip('\\n()').split(',')\n",
    "            network[start] = destList\n",
    "    \n",
    "    return directions, network"
   ]
  },
  {
   "cell_type": "code",
   "execution_count": 2,
   "id": "d6963d48-250c-43d3-841a-cf4597ad977a",
   "metadata": {
    "tags": []
   },
   "outputs": [],
   "source": [
    "directions1, network1 = parseInput('../testInputs/day8_1.txt')\n",
    "directions2, network2 = parseInput('../testInputs/day8_2.txt')\n",
    "directions, network = parseInput('../inputs/day8.txt')"
   ]
  },
  {
   "cell_type": "markdown",
   "id": "32121e9f-ef61-4ab9-a636-32b9bcae5da0",
   "metadata": {},
   "source": [
    "## Part 1"
   ]
  },
  {
   "cell_type": "code",
   "execution_count": 3,
   "id": "9ecc86e3-af7f-4871-85d6-1cc14b85a27c",
   "metadata": {
    "tags": []
   },
   "outputs": [],
   "source": [
    "def walkNetwork(directions, network):\n",
    "    nDirections = len(directions)\n",
    "    \n",
    "    position = 'AAA'\n",
    "    steps = 0\n",
    "    while position != 'ZZZ':\n",
    "        if directions[(steps%nDirections)] == 'L':\n",
    "            position = network[position][0]\n",
    "        else:\n",
    "            position = network[position][1]\n",
    "        steps += 1\n",
    "    \n",
    "    return steps"
   ]
  },
  {
   "cell_type": "code",
   "execution_count": 4,
   "id": "711b07e9-34be-4cc9-bc6e-f0b299f0538d",
   "metadata": {
    "tags": []
   },
   "outputs": [
    {
     "data": {
      "text/plain": [
       "2"
      ]
     },
     "execution_count": 4,
     "metadata": {},
     "output_type": "execute_result"
    }
   ],
   "source": [
    "walkNetwork(directions1,network1)"
   ]
  },
  {
   "cell_type": "code",
   "execution_count": 5,
   "id": "c233d19e-0dc9-4a4c-b66a-f534cc143f1d",
   "metadata": {
    "tags": []
   },
   "outputs": [
    {
     "data": {
      "text/plain": [
       "6"
      ]
     },
     "execution_count": 5,
     "metadata": {},
     "output_type": "execute_result"
    }
   ],
   "source": [
    "walkNetwork(directions2,network2)"
   ]
  },
  {
   "cell_type": "code",
   "execution_count": 6,
   "id": "c5d76d97-8a09-451c-bebf-b6a3abcb2bf0",
   "metadata": {
    "tags": []
   },
   "outputs": [
    {
     "data": {
      "text/plain": [
       "20093"
      ]
     },
     "execution_count": 6,
     "metadata": {},
     "output_type": "execute_result"
    }
   ],
   "source": [
    "walkNetwork(directions,network)"
   ]
  },
  {
   "cell_type": "markdown",
   "id": "47d3be88-983a-48db-ac87-6b639e0c1cf3",
   "metadata": {},
   "source": [
    "## Part 2"
   ]
  },
  {
   "cell_type": "code",
   "execution_count": 79,
   "id": "9c3180cb-32c7-49c4-8984-89656ba2fa79",
   "metadata": {
    "tags": []
   },
   "outputs": [],
   "source": [
    "def walkNetworkAsGhost(directions, network):\n",
    "    nDirections = len(directions)\n",
    "    \n",
    "    #find starting positions\n",
    "    positions = []\n",
    "    for position in network.keys():\n",
    "        if position[2] == 'A':\n",
    "            positions.append(position)\n",
    "    nPositions = len(positions)\n",
    "    \n",
    "    #walk network for all positions until all satisfy position[2]='Z'\n",
    "    stepsUntilRepetition = []\n",
    "    stepsUntilZ = []\n",
    "    \n",
    "    #check at which point we start repeating\n",
    "    for i in range(nPositions):\n",
    "        records = set()\n",
    "        position = positions[i]\n",
    "        j = 0\n",
    "        #while (position, j%nDirections) not in records: Apparently loops do not neccesaryily end at __Z nodes..\n",
    "        #but every starting node ends at its own __Z node. So just do Part 1 on every starting node and lcm the result\n",
    "        while position[-1] != 'Z':\n",
    "            if directions[(j%nDirections)] == 'L':\n",
    "                position = network[position][0]\n",
    "            else:\n",
    "                position = network[position][1]\n",
    "            j += 1\n",
    "            \n",
    "        #print(records)\n",
    "        stepsUntilRepetition.append(j)\n",
    "\n",
    "    return math.lcm(*stepsUntilRepetition)\n",
    "        \n",
    "        \n",
    "# This takes too long for large inputs\n",
    "#     foundEnding = False\n",
    "#     while not foundEnding:\n",
    "#         print(positions)\n",
    "#         if directions[(steps%nDirections)] == 'L':\n",
    "#             for i in range(nPositions):\n",
    "#                 positions[i] = network[positions[i]][0]\n",
    "#         else:\n",
    "#             for i in range(nPositions):\n",
    "#                 positions[i] = network[positions[i]][1]\n",
    "\n",
    "#         #check if we are only on positions ending in 'Z'\n",
    "#         foundEnding = True\n",
    "#         for i in range(nPositions):\n",
    "#              foundEnding = foundEnding and (positions[i][-1] == 'Z')     \n",
    "#     steps += 1"
   ]
  },
  {
   "cell_type": "code",
   "execution_count": 82,
   "id": "2e7b983c-4222-405b-8f34-4369369f983e",
   "metadata": {
    "tags": []
   },
   "outputs": [],
   "source": [
    "directions3, network3 = parseInput('../testInputs/day8_3.txt')"
   ]
  },
  {
   "cell_type": "code",
   "execution_count": 80,
   "id": "f6553d19-a2e6-4661-9090-f95b20d1fdc0",
   "metadata": {
    "tags": []
   },
   "outputs": [
    {
     "data": {
      "text/plain": [
       "6"
      ]
     },
     "execution_count": 80,
     "metadata": {},
     "output_type": "execute_result"
    }
   ],
   "source": [
    "walkNetworkAsGhost(directions3,network3)"
   ]
  },
  {
   "cell_type": "code",
   "execution_count": 81,
   "id": "2bd057cf-4415-417f-af67-7d3527210c0a",
   "metadata": {
    "tags": []
   },
   "outputs": [
    {
     "data": {
      "text/plain": [
       "22103062509257"
      ]
     },
     "execution_count": 81,
     "metadata": {},
     "output_type": "execute_result"
    }
   ],
   "source": [
    "walkNetworkAsGhost(directions,network)"
   ]
  }
 ],
 "metadata": {
  "kernelspec": {
   "display_name": "Python 3 (ipykernel)",
   "language": "python",
   "name": "python3"
  },
  "language_info": {
   "codemirror_mode": {
    "name": "ipython",
    "version": 3
   },
   "file_extension": ".py",
   "mimetype": "text/x-python",
   "name": "python",
   "nbconvert_exporter": "python",
   "pygments_lexer": "ipython3",
   "version": "3.11.5"
  }
 },
 "nbformat": 4,
 "nbformat_minor": 5
}
