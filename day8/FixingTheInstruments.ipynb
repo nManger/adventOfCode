{
 "cells": [
  {
   "cell_type": "markdown",
   "id": "71c42695-01d0-46c8-9c2b-a5ccbe4f5ec0",
   "metadata": {},
   "source": [
    "## Load and prepare data"
   ]
  },
  {
   "cell_type": "code",
   "execution_count": 122,
   "id": "b97c24ac-6c56-408d-801f-ae3ed1a085eb",
   "metadata": {},
   "outputs": [
    {
     "data": {
      "text/plain": [
       "([\"cbdfag\" \"defgac\" … \"defcg\" \"fcde\"; \"bf\" \"bfcedag\" … \"fbeag\" \"ebafcgd\"; … ; \"bgdaef\" \"acbedg\" … \"agdfbe\" \"gacefd\"; \"fgeb\" \"cdebfa\" … \"agcedb\" \"fgceab\"], [\"bf\" \"abcfed\" … \"fgeda\" \"gcaed\"; \"defbag\" \"adfb\" … \"da\" \"gec\"; \"efadgbc\" \"fdba\" … \"eafbgd\" \"cfegba\"; \"bfgeda\" \"ab\" … \"abfd\" \"fdaegc\"])"
      ]
     },
     "execution_count": 122,
     "metadata": {},
     "output_type": "execute_result"
    }
   ],
   "source": [
    "signalPattern,signalOutput = open(\"signalLog.txt\") do file\n",
    "#signalPattern,signalOutput = open(\"exampleSignalLog.txt\") do file\n",
    "    pattern = String[]\n",
    "    output = String[]\n",
    "    nlines=0\n",
    "    for line in eachline(file)\n",
    "        nlines += 1\n",
    "        splitString = split(line,'|')\n",
    "        append!(pattern,split(splitString[1]))\n",
    "        append!(output, split(splitString[2]))\n",
    "    end\n",
    "    (reshape(pattern,10,nlines),reshape(output,4,nlines))\n",
    "end"
   ]
  },
  {
   "cell_type": "code",
   "execution_count": 69,
   "id": "c97e36f2-03c8-4cc3-98c3-44e3b5c1e7bf",
   "metadata": {},
   "outputs": [
    {
     "data": {
      "text/plain": [
       "10×10 Array{String,2}:\n",
       " \"be\"       \"edbfga\"   \"fgaebd\"   …  \"bdfegc\"   \"egadfb\"   \"gcafb\"\n",
       " \"cfbegad\"  \"begcd\"    \"cg\"          \"cbegaf\"   \"cdbfeg\"   \"gcf\"\n",
       " \"cbdgef\"   \"cbg\"      \"bdaec\"       \"gecbf\"    \"cegd\"     \"dcaebfg\"\n",
       " \"fgaecd\"   \"gc\"       \"gdafb\"       \"dfcage\"   \"fecab\"    \"ecagb\"\n",
       " \"cgeb\"     \"gcadebf\"  \"agbcfd\"      \"bdacg\"    \"cgb\"      \"gf\"\n",
       " \"fdcge\"    \"fbgde\"    \"gdcbef\"   …  \"ed\"       \"gbdefca\"  \"abcdeg\"\n",
       " \"agebfd\"   \"acbgfd\"   \"bgcad\"       \"bedf\"     \"cg\"       \"gaef\"\n",
       " \"fecdb\"    \"abcde\"    \"gfac\"        \"ced\"      \"fgcdab\"   \"cafbge\"\n",
       " \"fabcd\"    \"gfcbed\"   \"gcb\"         \"adcbefg\"  \"egfdb\"    \"fdbac\"\n",
       " \"edb\"      \"gfec\"     \"cdgabef\"     \"gebcd\"    \"bfceg\"    \"fegbdc\""
      ]
     },
     "execution_count": 69,
     "metadata": {},
     "output_type": "execute_result"
    }
   ],
   "source": [
    "signalPattern"
   ]
  },
  {
   "cell_type": "code",
   "execution_count": 70,
   "id": "837d63a9-7330-4121-9a94-adad0233ab92",
   "metadata": {},
   "outputs": [
    {
     "data": {
      "text/plain": [
       "4×10 Array{String,2}:\n",
       " \"fdgacbe\"  \"fcgedb\"   \"cg\"      \"efabcd\"  …  \"ed\"      \"gbdfcae\"  \"fgae\"\n",
       " \"cefdb\"    \"cgb\"      \"cg\"      \"cedba\"      \"bcgafe\"  \"bgc\"      \"cfgab\"\n",
       " \"cefbgd\"   \"dgebacf\"  \"fdcagb\"  \"gadfec\"     \"cdgba\"   \"cg\"       \"fg\"\n",
       " \"gcbe\"     \"gc\"       \"cbg\"     \"cb\"         \"cbgef\"   \"cgb\"      \"bagce\""
      ]
     },
     "execution_count": 70,
     "metadata": {},
     "output_type": "execute_result"
    }
   ],
   "source": [
    "signalOutput"
   ]
  },
  {
   "cell_type": "markdown",
   "id": "0e0d1b86-4d12-45ba-9f01-22e9744946f2",
   "metadata": {},
   "source": [
    "## Part 1"
   ]
  },
  {
   "cell_type": "code",
   "execution_count": 23,
   "id": "8efbec16-65a0-4e6f-b571-c313bcb0aba5",
   "metadata": {},
   "outputs": [
    {
     "data": {
      "text/plain": [
       "532"
      ]
     },
     "execution_count": 23,
     "metadata": {},
     "output_type": "execute_result"
    }
   ],
   "source": [
    "count(x->(length(x)==2||length(x)==3||length(x)==4||length(x)==7),signalOutput)"
   ]
  },
  {
   "cell_type": "markdown",
   "id": "960ca9e2-4588-4d44-bfd2-cdfd878ac73e",
   "metadata": {},
   "source": [
    "## Part 2"
   ]
  },
  {
   "cell_type": "code",
   "execution_count": 118,
   "id": "31cf3c10-5531-4395-9226-c31bb17da3e4",
   "metadata": {},
   "outputs": [
    {
     "data": {
      "text/plain": [
       "decodeOutput (generic function with 1 method)"
      ]
     },
     "execution_count": 118,
     "metadata": {},
     "output_type": "execute_result"
    }
   ],
   "source": [
    "function buildDecoder(input)\n",
    "    \n",
    "    joinedInput = join(input)\n",
    "    \n",
    "    #count all occurences of letters a through g\n",
    "    letters = ['a','b','c','d','e','f','g']\n",
    "    numLetters = Array{Int}(undef,7)\n",
    "    for (i,c) in enumerate(letters)\n",
    "        numLetters[i]=count(x->x==c,joinedInput)\n",
    "    end\n",
    "    \n",
    "    \n",
    "    decoder = Dict{Char,Char}() #dictionary to be filled with old - new mapping\n",
    "    #dictionary containing occurence rate as key and letters as values excluding tied values 7 and 8\n",
    "    occurenceReference = Dict(4=>'e', 6=>'b',9=>'f') \n",
    "    \n",
    "    mapFour = filter(x->length(x)==4,input)[1] #find the representation of 4 (has length 4)\n",
    "    \n",
    "    for i in 1:7  \n",
    "        #tiebreak 7 = dg as g is not part of 4\n",
    "        if (numLetters[i] == 7)\n",
    "            if isnothing(findfirst(letters[i],mapFour)) \n",
    "                decoder[letters[i]] = 'g'\n",
    "            else\n",
    "                decoder[letters[i]] = 'd'\n",
    "            end\n",
    "        elseif(numLetters[i] == 8)\n",
    "        #tiebreak 8 = ac as a is not part of 4\n",
    "            if isnothing(findfirst(letters[i],mapFour))\n",
    "                decoder[letters[i]] = 'a'\n",
    "            else\n",
    "                decoder[letters[i]] = 'c'\n",
    "            end\n",
    "        else\n",
    "            decoder[letters[i]] = occurenceReference[numLetters[i]]\n",
    "        end\n",
    "    end\n",
    "    return decoder\n",
    "end\n",
    "   \n",
    "function decodeOutput(output,decoder)\n",
    "    numbers = Array{Int}(undef,4)\n",
    "    reference = Dict(\"abcefg\"=>0 ,\"cf\"=>1, \"acdeg\"=>2, \"acdfg\"=>3, \n",
    "    \"bcdf\"=>4, \"abdfg\"=>5, \"abdefg\"=>6, \"acf\"=>7, \"abcdefg\"=>8, \"abcdfg\"=>9)\n",
    "    \n",
    "    for i in 1:4\n",
    "        newString = []\n",
    "        for c in output[i]\n",
    "            push!(newString, decoder[first(c)]) #concatenate next char to array\n",
    "        end\n",
    "        numbers[i] = reference[join(sort(newString))]\n",
    "    end\n",
    "    return numbers\n",
    "end\n",
    "    "
   ]
  },
  {
   "cell_type": "markdown",
   "id": "44945758-2da8-4d12-ae16-7a704dc90888",
   "metadata": {
    "jp-MarkdownHeadingCollapsed": true,
    "tags": []
   },
   "source": [
    "### Test decoder on single string"
   ]
  },
  {
   "cell_type": "code",
   "execution_count": 115,
   "id": "a9a58604-605e-437c-8460-f496974027c3",
   "metadata": {
    "tags": []
   },
   "outputs": [
    {
     "data": {
      "text/plain": [
       "\"abcefg cf acdeg acdfg bcdf abdfg abdefg acf abcdefg abcdfg\""
      ]
     },
     "execution_count": 115,
     "metadata": {},
     "output_type": "execute_result"
    }
   ],
   "source": [
    "reference = \"abcefg cf acdeg acdfg bcdf abdfg abdefg acf abcdefg abcdfg\""
   ]
  },
  {
   "cell_type": "code",
   "execution_count": 88,
   "id": "f6d1c39b-98b8-42d7-9c7a-7ae3be4b34b4",
   "metadata": {},
   "outputs": [
    {
     "data": {
      "text/plain": [
       "\"cdfeb fcadb cdfeb cdbaf\""
      ]
     },
     "execution_count": 88,
     "metadata": {},
     "output_type": "execute_result"
    }
   ],
   "source": [
    "testPattern =\"acedgfb cdfbe gcdfa fbcad dab cefabd cdfgeb eafb cagedb ab\"\n",
    "testOutput = \"cdfeb fcadb cdfeb cdbaf\""
   ]
  },
  {
   "cell_type": "code",
   "execution_count": 98,
   "id": "032ca366-2516-47c5-8779-391456e62ed3",
   "metadata": {},
   "outputs": [
    {
     "name": "stdout",
     "output_type": "stream",
     "text": [
      "SubString{String}"
     ]
    },
    {
     "data": {
      "text/plain": [
       "Dict{Char,Char} with 7 entries:\n",
       "  'f' => 'd'\n",
       "  'g' => 'e'\n",
       "  'a' => 'c'\n",
       "  'c' => 'g'\n",
       "  'd' => 'a'\n",
       "  'e' => 'b'\n",
       "  'b' => 'f'"
      ]
     },
     "execution_count": 98,
     "metadata": {},
     "output_type": "execute_result"
    }
   ],
   "source": [
    "testDecoder=buildDecoder(split(testPattern))"
   ]
  },
  {
   "cell_type": "code",
   "execution_count": 114,
   "id": "c2c70934-a3a3-46b1-ba83-6b13c2763b79",
   "metadata": {},
   "outputs": [
    {
     "data": {
      "text/plain": [
       "4-element Array{Int64,1}:\n",
       " 5\n",
       " 3\n",
       " 5\n",
       " 3"
      ]
     },
     "execution_count": 114,
     "metadata": {},
     "output_type": "execute_result"
    }
   ],
   "source": [
    "decodeOutput(split(testOutput),testDecoder)"
   ]
  },
  {
   "cell_type": "markdown",
   "id": "9aeb2494-44a0-404b-8ad8-684a0f67a5f0",
   "metadata": {
    "tags": []
   },
   "source": [
    "### Decode Output"
   ]
  },
  {
   "cell_type": "code",
   "execution_count": 123,
   "id": "4a482bb2-5324-4def-950a-26ba0f3db612",
   "metadata": {
    "collapsed": true,
    "jupyter": {
     "outputs_hidden": true
    },
    "tags": []
   },
   "outputs": [
    {
     "data": {
      "text/plain": [
       "200-element Array{Int64,1}:\n",
       " 1989\n",
       " 9441\n",
       "  447\n",
       " 4177\n",
       " 1177\n",
       " 4772\n",
       " 5282\n",
       " 1774\n",
       "  881\n",
       " 4127\n",
       " 2855\n",
       " 9184\n",
       " 2921\n",
       "    ⋮\n",
       " 2451\n",
       " 4747\n",
       " 4871\n",
       " 8877\n",
       " 8864\n",
       " 1494\n",
       " 4721\n",
       " 7310\n",
       " 7937\n",
       " 6181\n",
       " 3194\n",
       " 3709"
      ]
     },
     "execution_count": 123,
     "metadata": {},
     "output_type": "execute_result"
    }
   ],
   "source": [
    "nLines = size(signalPattern)[2]\n",
    "newNumbers = Array{Int}(undef,nLines)\n",
    "\n",
    "for i in 1:nLines\n",
    "    decoder = buildDecoder(signalPattern[:,i])\n",
    "    newNumber = decodeOutput(signalOutput[:,i],decoder)\n",
    "    newNumbers[i] = parse(Int,join(string.(newNumber)))\n",
    "end\n",
    "newNumbers"
   ]
  },
  {
   "cell_type": "code",
   "execution_count": 124,
   "id": "a7b6812e-3841-4e8d-85ba-7ea40c84c694",
   "metadata": {},
   "outputs": [
    {
     "data": {
      "text/plain": [
       "1011284"
      ]
     },
     "execution_count": 124,
     "metadata": {},
     "output_type": "execute_result"
    }
   ],
   "source": [
    "sum(newNumbers)"
   ]
  },
  {
   "cell_type": "code",
   "execution_count": null,
   "id": "cbfc0c92-7c03-4f6f-9cbe-3364c025d99a",
   "metadata": {},
   "outputs": [],
   "source": []
  }
 ],
 "metadata": {
  "kernelspec": {
   "display_name": "Julia 1.4.1",
   "language": "julia",
   "name": "julia-1.4"
  },
  "language_info": {
   "file_extension": ".jl",
   "mimetype": "application/julia",
   "name": "julia",
   "version": "1.4.1"
  }
 },
 "nbformat": 4,
 "nbformat_minor": 5
}
