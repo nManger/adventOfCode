{
 "cells": [
  {
   "cell_type": "markdown",
   "id": "f749412f-3eac-4f61-8c09-37f0124d2c18",
   "metadata": {},
   "source": [
    "## Day 9: Mirage Maintenance"
   ]
  },
  {
   "cell_type": "code",
   "execution_count": 1,
   "id": "7c8cc6ff-4fac-442c-957f-ca90a5234de4",
   "metadata": {
    "tags": []
   },
   "outputs": [],
   "source": [
    "def parseInput(filename):\n",
    "    sequences = []\n",
    "    with open(filename) as f:\n",
    "        for line in f:\n",
    "            sequences.append([int(x) for x in line.strip().split()])\n",
    "        \n",
    "    return sequences\n",
    "    "
   ]
  },
  {
   "cell_type": "code",
   "execution_count": 71,
   "id": "9677bf62-d076-402b-8b9b-f273565f6457",
   "metadata": {
    "tags": []
   },
   "outputs": [],
   "source": [
    "sequences = parseInput('../testInputs/day9.txt')\n",
    "sequences = parseInput('../inputs/day9.txt')"
   ]
  },
  {
   "cell_type": "code",
   "execution_count": 73,
   "id": "9ef0ffa0-097c-48f3-8040-ac377c7d4518",
   "metadata": {
    "tags": []
   },
   "outputs": [],
   "source": [
    "#code is again usable for both parts\n",
    "def extrapolateSequence(sequence):\n",
    "    diffs = [sequence]\n",
    "    \n",
    "    #Create sequence of deltas of previous sequence until all deltas are 0\n",
    "    while not (min(diffs[-1]) ==0 and max(diffs[-1]) ==0) and len(diffs[-1])>1:\n",
    "        currDiff = [diffs[-1][i+1]-diffs[-1][i] for i in range(len(diffs[-1])-1)]\n",
    "        diffs.append(currDiff)\n",
    "    \n",
    "    #Calculate next item at the front and back of each sequence starting from second to last \n",
    "    #until we get the extensions of the original sequence\n",
    "    newLastItem = 0\n",
    "    newFirstItem = 0\n",
    "    for i in range(len(diffs)-2,-1,-1):\n",
    "        newLastItem = newLastItem + diffs[i][-1]\n",
    "        newFirstItem = diffs[i][0] - newFirstItem\n",
    "        #print(i,newFirstItem)\n",
    "        \n",
    "    return newFirstItem,newLastItem"
   ]
  },
  {
   "cell_type": "code",
   "execution_count": 72,
   "id": "dc532761-6fab-4c4a-9b44-9a5bfef18f8d",
   "metadata": {
    "tags": []
   },
   "outputs": [
    {
     "name": "stdout",
     "output_type": "stream",
     "text": [
      "900 1987402313\n"
     ]
    }
   ],
   "source": [
    "sequSumFirst = 0\n",
    "sequSumLast = 0\n",
    "for sequence in sequences:\n",
    "    sumFirst,sumLast = extrapolateSequence(sequence)\n",
    "    sequSumFirst += sumFirst\n",
    "    sequSumLast += sumLast\n",
    "\n",
    "print(sequSumFirst,sequSumLast)"
   ]
  },
  {
   "cell_type": "code",
   "execution_count": null,
   "id": "3b4111c7-e961-4c52-89e5-7aee6ef41898",
   "metadata": {},
   "outputs": [],
   "source": []
  }
 ],
 "metadata": {
  "kernelspec": {
   "display_name": "Python 3 (ipykernel)",
   "language": "python",
   "name": "python3"
  },
  "language_info": {
   "codemirror_mode": {
    "name": "ipython",
    "version": 3
   },
   "file_extension": ".py",
   "mimetype": "text/x-python",
   "name": "python",
   "nbconvert_exporter": "python",
   "pygments_lexer": "ipython3",
   "version": "3.11.5"
  }
 },
 "nbformat": 4,
 "nbformat_minor": 5
}
