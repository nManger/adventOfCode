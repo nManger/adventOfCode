{
 "cells": [
  {
   "cell_type": "markdown",
   "id": "1932a5a1-52a5-4bac-8f7f-e46421af49f4",
   "metadata": {},
   "source": [
    "## Loading Data"
   ]
  },
  {
   "cell_type": "code",
   "execution_count": 2,
   "id": "23b36dbc-84f5-4668-bba0-fad2048552d3",
   "metadata": {},
   "outputs": [],
   "source": [
    "using DelimitedFiles"
   ]
  },
  {
   "cell_type": "code",
   "execution_count": 52,
   "id": "8bd88e5d-4f34-4eb6-9da8-e5266fd2129b",
   "metadata": {},
   "outputs": [],
   "source": [
    "data = readdlm(\"caveMap.txt\",String);"
   ]
  },
  {
   "cell_type": "code",
   "execution_count": 54,
   "id": "168959fd-f7ac-4b1d-8f6f-9f3d49ced4e1",
   "metadata": {},
   "outputs": [],
   "source": [
    "caveMap = split.(data,\"\")\n",
    "caveMap = transpose(parse.(Int,reduce(hcat,caveMap)));"
   ]
  },
  {
   "cell_type": "code",
   "execution_count": 76,
   "id": "59720038-5ec4-43cc-a5bc-e4fbe1c64820",
   "metadata": {},
   "outputs": [
    {
     "data": {
      "text/plain": [
       "5×10 Array{Int64,2}:\n",
       " 2  1  9  9  9  4  3  2  1  0\n",
       " 3  9  8  7  8  9  4  9  2  1\n",
       " 9  8  5  6  7  8  9  8  9  2\n",
       " 8  7  6  7  8  9  6  7  8  9\n",
       " 9  8  9  9  9  6  5  6  7  8"
      ]
     },
     "execution_count": 76,
     "metadata": {},
     "output_type": "execute_result"
    }
   ],
   "source": [
    "caveMapTest = [2 1 9 9 9 4 3 2 1 0; 3 9 8 7 8 9 4 9 2 1; 9 8 5 6 7 8 9 8 9 2; 8 7 6 7 8 9 6 7 8 9; 9 8 9 9 9 6 5 6 7 8]"
   ]
  },
  {
   "cell_type": "markdown",
   "id": "59ada58a-85b2-4b67-864b-1166f58dc76a",
   "metadata": {},
   "source": [
    "## Part 1"
   ]
  },
  {
   "cell_type": "code",
   "execution_count": 55,
   "id": "d55ec789-e50a-475a-833e-ad1ce76869c8",
   "metadata": {},
   "outputs": [],
   "source": [
    "map = caveMap\n",
    "largeMap= fill(10,(size(map).+2))\n",
    "largeMap[2:end-1,2:end-1] = map\n",
    "largeMap;"
   ]
  },
  {
   "cell_type": "code",
   "execution_count": 56,
   "id": "b5232c00-bc06-4c86-90ad-6ade6ff6ede4",
   "metadata": {},
   "outputs": [
    {
     "data": {
      "text/plain": [
       "480"
      ]
     },
     "execution_count": 56,
     "metadata": {},
     "output_type": "execute_result"
    }
   ],
   "source": [
    "riskLevels = 0\n",
    "nx,ny = size(largeMap)\n",
    "mask = [0 1 0; 1 0 1; 0 1 0]\n",
    "for i in 2:nx-1, j in 2:ny-1\n",
    "    maskSum=sum((largeMap[i-1:i+1,j-1:j+1].*mask).>largeMap[i,j])\n",
    "    if maskSum == 4\n",
    "        #println(\"i $(i) j $(j) value $(largeMap[i,j])\")\n",
    "        riskLevels += (largeMap[i,j]+1)\n",
    "    end\n",
    "end\n",
    "riskLevels"
   ]
  },
  {
   "cell_type": "markdown",
   "id": "05311591-fdf3-499b-90cf-119b7e046c32",
   "metadata": {},
   "source": [
    "## Part 2"
   ]
  },
  {
   "cell_type": "code",
   "execution_count": 96,
   "id": "86b90788-9cdd-4fea-b9d1-df53bab6960c",
   "metadata": {},
   "outputs": [
    {
     "data": {
      "text/plain": [
       "findBasins (generic function with 1 method)"
      ]
     },
     "execution_count": 96,
     "metadata": {},
     "output_type": "execute_result"
    }
   ],
   "source": [
    "function recursiveBasinMapping(map,numBasin,i,j)\n",
    "    #paint this cell as belonging to basin numBasin\n",
    "    map[i,j] = numBasin\n",
    "    ##check if neighboring cell is 0 (so has not been processes and is not boundary)\n",
    "    if map[i-1,j] == 0     ##up\n",
    "        recursiveBasinMapping(map,numBasin,i-1,j)\n",
    "    end\n",
    "    if map[i,j-1] == 0     ##left\n",
    "        recursiveBasinMapping(map,numBasin,i,j-1)\n",
    "    end    \n",
    "    if map[i,j+1] == 0     ##right \n",
    "        recursiveBasinMapping(map,numBasin,i,j+1)\n",
    "    end\n",
    "    if map[i+1,j] == 0     ##down\n",
    "        recursiveBasinMapping(map,numBasin,i+1,j)\n",
    "    end  \n",
    "end\n",
    "\n",
    "function findBasins(caveMap)\n",
    "    \n",
    "    #bulid larger map with boundary values at edges\n",
    "    largeMap= fill(9,(size(caveMap).+2))\n",
    "    largeMap[2:end-1,2:end-1] = caveMap\n",
    "    # basin boundary map\n",
    "    map = (largeMap.==9)* -1  \n",
    "    \n",
    "    mapProcessed = false\n",
    "    numBasins = 0\n",
    "    while !mapProcessed\n",
    "        indx = findfirst(x->x==0,map)\n",
    "        if isnothing(indx)\n",
    "            mapProcessed = true # map has been processed, exit loop\n",
    "        else\n",
    "            numBasins += 1\n",
    "            recursiveBasinMapping(map,numBasins,indx[1],indx[2])\n",
    "        end\n",
    "    end\n",
    "    \n",
    "    ## find largest basins\n",
    "    basinSizes = Array{Int}(undef,numBasins)\n",
    "    for i in 1:numBasins\n",
    "        basinSizes[i] = count(x->x==i,map)\n",
    "    end\n",
    "    \n",
    "    sort!(basinSizes)\n",
    "    \n",
    "    return (numBasins,map,basinSizes)\n",
    "end"
   ]
  },
  {
   "cell_type": "markdown",
   "id": "d9da6459-2327-4165-928f-e4099f5a00ee",
   "metadata": {},
   "source": [
    "### Input"
   ]
  },
  {
   "cell_type": "code",
   "execution_count": 103,
   "id": "abf1c2a7-7b83-4f26-bf11-41fc73d5ebf4",
   "metadata": {},
   "outputs": [],
   "source": [
    "nbasins,basinMap,basinSizes = findBasins(caveMap);"
   ]
  },
  {
   "cell_type": "code",
   "execution_count": 104,
   "id": "d8e8913c-2012-46e4-a126-ba8ec5d0edcd",
   "metadata": {},
   "outputs": [
    {
     "name": "stdout",
     "output_type": "stream",
     "text": [
      "[2, 2, 2, 2, 2, 2, 2, 2, 2, 2, 2, 3, 3, 3, 3, 3, 3, 3, 3, 3, 3, 3, 3, 3, 4, 4, 4, 4, 4, 4, 4, 5, 5, 5, 5, 5, 5, 6, 6, 6, 7, 7, 7, 7, 7, 7, 7, 8, 9, 9, 9, 9, 9, 10, 10, 10, 10, 10, 10, 11, 11, 11, 12, 12, 12, 13, 13, 13, 14, 14, 14, 15, 15, 15, 15, 15, 15, 16, 16, 17, 17, 17, 17, 18, 18, 18, 19, 19, 19, 19, 20, 20, 21, 21, 22, 22, 22, 23, 23, 23, 24, 24, 24, 25, 25, 25, 25, 25, 26, 26, 26, 28, 28, 29, 29, 30, 30, 30, 30, 31, 31, 32, 32, 32, 33, 33, 33, 34, 34, 34, 35, 35, 35, 36, 36, 36, 36, 37, 38, 38, 38, 38, 38, 38, 39, 39, 40, 40, 40, 40, 40, 41, 41, 41, 42, 42, 42, 43, 44, 44, 44, 44, 44, 45, 45, 45, 45, 45, 46, 47, 47, 48, 48, 50, 50, 50, 50, 51, 52, 53, 53, 54, 54, 55, 57, 58, 58, 58, 62, 62, 62, 62, 63, 63, 63, 66, 67, 68, 68, 69, 71, 71, 72, 73, 74, 75, 75, 76, 76, 77, 79, 79, 81, 82, 84, 87, 88, 88, 88, 89, 89, 92, 95, 97, 98, 110]\n"
     ]
    },
    {
     "data": {
      "text/plain": [
       "1045660"
      ]
     },
     "execution_count": 104,
     "metadata": {},
     "output_type": "execute_result"
    }
   ],
   "source": [
    "println(basinSizes)\n",
    "prod(basinSizes[end-2:end])"
   ]
  },
  {
   "cell_type": "code",
   "execution_count": 106,
   "id": "7dd670d7-68cc-4979-94f4-c0025c865113",
   "metadata": {},
   "outputs": [
    {
     "data": {
      "text/plain": [
       "226"
      ]
     },
     "execution_count": 106,
     "metadata": {},
     "output_type": "execute_result"
    }
   ],
   "source": [
    "nbasins"
   ]
  },
  {
   "cell_type": "markdown",
   "id": "1f4c0870-2388-48e8-87f1-4eda2d5f58d2",
   "metadata": {
    "tags": []
   },
   "source": [
    "### Test input"
   ]
  },
  {
   "cell_type": "code",
   "execution_count": 97,
   "id": "81d4cebb-6fb9-4dd8-b871-fc7482fd04f3",
   "metadata": {
    "tags": []
   },
   "outputs": [],
   "source": [
    "nbasinsTest,basinMapTest,basinSizesTest = findBasins(caveMapTest);"
   ]
  },
  {
   "cell_type": "code",
   "execution_count": 94,
   "id": "74babd1a-8dbf-4ed5-b031-cd2df087a1eb",
   "metadata": {},
   "outputs": [
    {
     "data": {
      "text/plain": [
       "7×12 Array{Int64,2}:\n",
       " -1  -1  -1  -1  -1  -1  -1  -1  -1  -1  -1  -1\n",
       " -1   1   1  -1  -1  -1   3   3   3   3   3  -1\n",
       " -1   1  -1   2   2   2  -1   3  -1   3   3  -1\n",
       " -1  -1   2   2   2   2   2  -1   4  -1   3  -1\n",
       " -1   2   2   2   2   2  -1   4   4   4  -1  -1\n",
       " -1  -1   2  -1  -1  -1   4   4   4   4   4  -1\n",
       " -1  -1  -1  -1  -1  -1  -1  -1  -1  -1  -1  -1"
      ]
     },
     "execution_count": 94,
     "metadata": {},
     "output_type": "execute_result"
    }
   ],
   "source": [
    "basinMapTest"
   ]
  },
  {
   "cell_type": "code",
   "execution_count": 98,
   "id": "9391fa2e-b2cb-44ca-8a7d-11d3332bd263",
   "metadata": {},
   "outputs": [
    {
     "data": {
      "text/plain": [
       "4-element Array{Int64,1}:\n",
       "  3\n",
       "  9\n",
       "  9\n",
       " 14"
      ]
     },
     "execution_count": 98,
     "metadata": {},
     "output_type": "execute_result"
    }
   ],
   "source": [
    "basinSizesTest"
   ]
  },
  {
   "cell_type": "code",
   "execution_count": 100,
   "id": "4f9eb10a-7b83-469a-a1bc-2675d30b134f",
   "metadata": {},
   "outputs": [
    {
     "data": {
      "text/plain": [
       "1134"
      ]
     },
     "execution_count": 100,
     "metadata": {},
     "output_type": "execute_result"
    }
   ],
   "source": [
    "prod(basinSizesTest[end-2:end])"
   ]
  },
  {
   "cell_type": "code",
   "execution_count": null,
   "id": "adfe3e82-fc2a-4881-a117-3d319ed4e109",
   "metadata": {},
   "outputs": [],
   "source": []
  }
 ],
 "metadata": {
  "kernelspec": {
   "display_name": "Julia 1.4.1",
   "language": "julia",
   "name": "julia-1.4"
  },
  "language_info": {
   "file_extension": ".jl",
   "mimetype": "application/julia",
   "name": "julia",
   "version": "1.4.1"
  }
 },
 "nbformat": 4,
 "nbformat_minor": 5
}
